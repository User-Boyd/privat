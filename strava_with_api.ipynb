{
 "cells": [
  {
   "cell_type": "code",
   "execution_count": 162,
   "metadata": {},
   "outputs": [],
   "source": [
    "import pandas as pd\n",
    "import requests\n",
    "import json\n",
    "import time\n",
    "import datetime as dt\n",
    "import matplotlib.pyplot as plt\n",
    "import numpy as np; np.random.seed(sum(map(ord, 'calmap')))\n",
    "import seaborn as sns\n",
    "import plotly.express as px \n",
    "from plotly_calplot import calplot"
   ]
  },
  {
   "cell_type": "code",
   "execution_count": 163,
   "metadata": {},
   "outputs": [],
   "source": [
    "## Get the tokens from file to connect to Strava\n",
    "with open('strava_tokens.json') as json_file:\n",
    "    strava_tokens = json.load(json_file)\n",
    "## If access_token has expired then use the refresh_token to get the new access_token\n",
    "if strava_tokens['expires_at'] < time.time():\n",
    "#Make Strava auth API call with current refresh token\n",
    "    response = requests.post(\n",
    "                        url = 'https://www.strava.com/oauth/token',\n",
    "                        data = {\n",
    "                                'client_id': open('client_id', 'r').read(),\n",
    "                                'client_secret': open('client_secret', 'r').read(),\n",
    "                                'grant_type': 'refresh_token',\n",
    "                                'refresh_token': strava_tokens['refresh_token']\n",
    "                                }\n",
    "                    )\n",
    "#Save response as json in new variable\n",
    "    new_strava_tokens = response.json()\n",
    "# Save new tokens to file\n",
    "    with open('strava_tokens.json', 'w') as outfile:\n",
    "        json.dump(new_strava_tokens, outfile)\n",
    "#Use new Strava tokens from now\n",
    "    strava_tokens = new_strava_tokens\n",
    "#Loop through all activities\n",
    "page = 1\n",
    "url = \"https://www.strava.com/api/v3/activities\"\n",
    "access_token = strava_tokens['access_token']\n",
    "df = pd.DataFrame(\n",
    "    columns = ['start_date_local', 'type', 'elapsed_time', 'distance', 'moving_time', 'total_elevation_gain',\n",
    "         'max_heartrate', 'average_heartrate', 'average_cadence', 'max_speed', 'average_speed', 'location_country',\n",
    "         'suffer_score', 'gear_id'\n",
    "           ]\n",
    ")\n",
    "while True:\n",
    "    \n",
    "    # get page of activities from Strava\n",
    "    r = requests.get(url + '?access_token=' + access_token + '&per_page=200' + '&page=' + str(page))\n",
    "    r = r.json()\n",
    "# if no results then exit loop\n",
    "    if (not r):\n",
    "        break\n",
    "    \n",
    "    for x in range(len(r)):\n",
    "        df.loc[x + (page-1)*200, 'start_date_local'] = r[x].get('start_date_local')\n",
    "        df.loc[x + (page-1)*200, 'type'] = r[x].get('type')\n",
    "        df.loc[x + (page-1)*200, 'elapsed_time'] = r[x].get('elapsed_time')\n",
    "        df.loc[x + (page-1)*200, 'distance'] = r[x].get('distance')\n",
    "        df.loc[x + (page-1)*200, 'moving_time'] = r[x].get('moving_time')\n",
    "        df.loc[x + (page-1)*200, 'total_elevation_gain'] = r[x].get('total_elevation_gain')\n",
    "        df.loc[x + (page-1)*200, 'max_heartrate'] = r[x].get('max_heartrate')  # Use .get() to avoid KeyError\n",
    "        df.loc[x + (page-1)*200, 'average_heartrate'] = r[x].get('average_heartrate')\n",
    "        df.loc[x + (page-1)*200, 'average_cadence'] = r[x].get('average_cadence')\n",
    "        df.loc[x + (page-1)*200, 'max_speed'] = r[x].get('max_speed')\n",
    "        df.loc[x + (page-1)*200, 'average_speed'] = r[x].get('average_speed')\n",
    "        df.loc[x + (page-1)*200, 'location_country'] = r[x].get('location_country')\n",
    "        df.loc[x + (page-1)*200, 'suffer_score'] = r[x].get('suffer_score')\n",
    "        df.loc[x + (page-1)*200, 'gear_id'] = r[x].get('gear_id')\n",
    "\n",
    "\n",
    "\n",
    "    page += 1\n",
    "gear_labels = {'g9741687': 'NIKE Pegasus', 'g12257864': 'ADIDAS Takumi Sen 8', 'g12818523': 'ASICS Noosa Tri 14', \n",
    "               'g16635719': 'SAUCONY Endorphin Pro 3', 'g9050085':'ASICS Noosa Tri 13', 'g10409096':'ASICS Novablast 2', \n",
    "               'None':'ASICS Noosa Tri 13'}\n",
    "\n",
    "df['gear_id'] = df['gear_id'].map(gear_labels)\n",
    "df = df[df['type'] == 'Run']\n",
    "\n",
    "df['distance'] = df['distance'] /1000\n",
    "df['moving_minutes'] = df['moving_time'] /60 \n",
    "df['km_per_hour'] = df['distance'] / (df['moving_minutes'] / 60)\n",
    "df['avg_pace'] = df['moving_minutes'] / df['distance']\n",
    "df = df[df['moving_minutes'] >= 10]\n",
    "\n"
   ]
  },
  {
   "cell_type": "code",
   "execution_count": 165,
   "metadata": {},
   "outputs": [],
   "source": [
    "df['start_date_local'] = pd.to_datetime(df['start_date_local'])\n",
    "df['start_time'] = df['start_date_local'].dt.time\n",
    "df['start_date'] = df['start_date_local'].dt.date\n",
    "df['month'] = df['start_date_local'].dt.month_name()\n",
    "df['month_num'] = df['start_date_local'].dt.month  # Month as a number (1-12) for sorting purposes\n",
    "df['year'] = df['start_date_local'].dt.year\n",
    "df['day'] = df['start_date_local'].dt.day\n",
    "df['dato'] = df['start_date_local'].dt.date\n",
    "df['distance'] = pd.to_numeric(df['distance'], errors='coerce').fillna(0).astype('int64')\n",
    "df['elapsed_time'] = pd.to_numeric(df['elapsed_time'], errors='coerce').fillna(0).astype('int64')\n",
    "df['moving_time'] = pd.to_numeric(df['moving_time'], errors='coerce').fillna(0).astype('int64')\n",
    "df['day_of_year'] = df['start_date_local'].dt.dayofyear\n",
    "df['week_of_year'] = df['start_date_local'].dt.isocalendar().week\n",
    "\n",
    "\n",
    "df.head()\n",
    "df.dtypes\n",
    "#df.to_csv(\"tableau_test\", index=False)"
   ]
  },
  {
   "cell_type": "code",
   "execution_count": 147,
   "metadata": {},
   "outputs": [
    {
     "data": {
      "image/png": "[encoded data removed]",
      "text/plain": [
       "<Figure size 1000x1000 with 20 Axes>"
      ]
     },
     "metadata": {},
     "output_type": "display_data"
    }
   ],
   "source": [
    "pp_df = df[['distance', 'average_heartrate', 'km_per_hour', 'suffer_score']]\n",
    "sns.pairplot(pp_df);"
   ]
  },
  {
   "cell_type": "code",
   "execution_count": 148,
   "metadata": {},
   "outputs": [
    {
     "data": {
      "text/html": [
       "<div>\n",
       "<style scoped>\n",
       "    .dataframe tbody tr th:only-of-type {\n",
       "        vertical-align: middle;\n",
       "    }\n",
       "\n",
       "    .dataframe tbody tr th {\n",
       "        vertical-align: top;\n",
       "    }\n",
       "\n",
       "    .dataframe thead th {\n",
       "        text-align: right;\n",
       "    }\n",
       "</style>\n",
       "<table border=\"1\" class=\"dataframe\">\n",
       "  <thead>\n",
       "    <tr style=\"text-align: right;\">\n",
       "      <th></th>\n",
       "      <th>elapsed_time</th>\n",
       "      <th>distance</th>\n",
       "      <th>moving_time</th>\n",
       "      <th>month_num</th>\n",
       "      <th>year</th>\n",
       "      <th>day</th>\n",
       "      <th>day_of_year</th>\n",
       "      <th>week_of_year</th>\n",
       "    </tr>\n",
       "  </thead>\n",
       "  <tbody>\n",
       "    <tr>\n",
       "      <th>count</th>\n",
       "      <td>284.0</td>\n",
       "      <td>284.0</td>\n",
       "      <td>284.0</td>\n",
       "      <td>284.0</td>\n",
       "      <td>284.0</td>\n",
       "      <td>284.0</td>\n",
       "      <td>284.0</td>\n",
       "      <td>284.0</td>\n",
       "    </tr>\n",
       "    <tr>\n",
       "      <th>mean</th>\n",
       "      <td>3463.0</td>\n",
       "      <td>10.0</td>\n",
       "      <td>3311.0</td>\n",
       "      <td>6.0</td>\n",
       "      <td>2023.0</td>\n",
       "      <td>16.0</td>\n",
       "      <td>179.0</td>\n",
       "      <td>26.0</td>\n",
       "    </tr>\n",
       "    <tr>\n",
       "      <th>std</th>\n",
       "      <td>2359.0</td>\n",
       "      <td>7.0</td>\n",
       "      <td>2304.0</td>\n",
       "      <td>3.0</td>\n",
       "      <td>1.0</td>\n",
       "      <td>9.0</td>\n",
       "      <td>101.0</td>\n",
       "      <td>14.0</td>\n",
       "    </tr>\n",
       "    <tr>\n",
       "      <th>min</th>\n",
       "      <td>700.0</td>\n",
       "      <td>0.0</td>\n",
       "      <td>689.0</td>\n",
       "      <td>1.0</td>\n",
       "      <td>2021.0</td>\n",
       "      <td>1.0</td>\n",
       "      <td>2.0</td>\n",
       "      <td>1.0</td>\n",
       "    </tr>\n",
       "    <tr>\n",
       "      <th>25%</th>\n",
       "      <td>1872.0</td>\n",
       "      <td>5.0</td>\n",
       "      <td>1780.0</td>\n",
       "      <td>3.0</td>\n",
       "      <td>2022.0</td>\n",
       "      <td>9.0</td>\n",
       "      <td>84.0</td>\n",
       "      <td>12.0</td>\n",
       "    </tr>\n",
       "    <tr>\n",
       "      <th>50%</th>\n",
       "      <td>2947.0</td>\n",
       "      <td>8.0</td>\n",
       "      <td>2806.0</td>\n",
       "      <td>7.0</td>\n",
       "      <td>2022.0</td>\n",
       "      <td>17.0</td>\n",
       "      <td>191.0</td>\n",
       "      <td>28.0</td>\n",
       "    </tr>\n",
       "    <tr>\n",
       "      <th>75%</th>\n",
       "      <td>4248.0</td>\n",
       "      <td>13.0</td>\n",
       "      <td>4112.0</td>\n",
       "      <td>9.0</td>\n",
       "      <td>2024.0</td>\n",
       "      <td>24.0</td>\n",
       "      <td>266.0</td>\n",
       "      <td>38.0</td>\n",
       "    </tr>\n",
       "    <tr>\n",
       "      <th>max</th>\n",
       "      <td>14595.0</td>\n",
       "      <td>42.0</td>\n",
       "      <td>14220.0</td>\n",
       "      <td>12.0</td>\n",
       "      <td>2024.0</td>\n",
       "      <td>31.0</td>\n",
       "      <td>364.0</td>\n",
       "      <td>52.0</td>\n",
       "    </tr>\n",
       "  </tbody>\n",
       "</table>\n",
       "</div>"
      ],
      "text/plain": [
       "       elapsed_time  distance  moving_time  month_num    year    day  \\\n",
       "count         284.0     284.0        284.0      284.0   284.0  284.0   \n",
       "mean         3463.0      10.0       3311.0        6.0  2023.0   16.0   \n",
       "std          2359.0       7.0       2304.0        3.0     1.0    9.0   \n",
       "min           700.0       0.0        689.0        1.0  2021.0    1.0   \n",
       "25%          1872.0       5.0       1780.0        3.0  2022.0    9.0   \n",
       "50%          2947.0       8.0       2806.0        7.0  2022.0   17.0   \n",
       "75%          4248.0      13.0       4112.0        9.0  2024.0   24.0   \n",
       "max         14595.0      42.0      14220.0       12.0  2024.0   31.0   \n",
       "\n",
       "       day_of_year  week_of_year  \n",
       "count        284.0         284.0  \n",
       "mean         179.0          26.0  \n",
       "std          101.0          14.0  \n",
       "min            2.0           1.0  \n",
       "25%           84.0          12.0  \n",
       "50%          191.0          28.0  \n",
       "75%          266.0          38.0  \n",
       "max          364.0          52.0  "
      ]
     },
     "execution_count": 148,
     "metadata": {},
     "output_type": "execute_result"
    }
   ],
   "source": [
    "df.describe().round(0)"
   ]
  },
  {
   "cell_type": "code",
   "execution_count": 149,
   "metadata": {},
   "outputs": [
    {
     "data": {
      "image/png": "[encoded data removed]",
      "text/plain": [
       "<Figure size 900x600 with 1 Axes>"
      ]
     },
     "metadata": {},
     "output_type": "display_data"
    }
   ],
   "source": [
    "palette_box = [\"#8481DD\", \"#5752D1\", \"#3C3D99\", \"#2A265F\"]\n",
    "fig, ax = plt.subplots()\n",
    "sns.set(style=\"whitegrid\", font_scale=1)\n",
    "sns.boxplot(x=\"year\", y=\"distance\", hue=\"year\", data=df, palette=palette_box)\n",
    "ax.legend_.remove()\n",
    "plt.gcf().set_size_inches(9, 6)"
   ]
  },
  {
   "cell_type": "code",
   "execution_count": 150,
   "metadata": {},
   "outputs": [
    {
     "data": {
      "image/png": "[encoded data removed]",
      "text/plain": [
       "<Figure size 1700x600 with 1 Axes>"
      ]
     },
     "metadata": {},
     "output_type": "display_data"
    }
   ],
   "source": [
    "palette_bar = [\"#EC7A08\", \"#4CB140\", \"#004B95\", \"#3C3D99\"]\n",
    "\n",
    "sns.set_style('white')\n",
    "sns.barplot(x='month', y='distance', data=df, hue='year', errorbar=None, estimator=np.sum, palette=palette_bar,\n",
    "           order=[\"January\", \"February\", \"March\", \"April\", \"May\", \"June\", \"July\", \"August\", \"September\", \"October\", \"November\", \"December\"])\n",
    "\n",
    "plt.gcf().set_size_inches(17, 6)\n",
    "\n",
    "plt.legend(bbox_to_anchor=(1.05, 1), loc='upper right', borderaxespad=0)\n",
    "\n",
    "plt.show()"
   ]
  },
  {
   "cell_type": "code",
   "execution_count": 151,
   "metadata": {},
   "outputs": [
    {
     "name": "stderr",
     "output_type": "stream",
     "text": [
      "/var/folders/20/v81skv3s7vdb3xb49dlqvzp40000gn/T/ipykernel_37722/1066936321.py:8: FutureWarning:\n",
      "\n",
      "\n",
      "\n",
      "Passing `palette` without assigning `hue` is deprecated and will be removed in v0.14.0. Assign the `x` variable to `hue` and set `legend=False` for the same effect.\n",
      "\n",
      "\n"
     ]
    },
    {
     "data": {
      "image/png": "[encoded data removed]",
      "text/plain": [
       "<Figure size 1000x700 with 1 Axes>"
      ]
     },
     "metadata": {},
     "output_type": "display_data"
    }
   ],
   "source": [
    "df['season'] = 'unknown'\n",
    "df.loc[(df[\"month\"].isin([\"March\", \"April\", \"May\"])), 'season'] = 'Spring'\n",
    "df.loc[(df[\"month\"].isin([\"June\", \"July\", \"August\"])), 'season'] = 'Summer'\n",
    "df.loc[(df[\"month\"].isin([\"September\", \"October\", \"November\"])), 'season'] = 'Autumn'\n",
    "df.loc[(df[\"month\"].isin([\"December\", \"January\", \"February\"])), 'season'] = 'Winter'\n",
    "\n",
    "palette_season = [\"#4CB140\", \"#F4C145\", \"#EC7A08\", \"#009596\"]\n",
    "ax = sns.boxplot(x=\"season\", y=\"distance\", palette=palette_season,\n",
    "                    data=df,\n",
    "                    order =[\"Spring\", 'Summer', 'Autumn', 'Winter'])\n",
    "plt.gcf().set_size_inches(10, 7)"
   ]
  },
  {
   "cell_type": "code",
   "execution_count": 152,
   "metadata": {},
   "outputs": [
    {
     "data": {
      "image/png": "[encoded data removed]",
      "text/plain": [
       "<Figure size 1400x800 with 1 Axes>"
      ]
     },
     "metadata": {},
     "output_type": "display_data"
    }
   ],
   "source": [
    "df_monthly = df.groupby(['year', 'month_num', 'month'], as_index=False)['distance'].sum()\n",
    "df_monthly['month_year'] = df_monthly['month'] + ' ' + df_monthly['year'].astype(str)\n",
    "df_monthly = df_monthly.sort_values(['year', 'month_num'])\n",
    "\n",
    "sns.set_style('white')\n",
    "\n",
    "sns.lineplot(x='month_num', y='distance', hue='year', data=df_monthly,\n",
    "             palette='Dark2', marker=\"o\")\n",
    "\n",
    "month_labels = {1: 'January', 2: 'February', 3: 'March', 4: 'April',\n",
    "                5: 'May', 6: 'June', 7: 'July', 8: 'August',\n",
    "                9: 'September', 10: 'October', 11: 'November', 12: 'December'}\n",
    "\n",
    "plt.xticks(ticks=list(month_labels.keys()), labels=list(month_labels.values()), rotation=45)\n",
    "\n",
    "plt.title('Monthly Distance (KM)')\n",
    "plt.xlabel('')\n",
    "plt.ylabel('Distance (KM)')\n",
    "plt.legend(title='Year', loc='lower center', bbox_to_anchor=(0.5, -0.2), ncol=4)\n",
    "\n",
    "plt.gcf().set_size_inches(14, 8)\n",
    "\n",
    "plt.show()\n"
   ]
  },
  {
   "cell_type": "code",
   "execution_count": 153,
   "metadata": {},
   "outputs": [
    {
     "data": {
      "text/plain": [
       "start_date_local        datetime64[ns, UTC]\n",
       "type                                 object\n",
       "elapsed_time                          int64\n",
       "distance                              int64\n",
       "moving_time                           int64\n",
       "total_elevation_gain                 object\n",
       "max_heartrate                        object\n",
       "average_heartrate                    object\n",
       "average_cadence                      object\n",
       "max_speed                            object\n",
       "average_speed                        object\n",
       "location_country                     object\n",
       "suffer_score                         object\n",
       "gear_id                              object\n",
       "moving_minutes                       object\n",
       "km_per_hour                          object\n",
       "avg_pace                             object\n",
       "start_time                           object\n",
       "start_date                           object\n",
       "month                                object\n",
       "month_num                             int32\n",
       "year                                  int32\n",
       "day                                   int32\n",
       "dato                                 object\n",
       "day_of_year                           int32\n",
       "week_of_year                         UInt32\n",
       "season                               object\n",
       "dtype: object"
      ]
     },
     "execution_count": 153,
     "metadata": {},
     "output_type": "execute_result"
    }
   ],
   "source": [
    "df.dtypes"
   ]
  },
  {
   "cell_type": "code",
   "execution_count": 154,
   "metadata": {},
   "outputs": [
    {
     "data": {
      "application/vnd.plotly.v1+json": {
       "config": {
        "plotlyServerURL": "https://plot.ly"
       },
       "data": [
        {
         "colorscale": [
          [
           0,
           "rgb(255,245,235)"
          ],
          [
           0.125,
           "rgb(254,230,206)"
          ],
          [
           0.25,
           "rgb(253,208,162)"
          ],
          [
           0.375,
           "rgb(253,174,107)"
          ],
          [
           0.5,
           "rgb(253,141,60)"
          ],
          [
           0.625,
           "rgb(241,105,19)"
          ],
          [
           0.75,
           "rgb(217,72,1)"
          ],
          [
           0.875,
           "rgb(166,54,3)"
          ],
          [
           1,
           "rgb(127,39,4)"
          ]
         ],
         "customdata": [
          [
           "2024-01-01",
           "y"
          ],
          [
           "2024-01-02",
           "y"
          ],
          [
           "2024-01-03",
           "y"
          ],
          [
           "2024-01-04",
           "y"
          ],
          [
           "2024-01-05",
           "y"
          ],
          [
           "2024-01-06",
           "y"
          ],
          [
           "2024-01-07",
           "y"
          ],
          [
           "2024-01-08",
           "y"
          ],
          [
           "2024-01-09",
           "y"
          ],
          [
           "2024-01-10",
           "y"
          ],
          [
           "2024-01-11",
           "y"
          ],
          [
           "2024-01-12",
           "y"
          ],
          [
           "2024-01-13",
           "y"
          ],
          [
           "2024-01-14",
           "y"
          ],
          [
           "2024-01-15",
           "y"
          ],
          [
           "2024-01-16",
           "y"
          ],
          [
           "2024-01-17",
           "y"
          ],
          [
           "2024-01-18",
           "y"
          ],
          [
           "2024-01-19",
           "y"
          ],
          [
           "2024-01-20",
           "y"
          ],
          [
           "2024-01-21",
           "y"
          ],
          [
           "2024-01-22",
           "y"
          ],
          [
           "2024-01-23",
           "y"
          ],
          [
           "2024-01-24",
           "y"
          ],
          [
           "2024-01-25",
           "y"
          ],
          [
           "2024-01-26",
           "y"
          ],
          [
           "2024-01-27",
           "y"
          ],
          [
           "2024-01-28",
           "y"
          ],
          [
           "2024-01-29",
           "y"
          ],
          [
           "2024-01-30",
           "y"
          ],
          [
           "2024-01-31",
           "y"
          ],
          [
           "2024-02-01",
           "y"
          ],
          [
           "2024-02-02",
           "y"
          ],
          [
           "2024-02-03",
           "y"
          ],
          [
           "2024-02-04",
           "y"
          ],
          [
           "2024-02-05",
           "y"
          ],
          [
           "2024-02-06",
           "y"
          ],
          [
           "2024-02-07",
           "y"
          ],
          [
           "2024-02-08",
           "y"
          ],
          [
           "2024-02-09",
           "y"
          ],
          [
           "2024-02-10",
           "y"
          ],
          [
           "2024-02-11",
           "y"
          ],
          [
           "2024-02-12",
           "y"
          ],
          [
           "2024-02-13",
           "y"
          ],
          [
           "2024-02-14",
           "y"
          ],
          [
           "2024-02-15",
           "y"
          ],
          [
           "2024-02-16",
           "y"
          ],
          [
           "2024-02-17",
           "y"
          ],
          [
           "2024-02-18",
           "y"
          ],
          [
           "2024-02-19",
           "y"
          ],
          [
           "2024-02-20",
           "y"
          ],
          [
           "2024-02-21",
           "y"
          ],
          [
           "2024-02-22",
           "y"
          ],
          [
           "2024-02-23",
           "y"
          ],
          [
           "2024-02-24",
           "y"
          ],
          [
           "2024-02-25",
           "y"
          ],
          [
           "2024-02-26",
           "y"
          ],
          [
           "2024-02-27",
           "y"
          ],
          [
           "2024-02-28",
           "y"
          ],
          [
           "2024-02-29",
           "y"
          ],
          [
           "2024-03-01",
           "y"
          ],
          [
           "2024-03-02",
           "y"
          ],
          [
           "2024-03-03",
           "y"
          ],
          [
           "2024-03-04",
           "y"
          ],
          [
           "2024-03-05",
           "y"
          ],
          [
           "2024-03-06",
           "y"
          ],
          [
           "2024-03-07",
           "y"
          ],
          [
           "2024-03-08",
           "y"
          ],
          [
           "2024-03-09",
           "y"
          ],
          [
           "2024-03-10",
           "y"
          ],
          [
           "2024-03-11",
           "y"
          ],
          [
           "2024-03-12",
           "y"
          ],
          [
           "2024-03-13",
           "y"
          ],
          [
           "2024-03-14",
           "y"
          ],
          [
           "2024-03-15",
           "y"
          ],
          [
           "2024-03-16",
           "y"
          ],
          [
           "2024-03-17",
           "y"
          ],
          [
           "2024-03-18",
           "y"
          ],
          [
           "2024-03-19",
           "y"
          ],
          [
           "2024-03-20",
           "y"
          ],
          [
           "2024-03-21",
           "y"
          ],
          [
           "2024-03-22",
           "y"
          ],
          [
           "2024-03-23",
           "y"
          ],
          [
           "2024-03-24",
           "y"
          ],
          [
           "2024-03-25",
           "y"
          ],
          [
           "2024-03-26",
           "y"
          ],
          [
           "2024-03-27",
           "y"
          ],
          [
           "2024-03-28",
           "y"
          ],
          [
           "2024-03-29",
           "y"
          ],
          [
           "2024-03-30",
           "y"
          ],
          [
           "2024-03-31",
           "y"
          ],
          [
           "2024-04-01",
           "y"
          ],
          [
           "2024-04-02",
           "y"
          ],
          [
           "2024-04-03",
           "y"
          ],
          [
           "2024-04-04",
           "y"
          ],
          [
           "2024-04-05",
           "y"
          ],
          [
           "2024-04-06",
           "y"
          ],
          [
           "2024-04-07",
           "y"
          ],
          [
           "2024-04-08",
           "y"
          ],
          [
           "2024-04-09",
           "y"
          ],
          [
           "2024-04-10",
           "y"
          ],
          [
           "2024-04-11",
           "y"
          ],
          [
           "2024-04-12",
           "y"
          ],
          [
           "2024-04-13",
           "y"
          ],
          [
           "2024-04-14",
           "y"
          ],
          [
           "2024-04-15",
           "y"
          ],
          [
           "2024-04-16",
           "y"
          ],
          [
           "2024-04-17",
           "y"
          ],
          [
           "2024-04-18",
           "y"
          ],
          [
           "2024-04-19",
           "y"
          ],
          [
           "2024-04-20",
           "y"
          ],
          [
           "2024-04-21",
           "y"
          ],
          [
           "2024-04-22",
           "y"
          ],
          [
           "2024-04-23",
           "y"
          ],
          [
           "2024-04-24",
           "y"
          ],
          [
           "2024-04-25",
           "y"
          ],
          [
           "2024-04-26",
           "y"
          ],
          [
           "2024-04-27",
           "y"
          ],
          [
           "2024-04-28",
           "y"
          ],
          [
           "2024-04-29",
           "y"
          ],
          [
           "2024-04-30",
           "y"
          ],
          [
           "2024-05-01",
           "y"
          ],
          [
           "2024-05-02",
           "y"
          ],
          [
           "2024-05-03",
           "y"
          ],
          [
           "2024-05-04",
           "y"
          ],
          [
           "2024-05-05",
           "y"
          ],
          [
           "2024-05-06",
           "y"
          ],
          [
           "2024-05-07",
           "y"
          ],
          [
           "2024-05-08",
           "y"
          ],
          [
           "2024-05-09",
           "y"
          ],
          [
           "2024-05-10",
           "y"
          ],
          [
           "2024-05-11",
           "y"
          ],
          [
           "2024-05-12",
           "y"
          ],
          [
           "2024-05-13",
           "y"
          ],
          [
           "2024-05-14",
           "y"
          ],
          [
           "2024-05-15",
           "y"
          ],
          [
           "2024-05-16",
           "y"
          ],
          [
           "2024-05-17",
           "y"
          ],
          [
           "2024-05-18",
           "y"
          ],
          [
           "2024-05-19",
           "y"
          ],
          [
           "2024-05-20",
           "y"
          ],
          [
           "2024-05-21",
           "y"
          ],
          [
           "2024-05-22",
           "y"
          ],
          [
           "2024-05-23",
           "y"
          ],
          [
           "2024-05-24",
           "y"
          ],
          [
           "2024-05-25",
           "y"
          ],
          [
           "2024-05-26",
           "y"
          ],
          [
           "2024-05-27",
           "y"
          ],
          [
           "2024-05-28",
           "y"
          ],
          [
           "2024-05-29",
           "y"
          ],
          [
           "2024-05-30",
           "y"
          ],
          [
           "2024-05-31",
           "y"
          ],
          [
           "2024-06-01",
           "y"
          ],
          [
           "2024-06-02",
           "y"
          ],
          [
           "2024-06-03",
           "y"
          ],
          [
           "2024-06-04",
           "y"
          ],
          [
           "2024-06-05",
           "y"
          ],
          [
           "2024-06-06",
           "y"
          ],
          [
           "2024-06-07",
           "y"
          ],
          [
           "2024-06-08",
           "y"
          ],
          [
           "2024-06-09",
           "y"
          ],
          [
           "2024-06-10",
           "y"
          ],
          [
           "2024-06-11",
           "y"
          ],
          [
           "2024-06-12",
           "y"
          ],
          [
           "2024-06-13",
           "y"
          ],
          [
           "2024-06-14",
           "y"
          ],
          [
           "2024-06-15",
           "y"
          ],
          [
           "2024-06-16",
           "y"
          ],
          [
           "2024-06-17",
           "y"
          ],
          [
           "2024-06-18",
           "y"
          ],
          [
           "2024-06-19",
           "y"
          ],
          [
           "2024-06-20",
           "y"
          ],
          [
           "2024-06-21",
           "y"
          ],
          [
           "2024-06-22",
           "y"
          ],
          [
           "2024-06-23",
           "y"
          ],
          [
           "2024-06-24",
           "y"
          ],
          [
           "2024-06-25",
           "y"
          ],
          [
           "2024-06-26",
           "y"
          ],
          [
           "2024-06-27",
           "y"
          ],
          [
           "2024-06-28",
           "y"
          ],
          [
           "2024-06-29",
           "y"
          ],
          [
           "2024-06-30",
           "y"
          ],
          [
           "2024-07-01",
           "y"
          ],
          [
           "2024-07-02",
           "y"
          ],
          [
           "2024-07-03",
           "y"
          ],
          [
           "2024-07-04",
           "y"
          ],
          [
           "2024-07-05",
           "y"
          ],
          [
           "2024-07-06",
           "y"
          ],
          [
           "2024-07-07",
           "y"
          ],
          [
           "2024-07-08",
           "y"
          ],
          [
           "2024-07-09",
           "y"
          ],
          [
           "2024-07-10",
           "y"
          ],
          [
           "2024-07-11",
           "y"
          ],
          [
           "2024-07-12",
           "y"
          ],
          [
           "2024-07-13",
           "y"
          ],
          [
           "2024-07-14",
           "y"
          ],
          [
           "2024-07-15",
           "y"
          ],
          [
           "2024-07-16",
           "y"
          ],
          [
           "2024-07-17",
           "y"
          ],
          [
           "2024-07-18",
           "y"
          ],
          [
           "2024-07-19",
           "y"
          ],
          [
           "2024-07-20",
           "y"
          ],
          [
           "2024-07-21",
           "y"
          ],
          [
           "2024-07-22",
           "y"
          ],
          [
           "2024-07-23",
           "y"
          ],
          [
           "2024-07-24",
           "y"
          ],
          [
           "2024-07-25",
           "y"
          ],
          [
           "2024-07-26",
           "y"
          ],
          [
           "2024-07-27",
           "y"
          ],
          [
           "2024-07-28",
           "y"
          ],
          [
           "2024-07-29",
           "y"
          ],
          [
           "2024-07-30",
           "y"
          ],
          [
           "2024-07-31",
           "y"
          ],
          [
           "2024-08-01",
           "y"
          ],
          [
           "2024-08-02",
           "y"
          ],
          [
           "2024-08-03",
           "y"
          ],
          [
           "2024-08-04",
           "y"
          ],
          [
           "2024-08-05",
           "y"
          ],
          [
           "2024-08-06",
           "y"
          ],
          [
           "2024-08-07",
           "y"
          ],
          [
           "2024-08-08",
           "y"
          ],
          [
           "2024-08-09",
           "y"
          ],
          [
           "2024-08-10",
           "y"
          ],
          [
           "2024-08-11",
           "y"
          ],
          [
           "2024-08-12",
           "y"
          ],
          [
           "2024-08-13",
           "y"
          ],
          [
           "2024-08-14",
           "y"
          ],
          [
           "2024-08-15",
           "y"
          ],
          [
           "2024-08-16",
           "y"
          ],
          [
           "2024-08-17",
           "y"
          ],
          [
           "2024-08-18",
           "y"
          ],
          [
           "2024-08-19",
           "y"
          ],
          [
           "2024-08-20",
           "y"
          ],
          [
           "2024-08-21",
           "y"
          ],
          [
           "2024-08-22",
           "y"
          ],
          [
           "2024-08-23",
           "y"
          ],
          [
           "2024-08-24",
           "y"
          ],
          [
           "2024-08-25",
           "y"
          ],
          [
           "2024-08-26",
           "y"
          ],
          [
           "2024-08-27",
           "y"
          ],
          [
           "2024-08-28",
           "y"
          ],
          [
           "2024-08-29",
           "y"
          ],
          [
           "2024-08-30",
           "y"
          ],
          [
           "2024-08-31",
           "y"
          ],
          [
           "2024-09-01",
           "y"
          ],
          [
           "2024-09-02",
           "y"
          ],
          [
           "2024-09-03",
           "y"
          ],
          [
           "2024-09-04",
           "y"
          ],
          [
           "2024-09-05",
           "y"
          ],
          [
           "2024-09-06",
           "y"
          ],
          [
           "2024-09-07",
           "y"
          ],
          [
           "2024-09-08",
           "y"
          ],
          [
           "2024-09-09",
           "y"
          ],
          [
           "2024-09-10",
           "y"
          ],
          [
           "2024-09-11",
           "y"
          ],
          [
           "2024-09-12",
           "y"
          ],
          [
           "2024-09-13",
           "y"
          ],
          [
           "2024-09-14",
           "y"
          ],
          [
           "2024-09-15",
           "y"
          ],
          [
           "2024-09-16",
           "y"
          ],
          [
           "2024-09-17",
           "y"
          ],
          [
           "2024-09-18",
           "y"
          ],
          [
           "2024-09-19",
           "y"
          ],
          [
           "2024-09-20",
           "y"
          ],
          [
           "2024-09-21",
           "y"
          ],
          [
           "2024-09-22",
           "y"
          ],
          [
           "2024-09-23",
           "y"
          ],
          [
           "2024-09-24",
           "y"
          ],
          [
           "2024-09-25",
           "y"
          ],
          [
           "2024-09-26",
           "y"
          ],
          [
           "2024-09-27",
           "y"
          ],
          [
           "2024-09-28",
           "y"
          ],
          [
           "2024-09-29",
           "y"
          ],
          [
           "2024-09-30",
           "y"
          ],
          [
           "2024-10-01",
           "y"
          ],
          [
           "2024-10-02",
           "y"
          ],
          [
           "2024-10-03",
           "y"
          ],
          [
           "2024-10-04",
           "y"
          ],
          [
           "2024-10-05",
           "y"
          ],
          [
           "2024-10-06",
           "y"
          ],
          [
           "2024-10-07",
           "y"
          ],
          [
           "2024-10-08",
           "y"
          ],
          [
           "2024-10-09",
           "y"
          ],
          [
           "2024-10-10",
           "y"
          ],
          [
           "2024-10-11",
           "y"
          ],
          [
           "2024-10-12",
           "y"
          ],
          [
           "2024-10-13",
           "y"
          ],
          [
           "2024-10-14",
           "y"
          ],
          [
           "2024-10-15",
           "y"
          ],
          [
           "2024-10-16",
           "y"
          ],
          [
           "2024-10-17",
           "y"
          ],
          [
           "2024-10-18",
           "y"
          ],
          [
           "2024-10-19",
           "y"
          ],
          [
           "2024-10-20",
           "y"
          ],
          [
           "2024-10-21",
           "y"
          ],
          [
           "2024-10-22",
           "y"
          ],
          [
           "2024-10-23",
           "y"
          ],
          [
           "2024-10-24",
           "y"
          ],
          [
           "2024-10-25",
           "y"
          ],
          [
           "2024-10-26",
           "y"
          ],
          [
           "2024-10-27",
           "y"
          ],
          [
           "2024-10-28",
           "y"
          ],
          [
           "2024-10-29",
           "y"
          ],
          [
           "2024-10-30",
           "y"
          ],
          [
           "2024-10-31",
           "y"
          ],
          [
           "2024-11-01",
           "y"
          ],
          [
           "2024-11-02",
           "y"
          ],
          [
           "2024-11-03",
           "y"
          ],
          [
           "2024-11-04",
           "y"
          ],
          [
           "2024-11-05",
           "y"
          ],
          [
           "2024-11-06",
           "y"
          ],
          [
           "2024-11-07",
           "y"
          ],
          [
           "2024-11-08",
           "y"
          ],
          [
           "2024-11-09",
           "y"
          ],
          [
           "2024-11-10",
           "y"
          ],
          [
           "2024-11-11",
           "y"
          ],
          [
           "2024-11-12",
           "y"
          ],
          [
           "2024-11-13",
           "y"
          ],
          [
           "2024-11-14",
           "y"
          ],
          [
           "2024-11-15",
           "y"
          ],
          [
           "2024-11-16",
           "y"
          ],
          [
           "2024-11-17",
           "y"
          ],
          [
           "2024-11-18",
           "y"
          ],
          [
           "2024-11-19",
           "y"
          ],
          [
           "2024-11-20",
           "y"
          ],
          [
           "2024-11-21",
           "y"
          ],
          [
           "2024-11-22",
           "y"
          ],
          [
           "2024-11-23",
           "y"
          ],
          [
           "2024-11-24",
           "y"
          ],
          [
           "2024-11-25",
           "y"
          ],
          [
           "2024-11-26",
           "y"
          ],
          [
           "2024-11-27",
           "y"
          ],
          [
           "2024-11-28",
           "y"
          ],
          [
           "2024-11-29",
           "y"
          ],
          [
           "2024-11-30",
           "y"
          ],
          [
           "2024-12-01",
           "y"
          ],
          [
           "2024-12-02",
           "y"
          ],
          [
           "2024-12-03",
           "y"
          ],
          [
           "2024-12-04",
           "y"
          ],
          [
           "2024-12-05",
           "y"
          ],
          [
           "2024-12-06",
           "y"
          ],
          [
           "2024-12-07",
           "y"
          ],
          [
           "2024-12-08",
           "y"
          ],
          [
           "2024-12-09",
           "y"
          ],
          [
           "2024-12-10",
           "y"
          ],
          [
           "2024-12-11",
           "y"
          ],
          [
           "2024-12-12",
           "y"
          ],
          [
           "2024-12-13",
           "y"
          ],
          [
           "2024-12-14",
           "y"
          ],
          [
           "2024-12-15",
           "y"
          ],
          [
           "2024-12-16",
           "y"
          ],
          [
           "2024-12-17",
           "y"
          ],
          [
           "2024-12-18",
           "y"
          ],
          [
           "2024-12-19",
           "y"
          ],
          [
           "2024-12-20",
           "y"
          ],
          [
           "2024-12-21",
           "y"
          ],
          [
           "2024-12-22",
           "y"
          ],
          [
           "2024-12-23",
           "y"
          ],
          [
           "2024-12-24",
           "y"
          ],
          [
           "2024-12-25",
           "y"
          ],
          [
           "2024-12-26",
           "y"
          ],
          [
           "2024-12-27",
           "y"
          ],
          [
           "2024-12-28",
           "y"
          ],
          [
           "2024-12-29",
           "y"
          ],
          [
           "2024-12-30",
           "y"
          ],
          [
           "2024-12-31",
           "y"
          ]
         ],
         "hovertemplate": "%{customdata[0]} <br>Week=%{x} <br>%{customdata[1]}=%{z}",
         "name": "2024",
         "showscale": false,
         "type": "heatmap",
         "x": [
          1,
          1,
          1,
          1,
          1,
          1,
          1,
          2,
          2,
          2,
          2,
          2,
          2,
          2,
          3,
          3,
          3,
          3,
          3,
          3,
          3,
          4,
          4,
          4,
          4,
          4,
          4,
          4,
          5,
          5,
          5,
          5,
          5,
          5,
          5,
          6,
          6,
          6,
          6,
          6,
          6,
          6,
          7,
          7,
          7,
          7,
          7,
          7,
          7,
          8,
          8,
          8,
          8,
          8,
          8,
          8,
          9,
          9,
          9,
          9,
          9,
          9,
          9,
          10,
          10,
          10,
          10,
          10,
          10,
          10,
          11,
          11,
          11,
          11,
          11,
          11,
          11,
          12,
          12,
          12,
          12,
          12,
          12,
          12,
          13,
          13,
          13,
          13,
          13,
          13,
          13,
          14,
          14,
          14,
          14,
          14,
          14,
          14,
          15,
          15,
          15,
          15,
          15,
          15,
          15,
          16,
          16,
          16,
          16,
          16,
          16,
          16,
          17,
          17,
          17,
          17,
          17,
          17,
          17,
          18,
          18,
          18,
          18,
          18,
          18,
          18,
          19,
          19,
          19,
          19,
          19,
          19,
          19,
          20,
          20,
          20,
          20,
          20,
          20,
          20,
          21,
          21,
          21,
          21,
          21,
          21,
          21,
          22,
          22,
          22,
          22,
          22,
          22,
          22,
          23,
          23,
          23,
          23,
          23,
          23,
          23,
          24,
          24,
          24,
          24,
          24,
          24,
          24,
          25,
          25,
          25,
          25,
          25,
          25,
          25,
          26,
          26,
          26,
          26,
          26,
          26,
          26,
          27,
          27,
          27,
          27,
          27,
          27,
          27,
          28,
          28,
          28,
          28,
          28,
          28,
          28,
          29,
          29,
          29,
          29,
          29,
          29,
          29,
          30,
          30,
          30,
          30,
          30,
          30,
          30,
          31,
          31,
          31,
          31,
          31,
          31,
          31,
          32,
          32,
          32,
          32,
          32,
          32,
          32,
          33,
          33,
          33,
          33,
          33,
          33,
          33,
          34,
          34,
          34,
          34,
          34,
          34,
          34,
          35,
          35,
          35,
          35,
          35,
          35,
          35,
          36,
          36,
          36,
          36,
          36,
          36,
          36,
          37,
          37,
          37,
          37,
          37,
          37,
          37,
          38,
          38,
          38,
          38,
          38,
          38,
          38,
          39,
          39,
          39,
          39,
          39,
          39,
          39,
          40,
          40,
          40,
          40,
          40,
          40,
          40,
          41,
          41,
          41,
          41,
          41,
          41,
          41,
          42,
          42,
          42,
          42,
          42,
          42,
          42,
          43,
          43,
          43,
          43,
          43,
          43,
          43,
          44,
          44,
          44,
          44,
          44,
          44,
          44,
          45,
          45,
          45,
          45,
          45,
          45,
          45,
          46,
          46,
          46,
          46,
          46,
          46,
          46,
          47,
          47,
          47,
          47,
          47,
          47,
          47,
          48,
          48,
          48,
          48,
          48,
          48,
          48,
          49,
          49,
          49,
          49,
          49,
          49,
          49,
          50,
          50,
          50,
          50,
          50,
          50,
          50,
          51,
          51,
          51,
          51,
          51,
          51,
          51,
          52,
          52,
          52,
          52,
          52,
          52,
          52,
          53,
          53
         ],
         "xaxis": "x",
         "xgap": 0,
         "y": [
          0,
          1,
          2,
          3,
          4,
          5,
          6,
          0,
          1,
          2,
          3,
          4,
          5,
          6,
          0,
          1,
          2,
          3,
          4,
          5,
          6,
          0,
          1,
          2,
          3,
          4,
          5,
          6,
          0,
          1,
          2,
          3,
          4,
          5,
          6,
          0,
          1,
          2,
          3,
          4,
          5,
          6,
          0,
          1,
          2,
          3,
          4,
          5,
          6,
          0,
          1,
          2,
          3,
          4,
          5,
          6,
          0,
          1,
          2,
          3,
          4,
          5,
          6,
          0,
          1,
          2,
          3,
          4,
          5,
          6,
          0,
          1,
          2,
          3,
          4,
          5,
          6,
          0,
          1,
          2,
          3,
          4,
          5,
          6,
          0,
          1,
          2,
          3,
          4,
          5,
          6,
          0,
          1,
          2,
          3,
          4,
          5,
          6,
          0,
          1,
          2,
          3,
          4,
          5,
          6,
          0,
          1,
          2,
          3,
          4,
          5,
          6,
          0,
          1,
          2,
          3,
          4,
          5,
          6,
          0,
          1,
          2,
          3,
          4,
          5,
          6,
          0,
          1,
          2,
          3,
          4,
          5,
          6,
          0,
          1,
          2,
          3,
          4,
          5,
          6,
          0,
          1,
          2,
          3,
          4,
          5,
          6,
          0,
          1,
          2,
          3,
          4,
          5,
          6,
          0,
          1,
          2,
          3,
          4,
          5,
          6,
          0,
          1,
          2,
          3,
          4,
          5,
          6,
          0,
          1,
          2,
          3,
          4,
          5,
          6,
          0,
          1,
          2,
          3,
          4,
          5,
          6,
          0,
          1,
          2,
          3,
          4,
          5,
          6,
          0,
          1,
          2,
          3,
          4,
          5,
          6,
          0,
          1,
          2,
          3,
          4,
          5,
          6,
          0,
          1,
          2,
          3,
          4,
          5,
          6,
          0,
          1,
          2,
          3,
          4,
          5,
          6,
          0,
          1,
          2,
          3,
          4,
          5,
          6,
          0,
          1,
          2,
          3,
          4,
          5,
          6,
          0,
          1,
          2,
          3,
          4,
          5,
          6,
          0,
          1,
          2,
          3,
          4,
          5,
          6,
          0,
          1,
          2,
          3,
          4,
          5,
          6,
          0,
          1,
          2,
          3,
          4,
          5,
          6,
          0,
          1,
          2,
          3,
          4,
          5,
          6,
          0,
          1,
          2,
          3,
          4,
          5,
          6,
          0,
          1,
          2,
          3,
          4,
          5,
          6,
          0,
          1,
          2,
          3,
          4,
          5,
          6,
          0,
          1,
          2,
          3,
          4,
          5,
          6,
          0,
          1,
          2,
          3,
          4,
          5,
          6,
          0,
          1,
          2,
          3,
          4,
          5,
          6,
          0,
          1,
          2,
          3,
          4,
          5,
          6,
          0,
          1,
          2,
          3,
          4,
          5,
          6,
          0,
          1,
          2,
          3,
          4,
          5,
          6,
          0,
          1,
          2,
          3,
          4,
          5,
          6,
          0,
          1,
          2,
          3,
          4,
          5,
          6,
          0,
          1,
          2,
          3,
          4,
          5,
          6,
          0,
          1,
          2,
          3,
          4,
          5,
          6,
          0,
          1,
          2,
          3,
          4,
          5,
          6,
          0,
          1
         ],
         "yaxis": "y",
         "ygap": 0,
         "z": [
          null,
          null,
          null,
          null,
          null,
          null,
          null,
          null,
          null,
          null,
          null,
          null,
          null,
          null,
          3,
          null,
          4,
          null,
          null,
          8,
          null,
          null,
          3,
          null,
          null,
          9,
          null,
          null,
          null,
          4,
          0,
          5,
          null,
          17,
          null,
          null,
          5,
          5,
          null,
          8,
          null,
          17,
          null,
          6,
          null,
          4,
          5,
          null,
          8,
          11,
          null,
          null,
          25,
          null,
          5,
          null,
          null,
          5,
          9,
          null,
          5,
          null,
          5,
          null,
          11,
          null,
          21,
          null,
          null,
          25,
          null,
          6,
          null,
          10,
          7,
          null,
          24,
          null,
          null,
          10,
          null,
          26,
          null,
          18,
          null,
          null,
          null,
          null,
          26,
          null,
          14,
          null,
          2,
          21,
          null,
          1,
          null,
          null,
          null,
          6,
          null,
          null,
          null,
          33,
          null,
          null,
          null,
          8,
          null,
          null,
          9,
          18,
          null,
          null,
          4,
          null,
          9,
          null,
          null,
          null,
          null,
          4,
          null,
          4,
          null,
          42,
          null,
          null,
          null,
          5,
          null,
          null,
          null,
          null,
          null,
          null,
          null,
          null,
          null,
          null,
          5,
          4,
          null,
          null,
          null,
          null,
          null,
          null,
          null,
          null,
          null,
          null,
          null,
          null,
          null,
          null,
          null,
          null,
          null,
          null,
          null,
          null,
          null,
          null,
          null,
          12,
          null,
          null,
          null,
          null,
          13,
          null,
          null,
          null,
          null,
          13,
          null,
          null,
          null,
          null,
          null,
          null,
          null,
          null,
          null,
          null,
          null,
          null,
          null,
          null,
          4,
          null,
          14,
          null,
          null,
          null,
          null,
          null,
          6,
          null,
          null,
          null,
          3,
          null,
          null,
          null,
          null,
          null,
          null,
          null,
          null,
          null,
          null,
          null,
          13,
          null,
          null,
          21,
          null,
          null,
          null,
          null,
          null,
          9,
          null,
          4,
          null,
          null,
          19,
          null,
          10,
          null,
          4,
          null,
          null,
          null,
          10,
          18,
          null,
          null,
          null,
          null,
          null,
          null,
          21,
          null,
          4,
          null,
          null,
          null,
          19,
          null,
          null,
          4,
          null,
          null,
          null,
          null,
          null,
          null,
          null,
          null,
          null,
          null,
          21,
          null,
          null,
          null,
          null,
          null,
          null,
          18,
          null,
          null,
          4,
          null,
          null,
          null,
          null,
          null,
          null,
          null,
          null,
          null,
          null,
          null,
          null,
          null,
          null,
          null,
          11,
          null,
          null,
          null,
          null,
          null,
          13,
          null,
          null,
          null,
          null,
          13,
          2,
          null,
          null,
          null,
          10,
          null,
          null,
          3,
          null,
          null,
          12,
          null,
          null,
          null,
          null,
          null,
          null,
          null,
          null,
          null,
          null,
          null,
          null,
          null,
          null,
          null,
          null,
          null,
          null,
          null,
          null,
          null,
          null,
          null,
          null,
          null,
          null,
          null,
          null,
          null,
          null,
          null,
          null,
          null,
          null,
          null,
          null,
          null,
          null,
          null,
          null,
          null,
          null,
          null,
          null,
          null,
          null,
          null,
          null,
          null,
          null,
          null,
          null,
          null
         ],
         "zmax": 42,
         "zmin": 0
        },
        {
         "hoverinfo": "skip",
         "line": {
          "color": "#9e9e9e",
          "width": 1
         },
         "mode": "lines",
         "type": "scatter",
         "x": [
          0.5,
          0.5
         ],
         "xaxis": "x",
         "y": [
          -0.5,
          6.5
         ],
         "yaxis": "y"
        },
        {
         "hoverinfo": "skip",
         "line": {
          "color": "#9e9e9e",
          "width": 1
         },
         "mode": "lines",
         "type": "scatter",
         "x": [
          4.5,
          4.5
         ],
         "xaxis": "x",
         "y": [
          2.5,
          6.5
         ],
         "yaxis": "y"
        },
        {
         "hoverinfo": "skip",
         "line": {
          "color": "#9e9e9e",
          "width": 1
         },
         "mode": "lines",
         "type": "scatter",
         "x": [
          4.5,
          5.5
         ],
         "xaxis": "x",
         "y": [
          2.5,
          2.5
         ],
         "yaxis": "y"
        },
        {
         "hoverinfo": "skip",
         "line": {
          "color": "#9e9e9e",
          "width": 1
         },
         "mode": "lines",
         "type": "scatter",
         "x": [
          5.5,
          5.5
         ],
         "xaxis": "x",
         "y": [
          2.5,
          -0.5
         ],
         "yaxis": "y"
        },
        {
         "hoverinfo": "skip",
         "line": {
          "color": "#9e9e9e",
          "width": 1
         },
         "mode": "lines",
         "type": "scatter",
         "x": [
          8.5,
          8.5
         ],
         "xaxis": "x",
         "y": [
          3.5,
          6.5
         ],
         "yaxis": "y"
        },
        {
         "hoverinfo": "skip",
         "line": {
          "color": "#9e9e9e",
          "width": 1
         },
         "mode": "lines",
         "type": "scatter",
         "x": [
          8.5,
          9.5
         ],
         "xaxis": "x",
         "y": [
          3.5,
          3.5
         ],
         "yaxis": "y"
        },
        {
         "hoverinfo": "skip",
         "line": {
          "color": "#9e9e9e",
          "width": 1
         },
         "mode": "lines",
         "type": "scatter",
         "x": [
          9.5,
          9.5
         ],
         "xaxis": "x",
         "y": [
          3.5,
          -0.5
         ],
         "yaxis": "y"
        },
        {
         "hoverinfo": "skip",
         "line": {
          "color": "#9e9e9e",
          "width": 1
         },
         "mode": "lines",
         "type": "scatter",
         "x": [
          13.5,
          13.5
         ],
         "xaxis": "x",
         "y": [
          -0.5,
          6.5
         ],
         "yaxis": "y"
        },
        {
         "hoverinfo": "skip",
         "line": {
          "color": "#9e9e9e",
          "width": 1
         },
         "mode": "lines",
         "type": "scatter",
         "x": [
          17.5,
          17.5
         ],
         "xaxis": "x",
         "y": [
          1.5,
          6.5
         ],
         "yaxis": "y"
        },
        {
         "hoverinfo": "skip",
         "line": {
          "color": "#9e9e9e",
          "width": 1
         },
         "mode": "lines",
         "type": "scatter",
         "x": [
          17.5,
          18.5
         ],
         "xaxis": "x",
         "y": [
          1.5,
          1.5
         ],
         "yaxis": "y"
        },
        {
         "hoverinfo": "skip",
         "line": {
          "color": "#9e9e9e",
          "width": 1
         },
         "mode": "lines",
         "type": "scatter",
         "x": [
          18.5,
          18.5
         ],
         "xaxis": "x",
         "y": [
          1.5,
          -0.5
         ],
         "yaxis": "y"
        },
        {
         "hoverinfo": "skip",
         "line": {
          "color": "#9e9e9e",
          "width": 1
         },
         "mode": "lines",
         "type": "scatter",
         "x": [
          21.5,
          21.5
         ],
         "xaxis": "x",
         "y": [
          4.5,
          6.5
         ],
         "yaxis": "y"
        },
        {
         "hoverinfo": "skip",
         "line": {
          "color": "#9e9e9e",
          "width": 1
         },
         "mode": "lines",
         "type": "scatter",
         "x": [
          21.5,
          22.5
         ],
         "xaxis": "x",
         "y": [
          4.5,
          4.5
         ],
         "yaxis": "y"
        },
        {
         "hoverinfo": "skip",
         "line": {
          "color": "#9e9e9e",
          "width": 1
         },
         "mode": "lines",
         "type": "scatter",
         "x": [
          22.5,
          22.5
         ],
         "xaxis": "x",
         "y": [
          4.5,
          -0.5
         ],
         "yaxis": "y"
        },
        {
         "hoverinfo": "skip",
         "line": {
          "color": "#9e9e9e",
          "width": 1
         },
         "mode": "lines",
         "type": "scatter",
         "x": [
          26.5,
          26.5
         ],
         "xaxis": "x",
         "y": [
          -0.5,
          6.5
         ],
         "yaxis": "y"
        },
        {
         "hoverinfo": "skip",
         "line": {
          "color": "#9e9e9e",
          "width": 1
         },
         "mode": "lines",
         "type": "scatter",
         "x": [
          30.5,
          30.5
         ],
         "xaxis": "x",
         "y": [
          2.5,
          6.5
         ],
         "yaxis": "y"
        },
        {
         "hoverinfo": "skip",
         "line": {
          "color": "#9e9e9e",
          "width": 1
         },
         "mode": "lines",
         "type": "scatter",
         "x": [
          30.5,
          31.5
         ],
         "xaxis": "x",
         "y": [
          2.5,
          2.5
         ],
         "yaxis": "y"
        },
        {
         "hoverinfo": "skip",
         "line": {
          "color": "#9e9e9e",
          "width": 1
         },
         "mode": "lines",
         "type": "scatter",
         "x": [
          31.5,
          31.5
         ],
         "xaxis": "x",
         "y": [
          2.5,
          -0.5
         ],
         "yaxis": "y"
        },
        {
         "hoverinfo": "skip",
         "line": {
          "color": "#9e9e9e",
          "width": 1
         },
         "mode": "lines",
         "type": "scatter",
         "x": [
          34.5,
          34.5
         ],
         "xaxis": "x",
         "y": [
          5.5,
          6.5
         ],
         "yaxis": "y"
        },
        {
         "hoverinfo": "skip",
         "line": {
          "color": "#9e9e9e",
          "width": 1
         },
         "mode": "lines",
         "type": "scatter",
         "x": [
          34.5,
          35.5
         ],
         "xaxis": "x",
         "y": [
          5.5,
          5.5
         ],
         "yaxis": "y"
        },
        {
         "hoverinfo": "skip",
         "line": {
          "color": "#9e9e9e",
          "width": 1
         },
         "mode": "lines",
         "type": "scatter",
         "x": [
          35.5,
          35.5
         ],
         "xaxis": "x",
         "y": [
          5.5,
          -0.5
         ],
         "yaxis": "y"
        },
        {
         "hoverinfo": "skip",
         "line": {
          "color": "#9e9e9e",
          "width": 1
         },
         "mode": "lines",
         "type": "scatter",
         "x": [
          39.5,
          39.5
         ],
         "xaxis": "x",
         "y": [
          0.5,
          6.5
         ],
         "yaxis": "y"
        },
        {
         "hoverinfo": "skip",
         "line": {
          "color": "#9e9e9e",
          "width": 1
         },
         "mode": "lines",
         "type": "scatter",
         "x": [
          39.5,
          40.5
         ],
         "xaxis": "x",
         "y": [
          0.5,
          0.5
         ],
         "yaxis": "y"
        },
        {
         "hoverinfo": "skip",
         "line": {
          "color": "#9e9e9e",
          "width": 1
         },
         "mode": "lines",
         "type": "scatter",
         "x": [
          40.5,
          40.5
         ],
         "xaxis": "x",
         "y": [
          0.5,
          -0.5
         ],
         "yaxis": "y"
        },
        {
         "hoverinfo": "skip",
         "line": {
          "color": "#9e9e9e",
          "width": 1
         },
         "mode": "lines",
         "type": "scatter",
         "x": [
          43.5,
          43.5
         ],
         "xaxis": "x",
         "y": [
          3.5,
          6.5
         ],
         "yaxis": "y"
        },
        {
         "hoverinfo": "skip",
         "line": {
          "color": "#9e9e9e",
          "width": 1
         },
         "mode": "lines",
         "type": "scatter",
         "x": [
          43.5,
          44.5
         ],
         "xaxis": "x",
         "y": [
          3.5,
          3.5
         ],
         "yaxis": "y"
        },
        {
         "hoverinfo": "skip",
         "line": {
          "color": "#9e9e9e",
          "width": 1
         },
         "mode": "lines",
         "type": "scatter",
         "x": [
          44.5,
          44.5
         ],
         "xaxis": "x",
         "y": [
          3.5,
          -0.5
         ],
         "yaxis": "y"
        },
        {
         "hoverinfo": "skip",
         "line": {
          "color": "#9e9e9e",
          "width": 1
         },
         "mode": "lines",
         "type": "scatter",
         "x": [
          47.5,
          47.5
         ],
         "xaxis": "x",
         "y": [
          5.5,
          6.5
         ],
         "yaxis": "y"
        },
        {
         "hoverinfo": "skip",
         "line": {
          "color": "#9e9e9e",
          "width": 1
         },
         "mode": "lines",
         "type": "scatter",
         "x": [
          47.5,
          48.5
         ],
         "xaxis": "x",
         "y": [
          5.5,
          5.5
         ],
         "yaxis": "y"
        },
        {
         "hoverinfo": "skip",
         "line": {
          "color": "#9e9e9e",
          "width": 1
         },
         "mode": "lines",
         "type": "scatter",
         "x": [
          48.5,
          48.5
         ],
         "xaxis": "x",
         "y": [
          5.5,
          -0.5
         ],
         "yaxis": "y"
        },
        {
         "colorscale": [
          [
           0,
           "rgb(255,245,235)"
          ],
          [
           0.125,
           "rgb(254,230,206)"
          ],
          [
           0.25,
           "rgb(253,208,162)"
          ],
          [
           0.375,
           "rgb(253,174,107)"
          ],
          [
           0.5,
           "rgb(253,141,60)"
          ],
          [
           0.625,
           "rgb(241,105,19)"
          ],
          [
           0.75,
           "rgb(217,72,1)"
          ],
          [
           0.875,
           "rgb(166,54,3)"
          ],
          [
           1,
           "rgb(127,39,4)"
          ]
         ],
         "customdata": [
          [
           "2023-01-01",
           "y"
          ],
          [
           "2023-01-02",
           "y"
          ],
          [
           "2023-01-03",
           "y"
          ],
          [
           "2023-01-04",
           "y"
          ],
          [
           "2023-01-05",
           "y"
          ],
          [
           "2023-01-06",
           "y"
          ],
          [
           "2023-01-07",
           "y"
          ],
          [
           "2023-01-08",
           "y"
          ],
          [
           "2023-01-09",
           "y"
          ],
          [
           "2023-01-10",
           "y"
          ],
          [
           "2023-01-11",
           "y"
          ],
          [
           "2023-01-12",
           "y"
          ],
          [
           "2023-01-13",
           "y"
          ],
          [
           "2023-01-14",
           "y"
          ],
          [
           "2023-01-15",
           "y"
          ],
          [
           "2023-01-16",
           "y"
          ],
          [
           "2023-01-17",
           "y"
          ],
          [
           "2023-01-18",
           "y"
          ],
          [
           "2023-01-19",
           "y"
          ],
          [
           "2023-01-20",
           "y"
          ],
          [
           "2023-01-21",
           "y"
          ],
          [
           "2023-01-22",
           "y"
          ],
          [
           "2023-01-23",
           "y"
          ],
          [
           "2023-01-24",
           "y"
          ],
          [
           "2023-01-25",
           "y"
          ],
          [
           "2023-01-26",
           "y"
          ],
          [
           "2023-01-27",
           "y"
          ],
          [
           "2023-01-28",
           "y"
          ],
          [
           "2023-01-29",
           "y"
          ],
          [
           "2023-01-30",
           "y"
          ],
          [
           "2023-01-31",
           "y"
          ],
          [
           "2023-02-01",
           "y"
          ],
          [
           "2023-02-02",
           "y"
          ],
          [
           "2023-02-03",
           "y"
          ],
          [
           "2023-02-04",
           "y"
          ],
          [
           "2023-02-05",
           "y"
          ],
          [
           "2023-02-06",
           "y"
          ],
          [
           "2023-02-07",
           "y"
          ],
          [
           "2023-02-08",
           "y"
          ],
          [
           "2023-02-09",
           "y"
          ],
          [
           "2023-02-10",
           "y"
          ],
          [
           "2023-02-11",
           "y"
          ],
          [
           "2023-02-12",
           "y"
          ],
          [
           "2023-02-13",
           "y"
          ],
          [
           "2023-02-14",
           "y"
          ],
          [
           "2023-02-15",
           "y"
          ],
          [
           "2023-02-16",
           "y"
          ],
          [
           "2023-02-17",
           "y"
          ],
          [
           "2023-02-18",
           "y"
          ],
          [
           "2023-02-19",
           "y"
          ],
          [
           "2023-02-19",
           "y"
          ],
          [
           "2023-02-20",
           "y"
          ],
          [
           "2023-02-21",
           "y"
          ],
          [
           "2023-02-22",
           "y"
          ],
          [
           "2023-02-23",
           "y"
          ],
          [
           "2023-02-24",
           "y"
          ],
          [
           "2023-02-25",
           "y"
          ],
          [
           "2023-02-26",
           "y"
          ],
          [
           "2023-02-27",
           "y"
          ],
          [
           "2023-02-28",
           "y"
          ],
          [
           "2023-03-01",
           "y"
          ],
          [
           "2023-03-02",
           "y"
          ],
          [
           "2023-03-03",
           "y"
          ],
          [
           "2023-03-04",
           "y"
          ],
          [
           "2023-03-05",
           "y"
          ],
          [
           "2023-03-06",
           "y"
          ],
          [
           "2023-03-07",
           "y"
          ],
          [
           "2023-03-08",
           "y"
          ],
          [
           "2023-03-09",
           "y"
          ],
          [
           "2023-03-10",
           "y"
          ],
          [
           "2023-03-11",
           "y"
          ],
          [
           "2023-03-12",
           "y"
          ],
          [
           "2023-03-13",
           "y"
          ],
          [
           "2023-03-14",
           "y"
          ],
          [
           "2023-03-15",
           "y"
          ],
          [
           "2023-03-16",
           "y"
          ],
          [
           "2023-03-17",
           "y"
          ],
          [
           "2023-03-18",
           "y"
          ],
          [
           "2023-03-19",
           "y"
          ],
          [
           "2023-03-20",
           "y"
          ],
          [
           "2023-03-21",
           "y"
          ],
          [
           "2023-03-22",
           "y"
          ],
          [
           "2023-03-23",
           "y"
          ],
          [
           "2023-03-24",
           "y"
          ],
          [
           "2023-03-25",
           "y"
          ],
          [
           "2023-03-26",
           "y"
          ],
          [
           "2023-03-27",
           "y"
          ],
          [
           "2023-03-28",
           "y"
          ],
          [
           "2023-03-29",
           "y"
          ],
          [
           "2023-03-30",
           "y"
          ],
          [
           "2023-03-31",
           "y"
          ],
          [
           "2023-04-01",
           "y"
          ],
          [
           "2023-04-02",
           "y"
          ],
          [
           "2023-04-03",
           "y"
          ],
          [
           "2023-04-04",
           "y"
          ],
          [
           "2023-04-05",
           "y"
          ],
          [
           "2023-04-06",
           "y"
          ],
          [
           "2023-04-07",
           "y"
          ],
          [
           "2023-04-08",
           "y"
          ],
          [
           "2023-04-09",
           "y"
          ],
          [
           "2023-04-10",
           "y"
          ],
          [
           "2023-04-11",
           "y"
          ],
          [
           "2023-04-12",
           "y"
          ],
          [
           "2023-04-13",
           "y"
          ],
          [
           "2023-04-14",
           "y"
          ],
          [
           "2023-04-15",
           "y"
          ],
          [
           "2023-04-16",
           "y"
          ],
          [
           "2023-04-17",
           "y"
          ],
          [
           "2023-04-18",
           "y"
          ],
          [
           "2023-04-19",
           "y"
          ],
          [
           "2023-04-20",
           "y"
          ],
          [
           "2023-04-21",
           "y"
          ],
          [
           "2023-04-22",
           "y"
          ],
          [
           "2023-04-23",
           "y"
          ],
          [
           "2023-04-24",
           "y"
          ],
          [
           "2023-04-25",
           "y"
          ],
          [
           "2023-04-26",
           "y"
          ],
          [
           "2023-04-27",
           "y"
          ],
          [
           "2023-04-28",
           "y"
          ],
          [
           "2023-04-29",
           "y"
          ],
          [
           "2023-04-30",
           "y"
          ],
          [
           "2023-05-01",
           "y"
          ],
          [
           "2023-05-02",
           "y"
          ],
          [
           "2023-05-03",
           "y"
          ],
          [
           "2023-05-04",
           "y"
          ],
          [
           "2023-05-05",
           "y"
          ],
          [
           "2023-05-06",
           "y"
          ],
          [
           "2023-05-07",
           "y"
          ],
          [
           "2023-05-08",
           "y"
          ],
          [
           "2023-05-09",
           "y"
          ],
          [
           "2023-05-10",
           "y"
          ],
          [
           "2023-05-11",
           "y"
          ],
          [
           "2023-05-12",
           "y"
          ],
          [
           "2023-05-13",
           "y"
          ],
          [
           "2023-05-14",
           "y"
          ],
          [
           "2023-05-15",
           "y"
          ],
          [
           "2023-05-16",
           "y"
          ],
          [
           "2023-05-17",
           "y"
          ],
          [
           "2023-05-18",
           "y"
          ],
          [
           "2023-05-19",
           "y"
          ],
          [
           "2023-05-20",
           "y"
          ],
          [
           "2023-05-21",
           "y"
          ],
          [
           "2023-05-22",
           "y"
          ],
          [
           "2023-05-23",
           "y"
          ],
          [
           "2023-05-24",
           "y"
          ],
          [
           "2023-05-25",
           "y"
          ],
          [
           "2023-05-26",
           "y"
          ],
          [
           "2023-05-27",
           "y"
          ],
          [
           "2023-05-28",
           "y"
          ],
          [
           "2023-05-29",
           "y"
          ],
          [
           "2023-05-30",
           "y"
          ],
          [
           "2023-05-31",
           "y"
          ],
          [
           "2023-06-01",
           "y"
          ],
          [
           "2023-06-02",
           "y"
          ],
          [
           "2023-06-03",
           "y"
          ],
          [
           "2023-06-04",
           "y"
          ],
          [
           "2023-06-05",
           "y"
          ],
          [
           "2023-06-06",
           "y"
          ],
          [
           "2023-06-07",
           "y"
          ],
          [
           "2023-06-08",
           "y"
          ],
          [
           "2023-06-09",
           "y"
          ],
          [
           "2023-06-10",
           "y"
          ],
          [
           "2023-06-11",
           "y"
          ],
          [
           "2023-06-12",
           "y"
          ],
          [
           "2023-06-13",
           "y"
          ],
          [
           "2023-06-14",
           "y"
          ],
          [
           "2023-06-15",
           "y"
          ],
          [
           "2023-06-16",
           "y"
          ],
          [
           "2023-06-17",
           "y"
          ],
          [
           "2023-06-18",
           "y"
          ],
          [
           "2023-06-19",
           "y"
          ],
          [
           "2023-06-20",
           "y"
          ],
          [
           "2023-06-21",
           "y"
          ],
          [
           "2023-06-22",
           "y"
          ],
          [
           "2023-06-23",
           "y"
          ],
          [
           "2023-06-24",
           "y"
          ],
          [
           "2023-06-25",
           "y"
          ],
          [
           "2023-06-26",
           "y"
          ],
          [
           "2023-06-27",
           "y"
          ],
          [
           "2023-06-28",
           "y"
          ],
          [
           "2023-06-29",
           "y"
          ],
          [
           "2023-06-30",
           "y"
          ],
          [
           "2023-07-01",
           "y"
          ],
          [
           "2023-07-02",
           "y"
          ],
          [
           "2023-07-03",
           "y"
          ],
          [
           "2023-07-04",
           "y"
          ],
          [
           "2023-07-05",
           "y"
          ],
          [
           "2023-07-06",
           "y"
          ],
          [
           "2023-07-07",
           "y"
          ],
          [
           "2023-07-08",
           "y"
          ],
          [
           "2023-07-09",
           "y"
          ],
          [
           "2023-07-10",
           "y"
          ],
          [
           "2023-07-11",
           "y"
          ],
          [
           "2023-07-12",
           "y"
          ],
          [
           "2023-07-13",
           "y"
          ],
          [
           "2023-07-14",
           "y"
          ],
          [
           "2023-07-15",
           "y"
          ],
          [
           "2023-07-16",
           "y"
          ],
          [
           "2023-07-17",
           "y"
          ],
          [
           "2023-07-18",
           "y"
          ],
          [
           "2023-07-19",
           "y"
          ],
          [
           "2023-07-20",
           "y"
          ],
          [
           "2023-07-21",
           "y"
          ],
          [
           "2023-07-22",
           "y"
          ],
          [
           "2023-07-23",
           "y"
          ],
          [
           "2023-07-24",
           "y"
          ],
          [
           "2023-07-25",
           "y"
          ],
          [
           "2023-07-26",
           "y"
          ],
          [
           "2023-07-27",
           "y"
          ],
          [
           "2023-07-27",
           "y"
          ],
          [
           "2023-07-28",
           "y"
          ],
          [
           "2023-07-29",
           "y"
          ],
          [
           "2023-07-30",
           "y"
          ],
          [
           "2023-07-31",
           "y"
          ],
          [
           "2023-08-01",
           "y"
          ],
          [
           "2023-08-02",
           "y"
          ],
          [
           "2023-08-03",
           "y"
          ],
          [
           "2023-08-04",
           "y"
          ],
          [
           "2023-08-05",
           "y"
          ],
          [
           "2023-08-06",
           "y"
          ],
          [
           "2023-08-07",
           "y"
          ],
          [
           "2023-08-08",
           "y"
          ],
          [
           "2023-08-09",
           "y"
          ],
          [
           "2023-08-10",
           "y"
          ],
          [
           "2023-08-11",
           "y"
          ],
          [
           "2023-08-12",
           "y"
          ],
          [
           "2023-08-13",
           "y"
          ],
          [
           "2023-08-14",
           "y"
          ],
          [
           "2023-08-15",
           "y"
          ],
          [
           "2023-08-16",
           "y"
          ],
          [
           "2023-08-17",
           "y"
          ],
          [
           "2023-08-18",
           "y"
          ],
          [
           "2023-08-19",
           "y"
          ],
          [
           "2023-08-20",
           "y"
          ],
          [
           "2023-08-21",
           "y"
          ],
          [
           "2023-08-22",
           "y"
          ],
          [
           "2023-08-23",
           "y"
          ],
          [
           "2023-08-24",
           "y"
          ],
          [
           "2023-08-25",
           "y"
          ],
          [
           "2023-08-26",
           "y"
          ],
          [
           "2023-08-27",
           "y"
          ],
          [
           "2023-08-28",
           "y"
          ],
          [
           "2023-08-29",
           "y"
          ],
          [
           "2023-08-30",
           "y"
          ],
          [
           "2023-08-31",
           "y"
          ],
          [
           "2023-09-01",
           "y"
          ],
          [
           "2023-09-02",
           "y"
          ],
          [
           "2023-09-03",
           "y"
          ],
          [
           "2023-09-04",
           "y"
          ],
          [
           "2023-09-05",
           "y"
          ],
          [
           "2023-09-06",
           "y"
          ],
          [
           "2023-09-07",
           "y"
          ],
          [
           "2023-09-08",
           "y"
          ],
          [
           "2023-09-09",
           "y"
          ],
          [
           "2023-09-10",
           "y"
          ],
          [
           "2023-09-11",
           "y"
          ],
          [
           "2023-09-12",
           "y"
          ],
          [
           "2023-09-13",
           "y"
          ],
          [
           "2023-09-14",
           "y"
          ],
          [
           "2023-09-15",
           "y"
          ],
          [
           "2023-09-16",
           "y"
          ],
          [
           "2023-09-17",
           "y"
          ],
          [
           "2023-09-18",
           "y"
          ],
          [
           "2023-09-19",
           "y"
          ],
          [
           "2023-09-20",
           "y"
          ],
          [
           "2023-09-21",
           "y"
          ],
          [
           "2023-09-22",
           "y"
          ],
          [
           "2023-09-23",
           "y"
          ],
          [
           "2023-09-24",
           "y"
          ],
          [
           "2023-09-25",
           "y"
          ],
          [
           "2023-09-26",
           "y"
          ],
          [
           "2023-09-27",
           "y"
          ],
          [
           "2023-09-28",
           "y"
          ],
          [
           "2023-09-29",
           "y"
          ],
          [
           "2023-09-30",
           "y"
          ],
          [
           "2023-10-01",
           "y"
          ],
          [
           "2023-10-02",
           "y"
          ],
          [
           "2023-10-03",
           "y"
          ],
          [
           "2023-10-04",
           "y"
          ],
          [
           "2023-10-05",
           "y"
          ],
          [
           "2023-10-06",
           "y"
          ],
          [
           "2023-10-07",
           "y"
          ],
          [
           "2023-10-08",
           "y"
          ],
          [
           "2023-10-09",
           "y"
          ],
          [
           "2023-10-10",
           "y"
          ],
          [
           "2023-10-11",
           "y"
          ],
          [
           "2023-10-12",
           "y"
          ],
          [
           "2023-10-13",
           "y"
          ],
          [
           "2023-10-14",
           "y"
          ],
          [
           "2023-10-15",
           "y"
          ],
          [
           "2023-10-16",
           "y"
          ],
          [
           "2023-10-17",
           "y"
          ],
          [
           "2023-10-18",
           "y"
          ],
          [
           "2023-10-19",
           "y"
          ],
          [
           "2023-10-20",
           "y"
          ],
          [
           "2023-10-21",
           "y"
          ],
          [
           "2023-10-22",
           "y"
          ],
          [
           "2023-10-23",
           "y"
          ],
          [
           "2023-10-24",
           "y"
          ],
          [
           "2023-10-25",
           "y"
          ],
          [
           "2023-10-26",
           "y"
          ],
          [
           "2023-10-27",
           "y"
          ],
          [
           "2023-10-28",
           "y"
          ],
          [
           "2023-10-29",
           "y"
          ],
          [
           "2023-10-30",
           "y"
          ],
          [
           "2023-10-31",
           "y"
          ],
          [
           "2023-11-01",
           "y"
          ],
          [
           "2023-11-02",
           "y"
          ],
          [
           "2023-11-03",
           "y"
          ],
          [
           "2023-11-04",
           "y"
          ],
          [
           "2023-11-05",
           "y"
          ],
          [
           "2023-11-06",
           "y"
          ],
          [
           "2023-11-07",
           "y"
          ],
          [
           "2023-11-08",
           "y"
          ],
          [
           "2023-11-09",
           "y"
          ],
          [
           "2023-11-10",
           "y"
          ],
          [
           "2023-11-11",
           "y"
          ],
          [
           "2023-11-12",
           "y"
          ],
          [
           "2023-11-13",
           "y"
          ],
          [
           "2023-11-14",
           "y"
          ],
          [
           "2023-11-15",
           "y"
          ],
          [
           "2023-11-16",
           "y"
          ],
          [
           "2023-11-17",
           "y"
          ],
          [
           "2023-11-18",
           "y"
          ],
          [
           "2023-11-19",
           "y"
          ],
          [
           "2023-11-20",
           "y"
          ],
          [
           "2023-11-21",
           "y"
          ],
          [
           "2023-11-22",
           "y"
          ],
          [
           "2023-11-23",
           "y"
          ],
          [
           "2023-11-24",
           "y"
          ],
          [
           "2023-11-25",
           "y"
          ],
          [
           "2023-11-26",
           "y"
          ],
          [
           "2023-11-27",
           "y"
          ],
          [
           "2023-11-28",
           "y"
          ],
          [
           "2023-11-29",
           "y"
          ],
          [
           "2023-11-30",
           "y"
          ],
          [
           "2023-12-01",
           "y"
          ],
          [
           "2023-12-02",
           "y"
          ],
          [
           "2023-12-03",
           "y"
          ],
          [
           "2023-12-04",
           "y"
          ],
          [
           "2023-12-05",
           "y"
          ],
          [
           "2023-12-06",
           "y"
          ],
          [
           "2023-12-07",
           "y"
          ],
          [
           "2023-12-08",
           "y"
          ],
          [
           "2023-12-09",
           "y"
          ],
          [
           "2023-12-10",
           "y"
          ],
          [
           "2023-12-11",
           "y"
          ],
          [
           "2023-12-12",
           "y"
          ],
          [
           "2023-12-13",
           "y"
          ],
          [
           "2023-12-14",
           "y"
          ],
          [
           "2023-12-15",
           "y"
          ],
          [
           "2023-12-16",
           "y"
          ],
          [
           "2023-12-17",
           "y"
          ],
          [
           "2023-12-18",
           "y"
          ],
          [
           "2023-12-19",
           "y"
          ],
          [
           "2023-12-20",
           "y"
          ],
          [
           "2023-12-21",
           "y"
          ],
          [
           "2023-12-22",
           "y"
          ],
          [
           "2023-12-23",
           "y"
          ],
          [
           "2023-12-24",
           "y"
          ],
          [
           "2023-12-25",
           "y"
          ],
          [
           "2023-12-26",
           "y"
          ],
          [
           "2023-12-27",
           "y"
          ],
          [
           "2023-12-28",
           "y"
          ],
          [
           "2023-12-29",
           "y"
          ],
          [
           "2023-12-30",
           "y"
          ],
          [
           "2023-12-31",
           "y"
          ]
         ],
         "hovertemplate": "%{customdata[0]} <br>Week=%{x} <br>%{customdata[1]}=%{z}",
         "name": "2023",
         "showscale": false,
         "type": "heatmap",
         "x": [
          0,
          1,
          1,
          1,
          1,
          1,
          1,
          1,
          2,
          2,
          2,
          2,
          2,
          2,
          2,
          3,
          3,
          3,
          3,
          3,
          3,
          3,
          4,
          4,
          4,
          4,
          4,
          4,
          4,
          5,
          5,
          5,
          5,
          5,
          5,
          5,
          6,
          6,
          6,
          6,
          6,
          6,
          6,
          7,
          7,
          7,
          7,
          7,
          7,
          7,
          7,
          8,
          8,
          8,
          8,
          8,
          8,
          8,
          9,
          9,
          9,
          9,
          9,
          9,
          9,
          10,
          10,
          10,
          10,
          10,
          10,
          10,
          11,
          11,
          11,
          11,
          11,
          11,
          11,
          12,
          12,
          12,
          12,
          12,
          12,
          12,
          13,
          13,
          13,
          13,
          13,
          13,
          13,
          14,
          14,
          14,
          14,
          14,
          14,
          14,
          15,
          15,
          15,
          15,
          15,
          15,
          15,
          16,
          16,
          16,
          16,
          16,
          16,
          16,
          17,
          17,
          17,
          17,
          17,
          17,
          17,
          18,
          18,
          18,
          18,
          18,
          18,
          18,
          19,
          19,
          19,
          19,
          19,
          19,
          19,
          20,
          20,
          20,
          20,
          20,
          20,
          20,
          21,
          21,
          21,
          21,
          21,
          21,
          21,
          22,
          22,
          22,
          22,
          22,
          22,
          22,
          23,
          23,
          23,
          23,
          23,
          23,
          23,
          24,
          24,
          24,
          24,
          24,
          24,
          24,
          25,
          25,
          25,
          25,
          25,
          25,
          25,
          26,
          26,
          26,
          26,
          26,
          26,
          26,
          27,
          27,
          27,
          27,
          27,
          27,
          27,
          28,
          28,
          28,
          28,
          28,
          28,
          28,
          29,
          29,
          29,
          29,
          29,
          29,
          29,
          30,
          30,
          30,
          30,
          30,
          30,
          30,
          30,
          31,
          31,
          31,
          31,
          31,
          31,
          31,
          32,
          32,
          32,
          32,
          32,
          32,
          32,
          33,
          33,
          33,
          33,
          33,
          33,
          33,
          34,
          34,
          34,
          34,
          34,
          34,
          34,
          35,
          35,
          35,
          35,
          35,
          35,
          35,
          36,
          36,
          36,
          36,
          36,
          36,
          36,
          37,
          37,
          37,
          37,
          37,
          37,
          37,
          38,
          38,
          38,
          38,
          38,
          38,
          38,
          39,
          39,
          39,
          39,
          39,
          39,
          39,
          40,
          40,
          40,
          40,
          40,
          40,
          40,
          41,
          41,
          41,
          41,
          41,
          41,
          41,
          42,
          42,
          42,
          42,
          42,
          42,
          42,
          43,
          43,
          43,
          43,
          43,
          43,
          43,
          44,
          44,
          44,
          44,
          44,
          44,
          44,
          45,
          45,
          45,
          45,
          45,
          45,
          45,
          46,
          46,
          46,
          46,
          46,
          46,
          46,
          47,
          47,
          47,
          47,
          47,
          47,
          47,
          48,
          48,
          48,
          48,
          48,
          48,
          48,
          49,
          49,
          49,
          49,
          49,
          49,
          49,
          50,
          50,
          50,
          50,
          50,
          50,
          50,
          51,
          51,
          51,
          51,
          51,
          51,
          51,
          52,
          52,
          52,
          52,
          52,
          52,
          52
         ],
         "xaxis": "x2",
         "xgap": 0,
         "y": [
          6,
          0,
          1,
          2,
          3,
          4,
          5,
          6,
          0,
          1,
          2,
          3,
          4,
          5,
          6,
          0,
          1,
          2,
          3,
          4,
          5,
          6,
          0,
          1,
          2,
          3,
          4,
          5,
          6,
          0,
          1,
          2,
          3,
          4,
          5,
          6,
          0,
          1,
          2,
          3,
          4,
          5,
          6,
          0,
          1,
          2,
          3,
          4,
          5,
          6,
          6,
          0,
          1,
          2,
          3,
          4,
          5,
          6,
          0,
          1,
          2,
          3,
          4,
          5,
          6,
          0,
          1,
          2,
          3,
          4,
          5,
          6,
          0,
          1,
          2,
          3,
          4,
          5,
          6,
          0,
          1,
          2,
          3,
          4,
          5,
          6,
          0,
          1,
          2,
          3,
          4,
          5,
          6,
          0,
          1,
          2,
          3,
          4,
          5,
          6,
          0,
          1,
          2,
          3,
          4,
          5,
          6,
          0,
          1,
          2,
          3,
          4,
          5,
          6,
          0,
          1,
          2,
          3,
          4,
          5,
          6,
          0,
          1,
          2,
          3,
          4,
          5,
          6,
          0,
          1,
          2,
          3,
          4,
          5,
          6,
          0,
          1,
          2,
          3,
          4,
          5,
          6,
          0,
          1,
          2,
          3,
          4,
          5,
          6,
          0,
          1,
          2,
          3,
          4,
          5,
          6,
          0,
          1,
          2,
          3,
          4,
          5,
          6,
          0,
          1,
          2,
          3,
          4,
          5,
          6,
          0,
          1,
          2,
          3,
          4,
          5,
          6,
          0,
          1,
          2,
          3,
          4,
          5,
          6,
          0,
          1,
          2,
          3,
          4,
          5,
          6,
          0,
          1,
          2,
          3,
          4,
          5,
          6,
          0,
          1,
          2,
          3,
          4,
          5,
          6,
          0,
          1,
          2,
          3,
          3,
          4,
          5,
          6,
          0,
          1,
          2,
          3,
          4,
          5,
          6,
          0,
          1,
          2,
          3,
          4,
          5,
          6,
          0,
          1,
          2,
          3,
          4,
          5,
          6,
          0,
          1,
          2,
          3,
          4,
          5,
          6,
          0,
          1,
          2,
          3,
          4,
          5,
          6,
          0,
          1,
          2,
          3,
          4,
          5,
          6,
          0,
          1,
          2,
          3,
          4,
          5,
          6,
          0,
          1,
          2,
          3,
          4,
          5,
          6,
          0,
          1,
          2,
          3,
          4,
          5,
          6,
          0,
          1,
          2,
          3,
          4,
          5,
          6,
          0,
          1,
          2,
          3,
          4,
          5,
          6,
          0,
          1,
          2,
          3,
          4,
          5,
          6,
          0,
          1,
          2,
          3,
          4,
          5,
          6,
          0,
          1,
          2,
          3,
          4,
          5,
          6,
          0,
          1,
          2,
          3,
          4,
          5,
          6,
          0,
          1,
          2,
          3,
          4,
          5,
          6,
          0,
          1,
          2,
          3,
          4,
          5,
          6,
          0,
          1,
          2,
          3,
          4,
          5,
          6,
          0,
          1,
          2,
          3,
          4,
          5,
          6,
          0,
          1,
          2,
          3,
          4,
          5,
          6,
          0,
          1,
          2,
          3,
          4,
          5,
          6,
          0,
          1,
          2,
          3,
          4,
          5,
          6
         ],
         "yaxis": "y2",
         "ygap": 0,
         "z": [
          null,
          null,
          3,
          null,
          null,
          null,
          null,
          null,
          null,
          null,
          null,
          null,
          null,
          11,
          null,
          null,
          null,
          null,
          null,
          null,
          null,
          null,
          null,
          null,
          null,
          null,
          null,
          null,
          null,
          null,
          null,
          4,
          null,
          null,
          null,
          6,
          null,
          null,
          null,
          null,
          null,
          12,
          null,
          null,
          null,
          null,
          null,
          null,
          null,
          2,
          12,
          null,
          null,
          null,
          null,
          null,
          null,
          null,
          null,
          3,
          null,
          null,
          null,
          11,
          null,
          null,
          null,
          null,
          15,
          null,
          null,
          null,
          null,
          null,
          null,
          null,
          null,
          null,
          null,
          null,
          null,
          null,
          6,
          null,
          null,
          null,
          null,
          null,
          null,
          null,
          null,
          null,
          15,
          null,
          null,
          null,
          null,
          null,
          null,
          null,
          4,
          null,
          null,
          null,
          null,
          null,
          null,
          null,
          null,
          7,
          null,
          15,
          null,
          null,
          null,
          null,
          null,
          null,
          null,
          null,
          null,
          null,
          null,
          null,
          null,
          null,
          null,
          null,
          null,
          null,
          null,
          null,
          null,
          null,
          null,
          null,
          null,
          null,
          null,
          null,
          13,
          null,
          null,
          null,
          null,
          null,
          null,
          null,
          15,
          null,
          null,
          null,
          null,
          null,
          null,
          15,
          null,
          null,
          null,
          null,
          null,
          11,
          14,
          null,
          null,
          null,
          null,
          null,
          12,
          null,
          null,
          6,
          null,
          null,
          16,
          null,
          21,
          null,
          null,
          null,
          null,
          null,
          null,
          12,
          null,
          null,
          2,
          null,
          null,
          null,
          11,
          5,
          null,
          6,
          null,
          null,
          10,
          null,
          null,
          null,
          null,
          null,
          6,
          null,
          21,
          null,
          null,
          null,
          8,
          8,
          null,
          null,
          null,
          16,
          null,
          null,
          null,
          null,
          null,
          null,
          null,
          null,
          null,
          null,
          null,
          null,
          null,
          null,
          null,
          null,
          null,
          21,
          null,
          null,
          null,
          null,
          null,
          null,
          null,
          9,
          null,
          null,
          10,
          null,
          null,
          null,
          null,
          null,
          null,
          null,
          null,
          null,
          7,
          null,
          null,
          null,
          null,
          null,
          null,
          6,
          21,
          null,
          null,
          null,
          null,
          null,
          6,
          null,
          12,
          null,
          null,
          null,
          null,
          2,
          null,
          null,
          null,
          null,
          null,
          null,
          null,
          null,
          null,
          null,
          null,
          null,
          null,
          null,
          null,
          null,
          null,
          null,
          null,
          null,
          null,
          null,
          null,
          3,
          null,
          7,
          null,
          6,
          null,
          null,
          null,
          6,
          null,
          null,
          null,
          null,
          7,
          null,
          null,
          null,
          null,
          null,
          null,
          null,
          null,
          null,
          null,
          null,
          null,
          null,
          null,
          null,
          null,
          null,
          null,
          null,
          null,
          null,
          null,
          null,
          null,
          null,
          null,
          null,
          null,
          null,
          null,
          null,
          null,
          null,
          null,
          null,
          null,
          null,
          null,
          null,
          null,
          null,
          null,
          null,
          null,
          null,
          null,
          null,
          null,
          null,
          null,
          null,
          null,
          7,
          null,
          7,
          null
         ],
         "zmax": 42,
         "zmin": 0
        },
        {
         "hoverinfo": "skip",
         "line": {
          "color": "#9e9e9e",
          "width": 1
         },
         "mode": "lines",
         "type": "scatter",
         "x": [
          -0.5,
          -0.5
         ],
         "xaxis": "x2",
         "y": [
          5.5,
          6.5
         ],
         "yaxis": "y2"
        },
        {
         "hoverinfo": "skip",
         "line": {
          "color": "#9e9e9e",
          "width": 1
         },
         "mode": "lines",
         "type": "scatter",
         "x": [
          -0.5,
          0.5
         ],
         "xaxis": "x2",
         "y": [
          5.5,
          5.5
         ],
         "yaxis": "y2"
        },
        {
         "hoverinfo": "skip",
         "line": {
          "color": "#9e9e9e",
          "width": 1
         },
         "mode": "lines",
         "type": "scatter",
         "x": [
          0.5,
          0.5
         ],
         "xaxis": "x2",
         "y": [
          5.5,
          -0.5
         ],
         "yaxis": "y2"
        },
        {
         "hoverinfo": "skip",
         "line": {
          "color": "#9e9e9e",
          "width": 1
         },
         "mode": "lines",
         "type": "scatter",
         "x": [
          4.5,
          4.5
         ],
         "xaxis": "x2",
         "y": [
          1.5,
          6.5
         ],
         "yaxis": "y2"
        },
        {
         "hoverinfo": "skip",
         "line": {
          "color": "#9e9e9e",
          "width": 1
         },
         "mode": "lines",
         "type": "scatter",
         "x": [
          4.5,
          5.5
         ],
         "xaxis": "x2",
         "y": [
          1.5,
          1.5
         ],
         "yaxis": "y2"
        },
        {
         "hoverinfo": "skip",
         "line": {
          "color": "#9e9e9e",
          "width": 1
         },
         "mode": "lines",
         "type": "scatter",
         "x": [
          5.5,
          5.5
         ],
         "xaxis": "x2",
         "y": [
          1.5,
          -0.5
         ],
         "yaxis": "y2"
        },
        {
         "hoverinfo": "skip",
         "line": {
          "color": "#9e9e9e",
          "width": 1
         },
         "mode": "lines",
         "type": "scatter",
         "x": [
          8.5,
          8.5
         ],
         "xaxis": "x2",
         "y": [
          1.5,
          6.5
         ],
         "yaxis": "y2"
        },
        {
         "hoverinfo": "skip",
         "line": {
          "color": "#9e9e9e",
          "width": 1
         },
         "mode": "lines",
         "type": "scatter",
         "x": [
          8.5,
          9.5
         ],
         "xaxis": "x2",
         "y": [
          1.5,
          1.5
         ],
         "yaxis": "y2"
        },
        {
         "hoverinfo": "skip",
         "line": {
          "color": "#9e9e9e",
          "width": 1
         },
         "mode": "lines",
         "type": "scatter",
         "x": [
          9.5,
          9.5
         ],
         "xaxis": "x2",
         "y": [
          1.5,
          -0.5
         ],
         "yaxis": "y2"
        },
        {
         "hoverinfo": "skip",
         "line": {
          "color": "#9e9e9e",
          "width": 1
         },
         "mode": "lines",
         "type": "scatter",
         "x": [
          12.5,
          12.5
         ],
         "xaxis": "x2",
         "y": [
          4.5,
          6.5
         ],
         "yaxis": "y2"
        },
        {
         "hoverinfo": "skip",
         "line": {
          "color": "#9e9e9e",
          "width": 1
         },
         "mode": "lines",
         "type": "scatter",
         "x": [
          12.5,
          13.5
         ],
         "xaxis": "x2",
         "y": [
          4.5,
          4.5
         ],
         "yaxis": "y2"
        },
        {
         "hoverinfo": "skip",
         "line": {
          "color": "#9e9e9e",
          "width": 1
         },
         "mode": "lines",
         "type": "scatter",
         "x": [
          13.5,
          13.5
         ],
         "xaxis": "x2",
         "y": [
          4.5,
          -0.5
         ],
         "yaxis": "y2"
        },
        {
         "hoverinfo": "skip",
         "line": {
          "color": "#9e9e9e",
          "width": 1
         },
         "mode": "lines",
         "type": "scatter",
         "x": [
          17.5,
          17.5
         ],
         "xaxis": "x2",
         "y": [
          -0.5,
          6.5
         ],
         "yaxis": "y2"
        },
        {
         "hoverinfo": "skip",
         "line": {
          "color": "#9e9e9e",
          "width": 1
         },
         "mode": "lines",
         "type": "scatter",
         "x": [
          21.5,
          21.5
         ],
         "xaxis": "x2",
         "y": [
          2.5,
          6.5
         ],
         "yaxis": "y2"
        },
        {
         "hoverinfo": "skip",
         "line": {
          "color": "#9e9e9e",
          "width": 1
         },
         "mode": "lines",
         "type": "scatter",
         "x": [
          21.5,
          22.5
         ],
         "xaxis": "x2",
         "y": [
          2.5,
          2.5
         ],
         "yaxis": "y2"
        },
        {
         "hoverinfo": "skip",
         "line": {
          "color": "#9e9e9e",
          "width": 1
         },
         "mode": "lines",
         "type": "scatter",
         "x": [
          22.5,
          22.5
         ],
         "xaxis": "x2",
         "y": [
          2.5,
          -0.5
         ],
         "yaxis": "y2"
        },
        {
         "hoverinfo": "skip",
         "line": {
          "color": "#9e9e9e",
          "width": 1
         },
         "mode": "lines",
         "type": "scatter",
         "x": [
          25.5,
          25.5
         ],
         "xaxis": "x2",
         "y": [
          4.5,
          6.5
         ],
         "yaxis": "y2"
        },
        {
         "hoverinfo": "skip",
         "line": {
          "color": "#9e9e9e",
          "width": 1
         },
         "mode": "lines",
         "type": "scatter",
         "x": [
          25.5,
          26.5
         ],
         "xaxis": "x2",
         "y": [
          4.5,
          4.5
         ],
         "yaxis": "y2"
        },
        {
         "hoverinfo": "skip",
         "line": {
          "color": "#9e9e9e",
          "width": 1
         },
         "mode": "lines",
         "type": "scatter",
         "x": [
          26.5,
          26.5
         ],
         "xaxis": "x2",
         "y": [
          4.5,
          -0.5
         ],
         "yaxis": "y2"
        },
        {
         "hoverinfo": "skip",
         "line": {
          "color": "#9e9e9e",
          "width": 1
         },
         "mode": "lines",
         "type": "scatter",
         "x": [
          30.5,
          30.5
         ],
         "xaxis": "x2",
         "y": [
          0.5,
          6.5
         ],
         "yaxis": "y2"
        },
        {
         "hoverinfo": "skip",
         "line": {
          "color": "#9e9e9e",
          "width": 1
         },
         "mode": "lines",
         "type": "scatter",
         "x": [
          30.5,
          31.5
         ],
         "xaxis": "x2",
         "y": [
          0.5,
          0.5
         ],
         "yaxis": "y2"
        },
        {
         "hoverinfo": "skip",
         "line": {
          "color": "#9e9e9e",
          "width": 1
         },
         "mode": "lines",
         "type": "scatter",
         "x": [
          31.5,
          31.5
         ],
         "xaxis": "x2",
         "y": [
          0.5,
          -0.5
         ],
         "yaxis": "y2"
        },
        {
         "hoverinfo": "skip",
         "line": {
          "color": "#9e9e9e",
          "width": 1
         },
         "mode": "lines",
         "type": "scatter",
         "x": [
          34.5,
          34.5
         ],
         "xaxis": "x2",
         "y": [
          3.5,
          6.5
         ],
         "yaxis": "y2"
        },
        {
         "hoverinfo": "skip",
         "line": {
          "color": "#9e9e9e",
          "width": 1
         },
         "mode": "lines",
         "type": "scatter",
         "x": [
          34.5,
          35.5
         ],
         "xaxis": "x2",
         "y": [
          3.5,
          3.5
         ],
         "yaxis": "y2"
        },
        {
         "hoverinfo": "skip",
         "line": {
          "color": "#9e9e9e",
          "width": 1
         },
         "mode": "lines",
         "type": "scatter",
         "x": [
          35.5,
          35.5
         ],
         "xaxis": "x2",
         "y": [
          3.5,
          -0.5
         ],
         "yaxis": "y2"
        },
        {
         "hoverinfo": "skip",
         "line": {
          "color": "#9e9e9e",
          "width": 1
         },
         "mode": "lines",
         "type": "scatter",
         "x": [
          38.5,
          38.5
         ],
         "xaxis": "x2",
         "y": [
          5.5,
          6.5
         ],
         "yaxis": "y2"
        },
        {
         "hoverinfo": "skip",
         "line": {
          "color": "#9e9e9e",
          "width": 1
         },
         "mode": "lines",
         "type": "scatter",
         "x": [
          38.5,
          39.5
         ],
         "xaxis": "x2",
         "y": [
          5.5,
          5.5
         ],
         "yaxis": "y2"
        },
        {
         "hoverinfo": "skip",
         "line": {
          "color": "#9e9e9e",
          "width": 1
         },
         "mode": "lines",
         "type": "scatter",
         "x": [
          39.5,
          39.5
         ],
         "xaxis": "x2",
         "y": [
          5.5,
          -0.5
         ],
         "yaxis": "y2"
        },
        {
         "hoverinfo": "skip",
         "line": {
          "color": "#9e9e9e",
          "width": 1
         },
         "mode": "lines",
         "type": "scatter",
         "x": [
          43.5,
          43.5
         ],
         "xaxis": "x2",
         "y": [
          1.5,
          6.5
         ],
         "yaxis": "y2"
        },
        {
         "hoverinfo": "skip",
         "line": {
          "color": "#9e9e9e",
          "width": 1
         },
         "mode": "lines",
         "type": "scatter",
         "x": [
          43.5,
          44.5
         ],
         "xaxis": "x2",
         "y": [
          1.5,
          1.5
         ],
         "yaxis": "y2"
        },
        {
         "hoverinfo": "skip",
         "line": {
          "color": "#9e9e9e",
          "width": 1
         },
         "mode": "lines",
         "type": "scatter",
         "x": [
          44.5,
          44.5
         ],
         "xaxis": "x2",
         "y": [
          1.5,
          -0.5
         ],
         "yaxis": "y2"
        },
        {
         "hoverinfo": "skip",
         "line": {
          "color": "#9e9e9e",
          "width": 1
         },
         "mode": "lines",
         "type": "scatter",
         "x": [
          47.5,
          47.5
         ],
         "xaxis": "x2",
         "y": [
          3.5,
          6.5
         ],
         "yaxis": "y2"
        },
        {
         "hoverinfo": "skip",
         "line": {
          "color": "#9e9e9e",
          "width": 1
         },
         "mode": "lines",
         "type": "scatter",
         "x": [
          47.5,
          48.5
         ],
         "xaxis": "x2",
         "y": [
          3.5,
          3.5
         ],
         "yaxis": "y2"
        },
        {
         "hoverinfo": "skip",
         "line": {
          "color": "#9e9e9e",
          "width": 1
         },
         "mode": "lines",
         "type": "scatter",
         "x": [
          48.5,
          48.5
         ],
         "xaxis": "x2",
         "y": [
          3.5,
          -0.5
         ],
         "yaxis": "y2"
        },
        {
         "colorscale": [
          [
           0,
           "rgb(255,245,235)"
          ],
          [
           0.125,
           "rgb(254,230,206)"
          ],
          [
           0.25,
           "rgb(253,208,162)"
          ],
          [
           0.375,
           "rgb(253,174,107)"
          ],
          [
           0.5,
           "rgb(253,141,60)"
          ],
          [
           0.625,
           "rgb(241,105,19)"
          ],
          [
           0.75,
           "rgb(217,72,1)"
          ],
          [
           0.875,
           "rgb(166,54,3)"
          ],
          [
           1,
           "rgb(127,39,4)"
          ]
         ],
         "customdata": [
          [
           "2022-01-01",
           "y"
          ],
          [
           "2022-01-02",
           "y"
          ],
          [
           "2022-01-03",
           "y"
          ],
          [
           "2022-01-04",
           "y"
          ],
          [
           "2022-01-05",
           "y"
          ],
          [
           "2022-01-06",
           "y"
          ],
          [
           "2022-01-07",
           "y"
          ],
          [
           "2022-01-08",
           "y"
          ],
          [
           "2022-01-09",
           "y"
          ],
          [
           "2022-01-10",
           "y"
          ],
          [
           "2022-01-11",
           "y"
          ],
          [
           "2022-01-12",
           "y"
          ],
          [
           "2022-01-13",
           "y"
          ],
          [
           "2022-01-14",
           "y"
          ],
          [
           "2022-01-15",
           "y"
          ],
          [
           "2022-01-16",
           "y"
          ],
          [
           "2022-01-17",
           "y"
          ],
          [
           "2022-01-18",
           "y"
          ],
          [
           "2022-01-19",
           "y"
          ],
          [
           "2022-01-20",
           "y"
          ],
          [
           "2022-01-21",
           "y"
          ],
          [
           "2022-01-22",
           "y"
          ],
          [
           "2022-01-23",
           "y"
          ],
          [
           "2022-01-24",
           "y"
          ],
          [
           "2022-01-25",
           "y"
          ],
          [
           "2022-01-26",
           "y"
          ],
          [
           "2022-01-27",
           "y"
          ],
          [
           "2022-01-28",
           "y"
          ],
          [
           "2022-01-29",
           "y"
          ],
          [
           "2022-01-30",
           "y"
          ],
          [
           "2022-01-31",
           "y"
          ],
          [
           "2022-02-01",
           "y"
          ],
          [
           "2022-02-02",
           "y"
          ],
          [
           "2022-02-03",
           "y"
          ],
          [
           "2022-02-04",
           "y"
          ],
          [
           "2022-02-05",
           "y"
          ],
          [
           "2022-02-06",
           "y"
          ],
          [
           "2022-02-07",
           "y"
          ],
          [
           "2022-02-08",
           "y"
          ],
          [
           "2022-02-09",
           "y"
          ],
          [
           "2022-02-10",
           "y"
          ],
          [
           "2022-02-11",
           "y"
          ],
          [
           "2022-02-12",
           "y"
          ],
          [
           "2022-02-13",
           "y"
          ],
          [
           "2022-02-14",
           "y"
          ],
          [
           "2022-02-15",
           "y"
          ],
          [
           "2022-02-16",
           "y"
          ],
          [
           "2022-02-17",
           "y"
          ],
          [
           "2022-02-18",
           "y"
          ],
          [
           "2022-02-19",
           "y"
          ],
          [
           "2022-02-20",
           "y"
          ],
          [
           "2022-02-21",
           "y"
          ],
          [
           "2022-02-22",
           "y"
          ],
          [
           "2022-02-23",
           "y"
          ],
          [
           "2022-02-24",
           "y"
          ],
          [
           "2022-02-25",
           "y"
          ],
          [
           "2022-02-26",
           "y"
          ],
          [
           "2022-02-27",
           "y"
          ],
          [
           "2022-02-28",
           "y"
          ],
          [
           "2022-03-01",
           "y"
          ],
          [
           "2022-03-02",
           "y"
          ],
          [
           "2022-03-03",
           "y"
          ],
          [
           "2022-03-04",
           "y"
          ],
          [
           "2022-03-05",
           "y"
          ],
          [
           "2022-03-06",
           "y"
          ],
          [
           "2022-03-07",
           "y"
          ],
          [
           "2022-03-08",
           "y"
          ],
          [
           "2022-03-09",
           "y"
          ],
          [
           "2022-03-10",
           "y"
          ],
          [
           "2022-03-11",
           "y"
          ],
          [
           "2022-03-12",
           "y"
          ],
          [
           "2022-03-13",
           "y"
          ],
          [
           "2022-03-14",
           "y"
          ],
          [
           "2022-03-15",
           "y"
          ],
          [
           "2022-03-16",
           "y"
          ],
          [
           "2022-03-17",
           "y"
          ],
          [
           "2022-03-18",
           "y"
          ],
          [
           "2022-03-19",
           "y"
          ],
          [
           "2022-03-20",
           "y"
          ],
          [
           "2022-03-21",
           "y"
          ],
          [
           "2022-03-22",
           "y"
          ],
          [
           "2022-03-23",
           "y"
          ],
          [
           "2022-03-24",
           "y"
          ],
          [
           "2022-03-25",
           "y"
          ],
          [
           "2022-03-26",
           "y"
          ],
          [
           "2022-03-27",
           "y"
          ],
          [
           "2022-03-28",
           "y"
          ],
          [
           "2022-03-29",
           "y"
          ],
          [
           "2022-03-30",
           "y"
          ],
          [
           "2022-03-31",
           "y"
          ],
          [
           "2022-04-01",
           "y"
          ],
          [
           "2022-04-02",
           "y"
          ],
          [
           "2022-04-03",
           "y"
          ],
          [
           "2022-04-04",
           "y"
          ],
          [
           "2022-04-05",
           "y"
          ],
          [
           "2022-04-06",
           "y"
          ],
          [
           "2022-04-07",
           "y"
          ],
          [
           "2022-04-08",
           "y"
          ],
          [
           "2022-04-09",
           "y"
          ],
          [
           "2022-04-10",
           "y"
          ],
          [
           "2022-04-11",
           "y"
          ],
          [
           "2022-04-12",
           "y"
          ],
          [
           "2022-04-13",
           "y"
          ],
          [
           "2022-04-14",
           "y"
          ],
          [
           "2022-04-15",
           "y"
          ],
          [
           "2022-04-16",
           "y"
          ],
          [
           "2022-04-17",
           "y"
          ],
          [
           "2022-04-18",
           "y"
          ],
          [
           "2022-04-19",
           "y"
          ],
          [
           "2022-04-20",
           "y"
          ],
          [
           "2022-04-21",
           "y"
          ],
          [
           "2022-04-22",
           "y"
          ],
          [
           "2022-04-23",
           "y"
          ],
          [
           "2022-04-24",
           "y"
          ],
          [
           "2022-04-25",
           "y"
          ],
          [
           "2022-04-26",
           "y"
          ],
          [
           "2022-04-27",
           "y"
          ],
          [
           "2022-04-28",
           "y"
          ],
          [
           "2022-04-29",
           "y"
          ],
          [
           "2022-04-30",
           "y"
          ],
          [
           "2022-05-01",
           "y"
          ],
          [
           "2022-05-02",
           "y"
          ],
          [
           "2022-05-03",
           "y"
          ],
          [
           "2022-05-04",
           "y"
          ],
          [
           "2022-05-05",
           "y"
          ],
          [
           "2022-05-06",
           "y"
          ],
          [
           "2022-05-07",
           "y"
          ],
          [
           "2022-05-08",
           "y"
          ],
          [
           "2022-05-09",
           "y"
          ],
          [
           "2022-05-10",
           "y"
          ],
          [
           "2022-05-11",
           "y"
          ],
          [
           "2022-05-12",
           "y"
          ],
          [
           "2022-05-13",
           "y"
          ],
          [
           "2022-05-14",
           "y"
          ],
          [
           "2022-05-15",
           "y"
          ],
          [
           "2022-05-16",
           "y"
          ],
          [
           "2022-05-17",
           "y"
          ],
          [
           "2022-05-18",
           "y"
          ],
          [
           "2022-05-19",
           "y"
          ],
          [
           "2022-05-20",
           "y"
          ],
          [
           "2022-05-21",
           "y"
          ],
          [
           "2022-05-22",
           "y"
          ],
          [
           "2022-05-23",
           "y"
          ],
          [
           "2022-05-24",
           "y"
          ],
          [
           "2022-05-25",
           "y"
          ],
          [
           "2022-05-26",
           "y"
          ],
          [
           "2022-05-27",
           "y"
          ],
          [
           "2022-05-28",
           "y"
          ],
          [
           "2022-05-29",
           "y"
          ],
          [
           "2022-05-30",
           "y"
          ],
          [
           "2022-05-31",
           "y"
          ],
          [
           "2022-06-01",
           "y"
          ],
          [
           "2022-06-02",
           "y"
          ],
          [
           "2022-06-03",
           "y"
          ],
          [
           "2022-06-04",
           "y"
          ],
          [
           "2022-06-05",
           "y"
          ],
          [
           "2022-06-06",
           "y"
          ],
          [
           "2022-06-07",
           "y"
          ],
          [
           "2022-06-08",
           "y"
          ],
          [
           "2022-06-09",
           "y"
          ],
          [
           "2022-06-10",
           "y"
          ],
          [
           "2022-06-11",
           "y"
          ],
          [
           "2022-06-12",
           "y"
          ],
          [
           "2022-06-13",
           "y"
          ],
          [
           "2022-06-14",
           "y"
          ],
          [
           "2022-06-15",
           "y"
          ],
          [
           "2022-06-16",
           "y"
          ],
          [
           "2022-06-17",
           "y"
          ],
          [
           "2022-06-18",
           "y"
          ],
          [
           "2022-06-19",
           "y"
          ],
          [
           "2022-06-20",
           "y"
          ],
          [
           "2022-06-21",
           "y"
          ],
          [
           "2022-06-22",
           "y"
          ],
          [
           "2022-06-23",
           "y"
          ],
          [
           "2022-06-24",
           "y"
          ],
          [
           "2022-06-25",
           "y"
          ],
          [
           "2022-06-26",
           "y"
          ],
          [
           "2022-06-27",
           "y"
          ],
          [
           "2022-06-28",
           "y"
          ],
          [
           "2022-06-29",
           "y"
          ],
          [
           "2022-06-30",
           "y"
          ],
          [
           "2022-07-01",
           "y"
          ],
          [
           "2022-07-02",
           "y"
          ],
          [
           "2022-07-03",
           "y"
          ],
          [
           "2022-07-04",
           "y"
          ],
          [
           "2022-07-05",
           "y"
          ],
          [
           "2022-07-06",
           "y"
          ],
          [
           "2022-07-07",
           "y"
          ],
          [
           "2022-07-08",
           "y"
          ],
          [
           "2022-07-09",
           "y"
          ],
          [
           "2022-07-10",
           "y"
          ],
          [
           "2022-07-11",
           "y"
          ],
          [
           "2022-07-12",
           "y"
          ],
          [
           "2022-07-13",
           "y"
          ],
          [
           "2022-07-14",
           "y"
          ],
          [
           "2022-07-15",
           "y"
          ],
          [
           "2022-07-16",
           "y"
          ],
          [
           "2022-07-17",
           "y"
          ],
          [
           "2022-07-18",
           "y"
          ],
          [
           "2022-07-19",
           "y"
          ],
          [
           "2022-07-20",
           "y"
          ],
          [
           "2022-07-21",
           "y"
          ],
          [
           "2022-07-22",
           "y"
          ],
          [
           "2022-07-23",
           "y"
          ],
          [
           "2022-07-24",
           "y"
          ],
          [
           "2022-07-25",
           "y"
          ],
          [
           "2022-07-26",
           "y"
          ],
          [
           "2022-07-26",
           "y"
          ],
          [
           "2022-07-27",
           "y"
          ],
          [
           "2022-07-28",
           "y"
          ],
          [
           "2022-07-28",
           "y"
          ],
          [
           "2022-07-29",
           "y"
          ],
          [
           "2022-07-30",
           "y"
          ],
          [
           "2022-07-31",
           "y"
          ],
          [
           "2022-08-01",
           "y"
          ],
          [
           "2022-08-02",
           "y"
          ],
          [
           "2022-08-03",
           "y"
          ],
          [
           "2022-08-04",
           "y"
          ],
          [
           "2022-08-05",
           "y"
          ],
          [
           "2022-08-06",
           "y"
          ],
          [
           "2022-08-07",
           "y"
          ],
          [
           "2022-08-08",
           "y"
          ],
          [
           "2022-08-09",
           "y"
          ],
          [
           "2022-08-10",
           "y"
          ],
          [
           "2022-08-11",
           "y"
          ],
          [
           "2022-08-12",
           "y"
          ],
          [
           "2022-08-13",
           "y"
          ],
          [
           "2022-08-14",
           "y"
          ],
          [
           "2022-08-15",
           "y"
          ],
          [
           "2022-08-16",
           "y"
          ],
          [
           "2022-08-17",
           "y"
          ],
          [
           "2022-08-18",
           "y"
          ],
          [
           "2022-08-19",
           "y"
          ],
          [
           "2022-08-20",
           "y"
          ],
          [
           "2022-08-21",
           "y"
          ],
          [
           "2022-08-22",
           "y"
          ],
          [
           "2022-08-23",
           "y"
          ],
          [
           "2022-08-24",
           "y"
          ],
          [
           "2022-08-25",
           "y"
          ],
          [
           "2022-08-26",
           "y"
          ],
          [
           "2022-08-27",
           "y"
          ],
          [
           "2022-08-28",
           "y"
          ],
          [
           "2022-08-29",
           "y"
          ],
          [
           "2022-08-30",
           "y"
          ],
          [
           "2022-08-31",
           "y"
          ],
          [
           "2022-09-01",
           "y"
          ],
          [
           "2022-09-02",
           "y"
          ],
          [
           "2022-09-03",
           "y"
          ],
          [
           "2022-09-04",
           "y"
          ],
          [
           "2022-09-05",
           "y"
          ],
          [
           "2022-09-06",
           "y"
          ],
          [
           "2022-09-07",
           "y"
          ],
          [
           "2022-09-08",
           "y"
          ],
          [
           "2022-09-09",
           "y"
          ],
          [
           "2022-09-10",
           "y"
          ],
          [
           "2022-09-11",
           "y"
          ],
          [
           "2022-09-12",
           "y"
          ],
          [
           "2022-09-13",
           "y"
          ],
          [
           "2022-09-14",
           "y"
          ],
          [
           "2022-09-15",
           "y"
          ],
          [
           "2022-09-16",
           "y"
          ],
          [
           "2022-09-17",
           "y"
          ],
          [
           "2022-09-18",
           "y"
          ],
          [
           "2022-09-19",
           "y"
          ],
          [
           "2022-09-20",
           "y"
          ],
          [
           "2022-09-21",
           "y"
          ],
          [
           "2022-09-22",
           "y"
          ],
          [
           "2022-09-23",
           "y"
          ],
          [
           "2022-09-24",
           "y"
          ],
          [
           "2022-09-25",
           "y"
          ],
          [
           "2022-09-26",
           "y"
          ],
          [
           "2022-09-27",
           "y"
          ],
          [
           "2022-09-28",
           "y"
          ],
          [
           "2022-09-29",
           "y"
          ],
          [
           "2022-09-30",
           "y"
          ],
          [
           "2022-10-01",
           "y"
          ],
          [
           "2022-10-02",
           "y"
          ],
          [
           "2022-10-03",
           "y"
          ],
          [
           "2022-10-04",
           "y"
          ],
          [
           "2022-10-05",
           "y"
          ],
          [
           "2022-10-06",
           "y"
          ],
          [
           "2022-10-07",
           "y"
          ],
          [
           "2022-10-08",
           "y"
          ],
          [
           "2022-10-09",
           "y"
          ],
          [
           "2022-10-10",
           "y"
          ],
          [
           "2022-10-11",
           "y"
          ],
          [
           "2022-10-12",
           "y"
          ],
          [
           "2022-10-13",
           "y"
          ],
          [
           "2022-10-14",
           "y"
          ],
          [
           "2022-10-15",
           "y"
          ],
          [
           "2022-10-16",
           "y"
          ],
          [
           "2022-10-17",
           "y"
          ],
          [
           "2022-10-17",
           "y"
          ],
          [
           "2022-10-17",
           "y"
          ],
          [
           "2022-10-18",
           "y"
          ],
          [
           "2022-10-19",
           "y"
          ],
          [
           "2022-10-20",
           "y"
          ],
          [
           "2022-10-21",
           "y"
          ],
          [
           "2022-10-22",
           "y"
          ],
          [
           "2022-10-23",
           "y"
          ],
          [
           "2022-10-24",
           "y"
          ],
          [
           "2022-10-25",
           "y"
          ],
          [
           "2022-10-26",
           "y"
          ],
          [
           "2022-10-27",
           "y"
          ],
          [
           "2022-10-28",
           "y"
          ],
          [
           "2022-10-29",
           "y"
          ],
          [
           "2022-10-30",
           "y"
          ],
          [
           "2022-10-31",
           "y"
          ],
          [
           "2022-11-01",
           "y"
          ],
          [
           "2022-11-02",
           "y"
          ],
          [
           "2022-11-03",
           "y"
          ],
          [
           "2022-11-04",
           "y"
          ],
          [
           "2022-11-05",
           "y"
          ],
          [
           "2022-11-06",
           "y"
          ],
          [
           "2022-11-07",
           "y"
          ],
          [
           "2022-11-08",
           "y"
          ],
          [
           "2022-11-09",
           "y"
          ],
          [
           "2022-11-10",
           "y"
          ],
          [
           "2022-11-11",
           "y"
          ],
          [
           "2022-11-12",
           "y"
          ],
          [
           "2022-11-13",
           "y"
          ],
          [
           "2022-11-14",
           "y"
          ],
          [
           "2022-11-15",
           "y"
          ],
          [
           "2022-11-16",
           "y"
          ],
          [
           "2022-11-17",
           "y"
          ],
          [
           "2022-11-18",
           "y"
          ],
          [
           "2022-11-19",
           "y"
          ],
          [
           "2022-11-20",
           "y"
          ],
          [
           "2022-11-21",
           "y"
          ],
          [
           "2022-11-22",
           "y"
          ],
          [
           "2022-11-23",
           "y"
          ],
          [
           "2022-11-24",
           "y"
          ],
          [
           "2022-11-25",
           "y"
          ],
          [
           "2022-11-26",
           "y"
          ],
          [
           "2022-11-27",
           "y"
          ],
          [
           "2022-11-28",
           "y"
          ],
          [
           "2022-11-29",
           "y"
          ],
          [
           "2022-11-30",
           "y"
          ],
          [
           "2022-12-01",
           "y"
          ],
          [
           "2022-12-02",
           "y"
          ],
          [
           "2022-12-03",
           "y"
          ],
          [
           "2022-12-04",
           "y"
          ],
          [
           "2022-12-05",
           "y"
          ],
          [
           "2022-12-06",
           "y"
          ],
          [
           "2022-12-07",
           "y"
          ],
          [
           "2022-12-08",
           "y"
          ],
          [
           "2022-12-09",
           "y"
          ],
          [
           "2022-12-10",
           "y"
          ],
          [
           "2022-12-11",
           "y"
          ],
          [
           "2022-12-12",
           "y"
          ],
          [
           "2022-12-13",
           "y"
          ],
          [
           "2022-12-14",
           "y"
          ],
          [
           "2022-12-15",
           "y"
          ],
          [
           "2022-12-16",
           "y"
          ],
          [
           "2022-12-17",
           "y"
          ],
          [
           "2022-12-18",
           "y"
          ],
          [
           "2022-12-19",
           "y"
          ],
          [
           "2022-12-20",
           "y"
          ],
          [
           "2022-12-21",
           "y"
          ],
          [
           "2022-12-22",
           "y"
          ],
          [
           "2022-12-23",
           "y"
          ],
          [
           "2022-12-24",
           "y"
          ],
          [
           "2022-12-25",
           "y"
          ],
          [
           "2022-12-26",
           "y"
          ],
          [
           "2022-12-27",
           "y"
          ],
          [
           "2022-12-28",
           "y"
          ],
          [
           "2022-12-29",
           "y"
          ],
          [
           "2022-12-30",
           "y"
          ],
          [
           "2022-12-31",
           "y"
          ]
         ],
         "hovertemplate": "%{customdata[0]} <br>Week=%{x} <br>%{customdata[1]}=%{z}",
         "name": "2022",
         "showscale": false,
         "type": "heatmap",
         "x": [
          0,
          0,
          1,
          1,
          1,
          1,
          1,
          1,
          1,
          2,
          2,
          2,
          2,
          2,
          2,
          2,
          3,
          3,
          3,
          3,
          3,
          3,
          3,
          4,
          4,
          4,
          4,
          4,
          4,
          4,
          5,
          5,
          5,
          5,
          5,
          5,
          5,
          6,
          6,
          6,
          6,
          6,
          6,
          6,
          7,
          7,
          7,
          7,
          7,
          7,
          7,
          8,
          8,
          8,
          8,
          8,
          8,
          8,
          9,
          9,
          9,
          9,
          9,
          9,
          9,
          10,
          10,
          10,
          10,
          10,
          10,
          10,
          11,
          11,
          11,
          11,
          11,
          11,
          11,
          12,
          12,
          12,
          12,
          12,
          12,
          12,
          13,
          13,
          13,
          13,
          13,
          13,
          13,
          14,
          14,
          14,
          14,
          14,
          14,
          14,
          15,
          15,
          15,
          15,
          15,
          15,
          15,
          16,
          16,
          16,
          16,
          16,
          16,
          16,
          17,
          17,
          17,
          17,
          17,
          17,
          17,
          18,
          18,
          18,
          18,
          18,
          18,
          18,
          19,
          19,
          19,
          19,
          19,
          19,
          19,
          20,
          20,
          20,
          20,
          20,
          20,
          20,
          21,
          21,
          21,
          21,
          21,
          21,
          21,
          22,
          22,
          22,
          22,
          22,
          22,
          22,
          23,
          23,
          23,
          23,
          23,
          23,
          23,
          24,
          24,
          24,
          24,
          24,
          24,
          24,
          25,
          25,
          25,
          25,
          25,
          25,
          25,
          26,
          26,
          26,
          26,
          26,
          26,
          26,
          27,
          27,
          27,
          27,
          27,
          27,
          27,
          28,
          28,
          28,
          28,
          28,
          28,
          28,
          29,
          29,
          29,
          29,
          29,
          29,
          29,
          30,
          30,
          30,
          30,
          30,
          30,
          30,
          30,
          30,
          31,
          31,
          31,
          31,
          31,
          31,
          31,
          32,
          32,
          32,
          32,
          32,
          32,
          32,
          33,
          33,
          33,
          33,
          33,
          33,
          33,
          34,
          34,
          34,
          34,
          34,
          34,
          34,
          35,
          35,
          35,
          35,
          35,
          35,
          35,
          36,
          36,
          36,
          36,
          36,
          36,
          36,
          37,
          37,
          37,
          37,
          37,
          37,
          37,
          38,
          38,
          38,
          38,
          38,
          38,
          38,
          39,
          39,
          39,
          39,
          39,
          39,
          39,
          40,
          40,
          40,
          40,
          40,
          40,
          40,
          41,
          41,
          41,
          41,
          41,
          41,
          41,
          42,
          42,
          42,
          42,
          42,
          42,
          42,
          42,
          42,
          43,
          43,
          43,
          43,
          43,
          43,
          43,
          44,
          44,
          44,
          44,
          44,
          44,
          44,
          45,
          45,
          45,
          45,
          45,
          45,
          45,
          46,
          46,
          46,
          46,
          46,
          46,
          46,
          47,
          47,
          47,
          47,
          47,
          47,
          47,
          48,
          48,
          48,
          48,
          48,
          48,
          48,
          49,
          49,
          49,
          49,
          49,
          49,
          49,
          50,
          50,
          50,
          50,
          50,
          50,
          50,
          51,
          51,
          51,
          51,
          51,
          51,
          51,
          52,
          52,
          52,
          52,
          52,
          52
         ],
         "xaxis": "x3",
         "xgap": 0,
         "y": [
          5,
          6,
          0,
          1,
          2,
          3,
          4,
          5,
          6,
          0,
          1,
          2,
          3,
          4,
          5,
          6,
          0,
          1,
          2,
          3,
          4,
          5,
          6,
          0,
          1,
          2,
          3,
          4,
          5,
          6,
          0,
          1,
          2,
          3,
          4,
          5,
          6,
          0,
          1,
          2,
          3,
          4,
          5,
          6,
          0,
          1,
          2,
          3,
          4,
          5,
          6,
          0,
          1,
          2,
          3,
          4,
          5,
          6,
          0,
          1,
          2,
          3,
          4,
          5,
          6,
          0,
          1,
          2,
          3,
          4,
          5,
          6,
          0,
          1,
          2,
          3,
          4,
          5,
          6,
          0,
          1,
          2,
          3,
          4,
          5,
          6,
          0,
          1,
          2,
          3,
          4,
          5,
          6,
          0,
          1,
          2,
          3,
          4,
          5,
          6,
          0,
          1,
          2,
          3,
          4,
          5,
          6,
          0,
          1,
          2,
          3,
          4,
          5,
          6,
          0,
          1,
          2,
          3,
          4,
          5,
          6,
          0,
          1,
          2,
          3,
          4,
          5,
          6,
          0,
          1,
          2,
          3,
          4,
          5,
          6,
          0,
          1,
          2,
          3,
          4,
          5,
          6,
          0,
          1,
          2,
          3,
          4,
          5,
          6,
          0,
          1,
          2,
          3,
          4,
          5,
          6,
          0,
          1,
          2,
          3,
          4,
          5,
          6,
          0,
          1,
          2,
          3,
          4,
          5,
          6,
          0,
          1,
          2,
          3,
          4,
          5,
          6,
          0,
          1,
          2,
          3,
          4,
          5,
          6,
          0,
          1,
          2,
          3,
          4,
          5,
          6,
          0,
          1,
          2,
          3,
          4,
          5,
          6,
          0,
          1,
          2,
          3,
          4,
          5,
          6,
          0,
          1,
          1,
          2,
          3,
          3,
          4,
          5,
          6,
          0,
          1,
          2,
          3,
          4,
          5,
          6,
          0,
          1,
          2,
          3,
          4,
          5,
          6,
          0,
          1,
          2,
          3,
          4,
          5,
          6,
          0,
          1,
          2,
          3,
          4,
          5,
          6,
          0,
          1,
          2,
          3,
          4,
          5,
          6,
          0,
          1,
          2,
          3,
          4,
          5,
          6,
          0,
          1,
          2,
          3,
          4,
          5,
          6,
          0,
          1,
          2,
          3,
          4,
          5,
          6,
          0,
          1,
          2,
          3,
          4,
          5,
          6,
          0,
          1,
          2,
          3,
          4,
          5,
          6,
          0,
          1,
          2,
          3,
          4,
          5,
          6,
          0,
          0,
          0,
          1,
          2,
          3,
          4,
          5,
          6,
          0,
          1,
          2,
          3,
          4,
          5,
          6,
          0,
          1,
          2,
          3,
          4,
          5,
          6,
          0,
          1,
          2,
          3,
          4,
          5,
          6,
          0,
          1,
          2,
          3,
          4,
          5,
          6,
          0,
          1,
          2,
          3,
          4,
          5,
          6,
          0,
          1,
          2,
          3,
          4,
          5,
          6,
          0,
          1,
          2,
          3,
          4,
          5,
          6,
          0,
          1,
          2,
          3,
          4,
          5,
          6,
          0,
          1,
          2,
          3,
          4,
          5,
          6,
          0,
          1,
          2,
          3,
          4,
          5
         ],
         "yaxis": "y3",
         "ygap": 0,
         "z": [
          null,
          14,
          null,
          null,
          null,
          null,
          null,
          2,
          null,
          null,
          15,
          null,
          null,
          7,
          null,
          null,
          null,
          null,
          null,
          null,
          10,
          null,
          null,
          7,
          null,
          null,
          14,
          null,
          null,
          null,
          null,
          9,
          null,
          null,
          null,
          6,
          null,
          14,
          null,
          null,
          null,
          4,
          null,
          null,
          3,
          4,
          4,
          7,
          3,
          null,
          null,
          10,
          null,
          null,
          null,
          null,
          null,
          9,
          6,
          null,
          null,
          10,
          null,
          null,
          null,
          null,
          9,
          9,
          null,
          null,
          null,
          null,
          13,
          null,
          17,
          null,
          3,
          null,
          null,
          17,
          null,
          null,
          7,
          6,
          null,
          null,
          22,
          null,
          6,
          null,
          2,
          null,
          17,
          null,
          null,
          5,
          null,
          null,
          null,
          6,
          null,
          8,
          null,
          10,
          null,
          10,
          null,
          null,
          null,
          null,
          5,
          null,
          null,
          null,
          null,
          null,
          null,
          3,
          null,
          8,
          null,
          7,
          null,
          8,
          null,
          null,
          null,
          null,
          23,
          null,
          null,
          null,
          null,
          7,
          21,
          null,
          null,
          2,
          null,
          null,
          null,
          null,
          9,
          null,
          13,
          null,
          4,
          null,
          null,
          23,
          null,
          null,
          null,
          15,
          null,
          null,
          null,
          null,
          null,
          null,
          4,
          null,
          13,
          null,
          null,
          null,
          null,
          null,
          null,
          11,
          null,
          null,
          3,
          21,
          null,
          null,
          null,
          null,
          null,
          null,
          5,
          10,
          null,
          null,
          null,
          null,
          null,
          null,
          10,
          null,
          null,
          10,
          null,
          null,
          7,
          10,
          null,
          null,
          null,
          null,
          null,
          null,
          null,
          null,
          null,
          null,
          2,
          10,
          null,
          10,
          11,
          null,
          null,
          null,
          null,
          null,
          null,
          null,
          5,
          null,
          null,
          25,
          null,
          null,
          null,
          null,
          null,
          null,
          6,
          null,
          null,
          7,
          null,
          null,
          30,
          null,
          null,
          null,
          null,
          9,
          null,
          null,
          null,
          8,
          14,
          null,
          null,
          null,
          14,
          null,
          null,
          null,
          null,
          4,
          null,
          null,
          null,
          6,
          7,
          null,
          null,
          null,
          12,
          null,
          null,
          6,
          null,
          null,
          6,
          null,
          null,
          21,
          null,
          null,
          null,
          10,
          null,
          null,
          null,
          3,
          null,
          null,
          null,
          36,
          null,
          null,
          null,
          7,
          null,
          null,
          null,
          2,
          2,
          7,
          2,
          null,
          null,
          null,
          null,
          null,
          null,
          null,
          null,
          null,
          6,
          null,
          14,
          null,
          null,
          7,
          null,
          null,
          null,
          null,
          null,
          null,
          2,
          null,
          null,
          null,
          21,
          null,
          null,
          null,
          4,
          null,
          null,
          6,
          null,
          7,
          null,
          null,
          6,
          null,
          null,
          null,
          21,
          null,
          null,
          null,
          null,
          null,
          null,
          null,
          null,
          null,
          null,
          null,
          null,
          null,
          null,
          6,
          null,
          null,
          null,
          null,
          null,
          6,
          null,
          null,
          null,
          null,
          null,
          6,
          null,
          null,
          14,
          null,
          null
         ],
         "zmax": 42,
         "zmin": 0
        },
        {
         "hoverinfo": "skip",
         "line": {
          "color": "#9e9e9e",
          "width": 1
         },
         "mode": "lines",
         "type": "scatter",
         "x": [
          -0.5,
          -0.5
         ],
         "xaxis": "x3",
         "y": [
          4.5,
          6.5
         ],
         "yaxis": "y3"
        },
        {
         "hoverinfo": "skip",
         "line": {
          "color": "#9e9e9e",
          "width": 1
         },
         "mode": "lines",
         "type": "scatter",
         "x": [
          -0.5,
          0.5
         ],
         "xaxis": "x3",
         "y": [
          4.5,
          4.5
         ],
         "yaxis": "y3"
        },
        {
         "hoverinfo": "skip",
         "line": {
          "color": "#9e9e9e",
          "width": 1
         },
         "mode": "lines",
         "type": "scatter",
         "x": [
          0.5,
          0.5
         ],
         "xaxis": "x3",
         "y": [
          4.5,
          -0.5
         ],
         "yaxis": "y3"
        },
        {
         "hoverinfo": "skip",
         "line": {
          "color": "#9e9e9e",
          "width": 1
         },
         "mode": "lines",
         "type": "scatter",
         "x": [
          4.5,
          4.5
         ],
         "xaxis": "x3",
         "y": [
          0.5,
          6.5
         ],
         "yaxis": "y3"
        },
        {
         "hoverinfo": "skip",
         "line": {
          "color": "#9e9e9e",
          "width": 1
         },
         "mode": "lines",
         "type": "scatter",
         "x": [
          4.5,
          5.5
         ],
         "xaxis": "x3",
         "y": [
          0.5,
          0.5
         ],
         "yaxis": "y3"
        },
        {
         "hoverinfo": "skip",
         "line": {
          "color": "#9e9e9e",
          "width": 1
         },
         "mode": "lines",
         "type": "scatter",
         "x": [
          5.5,
          5.5
         ],
         "xaxis": "x3",
         "y": [
          0.5,
          -0.5
         ],
         "yaxis": "y3"
        },
        {
         "hoverinfo": "skip",
         "line": {
          "color": "#9e9e9e",
          "width": 1
         },
         "mode": "lines",
         "type": "scatter",
         "x": [
          8.5,
          8.5
         ],
         "xaxis": "x3",
         "y": [
          0.5,
          6.5
         ],
         "yaxis": "y3"
        },
        {
         "hoverinfo": "skip",
         "line": {
          "color": "#9e9e9e",
          "width": 1
         },
         "mode": "lines",
         "type": "scatter",
         "x": [
          8.5,
          9.5
         ],
         "xaxis": "x3",
         "y": [
          0.5,
          0.5
         ],
         "yaxis": "y3"
        },
        {
         "hoverinfo": "skip",
         "line": {
          "color": "#9e9e9e",
          "width": 1
         },
         "mode": "lines",
         "type": "scatter",
         "x": [
          9.5,
          9.5
         ],
         "xaxis": "x3",
         "y": [
          0.5,
          -0.5
         ],
         "yaxis": "y3"
        },
        {
         "hoverinfo": "skip",
         "line": {
          "color": "#9e9e9e",
          "width": 1
         },
         "mode": "lines",
         "type": "scatter",
         "x": [
          12.5,
          12.5
         ],
         "xaxis": "x3",
         "y": [
          3.5,
          6.5
         ],
         "yaxis": "y3"
        },
        {
         "hoverinfo": "skip",
         "line": {
          "color": "#9e9e9e",
          "width": 1
         },
         "mode": "lines",
         "type": "scatter",
         "x": [
          12.5,
          13.5
         ],
         "xaxis": "x3",
         "y": [
          3.5,
          3.5
         ],
         "yaxis": "y3"
        },
        {
         "hoverinfo": "skip",
         "line": {
          "color": "#9e9e9e",
          "width": 1
         },
         "mode": "lines",
         "type": "scatter",
         "x": [
          13.5,
          13.5
         ],
         "xaxis": "x3",
         "y": [
          3.5,
          -0.5
         ],
         "yaxis": "y3"
        },
        {
         "hoverinfo": "skip",
         "line": {
          "color": "#9e9e9e",
          "width": 1
         },
         "mode": "lines",
         "type": "scatter",
         "x": [
          16.5,
          16.5
         ],
         "xaxis": "x3",
         "y": [
          5.5,
          6.5
         ],
         "yaxis": "y3"
        },
        {
         "hoverinfo": "skip",
         "line": {
          "color": "#9e9e9e",
          "width": 1
         },
         "mode": "lines",
         "type": "scatter",
         "x": [
          16.5,
          17.5
         ],
         "xaxis": "x3",
         "y": [
          5.5,
          5.5
         ],
         "yaxis": "y3"
        },
        {
         "hoverinfo": "skip",
         "line": {
          "color": "#9e9e9e",
          "width": 1
         },
         "mode": "lines",
         "type": "scatter",
         "x": [
          17.5,
          17.5
         ],
         "xaxis": "x3",
         "y": [
          5.5,
          -0.5
         ],
         "yaxis": "y3"
        },
        {
         "hoverinfo": "skip",
         "line": {
          "color": "#9e9e9e",
          "width": 1
         },
         "mode": "lines",
         "type": "scatter",
         "x": [
          21.5,
          21.5
         ],
         "xaxis": "x3",
         "y": [
          1.5,
          6.5
         ],
         "yaxis": "y3"
        },
        {
         "hoverinfo": "skip",
         "line": {
          "color": "#9e9e9e",
          "width": 1
         },
         "mode": "lines",
         "type": "scatter",
         "x": [
          21.5,
          22.5
         ],
         "xaxis": "x3",
         "y": [
          1.5,
          1.5
         ],
         "yaxis": "y3"
        },
        {
         "hoverinfo": "skip",
         "line": {
          "color": "#9e9e9e",
          "width": 1
         },
         "mode": "lines",
         "type": "scatter",
         "x": [
          22.5,
          22.5
         ],
         "xaxis": "x3",
         "y": [
          1.5,
          -0.5
         ],
         "yaxis": "y3"
        },
        {
         "hoverinfo": "skip",
         "line": {
          "color": "#9e9e9e",
          "width": 1
         },
         "mode": "lines",
         "type": "scatter",
         "x": [
          25.5,
          25.5
         ],
         "xaxis": "x3",
         "y": [
          3.5,
          6.5
         ],
         "yaxis": "y3"
        },
        {
         "hoverinfo": "skip",
         "line": {
          "color": "#9e9e9e",
          "width": 1
         },
         "mode": "lines",
         "type": "scatter",
         "x": [
          25.5,
          26.5
         ],
         "xaxis": "x3",
         "y": [
          3.5,
          3.5
         ],
         "yaxis": "y3"
        },
        {
         "hoverinfo": "skip",
         "line": {
          "color": "#9e9e9e",
          "width": 1
         },
         "mode": "lines",
         "type": "scatter",
         "x": [
          26.5,
          26.5
         ],
         "xaxis": "x3",
         "y": [
          3.5,
          -0.5
         ],
         "yaxis": "y3"
        },
        {
         "hoverinfo": "skip",
         "line": {
          "color": "#9e9e9e",
          "width": 1
         },
         "mode": "lines",
         "type": "scatter",
         "x": [
          30.5,
          30.5
         ],
         "xaxis": "x3",
         "y": [
          -0.5,
          6.5
         ],
         "yaxis": "y3"
        },
        {
         "hoverinfo": "skip",
         "line": {
          "color": "#9e9e9e",
          "width": 1
         },
         "mode": "lines",
         "type": "scatter",
         "x": [
          34.5,
          34.5
         ],
         "xaxis": "x3",
         "y": [
          2.5,
          6.5
         ],
         "yaxis": "y3"
        },
        {
         "hoverinfo": "skip",
         "line": {
          "color": "#9e9e9e",
          "width": 1
         },
         "mode": "lines",
         "type": "scatter",
         "x": [
          34.5,
          35.5
         ],
         "xaxis": "x3",
         "y": [
          2.5,
          2.5
         ],
         "yaxis": "y3"
        },
        {
         "hoverinfo": "skip",
         "line": {
          "color": "#9e9e9e",
          "width": 1
         },
         "mode": "lines",
         "type": "scatter",
         "x": [
          35.5,
          35.5
         ],
         "xaxis": "x3",
         "y": [
          2.5,
          -0.5
         ],
         "yaxis": "y3"
        },
        {
         "hoverinfo": "skip",
         "line": {
          "color": "#9e9e9e",
          "width": 1
         },
         "mode": "lines",
         "type": "scatter",
         "x": [
          38.5,
          38.5
         ],
         "xaxis": "x3",
         "y": [
          4.5,
          6.5
         ],
         "yaxis": "y3"
        },
        {
         "hoverinfo": "skip",
         "line": {
          "color": "#9e9e9e",
          "width": 1
         },
         "mode": "lines",
         "type": "scatter",
         "x": [
          38.5,
          39.5
         ],
         "xaxis": "x3",
         "y": [
          4.5,
          4.5
         ],
         "yaxis": "y3"
        },
        {
         "hoverinfo": "skip",
         "line": {
          "color": "#9e9e9e",
          "width": 1
         },
         "mode": "lines",
         "type": "scatter",
         "x": [
          39.5,
          39.5
         ],
         "xaxis": "x3",
         "y": [
          4.5,
          -0.5
         ],
         "yaxis": "y3"
        },
        {
         "hoverinfo": "skip",
         "line": {
          "color": "#9e9e9e",
          "width": 1
         },
         "mode": "lines",
         "type": "scatter",
         "x": [
          43.5,
          43.5
         ],
         "xaxis": "x3",
         "y": [
          0.5,
          6.5
         ],
         "yaxis": "y3"
        },
        {
         "hoverinfo": "skip",
         "line": {
          "color": "#9e9e9e",
          "width": 1
         },
         "mode": "lines",
         "type": "scatter",
         "x": [
          43.5,
          44.5
         ],
         "xaxis": "x3",
         "y": [
          0.5,
          0.5
         ],
         "yaxis": "y3"
        },
        {
         "hoverinfo": "skip",
         "line": {
          "color": "#9e9e9e",
          "width": 1
         },
         "mode": "lines",
         "type": "scatter",
         "x": [
          44.5,
          44.5
         ],
         "xaxis": "x3",
         "y": [
          0.5,
          -0.5
         ],
         "yaxis": "y3"
        },
        {
         "hoverinfo": "skip",
         "line": {
          "color": "#9e9e9e",
          "width": 1
         },
         "mode": "lines",
         "type": "scatter",
         "x": [
          47.5,
          47.5
         ],
         "xaxis": "x3",
         "y": [
          2.5,
          6.5
         ],
         "yaxis": "y3"
        },
        {
         "hoverinfo": "skip",
         "line": {
          "color": "#9e9e9e",
          "width": 1
         },
         "mode": "lines",
         "type": "scatter",
         "x": [
          47.5,
          48.5
         ],
         "xaxis": "x3",
         "y": [
          2.5,
          2.5
         ],
         "yaxis": "y3"
        },
        {
         "hoverinfo": "skip",
         "line": {
          "color": "#9e9e9e",
          "width": 1
         },
         "mode": "lines",
         "type": "scatter",
         "x": [
          48.5,
          48.5
         ],
         "xaxis": "x3",
         "y": [
          2.5,
          -0.5
         ],
         "yaxis": "y3"
        },
        {
         "colorscale": [
          [
           0,
           "rgb(255,245,235)"
          ],
          [
           0.125,
           "rgb(254,230,206)"
          ],
          [
           0.25,
           "rgb(253,208,162)"
          ],
          [
           0.375,
           "rgb(253,174,107)"
          ],
          [
           0.5,
           "rgb(253,141,60)"
          ],
          [
           0.625,
           "rgb(241,105,19)"
          ],
          [
           0.75,
           "rgb(217,72,1)"
          ],
          [
           0.875,
           "rgb(166,54,3)"
          ],
          [
           1,
           "rgb(127,39,4)"
          ]
         ],
         "customdata": [
          [
           "2021-01-01",
           "y"
          ],
          [
           "2021-01-02",
           "y"
          ],
          [
           "2021-01-03",
           "y"
          ],
          [
           "2021-01-04",
           "y"
          ],
          [
           "2021-01-05",
           "y"
          ],
          [
           "2021-01-06",
           "y"
          ],
          [
           "2021-01-07",
           "y"
          ],
          [
           "2021-01-08",
           "y"
          ],
          [
           "2021-01-09",
           "y"
          ],
          [
           "2021-01-10",
           "y"
          ],
          [
           "2021-01-11",
           "y"
          ],
          [
           "2021-01-12",
           "y"
          ],
          [
           "2021-01-13",
           "y"
          ],
          [
           "2021-01-14",
           "y"
          ],
          [
           "2021-01-15",
           "y"
          ],
          [
           "2021-01-16",
           "y"
          ],
          [
           "2021-01-17",
           "y"
          ],
          [
           "2021-01-18",
           "y"
          ],
          [
           "2021-01-19",
           "y"
          ],
          [
           "2021-01-20",
           "y"
          ],
          [
           "2021-01-21",
           "y"
          ],
          [
           "2021-01-22",
           "y"
          ],
          [
           "2021-01-23",
           "y"
          ],
          [
           "2021-01-24",
           "y"
          ],
          [
           "2021-01-25",
           "y"
          ],
          [
           "2021-01-26",
           "y"
          ],
          [
           "2021-01-27",
           "y"
          ],
          [
           "2021-01-28",
           "y"
          ],
          [
           "2021-01-29",
           "y"
          ],
          [
           "2021-01-30",
           "y"
          ],
          [
           "2021-01-31",
           "y"
          ],
          [
           "2021-02-01",
           "y"
          ],
          [
           "2021-02-02",
           "y"
          ],
          [
           "2021-02-03",
           "y"
          ],
          [
           "2021-02-04",
           "y"
          ],
          [
           "2021-02-05",
           "y"
          ],
          [
           "2021-02-06",
           "y"
          ],
          [
           "2021-02-07",
           "y"
          ],
          [
           "2021-02-08",
           "y"
          ],
          [
           "2021-02-09",
           "y"
          ],
          [
           "2021-02-10",
           "y"
          ],
          [
           "2021-02-11",
           "y"
          ],
          [
           "2021-02-12",
           "y"
          ],
          [
           "2021-02-13",
           "y"
          ],
          [
           "2021-02-14",
           "y"
          ],
          [
           "2021-02-15",
           "y"
          ],
          [
           "2021-02-16",
           "y"
          ],
          [
           "2021-02-17",
           "y"
          ],
          [
           "2021-02-18",
           "y"
          ],
          [
           "2021-02-19",
           "y"
          ],
          [
           "2021-02-20",
           "y"
          ],
          [
           "2021-02-21",
           "y"
          ],
          [
           "2021-02-22",
           "y"
          ],
          [
           "2021-02-23",
           "y"
          ],
          [
           "2021-02-24",
           "y"
          ],
          [
           "2021-02-25",
           "y"
          ],
          [
           "2021-02-26",
           "y"
          ],
          [
           "2021-02-27",
           "y"
          ],
          [
           "2021-02-28",
           "y"
          ],
          [
           "2021-03-01",
           "y"
          ],
          [
           "2021-03-02",
           "y"
          ],
          [
           "2021-03-03",
           "y"
          ],
          [
           "2021-03-04",
           "y"
          ],
          [
           "2021-03-05",
           "y"
          ],
          [
           "2021-03-06",
           "y"
          ],
          [
           "2021-03-07",
           "y"
          ],
          [
           "2021-03-08",
           "y"
          ],
          [
           "2021-03-09",
           "y"
          ],
          [
           "2021-03-10",
           "y"
          ],
          [
           "2021-03-11",
           "y"
          ],
          [
           "2021-03-12",
           "y"
          ],
          [
           "2021-03-13",
           "y"
          ],
          [
           "2021-03-14",
           "y"
          ],
          [
           "2021-03-15",
           "y"
          ],
          [
           "2021-03-16",
           "y"
          ],
          [
           "2021-03-17",
           "y"
          ],
          [
           "2021-03-18",
           "y"
          ],
          [
           "2021-03-19",
           "y"
          ],
          [
           "2021-03-20",
           "y"
          ],
          [
           "2021-03-21",
           "y"
          ],
          [
           "2021-03-22",
           "y"
          ],
          [
           "2021-03-23",
           "y"
          ],
          [
           "2021-03-24",
           "y"
          ],
          [
           "2021-03-25",
           "y"
          ],
          [
           "2021-03-26",
           "y"
          ],
          [
           "2021-03-27",
           "y"
          ],
          [
           "2021-03-28",
           "y"
          ],
          [
           "2021-03-29",
           "y"
          ],
          [
           "2021-03-30",
           "y"
          ],
          [
           "2021-03-31",
           "y"
          ],
          [
           "2021-04-01",
           "y"
          ],
          [
           "2021-04-02",
           "y"
          ],
          [
           "2021-04-03",
           "y"
          ],
          [
           "2021-04-04",
           "y"
          ],
          [
           "2021-04-05",
           "y"
          ],
          [
           "2021-04-06",
           "y"
          ],
          [
           "2021-04-07",
           "y"
          ],
          [
           "2021-04-08",
           "y"
          ],
          [
           "2021-04-09",
           "y"
          ],
          [
           "2021-04-10",
           "y"
          ],
          [
           "2021-04-11",
           "y"
          ],
          [
           "2021-04-12",
           "y"
          ],
          [
           "2021-04-13",
           "y"
          ],
          [
           "2021-04-14",
           "y"
          ],
          [
           "2021-04-15",
           "y"
          ],
          [
           "2021-04-16",
           "y"
          ],
          [
           "2021-04-17",
           "y"
          ],
          [
           "2021-04-18",
           "y"
          ],
          [
           "2021-04-19",
           "y"
          ],
          [
           "2021-04-20",
           "y"
          ],
          [
           "2021-04-21",
           "y"
          ],
          [
           "2021-04-22",
           "y"
          ],
          [
           "2021-04-23",
           "y"
          ],
          [
           "2021-04-24",
           "y"
          ],
          [
           "2021-04-25",
           "y"
          ],
          [
           "2021-04-26",
           "y"
          ],
          [
           "2021-04-27",
           "y"
          ],
          [
           "2021-04-28",
           "y"
          ],
          [
           "2021-04-29",
           "y"
          ],
          [
           "2021-04-30",
           "y"
          ],
          [
           "2021-05-01",
           "y"
          ],
          [
           "2021-05-02",
           "y"
          ],
          [
           "2021-05-03",
           "y"
          ],
          [
           "2021-05-04",
           "y"
          ],
          [
           "2021-05-05",
           "y"
          ],
          [
           "2021-05-06",
           "y"
          ],
          [
           "2021-05-07",
           "y"
          ],
          [
           "2021-05-08",
           "y"
          ],
          [
           "2021-05-09",
           "y"
          ],
          [
           "2021-05-10",
           "y"
          ],
          [
           "2021-05-11",
           "y"
          ],
          [
           "2021-05-12",
           "y"
          ],
          [
           "2021-05-13",
           "y"
          ],
          [
           "2021-05-14",
           "y"
          ],
          [
           "2021-05-15",
           "y"
          ],
          [
           "2021-05-16",
           "y"
          ],
          [
           "2021-05-17",
           "y"
          ],
          [
           "2021-05-18",
           "y"
          ],
          [
           "2021-05-19",
           "y"
          ],
          [
           "2021-05-20",
           "y"
          ],
          [
           "2021-05-21",
           "y"
          ],
          [
           "2021-05-22",
           "y"
          ],
          [
           "2021-05-23",
           "y"
          ],
          [
           "2021-05-24",
           "y"
          ],
          [
           "2021-05-25",
           "y"
          ],
          [
           "2021-05-26",
           "y"
          ],
          [
           "2021-05-27",
           "y"
          ],
          [
           "2021-05-28",
           "y"
          ],
          [
           "2021-05-29",
           "y"
          ],
          [
           "2021-05-30",
           "y"
          ],
          [
           "2021-05-31",
           "y"
          ],
          [
           "2021-06-01",
           "y"
          ],
          [
           "2021-06-02",
           "y"
          ],
          [
           "2021-06-03",
           "y"
          ],
          [
           "2021-06-04",
           "y"
          ],
          [
           "2021-06-05",
           "y"
          ],
          [
           "2021-06-06",
           "y"
          ],
          [
           "2021-06-07",
           "y"
          ],
          [
           "2021-06-08",
           "y"
          ],
          [
           "2021-06-09",
           "y"
          ],
          [
           "2021-06-10",
           "y"
          ],
          [
           "2021-06-11",
           "y"
          ],
          [
           "2021-06-12",
           "y"
          ],
          [
           "2021-06-13",
           "y"
          ],
          [
           "2021-06-14",
           "y"
          ],
          [
           "2021-06-15",
           "y"
          ],
          [
           "2021-06-16",
           "y"
          ],
          [
           "2021-06-17",
           "y"
          ],
          [
           "2021-06-18",
           "y"
          ],
          [
           "2021-06-19",
           "y"
          ],
          [
           "2021-06-20",
           "y"
          ],
          [
           "2021-06-21",
           "y"
          ],
          [
           "2021-06-22",
           "y"
          ],
          [
           "2021-06-23",
           "y"
          ],
          [
           "2021-06-24",
           "y"
          ],
          [
           "2021-06-25",
           "y"
          ],
          [
           "2021-06-26",
           "y"
          ],
          [
           "2021-06-27",
           "y"
          ],
          [
           "2021-06-28",
           "y"
          ],
          [
           "2021-06-29",
           "y"
          ],
          [
           "2021-06-30",
           "y"
          ],
          [
           "2021-07-01",
           "y"
          ],
          [
           "2021-07-02",
           "y"
          ],
          [
           "2021-07-03",
           "y"
          ],
          [
           "2021-07-04",
           "y"
          ],
          [
           "2021-07-05",
           "y"
          ],
          [
           "2021-07-06",
           "y"
          ],
          [
           "2021-07-07",
           "y"
          ],
          [
           "2021-07-08",
           "y"
          ],
          [
           "2021-07-09",
           "y"
          ],
          [
           "2021-07-10",
           "y"
          ],
          [
           "2021-07-11",
           "y"
          ],
          [
           "2021-07-12",
           "y"
          ],
          [
           "2021-07-13",
           "y"
          ],
          [
           "2021-07-14",
           "y"
          ],
          [
           "2021-07-15",
           "y"
          ],
          [
           "2021-07-16",
           "y"
          ],
          [
           "2021-07-17",
           "y"
          ],
          [
           "2021-07-18",
           "y"
          ],
          [
           "2021-07-19",
           "y"
          ],
          [
           "2021-07-20",
           "y"
          ],
          [
           "2021-07-21",
           "y"
          ],
          [
           "2021-07-22",
           "y"
          ],
          [
           "2021-07-23",
           "y"
          ],
          [
           "2021-07-24",
           "y"
          ],
          [
           "2021-07-25",
           "y"
          ],
          [
           "2021-07-26",
           "y"
          ],
          [
           "2021-07-27",
           "y"
          ],
          [
           "2021-07-28",
           "y"
          ],
          [
           "2021-07-29",
           "y"
          ],
          [
           "2021-07-30",
           "y"
          ],
          [
           "2021-07-31",
           "y"
          ],
          [
           "2021-08-01",
           "y"
          ],
          [
           "2021-08-02",
           "y"
          ],
          [
           "2021-08-03",
           "y"
          ],
          [
           "2021-08-04",
           "y"
          ],
          [
           "2021-08-05",
           "y"
          ],
          [
           "2021-08-06",
           "y"
          ],
          [
           "2021-08-07",
           "y"
          ],
          [
           "2021-08-08",
           "y"
          ],
          [
           "2021-08-09",
           "y"
          ],
          [
           "2021-08-10",
           "y"
          ],
          [
           "2021-08-11",
           "y"
          ],
          [
           "2021-08-12",
           "y"
          ],
          [
           "2021-08-13",
           "y"
          ],
          [
           "2021-08-14",
           "y"
          ],
          [
           "2021-08-15",
           "y"
          ],
          [
           "2021-08-16",
           "y"
          ],
          [
           "2021-08-17",
           "y"
          ],
          [
           "2021-08-18",
           "y"
          ],
          [
           "2021-08-19",
           "y"
          ],
          [
           "2021-08-20",
           "y"
          ],
          [
           "2021-08-21",
           "y"
          ],
          [
           "2021-08-22",
           "y"
          ],
          [
           "2021-08-23",
           "y"
          ],
          [
           "2021-08-24",
           "y"
          ],
          [
           "2021-08-25",
           "y"
          ],
          [
           "2021-08-26",
           "y"
          ],
          [
           "2021-08-27",
           "y"
          ],
          [
           "2021-08-28",
           "y"
          ],
          [
           "2021-08-29",
           "y"
          ],
          [
           "2021-08-30",
           "y"
          ],
          [
           "2021-08-31",
           "y"
          ],
          [
           "2021-09-01",
           "y"
          ],
          [
           "2021-09-02",
           "y"
          ],
          [
           "2021-09-03",
           "y"
          ],
          [
           "2021-09-04",
           "y"
          ],
          [
           "2021-09-05",
           "y"
          ],
          [
           "2021-09-06",
           "y"
          ],
          [
           "2021-09-07",
           "y"
          ],
          [
           "2021-09-08",
           "y"
          ],
          [
           "2021-09-09",
           "y"
          ],
          [
           "2021-09-10",
           "y"
          ],
          [
           "2021-09-11",
           "y"
          ],
          [
           "2021-09-12",
           "y"
          ],
          [
           "2021-09-13",
           "y"
          ],
          [
           "2021-09-14",
           "y"
          ],
          [
           "2021-09-15",
           "y"
          ],
          [
           "2021-09-16",
           "y"
          ],
          [
           "2021-09-17",
           "y"
          ],
          [
           "2021-09-18",
           "y"
          ],
          [
           "2021-09-19",
           "y"
          ],
          [
           "2021-09-20",
           "y"
          ],
          [
           "2021-09-21",
           "y"
          ],
          [
           "2021-09-22",
           "y"
          ],
          [
           "2021-09-23",
           "y"
          ],
          [
           "2021-09-24",
           "y"
          ],
          [
           "2021-09-25",
           "y"
          ],
          [
           "2021-09-26",
           "y"
          ],
          [
           "2021-09-27",
           "y"
          ],
          [
           "2021-09-28",
           "y"
          ],
          [
           "2021-09-29",
           "y"
          ],
          [
           "2021-09-30",
           "y"
          ],
          [
           "2021-10-01",
           "y"
          ],
          [
           "2021-10-02",
           "y"
          ],
          [
           "2021-10-03",
           "y"
          ],
          [
           "2021-10-04",
           "y"
          ],
          [
           "2021-10-05",
           "y"
          ],
          [
           "2021-10-06",
           "y"
          ],
          [
           "2021-10-07",
           "y"
          ],
          [
           "2021-10-08",
           "y"
          ],
          [
           "2021-10-09",
           "y"
          ],
          [
           "2021-10-10",
           "y"
          ],
          [
           "2021-10-11",
           "y"
          ],
          [
           "2021-10-12",
           "y"
          ],
          [
           "2021-10-13",
           "y"
          ],
          [
           "2021-10-14",
           "y"
          ],
          [
           "2021-10-15",
           "y"
          ],
          [
           "2021-10-16",
           "y"
          ],
          [
           "2021-10-17",
           "y"
          ],
          [
           "2021-10-18",
           "y"
          ],
          [
           "2021-10-19",
           "y"
          ],
          [
           "2021-10-20",
           "y"
          ],
          [
           "2021-10-21",
           "y"
          ],
          [
           "2021-10-22",
           "y"
          ],
          [
           "2021-10-23",
           "y"
          ],
          [
           "2021-10-24",
           "y"
          ],
          [
           "2021-10-25",
           "y"
          ],
          [
           "2021-10-26",
           "y"
          ],
          [
           "2021-10-27",
           "y"
          ],
          [
           "2021-10-28",
           "y"
          ],
          [
           "2021-10-29",
           "y"
          ],
          [
           "2021-10-30",
           "y"
          ],
          [
           "2021-10-31",
           "y"
          ],
          [
           "2021-11-01",
           "y"
          ],
          [
           "2021-11-02",
           "y"
          ],
          [
           "2021-11-03",
           "y"
          ],
          [
           "2021-11-04",
           "y"
          ],
          [
           "2021-11-05",
           "y"
          ],
          [
           "2021-11-06",
           "y"
          ],
          [
           "2021-11-07",
           "y"
          ],
          [
           "2021-11-08",
           "y"
          ],
          [
           "2021-11-09",
           "y"
          ],
          [
           "2021-11-10",
           "y"
          ],
          [
           "2021-11-11",
           "y"
          ],
          [
           "2021-11-12",
           "y"
          ],
          [
           "2021-11-13",
           "y"
          ],
          [
           "2021-11-14",
           "y"
          ],
          [
           "2021-11-15",
           "y"
          ],
          [
           "2021-11-16",
           "y"
          ],
          [
           "2021-11-17",
           "y"
          ],
          [
           "2021-11-18",
           "y"
          ],
          [
           "2021-11-19",
           "y"
          ],
          [
           "2021-11-20",
           "y"
          ],
          [
           "2021-11-21",
           "y"
          ],
          [
           "2021-11-21",
           "y"
          ],
          [
           "2021-11-22",
           "y"
          ],
          [
           "2021-11-23",
           "y"
          ],
          [
           "2021-11-24",
           "y"
          ],
          [
           "2021-11-25",
           "y"
          ],
          [
           "2021-11-26",
           "y"
          ],
          [
           "2021-11-27",
           "y"
          ],
          [
           "2021-11-28",
           "y"
          ],
          [
           "2021-11-29",
           "y"
          ],
          [
           "2021-11-30",
           "y"
          ],
          [
           "2021-12-01",
           "y"
          ],
          [
           "2021-12-02",
           "y"
          ],
          [
           "2021-12-03",
           "y"
          ],
          [
           "2021-12-04",
           "y"
          ],
          [
           "2021-12-05",
           "y"
          ],
          [
           "2021-12-06",
           "y"
          ],
          [
           "2021-12-07",
           "y"
          ],
          [
           "2021-12-08",
           "y"
          ],
          [
           "2021-12-09",
           "y"
          ],
          [
           "2021-12-10",
           "y"
          ],
          [
           "2021-12-11",
           "y"
          ],
          [
           "2021-12-12",
           "y"
          ],
          [
           "2021-12-13",
           "y"
          ],
          [
           "2021-12-14",
           "y"
          ],
          [
           "2021-12-15",
           "y"
          ],
          [
           "2021-12-16",
           "y"
          ],
          [
           "2021-12-17",
           "y"
          ],
          [
           "2021-12-18",
           "y"
          ],
          [
           "2021-12-19",
           "y"
          ],
          [
           "2021-12-20",
           "y"
          ],
          [
           "2021-12-21",
           "y"
          ],
          [
           "2021-12-22",
           "y"
          ],
          [
           "2021-12-23",
           "y"
          ],
          [
           "2021-12-24",
           "y"
          ],
          [
           "2021-12-25",
           "y"
          ],
          [
           "2021-12-26",
           "y"
          ],
          [
           "2021-12-27",
           "y"
          ],
          [
           "2021-12-28",
           "y"
          ],
          [
           "2021-12-29",
           "y"
          ],
          [
           "2021-12-30",
           "y"
          ],
          [
           "2021-12-31",
           "y"
          ]
         ],
         "hovertemplate": "%{customdata[0]} <br>Week=%{x} <br>%{customdata[1]}=%{z}",
         "name": "2021",
         "showscale": false,
         "type": "heatmap",
         "x": [
          0,
          0,
          0,
          1,
          1,
          1,
          1,
          1,
          1,
          1,
          2,
          2,
          2,
          2,
          2,
          2,
          2,
          3,
          3,
          3,
          3,
          3,
          3,
          3,
          4,
          4,
          4,
          4,
          4,
          4,
          4,
          5,
          5,
          5,
          5,
          5,
          5,
          5,
          6,
          6,
          6,
          6,
          6,
          6,
          6,
          7,
          7,
          7,
          7,
          7,
          7,
          7,
          8,
          8,
          8,
          8,
          8,
          8,
          8,
          9,
          9,
          9,
          9,
          9,
          9,
          9,
          10,
          10,
          10,
          10,
          10,
          10,
          10,
          11,
          11,
          11,
          11,
          11,
          11,
          11,
          12,
          12,
          12,
          12,
          12,
          12,
          12,
          13,
          13,
          13,
          13,
          13,
          13,
          13,
          14,
          14,
          14,
          14,
          14,
          14,
          14,
          15,
          15,
          15,
          15,
          15,
          15,
          15,
          16,
          16,
          16,
          16,
          16,
          16,
          16,
          17,
          17,
          17,
          17,
          17,
          17,
          17,
          18,
          18,
          18,
          18,
          18,
          18,
          18,
          19,
          19,
          19,
          19,
          19,
          19,
          19,
          20,
          20,
          20,
          20,
          20,
          20,
          20,
          21,
          21,
          21,
          21,
          21,
          21,
          21,
          22,
          22,
          22,
          22,
          22,
          22,
          22,
          23,
          23,
          23,
          23,
          23,
          23,
          23,
          24,
          24,
          24,
          24,
          24,
          24,
          24,
          25,
          25,
          25,
          25,
          25,
          25,
          25,
          26,
          26,
          26,
          26,
          26,
          26,
          26,
          27,
          27,
          27,
          27,
          27,
          27,
          27,
          28,
          28,
          28,
          28,
          28,
          28,
          28,
          29,
          29,
          29,
          29,
          29,
          29,
          29,
          30,
          30,
          30,
          30,
          30,
          30,
          30,
          31,
          31,
          31,
          31,
          31,
          31,
          31,
          32,
          32,
          32,
          32,
          32,
          32,
          32,
          33,
          33,
          33,
          33,
          33,
          33,
          33,
          34,
          34,
          34,
          34,
          34,
          34,
          34,
          35,
          35,
          35,
          35,
          35,
          35,
          35,
          36,
          36,
          36,
          36,
          36,
          36,
          36,
          37,
          37,
          37,
          37,
          37,
          37,
          37,
          38,
          38,
          38,
          38,
          38,
          38,
          38,
          39,
          39,
          39,
          39,
          39,
          39,
          39,
          40,
          40,
          40,
          40,
          40,
          40,
          40,
          41,
          41,
          41,
          41,
          41,
          41,
          41,
          42,
          42,
          42,
          42,
          42,
          42,
          42,
          43,
          43,
          43,
          43,
          43,
          43,
          43,
          44,
          44,
          44,
          44,
          44,
          44,
          44,
          45,
          45,
          45,
          45,
          45,
          45,
          45,
          46,
          46,
          46,
          46,
          46,
          46,
          46,
          46,
          47,
          47,
          47,
          47,
          47,
          47,
          47,
          48,
          48,
          48,
          48,
          48,
          48,
          48,
          49,
          49,
          49,
          49,
          49,
          49,
          49,
          50,
          50,
          50,
          50,
          50,
          50,
          50,
          51,
          51,
          51,
          51,
          51,
          51,
          51,
          52,
          52,
          52,
          52,
          52
         ],
         "xaxis": "x4",
         "xgap": 0,
         "y": [
          4,
          5,
          6,
          0,
          1,
          2,
          3,
          4,
          5,
          6,
          0,
          1,
          2,
          3,
          4,
          5,
          6,
          0,
          1,
          2,
          3,
          4,
          5,
          6,
          0,
          1,
          2,
          3,
          4,
          5,
          6,
          0,
          1,
          2,
          3,
          4,
          5,
          6,
          0,
          1,
          2,
          3,
          4,
          5,
          6,
          0,
          1,
          2,
          3,
          4,
          5,
          6,
          0,
          1,
          2,
          3,
          4,
          5,
          6,
          0,
          1,
          2,
          3,
          4,
          5,
          6,
          0,
          1,
          2,
          3,
          4,
          5,
          6,
          0,
          1,
          2,
          3,
          4,
          5,
          6,
          0,
          1,
          2,
          3,
          4,
          5,
          6,
          0,
          1,
          2,
          3,
          4,
          5,
          6,
          0,
          1,
          2,
          3,
          4,
          5,
          6,
          0,
          1,
          2,
          3,
          4,
          5,
          6,
          0,
          1,
          2,
          3,
          4,
          5,
          6,
          0,
          1,
          2,
          3,
          4,
          5,
          6,
          0,
          1,
          2,
          3,
          4,
          5,
          6,
          0,
          1,
          2,
          3,
          4,
          5,
          6,
          0,
          1,
          2,
          3,
          4,
          5,
          6,
          0,
          1,
          2,
          3,
          4,
          5,
          6,
          0,
          1,
          2,
          3,
          4,
          5,
          6,
          0,
          1,
          2,
          3,
          4,
          5,
          6,
          0,
          1,
          2,
          3,
          4,
          5,
          6,
          0,
          1,
          2,
          3,
          4,
          5,
          6,
          0,
          1,
          2,
          3,
          4,
          5,
          6,
          0,
          1,
          2,
          3,
          4,
          5,
          6,
          0,
          1,
          2,
          3,
          4,
          5,
          6,
          0,
          1,
          2,
          3,
          4,
          5,
          6,
          0,
          1,
          2,
          3,
          4,
          5,
          6,
          0,
          1,
          2,
          3,
          4,
          5,
          6,
          0,
          1,
          2,
          3,
          4,
          5,
          6,
          0,
          1,
          2,
          3,
          4,
          5,
          6,
          0,
          1,
          2,
          3,
          4,
          5,
          6,
          0,
          1,
          2,
          3,
          4,
          5,
          6,
          0,
          1,
          2,
          3,
          4,
          5,
          6,
          0,
          1,
          2,
          3,
          4,
          5,
          6,
          0,
          1,
          2,
          3,
          4,
          5,
          6,
          0,
          1,
          2,
          3,
          4,
          5,
          6,
          0,
          1,
          2,
          3,
          4,
          5,
          6,
          0,
          1,
          2,
          3,
          4,
          5,
          6,
          0,
          1,
          2,
          3,
          4,
          5,
          6,
          0,
          1,
          2,
          3,
          4,
          5,
          6,
          0,
          1,
          2,
          3,
          4,
          5,
          6,
          0,
          1,
          2,
          3,
          4,
          5,
          6,
          0,
          1,
          2,
          3,
          4,
          5,
          6,
          6,
          0,
          1,
          2,
          3,
          4,
          5,
          6,
          0,
          1,
          2,
          3,
          4,
          5,
          6,
          0,
          1,
          2,
          3,
          4,
          5,
          6,
          0,
          1,
          2,
          3,
          4,
          5,
          6,
          0,
          1,
          2,
          3,
          4,
          5,
          6,
          0,
          1,
          2,
          3,
          4
         ],
         "yaxis": "y4",
         "ygap": 0,
         "z": [
          null,
          null,
          null,
          null,
          null,
          null,
          null,
          null,
          null,
          null,
          null,
          null,
          null,
          null,
          null,
          null,
          null,
          null,
          null,
          null,
          null,
          null,
          null,
          null,
          null,
          null,
          null,
          null,
          null,
          null,
          null,
          null,
          null,
          null,
          null,
          null,
          null,
          null,
          null,
          null,
          null,
          null,
          null,
          null,
          null,
          null,
          null,
          null,
          null,
          null,
          null,
          null,
          null,
          null,
          null,
          null,
          null,
          null,
          null,
          null,
          null,
          null,
          null,
          null,
          null,
          null,
          null,
          null,
          null,
          null,
          null,
          null,
          null,
          null,
          null,
          null,
          null,
          null,
          null,
          null,
          null,
          null,
          null,
          null,
          null,
          null,
          null,
          null,
          null,
          null,
          null,
          null,
          null,
          null,
          null,
          null,
          null,
          null,
          null,
          null,
          null,
          null,
          null,
          null,
          null,
          null,
          null,
          null,
          null,
          null,
          null,
          null,
          null,
          null,
          null,
          null,
          null,
          null,
          null,
          null,
          null,
          null,
          null,
          null,
          null,
          null,
          null,
          null,
          null,
          null,
          null,
          null,
          null,
          null,
          null,
          null,
          null,
          null,
          null,
          null,
          null,
          null,
          null,
          null,
          null,
          null,
          null,
          null,
          null,
          null,
          null,
          null,
          null,
          null,
          null,
          null,
          null,
          null,
          null,
          null,
          null,
          null,
          null,
          null,
          null,
          null,
          null,
          null,
          null,
          null,
          null,
          null,
          null,
          null,
          null,
          null,
          null,
          null,
          null,
          null,
          null,
          null,
          null,
          null,
          null,
          null,
          null,
          null,
          null,
          null,
          null,
          null,
          null,
          null,
          null,
          null,
          null,
          null,
          null,
          null,
          null,
          null,
          null,
          null,
          null,
          null,
          null,
          10,
          null,
          null,
          null,
          7,
          null,
          null,
          null,
          null,
          null,
          5,
          null,
          8,
          10,
          null,
          null,
          null,
          7,
          null,
          null,
          3,
          11,
          null,
          null,
          6,
          null,
          null,
          null,
          4,
          null,
          15,
          null,
          null,
          7,
          null,
          null,
          null,
          7,
          null,
          null,
          null,
          16,
          null,
          null,
          null,
          null,
          null,
          7,
          null,
          null,
          null,
          7,
          null,
          null,
          7,
          12,
          null,
          null,
          null,
          6,
          8,
          null,
          null,
          21,
          null,
          3,
          null,
          null,
          12,
          null,
          21,
          null,
          5,
          null,
          null,
          21,
          null,
          null,
          6,
          null,
          8,
          null,
          10,
          null,
          null,
          10,
          null,
          null,
          21,
          null,
          null,
          9,
          16,
          null,
          null,
          null,
          null,
          null,
          2,
          null,
          null,
          null,
          21,
          null,
          null,
          null,
          null,
          null,
          null,
          8,
          null,
          10,
          null,
          null,
          6,
          null,
          null,
          4,
          5,
          null,
          null,
          null,
          null,
          null,
          null,
          10,
          null,
          null,
          null,
          null,
          null,
          null,
          null,
          null,
          null,
          13,
          null,
          null,
          null,
          10,
          null,
          null,
          7,
          null,
          null,
          null,
          null,
          null,
          13,
          null,
          null,
          6,
          null,
          null,
          null,
          null,
          10,
          null,
          null
         ],
         "zmax": 42,
         "zmin": 0
        },
        {
         "hoverinfo": "skip",
         "line": {
          "color": "#9e9e9e",
          "width": 1
         },
         "mode": "lines",
         "type": "scatter",
         "x": [
          -0.5,
          -0.5
         ],
         "xaxis": "x4",
         "y": [
          3.5,
          6.5
         ],
         "yaxis": "y4"
        },
        {
         "hoverinfo": "skip",
         "line": {
          "color": "#9e9e9e",
          "width": 1
         },
         "mode": "lines",
         "type": "scatter",
         "x": [
          -0.5,
          0.5
         ],
         "xaxis": "x4",
         "y": [
          3.5,
          3.5
         ],
         "yaxis": "y4"
        },
        {
         "hoverinfo": "skip",
         "line": {
          "color": "#9e9e9e",
          "width": 1
         },
         "mode": "lines",
         "type": "scatter",
         "x": [
          0.5,
          0.5
         ],
         "xaxis": "x4",
         "y": [
          3.5,
          -0.5
         ],
         "yaxis": "y4"
        },
        {
         "hoverinfo": "skip",
         "line": {
          "color": "#9e9e9e",
          "width": 1
         },
         "mode": "lines",
         "type": "scatter",
         "x": [
          4.5,
          4.5
         ],
         "xaxis": "x4",
         "y": [
          -0.5,
          6.5
         ],
         "yaxis": "y4"
        },
        {
         "hoverinfo": "skip",
         "line": {
          "color": "#9e9e9e",
          "width": 1
         },
         "mode": "lines",
         "type": "scatter",
         "x": [
          8.5,
          8.5
         ],
         "xaxis": "x4",
         "y": [
          -0.5,
          6.5
         ],
         "yaxis": "y4"
        },
        {
         "hoverinfo": "skip",
         "line": {
          "color": "#9e9e9e",
          "width": 1
         },
         "mode": "lines",
         "type": "scatter",
         "x": [
          12.5,
          12.5
         ],
         "xaxis": "x4",
         "y": [
          2.5,
          6.5
         ],
         "yaxis": "y4"
        },
        {
         "hoverinfo": "skip",
         "line": {
          "color": "#9e9e9e",
          "width": 1
         },
         "mode": "lines",
         "type": "scatter",
         "x": [
          12.5,
          13.5
         ],
         "xaxis": "x4",
         "y": [
          2.5,
          2.5
         ],
         "yaxis": "y4"
        },
        {
         "hoverinfo": "skip",
         "line": {
          "color": "#9e9e9e",
          "width": 1
         },
         "mode": "lines",
         "type": "scatter",
         "x": [
          13.5,
          13.5
         ],
         "xaxis": "x4",
         "y": [
          2.5,
          -0.5
         ],
         "yaxis": "y4"
        },
        {
         "hoverinfo": "skip",
         "line": {
          "color": "#9e9e9e",
          "width": 1
         },
         "mode": "lines",
         "type": "scatter",
         "x": [
          16.5,
          16.5
         ],
         "xaxis": "x4",
         "y": [
          4.5,
          6.5
         ],
         "yaxis": "y4"
        },
        {
         "hoverinfo": "skip",
         "line": {
          "color": "#9e9e9e",
          "width": 1
         },
         "mode": "lines",
         "type": "scatter",
         "x": [
          16.5,
          17.5
         ],
         "xaxis": "x4",
         "y": [
          4.5,
          4.5
         ],
         "yaxis": "y4"
        },
        {
         "hoverinfo": "skip",
         "line": {
          "color": "#9e9e9e",
          "width": 1
         },
         "mode": "lines",
         "type": "scatter",
         "x": [
          17.5,
          17.5
         ],
         "xaxis": "x4",
         "y": [
          4.5,
          -0.5
         ],
         "yaxis": "y4"
        },
        {
         "hoverinfo": "skip",
         "line": {
          "color": "#9e9e9e",
          "width": 1
         },
         "mode": "lines",
         "type": "scatter",
         "x": [
          21.5,
          21.5
         ],
         "xaxis": "x4",
         "y": [
          0.5,
          6.5
         ],
         "yaxis": "y4"
        },
        {
         "hoverinfo": "skip",
         "line": {
          "color": "#9e9e9e",
          "width": 1
         },
         "mode": "lines",
         "type": "scatter",
         "x": [
          21.5,
          22.5
         ],
         "xaxis": "x4",
         "y": [
          0.5,
          0.5
         ],
         "yaxis": "y4"
        },
        {
         "hoverinfo": "skip",
         "line": {
          "color": "#9e9e9e",
          "width": 1
         },
         "mode": "lines",
         "type": "scatter",
         "x": [
          22.5,
          22.5
         ],
         "xaxis": "x4",
         "y": [
          0.5,
          -0.5
         ],
         "yaxis": "y4"
        },
        {
         "hoverinfo": "skip",
         "line": {
          "color": "#9e9e9e",
          "width": 1
         },
         "mode": "lines",
         "type": "scatter",
         "x": [
          25.5,
          25.5
         ],
         "xaxis": "x4",
         "y": [
          2.5,
          6.5
         ],
         "yaxis": "y4"
        },
        {
         "hoverinfo": "skip",
         "line": {
          "color": "#9e9e9e",
          "width": 1
         },
         "mode": "lines",
         "type": "scatter",
         "x": [
          25.5,
          26.5
         ],
         "xaxis": "x4",
         "y": [
          2.5,
          2.5
         ],
         "yaxis": "y4"
        },
        {
         "hoverinfo": "skip",
         "line": {
          "color": "#9e9e9e",
          "width": 1
         },
         "mode": "lines",
         "type": "scatter",
         "x": [
          26.5,
          26.5
         ],
         "xaxis": "x4",
         "y": [
          2.5,
          -0.5
         ],
         "yaxis": "y4"
        },
        {
         "hoverinfo": "skip",
         "line": {
          "color": "#9e9e9e",
          "width": 1
         },
         "mode": "lines",
         "type": "scatter",
         "x": [
          29.5,
          29.5
         ],
         "xaxis": "x4",
         "y": [
          5.5,
          6.5
         ],
         "yaxis": "y4"
        },
        {
         "hoverinfo": "skip",
         "line": {
          "color": "#9e9e9e",
          "width": 1
         },
         "mode": "lines",
         "type": "scatter",
         "x": [
          29.5,
          30.5
         ],
         "xaxis": "x4",
         "y": [
          5.5,
          5.5
         ],
         "yaxis": "y4"
        },
        {
         "hoverinfo": "skip",
         "line": {
          "color": "#9e9e9e",
          "width": 1
         },
         "mode": "lines",
         "type": "scatter",
         "x": [
          30.5,
          30.5
         ],
         "xaxis": "x4",
         "y": [
          5.5,
          -0.5
         ],
         "yaxis": "y4"
        },
        {
         "hoverinfo": "skip",
         "line": {
          "color": "#9e9e9e",
          "width": 1
         },
         "mode": "lines",
         "type": "scatter",
         "x": [
          34.5,
          34.5
         ],
         "xaxis": "x4",
         "y": [
          1.5,
          6.5
         ],
         "yaxis": "y4"
        },
        {
         "hoverinfo": "skip",
         "line": {
          "color": "#9e9e9e",
          "width": 1
         },
         "mode": "lines",
         "type": "scatter",
         "x": [
          34.5,
          35.5
         ],
         "xaxis": "x4",
         "y": [
          1.5,
          1.5
         ],
         "yaxis": "y4"
        },
        {
         "hoverinfo": "skip",
         "line": {
          "color": "#9e9e9e",
          "width": 1
         },
         "mode": "lines",
         "type": "scatter",
         "x": [
          35.5,
          35.5
         ],
         "xaxis": "x4",
         "y": [
          1.5,
          -0.5
         ],
         "yaxis": "y4"
        },
        {
         "hoverinfo": "skip",
         "line": {
          "color": "#9e9e9e",
          "width": 1
         },
         "mode": "lines",
         "type": "scatter",
         "x": [
          38.5,
          38.5
         ],
         "xaxis": "x4",
         "y": [
          3.5,
          6.5
         ],
         "yaxis": "y4"
        },
        {
         "hoverinfo": "skip",
         "line": {
          "color": "#9e9e9e",
          "width": 1
         },
         "mode": "lines",
         "type": "scatter",
         "x": [
          38.5,
          39.5
         ],
         "xaxis": "x4",
         "y": [
          3.5,
          3.5
         ],
         "yaxis": "y4"
        },
        {
         "hoverinfo": "skip",
         "line": {
          "color": "#9e9e9e",
          "width": 1
         },
         "mode": "lines",
         "type": "scatter",
         "x": [
          39.5,
          39.5
         ],
         "xaxis": "x4",
         "y": [
          3.5,
          -0.5
         ],
         "yaxis": "y4"
        },
        {
         "hoverinfo": "skip",
         "line": {
          "color": "#9e9e9e",
          "width": 1
         },
         "mode": "lines",
         "type": "scatter",
         "x": [
          43.5,
          43.5
         ],
         "xaxis": "x4",
         "y": [
          -0.5,
          6.5
         ],
         "yaxis": "y4"
        },
        {
         "hoverinfo": "skip",
         "line": {
          "color": "#9e9e9e",
          "width": 1
         },
         "mode": "lines",
         "type": "scatter",
         "x": [
          47.5,
          47.5
         ],
         "xaxis": "x4",
         "y": [
          1.5,
          6.5
         ],
         "yaxis": "y4"
        },
        {
         "hoverinfo": "skip",
         "line": {
          "color": "#9e9e9e",
          "width": 1
         },
         "mode": "lines",
         "type": "scatter",
         "x": [
          47.5,
          48.5
         ],
         "xaxis": "x4",
         "y": [
          1.5,
          1.5
         ],
         "yaxis": "y4"
        },
        {
         "hoverinfo": "skip",
         "line": {
          "color": "#9e9e9e",
          "width": 1
         },
         "mode": "lines",
         "type": "scatter",
         "x": [
          48.5,
          48.5
         ],
         "xaxis": "x4",
         "y": [
          1.5,
          -0.5
         ],
         "yaxis": "y4"
        }
       ],
       "layout": {
        "annotations": [
         {
          "font": {
           "size": 16
          },
          "showarrow": false,
          "text": "2024",
          "x": 0.5,
          "xanchor": "center",
          "xref": "paper",
          "y": 1,
          "yanchor": "bottom",
          "yref": "paper"
         },
         {
          "font": {
           "size": 16
          },
          "showarrow": false,
          "text": "2023",
          "x": 0.5,
          "xanchor": "center",
          "xref": "paper",
          "y": 0.73,
          "yanchor": "bottom",
          "yref": "paper"
         },
         {
          "font": {
           "size": 16
          },
          "showarrow": false,
          "text": "2022",
          "x": 0.5,
          "xanchor": "center",
          "xref": "paper",
          "y": 0.46,
          "yanchor": "bottom",
          "yref": "paper"
         },
         {
          "font": {
           "size": 16
          },
          "showarrow": false,
          "text": "2021",
          "x": 0.5,
          "xanchor": "center",
          "xref": "paper",
          "y": 0.19,
          "yanchor": "bottom",
          "yref": "paper"
         }
        ],
        "font": {
         "color": "#9e9e9e",
         "size": 10
        },
        "height": 1200,
        "margin": {
         "b": 20,
         "t": 20
        },
        "plot_bgcolor": "#fff",
        "showlegend": false,
        "template": {
         "data": {
          "bar": [
           {
            "error_x": {
             "color": "#2a3f5f"
            },
            "error_y": {
             "color": "#2a3f5f"
            },
            "marker": {
             "line": {
              "color": "#E5ECF6",
              "width": 0.5
             },
             "pattern": {
              "fillmode": "overlay",
              "size": 10,
              "solidity": 0.2
             }
            },
            "type": "bar"
           }
          ],
          "barpolar": [
           {
            "marker": {
             "line": {
              "color": "#E5ECF6",
              "width": 0.5
             },
             "pattern": {
              "fillmode": "overlay",
              "size": 10,
              "solidity": 0.2
             }
            },
            "type": "barpolar"
           }
          ],
          "carpet": [
           {
            "aaxis": {
             "endlinecolor": "#2a3f5f",
             "gridcolor": "white",
             "linecolor": "white",
             "minorgridcolor": "white",
             "startlinecolor": "#2a3f5f"
            },
            "baxis": {
             "endlinecolor": "#2a3f5f",
             "gridcolor": "white",
             "linecolor": "white",
             "minorgridcolor": "white",
             "startlinecolor": "#2a3f5f"
            },
            "type": "carpet"
           }
          ],
          "choropleth": [
           {
            "colorbar": {
             "outlinewidth": 0,
             "ticks": ""
            },
            "type": "choropleth"
           }
          ],
          "contour": [
           {
            "colorbar": {
             "outlinewidth": 0,
             "ticks": ""
            },
            "colorscale": [
             [
              0,
              "#0d0887"
             ],
             [
              0.1111111111111111,
              "#46039f"
             ],
             [
              0.2222222222222222,
              "#7201a8"
             ],
             [
              0.3333333333333333,
              "#9c179e"
             ],
             [
              0.4444444444444444,
              "#bd3786"
             ],
             [
              0.5555555555555556,
              "#d8576b"
             ],
             [
              0.6666666666666666,
              "#ed7953"
             ],
             [
              0.7777777777777778,
              "#fb9f3a"
             ],
             [
              0.8888888888888888,
              "#fdca26"
             ],
             [
              1,
              "#f0f921"
             ]
            ],
            "type": "contour"
           }
          ],
          "contourcarpet": [
           {
            "colorbar": {
             "outlinewidth": 0,
             "ticks": ""
            },
            "type": "contourcarpet"
           }
          ],
          "heatmap": [
           {
            "colorbar": {
             "outlinewidth": 0,
             "ticks": ""
            },
            "colorscale": [
             [
              0,
              "#0d0887"
             ],
             [
              0.1111111111111111,
              "#46039f"
             ],
             [
              0.2222222222222222,
              "#7201a8"
             ],
             [
              0.3333333333333333,
              "#9c179e"
             ],
             [
              0.4444444444444444,
              "#bd3786"
             ],
             [
              0.5555555555555556,
              "#d8576b"
             ],
             [
              0.6666666666666666,
              "#ed7953"
             ],
             [
              0.7777777777777778,
              "#fb9f3a"
             ],
             [
              0.8888888888888888,
              "#fdca26"
             ],
             [
              1,
              "#f0f921"
             ]
            ],
            "type": "heatmap"
           }
          ],
          "heatmapgl": [
           {
            "colorbar": {
             "outlinewidth": 0,
             "ticks": ""
            },
            "colorscale": [
             [
              0,
              "#0d0887"
             ],
             [
              0.1111111111111111,
              "#46039f"
             ],
             [
              0.2222222222222222,
              "#7201a8"
             ],
             [
              0.3333333333333333,
              "#9c179e"
             ],
             [
              0.4444444444444444,
              "#bd3786"
             ],
             [
              0.5555555555555556,
              "#d8576b"
             ],
             [
              0.6666666666666666,
              "#ed7953"
             ],
             [
              0.7777777777777778,
              "#fb9f3a"
             ],
             [
              0.8888888888888888,
              "#fdca26"
             ],
             [
              1,
              "#f0f921"
             ]
            ],
            "type": "heatmapgl"
           }
          ],
          "histogram": [
           {
            "marker": {
             "pattern": {
              "fillmode": "overlay",
              "size": 10,
              "solidity": 0.2
             }
            },
            "type": "histogram"
           }
          ],
          "histogram2d": [
           {
            "colorbar": {
             "outlinewidth": 0,
             "ticks": ""
            },
            "colorscale": [
             [
              0,
              "#0d0887"
             ],
             [
              0.1111111111111111,
              "#46039f"
             ],
             [
              0.2222222222222222,
              "#7201a8"
             ],
             [
              0.3333333333333333,
              "#9c179e"
             ],
             [
              0.4444444444444444,
              "#bd3786"
             ],
             [
              0.5555555555555556,
              "#d8576b"
             ],
             [
              0.6666666666666666,
              "#ed7953"
             ],
             [
              0.7777777777777778,
              "#fb9f3a"
             ],
             [
              0.8888888888888888,
              "#fdca26"
             ],
             [
              1,
              "#f0f921"
             ]
            ],
            "type": "histogram2d"
           }
          ],
          "histogram2dcontour": [
           {
            "colorbar": {
             "outlinewidth": 0,
             "ticks": ""
            },
            "colorscale": [
             [
              0,
              "#0d0887"
             ],
             [
              0.1111111111111111,
              "#46039f"
             ],
             [
              0.2222222222222222,
              "#7201a8"
             ],
             [
              0.3333333333333333,
              "#9c179e"
             ],
             [
              0.4444444444444444,
              "#bd3786"
             ],
             [
              0.5555555555555556,
              "#d8576b"
             ],
             [
              0.6666666666666666,
              "#ed7953"
             ],
             [
              0.7777777777777778,
              "#fb9f3a"
             ],
             [
              0.8888888888888888,
              "#fdca26"
             ],
             [
              1,
              "#f0f921"
             ]
            ],
            "type": "histogram2dcontour"
           }
          ],
          "mesh3d": [
           {
            "colorbar": {
             "outlinewidth": 0,
             "ticks": ""
            },
            "type": "mesh3d"
           }
          ],
          "parcoords": [
           {
            "line": {
             "colorbar": {
              "outlinewidth": 0,
              "ticks": ""
             }
            },
            "type": "parcoords"
           }
          ],
          "pie": [
           {
            "automargin": true,
            "type": "pie"
           }
          ],
          "scatter": [
           {
            "fillpattern": {
             "fillmode": "overlay",
             "size": 10,
             "solidity": 0.2
            },
            "type": "scatter"
           }
          ],
          "scatter3d": [
           {
            "line": {
             "colorbar": {
              "outlinewidth": 0,
              "ticks": ""
             }
            },
            "marker": {
             "colorbar": {
              "outlinewidth": 0,
              "ticks": ""
             }
            },
            "type": "scatter3d"
           }
          ],
          "scattercarpet": [
           {
            "marker": {
             "colorbar": {
              "outlinewidth": 0,
              "ticks": ""
             }
            },
            "type": "scattercarpet"
           }
          ],
          "scattergeo": [
           {
            "marker": {
             "colorbar": {
              "outlinewidth": 0,
              "ticks": ""
             }
            },
            "type": "scattergeo"
           }
          ],
          "scattergl": [
           {
            "marker": {
             "colorbar": {
              "outlinewidth": 0,
              "ticks": ""
             }
            },
            "type": "scattergl"
           }
          ],
          "scattermapbox": [
           {
            "marker": {
             "colorbar": {
              "outlinewidth": 0,
              "ticks": ""
             }
            },
            "type": "scattermapbox"
           }
          ],
          "scatterpolar": [
           {
            "marker": {
             "colorbar": {
              "outlinewidth": 0,
              "ticks": ""
             }
            },
            "type": "scatterpolar"
           }
          ],
          "scatterpolargl": [
           {
            "marker": {
             "colorbar": {
              "outlinewidth": 0,
              "ticks": ""
             }
            },
            "type": "scatterpolargl"
           }
          ],
          "scatterternary": [
           {
            "marker": {
             "colorbar": {
              "outlinewidth": 0,
              "ticks": ""
             }
            },
            "type": "scatterternary"
           }
          ],
          "surface": [
           {
            "colorbar": {
             "outlinewidth": 0,
             "ticks": ""
            },
            "colorscale": [
             [
              0,
              "#0d0887"
             ],
             [
              0.1111111111111111,
              "#46039f"
             ],
             [
              0.2222222222222222,
              "#7201a8"
             ],
             [
              0.3333333333333333,
              "#9c179e"
             ],
             [
              0.4444444444444444,
              "#bd3786"
             ],
             [
              0.5555555555555556,
              "#d8576b"
             ],
             [
              0.6666666666666666,
              "#ed7953"
             ],
             [
              0.7777777777777778,
              "#fb9f3a"
             ],
             [
              0.8888888888888888,
              "#fdca26"
             ],
             [
              1,
              "#f0f921"
             ]
            ],
            "type": "surface"
           }
          ],
          "table": [
           {
            "cells": {
             "fill": {
              "color": "#EBF0F8"
             },
             "line": {
              "color": "white"
             }
            },
            "header": {
             "fill": {
              "color": "#C8D4E3"
             },
             "line": {
              "color": "white"
             }
            },
            "type": "table"
           }
          ]
         },
         "layout": {
          "annotationdefaults": {
           "arrowcolor": "#2a3f5f",
           "arrowhead": 0,
           "arrowwidth": 1
          },
          "autotypenumbers": "strict",
          "coloraxis": {
           "colorbar": {
            "outlinewidth": 0,
            "ticks": ""
           }
          },
          "colorscale": {
           "diverging": [
            [
             0,
             "#8e0152"
            ],
            [
             0.1,
             "#c51b7d"
            ],
            [
             0.2,
             "#de77ae"
            ],
            [
             0.3,
             "#f1b6da"
            ],
            [
             0.4,
             "#fde0ef"
            ],
            [
             0.5,
             "#f7f7f7"
            ],
            [
             0.6,
             "#e6f5d0"
            ],
            [
             0.7,
             "#b8e186"
            ],
            [
             0.8,
             "#7fbc41"
            ],
            [
             0.9,
             "#4d9221"
            ],
            [
             1,
             "#276419"
            ]
           ],
           "sequential": [
            [
             0,
             "#0d0887"
            ],
            [
             0.1111111111111111,
             "#46039f"
            ],
            [
             0.2222222222222222,
             "#7201a8"
            ],
            [
             0.3333333333333333,
             "#9c179e"
            ],
            [
             0.4444444444444444,
             "#bd3786"
            ],
            [
             0.5555555555555556,
             "#d8576b"
            ],
            [
             0.6666666666666666,
             "#ed7953"
            ],
            [
             0.7777777777777778,
             "#fb9f3a"
            ],
            [
             0.8888888888888888,
             "#fdca26"
            ],
            [
             1,
             "#f0f921"
            ]
           ],
           "sequentialminus": [
            [
             0,
             "#0d0887"
            ],
            [
             0.1111111111111111,
             "#46039f"
            ],
            [
             0.2222222222222222,
             "#7201a8"
            ],
            [
             0.3333333333333333,
             "#9c179e"
            ],
            [
             0.4444444444444444,
             "#bd3786"
            ],
            [
             0.5555555555555556,
             "#d8576b"
            ],
            [
             0.6666666666666666,
             "#ed7953"
            ],
            [
             0.7777777777777778,
             "#fb9f3a"
            ],
            [
             0.8888888888888888,
             "#fdca26"
            ],
            [
             1,
             "#f0f921"
            ]
           ]
          },
          "colorway": [
           "#636efa",
           "#EF553B",
           "#00cc96",
           "#ab63fa",
           "#FFA15A",
           "#19d3f3",
           "#FF6692",
           "#B6E880",
           "#FF97FF",
           "#FECB52"
          ],
          "font": {
           "color": "#2a3f5f"
          },
          "geo": {
           "bgcolor": "white",
           "lakecolor": "white",
           "landcolor": "#E5ECF6",
           "showlakes": true,
           "showland": true,
           "subunitcolor": "white"
          },
          "hoverlabel": {
           "align": "left"
          },
          "hovermode": "closest",
          "mapbox": {
           "style": "light"
          },
          "paper_bgcolor": "white",
          "plot_bgcolor": "#E5ECF6",
          "polar": {
           "angularaxis": {
            "gridcolor": "white",
            "linecolor": "white",
            "ticks": ""
           },
           "bgcolor": "#E5ECF6",
           "radialaxis": {
            "gridcolor": "white",
            "linecolor": "white",
            "ticks": ""
           }
          },
          "scene": {
           "xaxis": {
            "backgroundcolor": "#E5ECF6",
            "gridcolor": "white",
            "gridwidth": 2,
            "linecolor": "white",
            "showbackground": true,
            "ticks": "",
            "zerolinecolor": "white"
           },
           "yaxis": {
            "backgroundcolor": "#E5ECF6",
            "gridcolor": "white",
            "gridwidth": 2,
            "linecolor": "white",
            "showbackground": true,
            "ticks": "",
            "zerolinecolor": "white"
           },
           "zaxis": {
            "backgroundcolor": "#E5ECF6",
            "gridcolor": "white",
            "gridwidth": 2,
            "linecolor": "white",
            "showbackground": true,
            "ticks": "",
            "zerolinecolor": "white"
           }
          },
          "shapedefaults": {
           "line": {
            "color": "#2a3f5f"
           }
          },
          "ternary": {
           "aaxis": {
            "gridcolor": "white",
            "linecolor": "white",
            "ticks": ""
           },
           "baxis": {
            "gridcolor": "white",
            "linecolor": "white",
            "ticks": ""
           },
           "bgcolor": "#E5ECF6",
           "caxis": {
            "gridcolor": "white",
            "linecolor": "white",
            "ticks": ""
           }
          },
          "title": {
           "x": 0.05
          },
          "xaxis": {
           "automargin": true,
           "gridcolor": "white",
           "linecolor": "white",
           "ticks": "",
           "title": {
            "standoff": 15
           },
           "zerolinecolor": "white",
           "zerolinewidth": 2
          },
          "yaxis": {
           "automargin": true,
           "gridcolor": "white",
           "linecolor": "white",
           "ticks": "",
           "title": {
            "standoff": 15
           },
           "zerolinecolor": "white",
           "zerolinewidth": 2
          }
         }
        },
        "title": {
         "text": "",
         "x": 0.5
        },
        "width": 1200,
        "xaxis": {
         "anchor": "y",
         "domain": [
          0,
          1
         ],
         "showgrid": false,
         "showline": false,
         "tickmode": "array",
         "ticktext": [
          "January",
          "February",
          "March",
          "April",
          "May",
          "June",
          "July",
          "August",
          "September",
          "October",
          "November",
          "December"
         ],
         "tickvals": [
          1.5,
          5.909090909090909,
          10.318181818181818,
          14.727272727272727,
          19.136363636363637,
          23.545454545454547,
          27.954545454545453,
          32.36363636363636,
          36.77272727272727,
          41.18181818181818,
          45.59090909090909,
          50
         ],
         "zeroline": false
        },
        "xaxis2": {
         "anchor": "y2",
         "domain": [
          0,
          1
         ],
         "showgrid": false,
         "showline": false,
         "tickmode": "array",
         "ticktext": [
          "January",
          "February",
          "March",
          "April",
          "May",
          "June",
          "July",
          "August",
          "September",
          "October",
          "November",
          "December"
         ],
         "tickvals": [
          1.5,
          5.909090909090909,
          10.318181818181818,
          14.727272727272727,
          19.136363636363637,
          23.545454545454547,
          27.954545454545453,
          32.36363636363636,
          36.77272727272727,
          41.18181818181818,
          45.59090909090909,
          50
         ],
         "zeroline": false
        },
        "xaxis3": {
         "anchor": "y3",
         "domain": [
          0,
          1
         ],
         "showgrid": false,
         "showline": false,
         "tickmode": "array",
         "ticktext": [
          "January",
          "February",
          "March",
          "April",
          "May",
          "June",
          "July",
          "August",
          "September",
          "October",
          "November",
          "December"
         ],
         "tickvals": [
          1.5,
          5.909090909090909,
          10.318181818181818,
          14.727272727272727,
          19.136363636363637,
          23.545454545454547,
          27.954545454545453,
          32.36363636363636,
          36.77272727272727,
          41.18181818181818,
          45.59090909090909,
          50
         ],
         "zeroline": false
        },
        "xaxis4": {
         "anchor": "y4",
         "domain": [
          0,
          1
         ],
         "showgrid": false,
         "showline": false,
         "tickmode": "array",
         "ticktext": [
          "January",
          "February",
          "March",
          "April",
          "May",
          "June",
          "July",
          "August",
          "September",
          "October",
          "November",
          "December"
         ],
         "tickvals": [
          1.5,
          5.909090909090909,
          10.318181818181818,
          14.727272727272727,
          19.136363636363637,
          23.545454545454547,
          27.954545454545453,
          32.36363636363636,
          36.77272727272727,
          41.18181818181818,
          45.59090909090909,
          50
         ],
         "zeroline": false
        },
        "yaxis": {
         "anchor": "x",
         "autorange": "reversed",
         "domain": [
          0.81,
          1
         ],
         "showgrid": false,
         "showline": false,
         "tickmode": "array",
         "ticktext": [
          "Mon",
          "Tue",
          "Wed",
          "Thu",
          "Fri",
          "Sat",
          "Sun"
         ],
         "tickvals": [
          0,
          1,
          2,
          3,
          4,
          5,
          6
         ],
         "zeroline": false
        },
        "yaxis2": {
         "anchor": "x2",
         "autorange": "reversed",
         "domain": [
          0.54,
          0.73
         ],
         "showgrid": false,
         "showline": false,
         "tickmode": "array",
         "ticktext": [
          "Mon",
          "Tue",
          "Wed",
          "Thu",
          "Fri",
          "Sat",
          "Sun"
         ],
         "tickvals": [
          0,
          1,
          2,
          3,
          4,
          5,
          6
         ],
         "zeroline": false
        },
        "yaxis3": {
         "anchor": "x3",
         "autorange": "reversed",
         "domain": [
          0.27,
          0.46
         ],
         "showgrid": false,
         "showline": false,
         "tickmode": "array",
         "ticktext": [
          "Mon",
          "Tue",
          "Wed",
          "Thu",
          "Fri",
          "Sat",
          "Sun"
         ],
         "tickvals": [
          0,
          1,
          2,
          3,
          4,
          5,
          6
         ],
         "zeroline": false
        },
        "yaxis4": {
         "anchor": "x4",
         "autorange": "reversed",
         "domain": [
          0,
          0.19
         ],
         "showgrid": false,
         "showline": false,
         "tickmode": "array",
         "ticktext": [
          "Mon",
          "Tue",
          "Wed",
          "Thu",
          "Fri",
          "Sat",
          "Sun"
         ],
         "tickvals": [
          0,
          1,
          2,
          3,
          4,
          5,
          6
         ],
         "zeroline": false
        }
       }
      }
     },
     "metadata": {},
     "output_type": "display_data"
    }
   ],
   "source": [
    "# Calender heat map\n",
    "df['dato'] = pd.to_datetime(df['dato'])\n",
    "\n",
    "fig = calplot(\n",
    "    df,\n",
    "    x='dato',      \n",
    "    y='distance',   \n",
    "    years_title=True,\n",
    "    gap=0,\n",
    "    colorscale='oranges',\n",
    ")\n",
    "fig.update_layout(\n",
    "    title_x=0.5,  \n",
    "    height=1200,  \n",
    "    width=1200   \n",
    "    \n",
    ")\n",
    "\n",
    "fig.show()"
   ]
  },
  {
   "cell_type": "code",
   "execution_count": 155,
   "metadata": {},
   "outputs": [
    {
     "name": "stderr",
     "output_type": "stream",
     "text": [
      "/Library/Frameworks/Python.framework/Versions/3.13/lib/python3.13/site-packages/plotly/express/_core.py:1745: FutureWarning:\n",
      "\n",
      "The behavior of DataFrame concatenation with empty or all-NA entries is deprecated. In a future version, this will no longer exclude empty or all-NA columns when determining the result dtypes. To retain the old behavior, exclude the relevant entries before the concat operation.\n",
      "\n"
     ]
    },
    {
     "data": {
      "application/vnd.plotly.v1+json": {
       "config": {
        "plotlyServerURL": "https://plot.ly"
       },
       "data": [
        {
         "branchvalues": "total",
         "customdata": [
          [
           4.934589886055196
          ],
          [
           5.2977487527230105
          ],
          [
           6.041085101863058
          ],
          [
           5.3476369904022105
          ],
          [
           13.237280997457962
          ],
          [
           5.798027610459116
          ]
         ],
         "domain": {
          "x": [
           0,
           1
          ],
          "y": [
           0,
           1
          ]
         },
         "hovertemplate": "<b>%{label}</b><br>Distance: %{value}<br>Avg Pace: %{customdata[0]:.2f}",
         "ids": [
          "ADIDAS Takumi Sen 8",
          "ASICS Noosa Tri 13",
          "ASICS Noosa Tri 14",
          "ASICS Novablast 2",
          "NIKE Pegasus",
          "SAUCONY Endorphin Pro 3"
         ],
         "labels": [
          "ADIDAS Takumi Sen 8",
          "ASICS Noosa Tri 13",
          "ASICS Noosa Tri 14",
          "ASICS Novablast 2",
          "NIKE Pegasus",
          "SAUCONY Endorphin Pro 3"
         ],
         "name": "",
         "parents": [
          "",
          "",
          "",
          "",
          "",
          ""
         ],
         "type": "sunburst",
         "values": [
          153,
          432,
          370,
          721,
          972,
          85
         ]
        }
       ],
       "layout": {
        "legend": {
         "tracegroupgap": 0
        },
        "margin": {
         "t": 60
        },
        "template": {
         "data": {
          "bar": [
           {
            "error_x": {
             "color": "#2a3f5f"
            },
            "error_y": {
             "color": "#2a3f5f"
            },
            "marker": {
             "line": {
              "color": "#E5ECF6",
              "width": 0.5
             },
             "pattern": {
              "fillmode": "overlay",
              "size": 10,
              "solidity": 0.2
             }
            },
            "type": "bar"
           }
          ],
          "barpolar": [
           {
            "marker": {
             "line": {
              "color": "#E5ECF6",
              "width": 0.5
             },
             "pattern": {
              "fillmode": "overlay",
              "size": 10,
              "solidity": 0.2
             }
            },
            "type": "barpolar"
           }
          ],
          "carpet": [
           {
            "aaxis": {
             "endlinecolor": "#2a3f5f",
             "gridcolor": "white",
             "linecolor": "white",
             "minorgridcolor": "white",
             "startlinecolor": "#2a3f5f"
            },
            "baxis": {
             "endlinecolor": "#2a3f5f",
             "gridcolor": "white",
             "linecolor": "white",
             "minorgridcolor": "white",
             "startlinecolor": "#2a3f5f"
            },
            "type": "carpet"
           }
          ],
          "choropleth": [
           {
            "colorbar": {
             "outlinewidth": 0,
             "ticks": ""
            },
            "type": "choropleth"
           }
          ],
          "contour": [
           {
            "colorbar": {
             "outlinewidth": 0,
             "ticks": ""
            },
            "colorscale": [
             [
              0,
              "#0d0887"
             ],
             [
              0.1111111111111111,
              "#46039f"
             ],
             [
              0.2222222222222222,
              "#7201a8"
             ],
             [
              0.3333333333333333,
              "#9c179e"
             ],
             [
              0.4444444444444444,
              "#bd3786"
             ],
             [
              0.5555555555555556,
              "#d8576b"
             ],
             [
              0.6666666666666666,
              "#ed7953"
             ],
             [
              0.7777777777777778,
              "#fb9f3a"
             ],
             [
              0.8888888888888888,
              "#fdca26"
             ],
             [
              1,
              "#f0f921"
             ]
            ],
            "type": "contour"
           }
          ],
          "contourcarpet": [
           {
            "colorbar": {
             "outlinewidth": 0,
             "ticks": ""
            },
            "type": "contourcarpet"
           }
          ],
          "heatmap": [
           {
            "colorbar": {
             "outlinewidth": 0,
             "ticks": ""
            },
            "colorscale": [
             [
              0,
              "#0d0887"
             ],
             [
              0.1111111111111111,
              "#46039f"
             ],
             [
              0.2222222222222222,
              "#7201a8"
             ],
             [
              0.3333333333333333,
              "#9c179e"
             ],
             [
              0.4444444444444444,
              "#bd3786"
             ],
             [
              0.5555555555555556,
              "#d8576b"
             ],
             [
              0.6666666666666666,
              "#ed7953"
             ],
             [
              0.7777777777777778,
              "#fb9f3a"
             ],
             [
              0.8888888888888888,
              "#fdca26"
             ],
             [
              1,
              "#f0f921"
             ]
            ],
            "type": "heatmap"
           }
          ],
          "heatmapgl": [
           {
            "colorbar": {
             "outlinewidth": 0,
             "ticks": ""
            },
            "colorscale": [
             [
              0,
              "#0d0887"
             ],
             [
              0.1111111111111111,
              "#46039f"
             ],
             [
              0.2222222222222222,
              "#7201a8"
             ],
             [
              0.3333333333333333,
              "#9c179e"
             ],
             [
              0.4444444444444444,
              "#bd3786"
             ],
             [
              0.5555555555555556,
              "#d8576b"
             ],
             [
              0.6666666666666666,
              "#ed7953"
             ],
             [
              0.7777777777777778,
              "#fb9f3a"
             ],
             [
              0.8888888888888888,
              "#fdca26"
             ],
             [
              1,
              "#f0f921"
             ]
            ],
            "type": "heatmapgl"
           }
          ],
          "histogram": [
           {
            "marker": {
             "pattern": {
              "fillmode": "overlay",
              "size": 10,
              "solidity": 0.2
             }
            },
            "type": "histogram"
           }
          ],
          "histogram2d": [
           {
            "colorbar": {
             "outlinewidth": 0,
             "ticks": ""
            },
            "colorscale": [
             [
              0,
              "#0d0887"
             ],
             [
              0.1111111111111111,
              "#46039f"
             ],
             [
              0.2222222222222222,
              "#7201a8"
             ],
             [
              0.3333333333333333,
              "#9c179e"
             ],
             [
              0.4444444444444444,
              "#bd3786"
             ],
             [
              0.5555555555555556,
              "#d8576b"
             ],
             [
              0.6666666666666666,
              "#ed7953"
             ],
             [
              0.7777777777777778,
              "#fb9f3a"
             ],
             [
              0.8888888888888888,
              "#fdca26"
             ],
             [
              1,
              "#f0f921"
             ]
            ],
            "type": "histogram2d"
           }
          ],
          "histogram2dcontour": [
           {
            "colorbar": {
             "outlinewidth": 0,
             "ticks": ""
            },
            "colorscale": [
             [
              0,
              "#0d0887"
             ],
             [
              0.1111111111111111,
              "#46039f"
             ],
             [
              0.2222222222222222,
              "#7201a8"
             ],
             [
              0.3333333333333333,
              "#9c179e"
             ],
             [
              0.4444444444444444,
              "#bd3786"
             ],
             [
              0.5555555555555556,
              "#d8576b"
             ],
             [
              0.6666666666666666,
              "#ed7953"
             ],
             [
              0.7777777777777778,
              "#fb9f3a"
             ],
             [
              0.8888888888888888,
              "#fdca26"
             ],
             [
              1,
              "#f0f921"
             ]
            ],
            "type": "histogram2dcontour"
           }
          ],
          "mesh3d": [
           {
            "colorbar": {
             "outlinewidth": 0,
             "ticks": ""
            },
            "type": "mesh3d"
           }
          ],
          "parcoords": [
           {
            "line": {
             "colorbar": {
              "outlinewidth": 0,
              "ticks": ""
             }
            },
            "type": "parcoords"
           }
          ],
          "pie": [
           {
            "automargin": true,
            "type": "pie"
           }
          ],
          "scatter": [
           {
            "fillpattern": {
             "fillmode": "overlay",
             "size": 10,
             "solidity": 0.2
            },
            "type": "scatter"
           }
          ],
          "scatter3d": [
           {
            "line": {
             "colorbar": {
              "outlinewidth": 0,
              "ticks": ""
             }
            },
            "marker": {
             "colorbar": {
              "outlinewidth": 0,
              "ticks": ""
             }
            },
            "type": "scatter3d"
           }
          ],
          "scattercarpet": [
           {
            "marker": {
             "colorbar": {
              "outlinewidth": 0,
              "ticks": ""
             }
            },
            "type": "scattercarpet"
           }
          ],
          "scattergeo": [
           {
            "marker": {
             "colorbar": {
              "outlinewidth": 0,
              "ticks": ""
             }
            },
            "type": "scattergeo"
           }
          ],
          "scattergl": [
           {
            "marker": {
             "colorbar": {
              "outlinewidth": 0,
              "ticks": ""
             }
            },
            "type": "scattergl"
           }
          ],
          "scattermapbox": [
           {
            "marker": {
             "colorbar": {
              "outlinewidth": 0,
              "ticks": ""
             }
            },
            "type": "scattermapbox"
           }
          ],
          "scatterpolar": [
           {
            "marker": {
             "colorbar": {
              "outlinewidth": 0,
              "ticks": ""
             }
            },
            "type": "scatterpolar"
           }
          ],
          "scatterpolargl": [
           {
            "marker": {
             "colorbar": {
              "outlinewidth": 0,
              "ticks": ""
             }
            },
            "type": "scatterpolargl"
           }
          ],
          "scatterternary": [
           {
            "marker": {
             "colorbar": {
              "outlinewidth": 0,
              "ticks": ""
             }
            },
            "type": "scatterternary"
           }
          ],
          "surface": [
           {
            "colorbar": {
             "outlinewidth": 0,
             "ticks": ""
            },
            "colorscale": [
             [
              0,
              "#0d0887"
             ],
             [
              0.1111111111111111,
              "#46039f"
             ],
             [
              0.2222222222222222,
              "#7201a8"
             ],
             [
              0.3333333333333333,
              "#9c179e"
             ],
             [
              0.4444444444444444,
              "#bd3786"
             ],
             [
              0.5555555555555556,
              "#d8576b"
             ],
             [
              0.6666666666666666,
              "#ed7953"
             ],
             [
              0.7777777777777778,
              "#fb9f3a"
             ],
             [
              0.8888888888888888,
              "#fdca26"
             ],
             [
              1,
              "#f0f921"
             ]
            ],
            "type": "surface"
           }
          ],
          "table": [
           {
            "cells": {
             "fill": {
              "color": "#EBF0F8"
             },
             "line": {
              "color": "white"
             }
            },
            "header": {
             "fill": {
              "color": "#C8D4E3"
             },
             "line": {
              "color": "white"
             }
            },
            "type": "table"
           }
          ]
         },
         "layout": {
          "annotationdefaults": {
           "arrowcolor": "#2a3f5f",
           "arrowhead": 0,
           "arrowwidth": 1
          },
          "autotypenumbers": "strict",
          "coloraxis": {
           "colorbar": {
            "outlinewidth": 0,
            "ticks": ""
           }
          },
          "colorscale": {
           "diverging": [
            [
             0,
             "#8e0152"
            ],
            [
             0.1,
             "#c51b7d"
            ],
            [
             0.2,
             "#de77ae"
            ],
            [
             0.3,
             "#f1b6da"
            ],
            [
             0.4,
             "#fde0ef"
            ],
            [
             0.5,
             "#f7f7f7"
            ],
            [
             0.6,
             "#e6f5d0"
            ],
            [
             0.7,
             "#b8e186"
            ],
            [
             0.8,
             "#7fbc41"
            ],
            [
             0.9,
             "#4d9221"
            ],
            [
             1,
             "#276419"
            ]
           ],
           "sequential": [
            [
             0,
             "#0d0887"
            ],
            [
             0.1111111111111111,
             "#46039f"
            ],
            [
             0.2222222222222222,
             "#7201a8"
            ],
            [
             0.3333333333333333,
             "#9c179e"
            ],
            [
             0.4444444444444444,
             "#bd3786"
            ],
            [
             0.5555555555555556,
             "#d8576b"
            ],
            [
             0.6666666666666666,
             "#ed7953"
            ],
            [
             0.7777777777777778,
             "#fb9f3a"
            ],
            [
             0.8888888888888888,
             "#fdca26"
            ],
            [
             1,
             "#f0f921"
            ]
           ],
           "sequentialminus": [
            [
             0,
             "#0d0887"
            ],
            [
             0.1111111111111111,
             "#46039f"
            ],
            [
             0.2222222222222222,
             "#7201a8"
            ],
            [
             0.3333333333333333,
             "#9c179e"
            ],
            [
             0.4444444444444444,
             "#bd3786"
            ],
            [
             0.5555555555555556,
             "#d8576b"
            ],
            [
             0.6666666666666666,
             "#ed7953"
            ],
            [
             0.7777777777777778,
             "#fb9f3a"
            ],
            [
             0.8888888888888888,
             "#fdca26"
            ],
            [
             1,
             "#f0f921"
            ]
           ]
          },
          "colorway": [
           "#636efa",
           "#EF553B",
           "#00cc96",
           "#ab63fa",
           "#FFA15A",
           "#19d3f3",
           "#FF6692",
           "#B6E880",
           "#FF97FF",
           "#FECB52"
          ],
          "font": {
           "color": "#2a3f5f"
          },
          "geo": {
           "bgcolor": "white",
           "lakecolor": "white",
           "landcolor": "#E5ECF6",
           "showlakes": true,
           "showland": true,
           "subunitcolor": "white"
          },
          "hoverlabel": {
           "align": "left"
          },
          "hovermode": "closest",
          "mapbox": {
           "style": "light"
          },
          "paper_bgcolor": "white",
          "plot_bgcolor": "#E5ECF6",
          "polar": {
           "angularaxis": {
            "gridcolor": "white",
            "linecolor": "white",
            "ticks": ""
           },
           "bgcolor": "#E5ECF6",
           "radialaxis": {
            "gridcolor": "white",
            "linecolor": "white",
            "ticks": ""
           }
          },
          "scene": {
           "xaxis": {
            "backgroundcolor": "#E5ECF6",
            "gridcolor": "white",
            "gridwidth": 2,
            "linecolor": "white",
            "showbackground": true,
            "ticks": "",
            "zerolinecolor": "white"
           },
           "yaxis": {
            "backgroundcolor": "#E5ECF6",
            "gridcolor": "white",
            "gridwidth": 2,
            "linecolor": "white",
            "showbackground": true,
            "ticks": "",
            "zerolinecolor": "white"
           },
           "zaxis": {
            "backgroundcolor": "#E5ECF6",
            "gridcolor": "white",
            "gridwidth": 2,
            "linecolor": "white",
            "showbackground": true,
            "ticks": "",
            "zerolinecolor": "white"
           }
          },
          "shapedefaults": {
           "line": {
            "color": "#2a3f5f"
           }
          },
          "ternary": {
           "aaxis": {
            "gridcolor": "white",
            "linecolor": "white",
            "ticks": ""
           },
           "baxis": {
            "gridcolor": "white",
            "linecolor": "white",
            "ticks": ""
           },
           "bgcolor": "#E5ECF6",
           "caxis": {
            "gridcolor": "white",
            "linecolor": "white",
            "ticks": ""
           }
          },
          "title": {
           "x": 0.05
          },
          "xaxis": {
           "automargin": true,
           "gridcolor": "white",
           "linecolor": "white",
           "ticks": "",
           "title": {
            "standoff": 15
           },
           "zerolinecolor": "white",
           "zerolinewidth": 2
          },
          "yaxis": {
           "automargin": true,
           "gridcolor": "white",
           "linecolor": "white",
           "ticks": "",
           "title": {
            "standoff": 15
           },
           "zerolinecolor": "white",
           "zerolinewidth": 2
          }
         }
        }
       }
      }
     },
     "metadata": {},
     "output_type": "display_data"
    }
   ],
   "source": [
    "df_grouped = df.groupby('gear_id').agg({\n",
    "    'distance': 'sum', \n",
    "    'avg_pace': 'mean'  \n",
    "}).reset_index()\n",
    "\n",
    "fig = px.sunburst(\n",
    "    df_grouped,\n",
    "    path=['gear_id'],       \n",
    "    values='distance',       \n",
    "    hover_data={'avg_pace': True}  \n",
    ")\n",
    "\n",
    "fig.update_traces(\n",
    "    hovertemplate='<b>%{label}</b><br>Distance: %{value}<br>Avg Pace: %{customdata[0]:.2f}'\n",
    ")\n",
    "\n",
    "fig.show()"
   ]
  },
  {
   "cell_type": "code",
   "execution_count": 156,
   "metadata": {},
   "outputs": [],
   "source": [
    "from sklearn.model_selection import train_test_split\n",
    "from sklearn.linear_model import LinearRegression\n",
    "from sklearn.metrics import mean_squared_error\n"
   ]
  },
  {
   "cell_type": "code",
   "execution_count": 157,
   "metadata": {},
   "outputs": [
    {
     "name": "stdout",
     "output_type": "stream",
     "text": [
      "Mean Squared Error: 49.27893886268562\n"
     ]
    },
    {
     "data": {
      "text/html": [
       "<div>\n",
       "<style scoped>\n",
       "    .dataframe tbody tr th:only-of-type {\n",
       "        vertical-align: middle;\n",
       "    }\n",
       "\n",
       "    .dataframe tbody tr th {\n",
       "        vertical-align: top;\n",
       "    }\n",
       "\n",
       "    .dataframe thead th {\n",
       "        text-align: right;\n",
       "    }\n",
       "</style>\n",
       "<table border=\"1\" class=\"dataframe\">\n",
       "  <thead>\n",
       "    <tr style=\"text-align: right;\">\n",
       "      <th></th>\n",
       "      <th>start_date_local</th>\n",
       "      <th>day_of_year</th>\n",
       "      <th>week_of_year</th>\n",
       "      <th>predicted_distance</th>\n",
       "    </tr>\n",
       "  </thead>\n",
       "  <tbody>\n",
       "    <tr>\n",
       "      <th>0</th>\n",
       "      <td>2024-11-01</td>\n",
       "      <td>306</td>\n",
       "      <td>44</td>\n",
       "      <td>9</td>\n",
       "    </tr>\n",
       "    <tr>\n",
       "      <th>1</th>\n",
       "      <td>2024-11-02</td>\n",
       "      <td>307</td>\n",
       "      <td>44</td>\n",
       "      <td>9</td>\n",
       "    </tr>\n",
       "    <tr>\n",
       "      <th>2</th>\n",
       "      <td>2024-11-03</td>\n",
       "      <td>308</td>\n",
       "      <td>44</td>\n",
       "      <td>9</td>\n",
       "    </tr>\n",
       "    <tr>\n",
       "      <th>3</th>\n",
       "      <td>2024-11-04</td>\n",
       "      <td>309</td>\n",
       "      <td>45</td>\n",
       "      <td>9</td>\n",
       "    </tr>\n",
       "    <tr>\n",
       "      <th>4</th>\n",
       "      <td>2024-11-05</td>\n",
       "      <td>310</td>\n",
       "      <td>45</td>\n",
       "      <td>9</td>\n",
       "    </tr>\n",
       "  </tbody>\n",
       "</table>\n",
       "</div>"
      ],
      "text/plain": [
       "  start_date_local  day_of_year  week_of_year  predicted_distance\n",
       "0       2024-11-01          306            44                   9\n",
       "1       2024-11-02          307            44                   9\n",
       "2       2024-11-03          308            44                   9\n",
       "3       2024-11-04          309            45                   9\n",
       "4       2024-11-05          310            45                   9"
      ]
     },
     "execution_count": 157,
     "metadata": {},
     "output_type": "execute_result"
    }
   ],
   "source": [
    "target = 'distance' \n",
    "\n",
    "features = ['day_of_year', 'week_of_year']  \n",
    "\n",
    "X_train, X_test, y_train, y_test = train_test_split(df[features], df[target], test_size=0.2, random_state=42)\n",
    "\n",
    "model = LinearRegression()\n",
    "\n",
    "model.fit(X_train, y_train)\n",
    "\n",
    "y_pred = model.predict(X_test)\n",
    "\n",
    "print(\"Mean Squared Error:\", mean_squared_error(y_test, y_pred))\n",
    "\n",
    "future_dates = pd.date_range(start='2024-11-01', end='2025-12-31')\n",
    "future_df = pd.DataFrame({'start_date_local': future_dates})\n",
    "future_df['day_of_year'] = future_df['start_date_local'].dt.dayofyear\n",
    "future_df['week_of_year'] = future_df['start_date_local'].dt.isocalendar().week\n",
    "\n",
    "future_df['predicted_distance'] = model.predict(future_df[['day_of_year', 'week_of_year']])\n",
    "future_df['predicted_distance'] = pd.to_numeric(future_df['predicted_distance'], errors='coerce').fillna(0).astype('int64')\n",
    "future_df['day_of_year'] = future_df['start_date_local'].dt.date\n",
    "\n",
    "future_df['day_of_year'] = future_df['start_date_local'].dt.dayofyear\n",
    "future_df['predicted_distance'] = future_df['predicted_distance'].clip(lower=0, upper=15)  # Adjust upper bound based on your data\n",
    "\n",
    "future_df.head()\n"
   ]
  },
  {
   "cell_type": "code",
   "execution_count": 158,
   "metadata": {},
   "outputs": [
    {
     "data": {
      "text/plain": [
       "start_date_local      datetime64[ns]\n",
       "day_of_year                    int32\n",
       "week_of_year                  UInt32\n",
       "predicted_distance             int64\n",
       "dtype: object"
      ]
     },
     "execution_count": 158,
     "metadata": {},
     "output_type": "execute_result"
    }
   ],
   "source": [
    "future_df.dtypes"
   ]
  },
  {
   "cell_type": "code",
   "execution_count": 159,
   "metadata": {},
   "outputs": [
    {
     "name": "stdout",
     "output_type": "stream",
     "text": [
      "    start_date_local  predicted_distance\n",
      "0         2024-11-01                   9\n",
      "1         2024-11-02                   9\n",
      "2         2024-11-03                   9\n",
      "3         2024-11-04                   9\n",
      "4         2024-11-05                   9\n",
      "5         2024-11-06                   9\n",
      "6         2024-11-07                   9\n",
      "7         2024-11-08                   9\n",
      "8         2024-11-09                   9\n",
      "9         2024-11-10                   9\n",
      "10        2024-11-11                   9\n",
      "11        2024-11-12                   9\n",
      "12        2024-11-13                   9\n",
      "13        2024-11-14                   9\n",
      "14        2024-11-15                   9\n",
      "15        2024-11-16                   9\n",
      "16        2024-11-17                   9\n",
      "17        2024-11-18                   9\n",
      "18        2024-11-19                   9\n",
      "19        2024-11-20                   9\n",
      "20        2024-11-21                   9\n",
      "21        2024-11-22                   9\n",
      "22        2024-11-23                   9\n",
      "23        2024-11-24                   9\n",
      "24        2024-11-25                   9\n",
      "25        2024-11-26                   9\n",
      "26        2024-11-27                   9\n",
      "27        2024-11-28                   9\n",
      "28        2024-11-29                   9\n",
      "29        2024-11-30                   9\n",
      "30        2024-12-01                   9\n",
      "31        2024-12-02                   9\n",
      "32        2024-12-03                   9\n",
      "33        2024-12-04                   9\n",
      "34        2024-12-05                   9\n",
      "35        2024-12-06                   9\n",
      "36        2024-12-07                   9\n",
      "37        2024-12-08                   9\n",
      "38        2024-12-09                   9\n",
      "39        2024-12-10                   9\n",
      "40        2024-12-11                   9\n",
      "41        2024-12-12                   9\n",
      "42        2024-12-13                   9\n",
      "43        2024-12-14                   9\n",
      "44        2024-12-15                   9\n",
      "45        2024-12-16                   9\n",
      "46        2024-12-17                   9\n",
      "47        2024-12-18                   9\n",
      "48        2024-12-19                   9\n",
      "49        2024-12-20                   9\n",
      "50        2024-12-21                   9\n",
      "51        2024-12-22                   9\n",
      "52        2024-12-23                   9\n",
      "53        2024-12-24                   9\n",
      "54        2024-12-25                   9\n",
      "55        2024-12-26                   9\n",
      "56        2024-12-27                   9\n",
      "57        2024-12-28                   9\n",
      "58        2024-12-29                   9\n",
      "59        2024-12-30                   7\n",
      "60        2024-12-31                   7\n",
      "61        2025-01-01                   9\n",
      "62        2025-01-02                   9\n",
      "63        2025-01-03                   9\n",
      "64        2025-01-04                   9\n",
      "65        2025-01-05                   9\n",
      "66        2025-01-06                   9\n",
      "67        2025-01-07                   9\n",
      "68        2025-01-08                   9\n",
      "69        2025-01-09                   9\n",
      "70        2025-01-10                   9\n",
      "71        2025-01-11                   9\n",
      "72        2025-01-12                   9\n",
      "73        2025-01-13                   9\n",
      "74        2025-01-14                   9\n",
      "75        2025-01-15                   9\n",
      "76        2025-01-16                   9\n",
      "77        2025-01-17                   9\n",
      "78        2025-01-18                   9\n",
      "79        2025-01-19                   9\n",
      "80        2025-01-20                   9\n",
      "81        2025-01-21                   9\n",
      "82        2025-01-22                   9\n",
      "83        2025-01-23                   9\n",
      "84        2025-01-24                   9\n",
      "85        2025-01-25                   9\n",
      "86        2025-01-26                   9\n",
      "87        2025-01-27                   9\n",
      "88        2025-01-28                   9\n",
      "89        2025-01-29                   9\n",
      "90        2025-01-30                   9\n",
      "91        2025-01-31                   9\n",
      "92        2025-02-01                   9\n",
      "93        2025-02-02                   9\n",
      "94        2025-02-03                   9\n",
      "95        2025-02-04                   9\n",
      "96        2025-02-05                   9\n",
      "97        2025-02-06                   9\n",
      "98        2025-02-07                   9\n",
      "99        2025-02-08                   9\n",
      "100       2025-02-09                   9\n",
      "101       2025-02-10                   9\n",
      "102       2025-02-11                   9\n",
      "103       2025-02-12                   9\n",
      "104       2025-02-13                   9\n",
      "105       2025-02-14                   9\n",
      "106       2025-02-15                   9\n",
      "107       2025-02-16                   9\n",
      "108       2025-02-17                   9\n",
      "109       2025-02-18                   9\n",
      "110       2025-02-19                   9\n",
      "111       2025-02-20                   9\n",
      "112       2025-02-21                   9\n",
      "113       2025-02-22                   9\n",
      "114       2025-02-23                   9\n",
      "115       2025-02-24                   9\n",
      "116       2025-02-25                   9\n",
      "117       2025-02-26                   9\n",
      "118       2025-02-27                   9\n",
      "119       2025-02-28                   9\n",
      "120       2025-03-01                   9\n",
      "121       2025-03-02                   9\n",
      "122       2025-03-03                   9\n",
      "123       2025-03-04                   9\n",
      "124       2025-03-05                   9\n",
      "125       2025-03-06                   9\n",
      "126       2025-03-07                   9\n",
      "127       2025-03-08                   9\n",
      "128       2025-03-09                   9\n",
      "129       2025-03-10                   9\n",
      "130       2025-03-11                   9\n",
      "131       2025-03-12                   9\n",
      "132       2025-03-13                   9\n",
      "133       2025-03-14                   9\n",
      "134       2025-03-15                   9\n",
      "135       2025-03-16                   9\n",
      "136       2025-03-17                   9\n",
      "137       2025-03-18                   9\n",
      "138       2025-03-19                   9\n",
      "139       2025-03-20                   9\n",
      "140       2025-03-21                   9\n",
      "141       2025-03-22                   9\n",
      "142       2025-03-23                   9\n",
      "143       2025-03-24                   9\n",
      "144       2025-03-25                   9\n",
      "145       2025-03-26                   9\n",
      "146       2025-03-27                   9\n",
      "147       2025-03-28                   9\n",
      "148       2025-03-29                   9\n",
      "149       2025-03-30                   9\n",
      "150       2025-03-31                   9\n",
      "151       2025-04-01                   9\n",
      "152       2025-04-02                   9\n",
      "153       2025-04-03                   9\n",
      "154       2025-04-04                   9\n",
      "155       2025-04-05                   9\n",
      "156       2025-04-06                   9\n",
      "157       2025-04-07                   9\n",
      "158       2025-04-08                   9\n",
      "159       2025-04-09                   9\n",
      "160       2025-04-10                   9\n",
      "161       2025-04-11                   9\n",
      "162       2025-04-12                   9\n",
      "163       2025-04-13                   9\n",
      "164       2025-04-14                   9\n",
      "165       2025-04-15                   9\n",
      "166       2025-04-16                   9\n",
      "167       2025-04-17                   9\n",
      "168       2025-04-18                   9\n",
      "169       2025-04-19                   9\n",
      "170       2025-04-20                   9\n",
      "171       2025-04-21                   9\n",
      "172       2025-04-22                   9\n",
      "173       2025-04-23                   9\n",
      "174       2025-04-24                   9\n",
      "175       2025-04-25                   9\n",
      "176       2025-04-26                   9\n",
      "177       2025-04-27                   9\n",
      "178       2025-04-28                   9\n",
      "179       2025-04-29                   9\n",
      "180       2025-04-30                   9\n",
      "181       2025-05-01                   9\n",
      "182       2025-05-02                   9\n",
      "183       2025-05-03                   9\n",
      "184       2025-05-04                   9\n",
      "185       2025-05-05                   9\n",
      "186       2025-05-06                   9\n",
      "187       2025-05-07                   9\n",
      "188       2025-05-08                   9\n",
      "189       2025-05-09                   9\n",
      "190       2025-05-10                   9\n",
      "191       2025-05-11                   9\n",
      "192       2025-05-12                   9\n",
      "193       2025-05-13                   9\n",
      "194       2025-05-14                   9\n",
      "195       2025-05-15                   9\n",
      "196       2025-05-16                   9\n",
      "197       2025-05-17                   9\n",
      "198       2025-05-18                   9\n",
      "199       2025-05-19                   9\n",
      "200       2025-05-20                   9\n",
      "201       2025-05-21                   9\n",
      "202       2025-05-22                   9\n",
      "203       2025-05-23                   9\n",
      "204       2025-05-24                   9\n",
      "205       2025-05-25                   9\n",
      "206       2025-05-26                   9\n",
      "207       2025-05-27                   9\n",
      "208       2025-05-28                   9\n",
      "209       2025-05-29                   9\n",
      "210       2025-05-30                   9\n",
      "211       2025-05-31                   9\n",
      "212       2025-06-01                   9\n",
      "213       2025-06-02                   9\n",
      "214       2025-06-03                   9\n",
      "215       2025-06-04                   9\n",
      "216       2025-06-05                   9\n",
      "217       2025-06-06                   9\n",
      "218       2025-06-07                   9\n",
      "219       2025-06-08                   9\n",
      "220       2025-06-09                   9\n",
      "221       2025-06-10                   9\n",
      "222       2025-06-11                   9\n",
      "223       2025-06-12                   9\n",
      "224       2025-06-13                   9\n",
      "225       2025-06-14                   9\n",
      "226       2025-06-15                   9\n",
      "227       2025-06-16                   9\n",
      "228       2025-06-17                   9\n",
      "229       2025-06-18                   9\n",
      "230       2025-06-19                   9\n",
      "231       2025-06-20                   9\n",
      "232       2025-06-21                   9\n",
      "233       2025-06-22                   9\n",
      "234       2025-06-23                   9\n",
      "235       2025-06-24                   9\n",
      "236       2025-06-25                   9\n",
      "237       2025-06-26                   9\n",
      "238       2025-06-27                   9\n",
      "239       2025-06-28                   9\n",
      "240       2025-06-29                   9\n",
      "241       2025-06-30                   9\n",
      "242       2025-07-01                   9\n",
      "243       2025-07-02                   9\n",
      "244       2025-07-03                   9\n",
      "245       2025-07-04                   9\n",
      "246       2025-07-05                   9\n",
      "247       2025-07-06                   9\n",
      "248       2025-07-07                   9\n",
      "249       2025-07-08                   9\n",
      "250       2025-07-09                   9\n",
      "251       2025-07-10                   9\n",
      "252       2025-07-11                   9\n",
      "253       2025-07-12                   9\n",
      "254       2025-07-13                   9\n",
      "255       2025-07-14                   9\n",
      "256       2025-07-15                   9\n",
      "257       2025-07-16                   9\n",
      "258       2025-07-17                   9\n",
      "259       2025-07-18                   9\n",
      "260       2025-07-19                   9\n",
      "261       2025-07-20                   9\n",
      "262       2025-07-21                   9\n",
      "263       2025-07-22                   9\n",
      "264       2025-07-23                   9\n",
      "265       2025-07-24                   9\n",
      "266       2025-07-25                   9\n",
      "267       2025-07-26                   9\n",
      "268       2025-07-27                   9\n",
      "269       2025-07-28                   9\n",
      "270       2025-07-29                   9\n",
      "271       2025-07-30                   9\n",
      "272       2025-07-31                   9\n",
      "273       2025-08-01                   9\n",
      "274       2025-08-02                   9\n",
      "275       2025-08-03                   9\n",
      "276       2025-08-04                   9\n",
      "277       2025-08-05                   9\n",
      "278       2025-08-06                   9\n",
      "279       2025-08-07                   9\n",
      "280       2025-08-08                   9\n",
      "281       2025-08-09                   9\n",
      "282       2025-08-10                   9\n",
      "283       2025-08-11                   9\n",
      "284       2025-08-12                   9\n",
      "285       2025-08-13                   9\n",
      "286       2025-08-14                   9\n",
      "287       2025-08-15                   9\n",
      "288       2025-08-16                   9\n",
      "289       2025-08-17                   9\n",
      "290       2025-08-18                   9\n",
      "291       2025-08-19                   9\n",
      "292       2025-08-20                   9\n",
      "293       2025-08-21                   9\n",
      "294       2025-08-22                   9\n",
      "295       2025-08-23                   9\n",
      "296       2025-08-24                   9\n",
      "297       2025-08-25                   9\n",
      "298       2025-08-26                   9\n",
      "299       2025-08-27                   9\n",
      "300       2025-08-28                   9\n",
      "301       2025-08-29                   9\n",
      "302       2025-08-30                   9\n",
      "303       2025-08-31                   9\n",
      "304       2025-09-01                   9\n",
      "305       2025-09-02                   9\n",
      "306       2025-09-03                   9\n",
      "307       2025-09-04                   9\n",
      "308       2025-09-05                   9\n",
      "309       2025-09-06                   9\n",
      "310       2025-09-07                   9\n",
      "311       2025-09-08                   9\n",
      "312       2025-09-09                   9\n",
      "313       2025-09-10                   9\n",
      "314       2025-09-11                   9\n",
      "315       2025-09-12                   9\n",
      "316       2025-09-13                   9\n",
      "317       2025-09-14                   9\n",
      "318       2025-09-15                   9\n",
      "319       2025-09-16                   9\n",
      "320       2025-09-17                   9\n",
      "321       2025-09-18                   9\n",
      "322       2025-09-19                   9\n",
      "323       2025-09-20                   9\n",
      "324       2025-09-21                   9\n",
      "325       2025-09-22                   9\n",
      "326       2025-09-23                   9\n",
      "327       2025-09-24                   9\n",
      "328       2025-09-25                   9\n",
      "329       2025-09-26                   9\n",
      "330       2025-09-27                   9\n",
      "331       2025-09-28                   9\n",
      "332       2025-09-29                   9\n",
      "333       2025-09-30                   9\n",
      "334       2025-10-01                   9\n",
      "335       2025-10-02                   9\n",
      "336       2025-10-03                   9\n",
      "337       2025-10-04                   9\n",
      "338       2025-10-05                   9\n",
      "339       2025-10-06                   9\n",
      "340       2025-10-07                   9\n",
      "341       2025-10-08                   9\n",
      "342       2025-10-09                   9\n",
      "343       2025-10-10                   9\n",
      "344       2025-10-11                   9\n",
      "345       2025-10-12                   9\n",
      "346       2025-10-13                   9\n",
      "347       2025-10-14                   9\n",
      "348       2025-10-15                   9\n",
      "349       2025-10-16                   9\n",
      "350       2025-10-17                   9\n",
      "351       2025-10-18                   9\n",
      "352       2025-10-19                   9\n",
      "353       2025-10-20                   9\n",
      "354       2025-10-21                   9\n",
      "355       2025-10-22                   9\n",
      "356       2025-10-23                   9\n",
      "357       2025-10-24                   9\n",
      "358       2025-10-25                   9\n",
      "359       2025-10-26                   9\n",
      "360       2025-10-27                   9\n",
      "361       2025-10-28                   9\n",
      "362       2025-10-29                   9\n",
      "363       2025-10-30                   9\n",
      "364       2025-10-31                   9\n",
      "365       2025-11-01                   9\n",
      "366       2025-11-02                   9\n",
      "367       2025-11-03                   9\n",
      "368       2025-11-04                   9\n",
      "369       2025-11-05                   9\n",
      "370       2025-11-06                   9\n",
      "371       2025-11-07                   9\n",
      "372       2025-11-08                   9\n",
      "373       2025-11-09                   9\n",
      "374       2025-11-10                   9\n",
      "375       2025-11-11                   9\n",
      "376       2025-11-12                   9\n",
      "377       2025-11-13                   9\n",
      "378       2025-11-14                   9\n",
      "379       2025-11-15                   9\n",
      "380       2025-11-16                   9\n",
      "381       2025-11-17                   9\n",
      "382       2025-11-18                   9\n",
      "383       2025-11-19                   9\n",
      "384       2025-11-20                   9\n",
      "385       2025-11-21                   9\n",
      "386       2025-11-22                   9\n",
      "387       2025-11-23                   9\n",
      "388       2025-11-24                   9\n",
      "389       2025-11-25                   9\n",
      "390       2025-11-26                   9\n",
      "391       2025-11-27                   9\n",
      "392       2025-11-28                   9\n",
      "393       2025-11-29                   9\n",
      "394       2025-11-30                   9\n",
      "395       2025-12-01                   9\n",
      "396       2025-12-02                   9\n",
      "397       2025-12-03                   9\n",
      "398       2025-12-04                   9\n",
      "399       2025-12-05                   9\n",
      "400       2025-12-06                   9\n",
      "401       2025-12-07                   9\n",
      "402       2025-12-08                   9\n",
      "403       2025-12-09                   9\n",
      "404       2025-12-10                   9\n",
      "405       2025-12-11                   9\n",
      "406       2025-12-12                   9\n",
      "407       2025-12-13                   9\n",
      "408       2025-12-14                   9\n",
      "409       2025-12-15                   9\n",
      "410       2025-12-16                   9\n",
      "411       2025-12-17                   9\n",
      "412       2025-12-18                   9\n",
      "413       2025-12-19                   9\n",
      "414       2025-12-20                   9\n",
      "415       2025-12-21                   9\n",
      "416       2025-12-22                   9\n",
      "417       2025-12-23                   9\n",
      "418       2025-12-24                   9\n",
      "419       2025-12-25                   9\n",
      "420       2025-12-26                   9\n",
      "421       2025-12-27                   9\n",
      "422       2025-12-28                   9\n",
      "423       2025-12-29                   7\n",
      "424       2025-12-30                   7\n",
      "425       2025-12-31                   7\n"
     ]
    }
   ],
   "source": [
    "print(future_df[['start_date_local', 'predicted_distance']])\n"
   ]
  },
  {
   "cell_type": "code",
   "execution_count": 160,
   "metadata": {},
   "outputs": [
    {
     "name": "stdout",
     "output_type": "stream",
     "text": [
      "    start_date_local  day_of_year  week_of_year  predicted_distance\n",
      "0         2024-11-01          306            44                   9\n",
      "1         2024-11-02          307            44                   9\n",
      "2         2024-11-03          308            44                   9\n",
      "3         2024-11-04          309            45                   9\n",
      "4         2024-11-05          310            45                   9\n",
      "5         2024-11-06          311            45                   9\n",
      "6         2024-11-07          312            45                   9\n",
      "7         2024-11-08          313            45                   9\n",
      "8         2024-11-09          314            45                   9\n",
      "9         2024-11-10          315            45                   9\n",
      "10        2024-11-11          316            46                   9\n",
      "11        2024-11-12          317            46                   9\n",
      "12        2024-11-13          318            46                   9\n",
      "13        2024-11-14          319            46                   9\n",
      "14        2024-11-15          320            46                   9\n",
      "15        2024-11-16          321            46                   9\n",
      "16        2024-11-17          322            46                   9\n",
      "17        2024-11-18          323            47                   9\n",
      "18        2024-11-19          324            47                   9\n",
      "19        2024-11-20          325            47                   9\n",
      "20        2024-11-21          326            47                   9\n",
      "21        2024-11-22          327            47                   9\n",
      "22        2024-11-23          328            47                   9\n",
      "23        2024-11-24          329            47                   9\n",
      "24        2024-11-25          330            48                   9\n",
      "25        2024-11-26          331            48                   9\n",
      "26        2024-11-27          332            48                   9\n",
      "27        2024-11-28          333            48                   9\n",
      "28        2024-11-29          334            48                   9\n",
      "29        2024-11-30          335            48                   9\n",
      "30        2024-12-01          336            48                   9\n",
      "31        2024-12-02          337            49                   9\n",
      "32        2024-12-03          338            49                   9\n",
      "33        2024-12-04          339            49                   9\n",
      "34        2024-12-05          340            49                   9\n",
      "35        2024-12-06          341            49                   9\n",
      "36        2024-12-07          342            49                   9\n",
      "37        2024-12-08          343            49                   9\n",
      "38        2024-12-09          344            50                   9\n",
      "39        2024-12-10          345            50                   9\n",
      "40        2024-12-11          346            50                   9\n",
      "41        2024-12-12          347            50                   9\n",
      "42        2024-12-13          348            50                   9\n",
      "43        2024-12-14          349            50                   9\n",
      "44        2024-12-15          350            50                   9\n",
      "45        2024-12-16          351            51                   9\n",
      "46        2024-12-17          352            51                   9\n",
      "47        2024-12-18          353            51                   9\n",
      "48        2024-12-19          354            51                   9\n",
      "49        2024-12-20          355            51                   9\n",
      "50        2024-12-21          356            51                   9\n",
      "51        2024-12-22          357            51                   9\n",
      "52        2024-12-23          358            52                   9\n",
      "53        2024-12-24          359            52                   9\n",
      "54        2024-12-25          360            52                   9\n",
      "55        2024-12-26          361            52                   9\n",
      "56        2024-12-27          362            52                   9\n",
      "57        2024-12-28          363            52                   9\n",
      "58        2024-12-29          364            52                   9\n",
      "59        2024-12-30          365             1                   7\n",
      "60        2024-12-31          366             1                   7\n",
      "61        2025-01-01            1             1                   9\n",
      "62        2025-01-02            2             1                   9\n",
      "63        2025-01-03            3             1                   9\n",
      "64        2025-01-04            4             1                   9\n",
      "65        2025-01-05            5             1                   9\n",
      "66        2025-01-06            6             2                   9\n",
      "67        2025-01-07            7             2                   9\n",
      "68        2025-01-08            8             2                   9\n",
      "69        2025-01-09            9             2                   9\n",
      "70        2025-01-10           10             2                   9\n",
      "71        2025-01-11           11             2                   9\n",
      "72        2025-01-12           12             2                   9\n",
      "73        2025-01-13           13             3                   9\n",
      "74        2025-01-14           14             3                   9\n",
      "75        2025-01-15           15             3                   9\n",
      "76        2025-01-16           16             3                   9\n",
      "77        2025-01-17           17             3                   9\n",
      "78        2025-01-18           18             3                   9\n",
      "79        2025-01-19           19             3                   9\n",
      "80        2025-01-20           20             4                   9\n",
      "81        2025-01-21           21             4                   9\n",
      "82        2025-01-22           22             4                   9\n",
      "83        2025-01-23           23             4                   9\n",
      "84        2025-01-24           24             4                   9\n",
      "85        2025-01-25           25             4                   9\n",
      "86        2025-01-26           26             4                   9\n",
      "87        2025-01-27           27             5                   9\n",
      "88        2025-01-28           28             5                   9\n",
      "89        2025-01-29           29             5                   9\n",
      "90        2025-01-30           30             5                   9\n",
      "91        2025-01-31           31             5                   9\n",
      "92        2025-02-01           32             5                   9\n",
      "93        2025-02-02           33             5                   9\n",
      "94        2025-02-03           34             6                   9\n",
      "95        2025-02-04           35             6                   9\n",
      "96        2025-02-05           36             6                   9\n",
      "97        2025-02-06           37             6                   9\n",
      "98        2025-02-07           38             6                   9\n",
      "99        2025-02-08           39             6                   9\n",
      "100       2025-02-09           40             6                   9\n",
      "101       2025-02-10           41             7                   9\n",
      "102       2025-02-11           42             7                   9\n",
      "103       2025-02-12           43             7                   9\n",
      "104       2025-02-13           44             7                   9\n",
      "105       2025-02-14           45             7                   9\n",
      "106       2025-02-15           46             7                   9\n",
      "107       2025-02-16           47             7                   9\n",
      "108       2025-02-17           48             8                   9\n",
      "109       2025-02-18           49             8                   9\n",
      "110       2025-02-19           50             8                   9\n",
      "111       2025-02-20           51             8                   9\n",
      "112       2025-02-21           52             8                   9\n",
      "113       2025-02-22           53             8                   9\n",
      "114       2025-02-23           54             8                   9\n",
      "115       2025-02-24           55             9                   9\n",
      "116       2025-02-25           56             9                   9\n",
      "117       2025-02-26           57             9                   9\n",
      "118       2025-02-27           58             9                   9\n",
      "119       2025-02-28           59             9                   9\n",
      "120       2025-03-01           60             9                   9\n",
      "121       2025-03-02           61             9                   9\n",
      "122       2025-03-03           62            10                   9\n",
      "123       2025-03-04           63            10                   9\n",
      "124       2025-03-05           64            10                   9\n",
      "125       2025-03-06           65            10                   9\n",
      "126       2025-03-07           66            10                   9\n",
      "127       2025-03-08           67            10                   9\n",
      "128       2025-03-09           68            10                   9\n",
      "129       2025-03-10           69            11                   9\n",
      "130       2025-03-11           70            11                   9\n",
      "131       2025-03-12           71            11                   9\n",
      "132       2025-03-13           72            11                   9\n",
      "133       2025-03-14           73            11                   9\n",
      "134       2025-03-15           74            11                   9\n",
      "135       2025-03-16           75            11                   9\n",
      "136       2025-03-17           76            12                   9\n",
      "137       2025-03-18           77            12                   9\n",
      "138       2025-03-19           78            12                   9\n",
      "139       2025-03-20           79            12                   9\n",
      "140       2025-03-21           80            12                   9\n",
      "141       2025-03-22           81            12                   9\n",
      "142       2025-03-23           82            12                   9\n",
      "143       2025-03-24           83            13                   9\n",
      "144       2025-03-25           84            13                   9\n",
      "145       2025-03-26           85            13                   9\n",
      "146       2025-03-27           86            13                   9\n",
      "147       2025-03-28           87            13                   9\n",
      "148       2025-03-29           88            13                   9\n",
      "149       2025-03-30           89            13                   9\n",
      "150       2025-03-31           90            14                   9\n",
      "151       2025-04-01           91            14                   9\n",
      "152       2025-04-02           92            14                   9\n",
      "153       2025-04-03           93            14                   9\n",
      "154       2025-04-04           94            14                   9\n",
      "155       2025-04-05           95            14                   9\n",
      "156       2025-04-06           96            14                   9\n",
      "157       2025-04-07           97            15                   9\n",
      "158       2025-04-08           98            15                   9\n",
      "159       2025-04-09           99            15                   9\n",
      "160       2025-04-10          100            15                   9\n",
      "161       2025-04-11          101            15                   9\n",
      "162       2025-04-12          102            15                   9\n",
      "163       2025-04-13          103            15                   9\n",
      "164       2025-04-14          104            16                   9\n",
      "165       2025-04-15          105            16                   9\n",
      "166       2025-04-16          106            16                   9\n",
      "167       2025-04-17          107            16                   9\n",
      "168       2025-04-18          108            16                   9\n",
      "169       2025-04-19          109            16                   9\n",
      "170       2025-04-20          110            16                   9\n",
      "171       2025-04-21          111            17                   9\n",
      "172       2025-04-22          112            17                   9\n",
      "173       2025-04-23          113            17                   9\n",
      "174       2025-04-24          114            17                   9\n",
      "175       2025-04-25          115            17                   9\n",
      "176       2025-04-26          116            17                   9\n",
      "177       2025-04-27          117            17                   9\n",
      "178       2025-04-28          118            18                   9\n",
      "179       2025-04-29          119            18                   9\n",
      "180       2025-04-30          120            18                   9\n",
      "181       2025-05-01          121            18                   9\n",
      "182       2025-05-02          122            18                   9\n",
      "183       2025-05-03          123            18                   9\n",
      "184       2025-05-04          124            18                   9\n",
      "185       2025-05-05          125            19                   9\n",
      "186       2025-05-06          126            19                   9\n",
      "187       2025-05-07          127            19                   9\n",
      "188       2025-05-08          128            19                   9\n",
      "189       2025-05-09          129            19                   9\n",
      "190       2025-05-10          130            19                   9\n",
      "191       2025-05-11          131            19                   9\n",
      "192       2025-05-12          132            20                   9\n",
      "193       2025-05-13          133            20                   9\n",
      "194       2025-05-14          134            20                   9\n",
      "195       2025-05-15          135            20                   9\n",
      "196       2025-05-16          136            20                   9\n",
      "197       2025-05-17          137            20                   9\n",
      "198       2025-05-18          138            20                   9\n",
      "199       2025-05-19          139            21                   9\n",
      "200       2025-05-20          140            21                   9\n",
      "201       2025-05-21          141            21                   9\n",
      "202       2025-05-22          142            21                   9\n",
      "203       2025-05-23          143            21                   9\n",
      "204       2025-05-24          144            21                   9\n",
      "205       2025-05-25          145            21                   9\n",
      "206       2025-05-26          146            22                   9\n",
      "207       2025-05-27          147            22                   9\n",
      "208       2025-05-28          148            22                   9\n",
      "209       2025-05-29          149            22                   9\n",
      "210       2025-05-30          150            22                   9\n",
      "211       2025-05-31          151            22                   9\n",
      "212       2025-06-01          152            22                   9\n",
      "213       2025-06-02          153            23                   9\n",
      "214       2025-06-03          154            23                   9\n",
      "215       2025-06-04          155            23                   9\n",
      "216       2025-06-05          156            23                   9\n",
      "217       2025-06-06          157            23                   9\n",
      "218       2025-06-07          158            23                   9\n",
      "219       2025-06-08          159            23                   9\n",
      "220       2025-06-09          160            24                   9\n",
      "221       2025-06-10          161            24                   9\n",
      "222       2025-06-11          162            24                   9\n",
      "223       2025-06-12          163            24                   9\n",
      "224       2025-06-13          164            24                   9\n",
      "225       2025-06-14          165            24                   9\n",
      "226       2025-06-15          166            24                   9\n",
      "227       2025-06-16          167            25                   9\n",
      "228       2025-06-17          168            25                   9\n",
      "229       2025-06-18          169            25                   9\n",
      "230       2025-06-19          170            25                   9\n",
      "231       2025-06-20          171            25                   9\n",
      "232       2025-06-21          172            25                   9\n",
      "233       2025-06-22          173            25                   9\n",
      "234       2025-06-23          174            26                   9\n",
      "235       2025-06-24          175            26                   9\n",
      "236       2025-06-25          176            26                   9\n",
      "237       2025-06-26          177            26                   9\n",
      "238       2025-06-27          178            26                   9\n",
      "239       2025-06-28          179            26                   9\n",
      "240       2025-06-29          180            26                   9\n",
      "241       2025-06-30          181            27                   9\n",
      "242       2025-07-01          182            27                   9\n",
      "243       2025-07-02          183            27                   9\n",
      "244       2025-07-03          184            27                   9\n",
      "245       2025-07-04          185            27                   9\n",
      "246       2025-07-05          186            27                   9\n",
      "247       2025-07-06          187            27                   9\n",
      "248       2025-07-07          188            28                   9\n",
      "249       2025-07-08          189            28                   9\n",
      "250       2025-07-09          190            28                   9\n",
      "251       2025-07-10          191            28                   9\n",
      "252       2025-07-11          192            28                   9\n",
      "253       2025-07-12          193            28                   9\n",
      "254       2025-07-13          194            28                   9\n",
      "255       2025-07-14          195            29                   9\n",
      "256       2025-07-15          196            29                   9\n",
      "257       2025-07-16          197            29                   9\n",
      "258       2025-07-17          198            29                   9\n",
      "259       2025-07-18          199            29                   9\n",
      "260       2025-07-19          200            29                   9\n",
      "261       2025-07-20          201            29                   9\n",
      "262       2025-07-21          202            30                   9\n",
      "263       2025-07-22          203            30                   9\n",
      "264       2025-07-23          204            30                   9\n",
      "265       2025-07-24          205            30                   9\n",
      "266       2025-07-25          206            30                   9\n",
      "267       2025-07-26          207            30                   9\n",
      "268       2025-07-27          208            30                   9\n",
      "269       2025-07-28          209            31                   9\n",
      "270       2025-07-29          210            31                   9\n",
      "271       2025-07-30          211            31                   9\n",
      "272       2025-07-31          212            31                   9\n",
      "273       2025-08-01          213            31                   9\n",
      "274       2025-08-02          214            31                   9\n",
      "275       2025-08-03          215            31                   9\n",
      "276       2025-08-04          216            32                   9\n",
      "277       2025-08-05          217            32                   9\n",
      "278       2025-08-06          218            32                   9\n",
      "279       2025-08-07          219            32                   9\n",
      "280       2025-08-08          220            32                   9\n",
      "281       2025-08-09          221            32                   9\n",
      "282       2025-08-10          222            32                   9\n",
      "283       2025-08-11          223            33                   9\n",
      "284       2025-08-12          224            33                   9\n",
      "285       2025-08-13          225            33                   9\n",
      "286       2025-08-14          226            33                   9\n",
      "287       2025-08-15          227            33                   9\n",
      "288       2025-08-16          228            33                   9\n",
      "289       2025-08-17          229            33                   9\n",
      "290       2025-08-18          230            34                   9\n",
      "291       2025-08-19          231            34                   9\n",
      "292       2025-08-20          232            34                   9\n",
      "293       2025-08-21          233            34                   9\n",
      "294       2025-08-22          234            34                   9\n",
      "295       2025-08-23          235            34                   9\n",
      "296       2025-08-24          236            34                   9\n",
      "297       2025-08-25          237            35                   9\n",
      "298       2025-08-26          238            35                   9\n",
      "299       2025-08-27          239            35                   9\n",
      "300       2025-08-28          240            35                   9\n",
      "301       2025-08-29          241            35                   9\n",
      "302       2025-08-30          242            35                   9\n",
      "303       2025-08-31          243            35                   9\n",
      "304       2025-09-01          244            36                   9\n",
      "305       2025-09-02          245            36                   9\n",
      "306       2025-09-03          246            36                   9\n",
      "307       2025-09-04          247            36                   9\n",
      "308       2025-09-05          248            36                   9\n",
      "309       2025-09-06          249            36                   9\n",
      "310       2025-09-07          250            36                   9\n",
      "311       2025-09-08          251            37                   9\n",
      "312       2025-09-09          252            37                   9\n",
      "313       2025-09-10          253            37                   9\n",
      "314       2025-09-11          254            37                   9\n",
      "315       2025-09-12          255            37                   9\n",
      "316       2025-09-13          256            37                   9\n",
      "317       2025-09-14          257            37                   9\n",
      "318       2025-09-15          258            38                   9\n",
      "319       2025-09-16          259            38                   9\n",
      "320       2025-09-17          260            38                   9\n",
      "321       2025-09-18          261            38                   9\n",
      "322       2025-09-19          262            38                   9\n",
      "323       2025-09-20          263            38                   9\n",
      "324       2025-09-21          264            38                   9\n",
      "325       2025-09-22          265            39                   9\n",
      "326       2025-09-23          266            39                   9\n",
      "327       2025-09-24          267            39                   9\n",
      "328       2025-09-25          268            39                   9\n",
      "329       2025-09-26          269            39                   9\n",
      "330       2025-09-27          270            39                   9\n",
      "331       2025-09-28          271            39                   9\n",
      "332       2025-09-29          272            40                   9\n",
      "333       2025-09-30          273            40                   9\n",
      "334       2025-10-01          274            40                   9\n",
      "335       2025-10-02          275            40                   9\n",
      "336       2025-10-03          276            40                   9\n",
      "337       2025-10-04          277            40                   9\n",
      "338       2025-10-05          278            40                   9\n",
      "339       2025-10-06          279            41                   9\n",
      "340       2025-10-07          280            41                   9\n",
      "341       2025-10-08          281            41                   9\n",
      "342       2025-10-09          282            41                   9\n",
      "343       2025-10-10          283            41                   9\n",
      "344       2025-10-11          284            41                   9\n",
      "345       2025-10-12          285            41                   9\n",
      "346       2025-10-13          286            42                   9\n",
      "347       2025-10-14          287            42                   9\n",
      "348       2025-10-15          288            42                   9\n",
      "349       2025-10-16          289            42                   9\n",
      "350       2025-10-17          290            42                   9\n",
      "351       2025-10-18          291            42                   9\n",
      "352       2025-10-19          292            42                   9\n",
      "353       2025-10-20          293            43                   9\n",
      "354       2025-10-21          294            43                   9\n",
      "355       2025-10-22          295            43                   9\n",
      "356       2025-10-23          296            43                   9\n",
      "357       2025-10-24          297            43                   9\n",
      "358       2025-10-25          298            43                   9\n",
      "359       2025-10-26          299            43                   9\n",
      "360       2025-10-27          300            44                   9\n",
      "361       2025-10-28          301            44                   9\n",
      "362       2025-10-29          302            44                   9\n",
      "363       2025-10-30          303            44                   9\n",
      "364       2025-10-31          304            44                   9\n",
      "365       2025-11-01          305            44                   9\n",
      "366       2025-11-02          306            44                   9\n",
      "367       2025-11-03          307            45                   9\n",
      "368       2025-11-04          308            45                   9\n",
      "369       2025-11-05          309            45                   9\n",
      "370       2025-11-06          310            45                   9\n",
      "371       2025-11-07          311            45                   9\n",
      "372       2025-11-08          312            45                   9\n",
      "373       2025-11-09          313            45                   9\n",
      "374       2025-11-10          314            46                   9\n",
      "375       2025-11-11          315            46                   9\n",
      "376       2025-11-12          316            46                   9\n",
      "377       2025-11-13          317            46                   9\n",
      "378       2025-11-14          318            46                   9\n",
      "379       2025-11-15          319            46                   9\n",
      "380       2025-11-16          320            46                   9\n",
      "381       2025-11-17          321            47                   9\n",
      "382       2025-11-18          322            47                   9\n",
      "383       2025-11-19          323            47                   9\n",
      "384       2025-11-20          324            47                   9\n",
      "385       2025-11-21          325            47                   9\n",
      "386       2025-11-22          326            47                   9\n",
      "387       2025-11-23          327            47                   9\n",
      "388       2025-11-24          328            48                   9\n",
      "389       2025-11-25          329            48                   9\n",
      "390       2025-11-26          330            48                   9\n",
      "391       2025-11-27          331            48                   9\n",
      "392       2025-11-28          332            48                   9\n",
      "393       2025-11-29          333            48                   9\n",
      "394       2025-11-30          334            48                   9\n",
      "395       2025-12-01          335            49                   9\n",
      "396       2025-12-02          336            49                   9\n",
      "397       2025-12-03          337            49                   9\n",
      "398       2025-12-04          338            49                   9\n",
      "399       2025-12-05          339            49                   9\n",
      "400       2025-12-06          340            49                   9\n",
      "401       2025-12-07          341            49                   9\n",
      "402       2025-12-08          342            50                   9\n",
      "403       2025-12-09          343            50                   9\n",
      "404       2025-12-10          344            50                   9\n",
      "405       2025-12-11          345            50                   9\n",
      "406       2025-12-12          346            50                   9\n",
      "407       2025-12-13          347            50                   9\n",
      "408       2025-12-14          348            50                   9\n",
      "409       2025-12-15          349            51                   9\n",
      "410       2025-12-16          350            51                   9\n",
      "411       2025-12-17          351            51                   9\n",
      "412       2025-12-18          352            51                   9\n",
      "413       2025-12-19          353            51                   9\n",
      "414       2025-12-20          354            51                   9\n",
      "415       2025-12-21          355            51                   9\n",
      "416       2025-12-22          356            52                   9\n",
      "417       2025-12-23          357            52                   9\n",
      "418       2025-12-24          358            52                   9\n",
      "419       2025-12-25          359            52                   9\n",
      "420       2025-12-26          360            52                   9\n",
      "421       2025-12-27          361            52                   9\n",
      "422       2025-12-28          362            52                   9\n",
      "423       2025-12-29          363             1                   7\n",
      "424       2025-12-30          364             1                   7\n",
      "425       2025-12-31          365             1                   7\n"
     ]
    }
   ],
   "source": [
    "pd.set_option('display.max_rows', None)  # To display all rows\n",
    "pd.set_option('display.max_columns', None)  # To display all columns\n",
    "print(future_df)"
   ]
  },
  {
   "cell_type": "code",
   "execution_count": 161,
   "metadata": {},
   "outputs": [
    {
     "data": {
      "application/vnd.plotly.v1+json": {
       "config": {
        "plotlyServerURL": "https://plot.ly"
       },
       "data": [
        {
         "colorscale": [
          [
           0,
           "rgb(247,251,255)"
          ],
          [
           0.125,
           "rgb(222,235,247)"
          ],
          [
           0.25,
           "rgb(198,219,239)"
          ],
          [
           0.375,
           "rgb(158,202,225)"
          ],
          [
           0.5,
           "rgb(107,174,214)"
          ],
          [
           0.625,
           "rgb(66,146,198)"
          ],
          [
           0.75,
           "rgb(33,113,181)"
          ],
          [
           0.875,
           "rgb(8,81,156)"
          ],
          [
           1,
           "rgb(8,48,107)"
          ]
         ],
         "customdata": [
          [
           "2024-01-01",
           "y"
          ],
          [
           "2024-01-02",
           "y"
          ],
          [
           "2024-01-03",
           "y"
          ],
          [
           "2024-01-04",
           "y"
          ],
          [
           "2024-01-05",
           "y"
          ],
          [
           "2024-01-06",
           "y"
          ],
          [
           "2024-01-07",
           "y"
          ],
          [
           "2024-01-08",
           "y"
          ],
          [
           "2024-01-09",
           "y"
          ],
          [
           "2024-01-10",
           "y"
          ],
          [
           "2024-01-11",
           "y"
          ],
          [
           "2024-01-12",
           "y"
          ],
          [
           "2024-01-13",
           "y"
          ],
          [
           "2024-01-14",
           "y"
          ],
          [
           "2024-01-15",
           "y"
          ],
          [
           "2024-01-16",
           "y"
          ],
          [
           "2024-01-17",
           "y"
          ],
          [
           "2024-01-18",
           "y"
          ],
          [
           "2024-01-19",
           "y"
          ],
          [
           "2024-01-20",
           "y"
          ],
          [
           "2024-01-21",
           "y"
          ],
          [
           "2024-01-22",
           "y"
          ],
          [
           "2024-01-23",
           "y"
          ],
          [
           "2024-01-24",
           "y"
          ],
          [
           "2024-01-25",
           "y"
          ],
          [
           "2024-01-26",
           "y"
          ],
          [
           "2024-01-27",
           "y"
          ],
          [
           "2024-01-28",
           "y"
          ],
          [
           "2024-01-29",
           "y"
          ],
          [
           "2024-01-30",
           "y"
          ],
          [
           "2024-01-31",
           "y"
          ],
          [
           "2024-02-01",
           "y"
          ],
          [
           "2024-02-02",
           "y"
          ],
          [
           "2024-02-03",
           "y"
          ],
          [
           "2024-02-04",
           "y"
          ],
          [
           "2024-02-05",
           "y"
          ],
          [
           "2024-02-06",
           "y"
          ],
          [
           "2024-02-07",
           "y"
          ],
          [
           "2024-02-08",
           "y"
          ],
          [
           "2024-02-09",
           "y"
          ],
          [
           "2024-02-10",
           "y"
          ],
          [
           "2024-02-11",
           "y"
          ],
          [
           "2024-02-12",
           "y"
          ],
          [
           "2024-02-13",
           "y"
          ],
          [
           "2024-02-14",
           "y"
          ],
          [
           "2024-02-15",
           "y"
          ],
          [
           "2024-02-16",
           "y"
          ],
          [
           "2024-02-17",
           "y"
          ],
          [
           "2024-02-18",
           "y"
          ],
          [
           "2024-02-19",
           "y"
          ],
          [
           "2024-02-20",
           "y"
          ],
          [
           "2024-02-21",
           "y"
          ],
          [
           "2024-02-22",
           "y"
          ],
          [
           "2024-02-23",
           "y"
          ],
          [
           "2024-02-24",
           "y"
          ],
          [
           "2024-02-25",
           "y"
          ],
          [
           "2024-02-26",
           "y"
          ],
          [
           "2024-02-27",
           "y"
          ],
          [
           "2024-02-28",
           "y"
          ],
          [
           "2024-02-29",
           "y"
          ],
          [
           "2024-03-01",
           "y"
          ],
          [
           "2024-03-02",
           "y"
          ],
          [
           "2024-03-03",
           "y"
          ],
          [
           "2024-03-04",
           "y"
          ],
          [
           "2024-03-05",
           "y"
          ],
          [
           "2024-03-06",
           "y"
          ],
          [
           "2024-03-07",
           "y"
          ],
          [
           "2024-03-08",
           "y"
          ],
          [
           "2024-03-09",
           "y"
          ],
          [
           "2024-03-10",
           "y"
          ],
          [
           "2024-03-11",
           "y"
          ],
          [
           "2024-03-12",
           "y"
          ],
          [
           "2024-03-13",
           "y"
          ],
          [
           "2024-03-14",
           "y"
          ],
          [
           "2024-03-15",
           "y"
          ],
          [
           "2024-03-16",
           "y"
          ],
          [
           "2024-03-17",
           "y"
          ],
          [
           "2024-03-18",
           "y"
          ],
          [
           "2024-03-19",
           "y"
          ],
          [
           "2024-03-20",
           "y"
          ],
          [
           "2024-03-21",
           "y"
          ],
          [
           "2024-03-22",
           "y"
          ],
          [
           "2024-03-23",
           "y"
          ],
          [
           "2024-03-24",
           "y"
          ],
          [
           "2024-03-25",
           "y"
          ],
          [
           "2024-03-26",
           "y"
          ],
          [
           "2024-03-27",
           "y"
          ],
          [
           "2024-03-28",
           "y"
          ],
          [
           "2024-03-29",
           "y"
          ],
          [
           "2024-03-30",
           "y"
          ],
          [
           "2024-03-31",
           "y"
          ],
          [
           "2024-04-01",
           "y"
          ],
          [
           "2024-04-02",
           "y"
          ],
          [
           "2024-04-03",
           "y"
          ],
          [
           "2024-04-04",
           "y"
          ],
          [
           "2024-04-05",
           "y"
          ],
          [
           "2024-04-06",
           "y"
          ],
          [
           "2024-04-07",
           "y"
          ],
          [
           "2024-04-08",
           "y"
          ],
          [
           "2024-04-09",
           "y"
          ],
          [
           "2024-04-10",
           "y"
          ],
          [
           "2024-04-11",
           "y"
          ],
          [
           "2024-04-12",
           "y"
          ],
          [
           "2024-04-13",
           "y"
          ],
          [
           "2024-04-14",
           "y"
          ],
          [
           "2024-04-15",
           "y"
          ],
          [
           "2024-04-16",
           "y"
          ],
          [
           "2024-04-17",
           "y"
          ],
          [
           "2024-04-18",
           "y"
          ],
          [
           "2024-04-19",
           "y"
          ],
          [
           "2024-04-20",
           "y"
          ],
          [
           "2024-04-21",
           "y"
          ],
          [
           "2024-04-22",
           "y"
          ],
          [
           "2024-04-23",
           "y"
          ],
          [
           "2024-04-24",
           "y"
          ],
          [
           "2024-04-25",
           "y"
          ],
          [
           "2024-04-26",
           "y"
          ],
          [
           "2024-04-27",
           "y"
          ],
          [
           "2024-04-28",
           "y"
          ],
          [
           "2024-04-29",
           "y"
          ],
          [
           "2024-04-30",
           "y"
          ],
          [
           "2024-05-01",
           "y"
          ],
          [
           "2024-05-02",
           "y"
          ],
          [
           "2024-05-03",
           "y"
          ],
          [
           "2024-05-04",
           "y"
          ],
          [
           "2024-05-05",
           "y"
          ],
          [
           "2024-05-06",
           "y"
          ],
          [
           "2024-05-07",
           "y"
          ],
          [
           "2024-05-08",
           "y"
          ],
          [
           "2024-05-09",
           "y"
          ],
          [
           "2024-05-10",
           "y"
          ],
          [
           "2024-05-11",
           "y"
          ],
          [
           "2024-05-12",
           "y"
          ],
          [
           "2024-05-13",
           "y"
          ],
          [
           "2024-05-14",
           "y"
          ],
          [
           "2024-05-15",
           "y"
          ],
          [
           "2024-05-16",
           "y"
          ],
          [
           "2024-05-17",
           "y"
          ],
          [
           "2024-05-18",
           "y"
          ],
          [
           "2024-05-19",
           "y"
          ],
          [
           "2024-05-20",
           "y"
          ],
          [
           "2024-05-21",
           "y"
          ],
          [
           "2024-05-22",
           "y"
          ],
          [
           "2024-05-23",
           "y"
          ],
          [
           "2024-05-24",
           "y"
          ],
          [
           "2024-05-25",
           "y"
          ],
          [
           "2024-05-26",
           "y"
          ],
          [
           "2024-05-27",
           "y"
          ],
          [
           "2024-05-28",
           "y"
          ],
          [
           "2024-05-29",
           "y"
          ],
          [
           "2024-05-30",
           "y"
          ],
          [
           "2024-05-31",
           "y"
          ],
          [
           "2024-06-01",
           "y"
          ],
          [
           "2024-06-02",
           "y"
          ],
          [
           "2024-06-03",
           "y"
          ],
          [
           "2024-06-04",
           "y"
          ],
          [
           "2024-06-05",
           "y"
          ],
          [
           "2024-06-06",
           "y"
          ],
          [
           "2024-06-07",
           "y"
          ],
          [
           "2024-06-08",
           "y"
          ],
          [
           "2024-06-09",
           "y"
          ],
          [
           "2024-06-10",
           "y"
          ],
          [
           "2024-06-11",
           "y"
          ],
          [
           "2024-06-12",
           "y"
          ],
          [
           "2024-06-13",
           "y"
          ],
          [
           "2024-06-14",
           "y"
          ],
          [
           "2024-06-15",
           "y"
          ],
          [
           "2024-06-16",
           "y"
          ],
          [
           "2024-06-17",
           "y"
          ],
          [
           "2024-06-18",
           "y"
          ],
          [
           "2024-06-19",
           "y"
          ],
          [
           "2024-06-20",
           "y"
          ],
          [
           "2024-06-21",
           "y"
          ],
          [
           "2024-06-22",
           "y"
          ],
          [
           "2024-06-23",
           "y"
          ],
          [
           "2024-06-24",
           "y"
          ],
          [
           "2024-06-25",
           "y"
          ],
          [
           "2024-06-26",
           "y"
          ],
          [
           "2024-06-27",
           "y"
          ],
          [
           "2024-06-28",
           "y"
          ],
          [
           "2024-06-29",
           "y"
          ],
          [
           "2024-06-30",
           "y"
          ],
          [
           "2024-07-01",
           "y"
          ],
          [
           "2024-07-02",
           "y"
          ],
          [
           "2024-07-03",
           "y"
          ],
          [
           "2024-07-04",
           "y"
          ],
          [
           "2024-07-05",
           "y"
          ],
          [
           "2024-07-06",
           "y"
          ],
          [
           "2024-07-07",
           "y"
          ],
          [
           "2024-07-08",
           "y"
          ],
          [
           "2024-07-09",
           "y"
          ],
          [
           "2024-07-10",
           "y"
          ],
          [
           "2024-07-11",
           "y"
          ],
          [
           "2024-07-12",
           "y"
          ],
          [
           "2024-07-13",
           "y"
          ],
          [
           "2024-07-14",
           "y"
          ],
          [
           "2024-07-15",
           "y"
          ],
          [
           "2024-07-16",
           "y"
          ],
          [
           "2024-07-17",
           "y"
          ],
          [
           "2024-07-18",
           "y"
          ],
          [
           "2024-07-19",
           "y"
          ],
          [
           "2024-07-20",
           "y"
          ],
          [
           "2024-07-21",
           "y"
          ],
          [
           "2024-07-22",
           "y"
          ],
          [
           "2024-07-23",
           "y"
          ],
          [
           "2024-07-24",
           "y"
          ],
          [
           "2024-07-25",
           "y"
          ],
          [
           "2024-07-26",
           "y"
          ],
          [
           "2024-07-27",
           "y"
          ],
          [
           "2024-07-28",
           "y"
          ],
          [
           "2024-07-29",
           "y"
          ],
          [
           "2024-07-30",
           "y"
          ],
          [
           "2024-07-31",
           "y"
          ],
          [
           "2024-08-01",
           "y"
          ],
          [
           "2024-08-02",
           "y"
          ],
          [
           "2024-08-03",
           "y"
          ],
          [
           "2024-08-04",
           "y"
          ],
          [
           "2024-08-05",
           "y"
          ],
          [
           "2024-08-06",
           "y"
          ],
          [
           "2024-08-07",
           "y"
          ],
          [
           "2024-08-08",
           "y"
          ],
          [
           "2024-08-09",
           "y"
          ],
          [
           "2024-08-10",
           "y"
          ],
          [
           "2024-08-11",
           "y"
          ],
          [
           "2024-08-12",
           "y"
          ],
          [
           "2024-08-13",
           "y"
          ],
          [
           "2024-08-14",
           "y"
          ],
          [
           "2024-08-15",
           "y"
          ],
          [
           "2024-08-16",
           "y"
          ],
          [
           "2024-08-17",
           "y"
          ],
          [
           "2024-08-18",
           "y"
          ],
          [
           "2024-08-19",
           "y"
          ],
          [
           "2024-08-20",
           "y"
          ],
          [
           "2024-08-21",
           "y"
          ],
          [
           "2024-08-22",
           "y"
          ],
          [
           "2024-08-23",
           "y"
          ],
          [
           "2024-08-24",
           "y"
          ],
          [
           "2024-08-25",
           "y"
          ],
          [
           "2024-08-26",
           "y"
          ],
          [
           "2024-08-27",
           "y"
          ],
          [
           "2024-08-28",
           "y"
          ],
          [
           "2024-08-29",
           "y"
          ],
          [
           "2024-08-30",
           "y"
          ],
          [
           "2024-08-31",
           "y"
          ],
          [
           "2024-09-01",
           "y"
          ],
          [
           "2024-09-02",
           "y"
          ],
          [
           "2024-09-03",
           "y"
          ],
          [
           "2024-09-04",
           "y"
          ],
          [
           "2024-09-05",
           "y"
          ],
          [
           "2024-09-06",
           "y"
          ],
          [
           "2024-09-07",
           "y"
          ],
          [
           "2024-09-08",
           "y"
          ],
          [
           "2024-09-09",
           "y"
          ],
          [
           "2024-09-10",
           "y"
          ],
          [
           "2024-09-11",
           "y"
          ],
          [
           "2024-09-12",
           "y"
          ],
          [
           "2024-09-13",
           "y"
          ],
          [
           "2024-09-14",
           "y"
          ],
          [
           "2024-09-15",
           "y"
          ],
          [
           "2024-09-16",
           "y"
          ],
          [
           "2024-09-17",
           "y"
          ],
          [
           "2024-09-18",
           "y"
          ],
          [
           "2024-09-19",
           "y"
          ],
          [
           "2024-09-20",
           "y"
          ],
          [
           "2024-09-21",
           "y"
          ],
          [
           "2024-09-22",
           "y"
          ],
          [
           "2024-09-23",
           "y"
          ],
          [
           "2024-09-24",
           "y"
          ],
          [
           "2024-09-25",
           "y"
          ],
          [
           "2024-09-26",
           "y"
          ],
          [
           "2024-09-27",
           "y"
          ],
          [
           "2024-09-28",
           "y"
          ],
          [
           "2024-09-29",
           "y"
          ],
          [
           "2024-09-30",
           "y"
          ],
          [
           "2024-10-01",
           "y"
          ],
          [
           "2024-10-02",
           "y"
          ],
          [
           "2024-10-03",
           "y"
          ],
          [
           "2024-10-04",
           "y"
          ],
          [
           "2024-10-05",
           "y"
          ],
          [
           "2024-10-06",
           "y"
          ],
          [
           "2024-10-07",
           "y"
          ],
          [
           "2024-10-08",
           "y"
          ],
          [
           "2024-10-09",
           "y"
          ],
          [
           "2024-10-10",
           "y"
          ],
          [
           "2024-10-11",
           "y"
          ],
          [
           "2024-10-12",
           "y"
          ],
          [
           "2024-10-13",
           "y"
          ],
          [
           "2024-10-14",
           "y"
          ],
          [
           "2024-10-15",
           "y"
          ],
          [
           "2024-10-16",
           "y"
          ],
          [
           "2024-10-17",
           "y"
          ],
          [
           "2024-10-18",
           "y"
          ],
          [
           "2024-10-19",
           "y"
          ],
          [
           "2024-10-20",
           "y"
          ],
          [
           "2024-10-21",
           "y"
          ],
          [
           "2024-10-22",
           "y"
          ],
          [
           "2024-10-23",
           "y"
          ],
          [
           "2024-10-24",
           "y"
          ],
          [
           "2024-10-25",
           "y"
          ],
          [
           "2024-10-26",
           "y"
          ],
          [
           "2024-10-27",
           "y"
          ],
          [
           "2024-10-28",
           "y"
          ],
          [
           "2024-10-29",
           "y"
          ],
          [
           "2024-10-30",
           "y"
          ],
          [
           "2024-10-31",
           "y"
          ],
          [
           "2024-11-01",
           "y"
          ],
          [
           "2024-11-02",
           "y"
          ],
          [
           "2024-11-03",
           "y"
          ],
          [
           "2024-11-04",
           "y"
          ],
          [
           "2024-11-05",
           "y"
          ],
          [
           "2024-11-06",
           "y"
          ],
          [
           "2024-11-07",
           "y"
          ],
          [
           "2024-11-08",
           "y"
          ],
          [
           "2024-11-09",
           "y"
          ],
          [
           "2024-11-10",
           "y"
          ],
          [
           "2024-11-11",
           "y"
          ],
          [
           "2024-11-12",
           "y"
          ],
          [
           "2024-11-13",
           "y"
          ],
          [
           "2024-11-14",
           "y"
          ],
          [
           "2024-11-15",
           "y"
          ],
          [
           "2024-11-16",
           "y"
          ],
          [
           "2024-11-17",
           "y"
          ],
          [
           "2024-11-18",
           "y"
          ],
          [
           "2024-11-19",
           "y"
          ],
          [
           "2024-11-20",
           "y"
          ],
          [
           "2024-11-21",
           "y"
          ],
          [
           "2024-11-22",
           "y"
          ],
          [
           "2024-11-23",
           "y"
          ],
          [
           "2024-11-24",
           "y"
          ],
          [
           "2024-11-25",
           "y"
          ],
          [
           "2024-11-26",
           "y"
          ],
          [
           "2024-11-27",
           "y"
          ],
          [
           "2024-11-28",
           "y"
          ],
          [
           "2024-11-29",
           "y"
          ],
          [
           "2024-11-30",
           "y"
          ],
          [
           "2024-12-01",
           "y"
          ],
          [
           "2024-12-02",
           "y"
          ],
          [
           "2024-12-03",
           "y"
          ],
          [
           "2024-12-04",
           "y"
          ],
          [
           "2024-12-05",
           "y"
          ],
          [
           "2024-12-06",
           "y"
          ],
          [
           "2024-12-07",
           "y"
          ],
          [
           "2024-12-08",
           "y"
          ],
          [
           "2024-12-09",
           "y"
          ],
          [
           "2024-12-10",
           "y"
          ],
          [
           "2024-12-11",
           "y"
          ],
          [
           "2024-12-12",
           "y"
          ],
          [
           "2024-12-13",
           "y"
          ],
          [
           "2024-12-14",
           "y"
          ],
          [
           "2024-12-15",
           "y"
          ],
          [
           "2024-12-16",
           "y"
          ],
          [
           "2024-12-17",
           "y"
          ],
          [
           "2024-12-18",
           "y"
          ],
          [
           "2024-12-19",
           "y"
          ],
          [
           "2024-12-20",
           "y"
          ],
          [
           "2024-12-21",
           "y"
          ],
          [
           "2024-12-22",
           "y"
          ],
          [
           "2024-12-23",
           "y"
          ],
          [
           "2024-12-24",
           "y"
          ],
          [
           "2024-12-25",
           "y"
          ],
          [
           "2024-12-26",
           "y"
          ],
          [
           "2024-12-27",
           "y"
          ],
          [
           "2024-12-28",
           "y"
          ],
          [
           "2024-12-29",
           "y"
          ],
          [
           "2024-12-30",
           "y"
          ],
          [
           "2024-12-31",
           "y"
          ]
         ],
         "hovertemplate": "%{customdata[0]} <br>Week=%{x} <br>%{customdata[1]}=%{z}",
         "name": "2024",
         "showscale": false,
         "type": "heatmap",
         "x": [
          1,
          1,
          1,
          1,
          1,
          1,
          1,
          2,
          2,
          2,
          2,
          2,
          2,
          2,
          3,
          3,
          3,
          3,
          3,
          3,
          3,
          4,
          4,
          4,
          4,
          4,
          4,
          4,
          5,
          5,
          5,
          5,
          5,
          5,
          5,
          6,
          6,
          6,
          6,
          6,
          6,
          6,
          7,
          7,
          7,
          7,
          7,
          7,
          7,
          8,
          8,
          8,
          8,
          8,
          8,
          8,
          9,
          9,
          9,
          9,
          9,
          9,
          9,
          10,
          10,
          10,
          10,
          10,
          10,
          10,
          11,
          11,
          11,
          11,
          11,
          11,
          11,
          12,
          12,
          12,
          12,
          12,
          12,
          12,
          13,
          13,
          13,
          13,
          13,
          13,
          13,
          14,
          14,
          14,
          14,
          14,
          14,
          14,
          15,
          15,
          15,
          15,
          15,
          15,
          15,
          16,
          16,
          16,
          16,
          16,
          16,
          16,
          17,
          17,
          17,
          17,
          17,
          17,
          17,
          18,
          18,
          18,
          18,
          18,
          18,
          18,
          19,
          19,
          19,
          19,
          19,
          19,
          19,
          20,
          20,
          20,
          20,
          20,
          20,
          20,
          21,
          21,
          21,
          21,
          21,
          21,
          21,
          22,
          22,
          22,
          22,
          22,
          22,
          22,
          23,
          23,
          23,
          23,
          23,
          23,
          23,
          24,
          24,
          24,
          24,
          24,
          24,
          24,
          25,
          25,
          25,
          25,
          25,
          25,
          25,
          26,
          26,
          26,
          26,
          26,
          26,
          26,
          27,
          27,
          27,
          27,
          27,
          27,
          27,
          28,
          28,
          28,
          28,
          28,
          28,
          28,
          29,
          29,
          29,
          29,
          29,
          29,
          29,
          30,
          30,
          30,
          30,
          30,
          30,
          30,
          31,
          31,
          31,
          31,
          31,
          31,
          31,
          32,
          32,
          32,
          32,
          32,
          32,
          32,
          33,
          33,
          33,
          33,
          33,
          33,
          33,
          34,
          34,
          34,
          34,
          34,
          34,
          34,
          35,
          35,
          35,
          35,
          35,
          35,
          35,
          36,
          36,
          36,
          36,
          36,
          36,
          36,
          37,
          37,
          37,
          37,
          37,
          37,
          37,
          38,
          38,
          38,
          38,
          38,
          38,
          38,
          39,
          39,
          39,
          39,
          39,
          39,
          39,
          40,
          40,
          40,
          40,
          40,
          40,
          40,
          41,
          41,
          41,
          41,
          41,
          41,
          41,
          42,
          42,
          42,
          42,
          42,
          42,
          42,
          43,
          43,
          43,
          43,
          43,
          43,
          43,
          44,
          44,
          44,
          44,
          44,
          44,
          44,
          45,
          45,
          45,
          45,
          45,
          45,
          45,
          46,
          46,
          46,
          46,
          46,
          46,
          46,
          47,
          47,
          47,
          47,
          47,
          47,
          47,
          48,
          48,
          48,
          48,
          48,
          48,
          48,
          49,
          49,
          49,
          49,
          49,
          49,
          49,
          50,
          50,
          50,
          50,
          50,
          50,
          50,
          51,
          51,
          51,
          51,
          51,
          51,
          51,
          52,
          52,
          52,
          52,
          52,
          52,
          52,
          53,
          53
         ],
         "xaxis": "x",
         "xgap": 0,
         "y": [
          0,
          1,
          2,
          3,
          4,
          5,
          6,
          0,
          1,
          2,
          3,
          4,
          5,
          6,
          0,
          1,
          2,
          3,
          4,
          5,
          6,
          0,
          1,
          2,
          3,
          4,
          5,
          6,
          0,
          1,
          2,
          3,
          4,
          5,
          6,
          0,
          1,
          2,
          3,
          4,
          5,
          6,
          0,
          1,
          2,
          3,
          4,
          5,
          6,
          0,
          1,
          2,
          3,
          4,
          5,
          6,
          0,
          1,
          2,
          3,
          4,
          5,
          6,
          0,
          1,
          2,
          3,
          4,
          5,
          6,
          0,
          1,
          2,
          3,
          4,
          5,
          6,
          0,
          1,
          2,
          3,
          4,
          5,
          6,
          0,
          1,
          2,
          3,
          4,
          5,
          6,
          0,
          1,
          2,
          3,
          4,
          5,
          6,
          0,
          1,
          2,
          3,
          4,
          5,
          6,
          0,
          1,
          2,
          3,
          4,
          5,
          6,
          0,
          1,
          2,
          3,
          4,
          5,
          6,
          0,
          1,
          2,
          3,
          4,
          5,
          6,
          0,
          1,
          2,
          3,
          4,
          5,
          6,
          0,
          1,
          2,
          3,
          4,
          5,
          6,
          0,
          1,
          2,
          3,
          4,
          5,
          6,
          0,
          1,
          2,
          3,
          4,
          5,
          6,
          0,
          1,
          2,
          3,
          4,
          5,
          6,
          0,
          1,
          2,
          3,
          4,
          5,
          6,
          0,
          1,
          2,
          3,
          4,
          5,
          6,
          0,
          1,
          2,
          3,
          4,
          5,
          6,
          0,
          1,
          2,
          3,
          4,
          5,
          6,
          0,
          1,
          2,
          3,
          4,
          5,
          6,
          0,
          1,
          2,
          3,
          4,
          5,
          6,
          0,
          1,
          2,
          3,
          4,
          5,
          6,
          0,
          1,
          2,
          3,
          4,
          5,
          6,
          0,
          1,
          2,
          3,
          4,
          5,
          6,
          0,
          1,
          2,
          3,
          4,
          5,
          6,
          0,
          1,
          2,
          3,
          4,
          5,
          6,
          0,
          1,
          2,
          3,
          4,
          5,
          6,
          0,
          1,
          2,
          3,
          4,
          5,
          6,
          0,
          1,
          2,
          3,
          4,
          5,
          6,
          0,
          1,
          2,
          3,
          4,
          5,
          6,
          0,
          1,
          2,
          3,
          4,
          5,
          6,
          0,
          1,
          2,
          3,
          4,
          5,
          6,
          0,
          1,
          2,
          3,
          4,
          5,
          6,
          0,
          1,
          2,
          3,
          4,
          5,
          6,
          0,
          1,
          2,
          3,
          4,
          5,
          6,
          0,
          1,
          2,
          3,
          4,
          5,
          6,
          0,
          1,
          2,
          3,
          4,
          5,
          6,
          0,
          1,
          2,
          3,
          4,
          5,
          6,
          0,
          1,
          2,
          3,
          4,
          5,
          6,
          0,
          1,
          2,
          3,
          4,
          5,
          6,
          0,
          1,
          2,
          3,
          4,
          5,
          6,
          0,
          1,
          2,
          3,
          4,
          5,
          6,
          0,
          1,
          2,
          3,
          4,
          5,
          6,
          0,
          1,
          2,
          3,
          4,
          5,
          6,
          0,
          1
         ],
         "yaxis": "y",
         "ygap": 0,
         "z": [
          null,
          null,
          null,
          null,
          null,
          null,
          null,
          null,
          null,
          null,
          null,
          null,
          null,
          null,
          null,
          null,
          null,
          null,
          null,
          null,
          null,
          null,
          null,
          null,
          null,
          null,
          null,
          null,
          null,
          null,
          null,
          null,
          null,
          null,
          null,
          null,
          null,
          null,
          null,
          null,
          null,
          null,
          null,
          null,
          null,
          null,
          null,
          null,
          null,
          null,
          null,
          null,
          null,
          null,
          null,
          null,
          null,
          null,
          null,
          null,
          null,
          null,
          null,
          null,
          null,
          null,
          null,
          null,
          null,
          null,
          null,
          null,
          null,
          null,
          null,
          null,
          null,
          null,
          null,
          null,
          null,
          null,
          null,
          null,
          null,
          null,
          null,
          null,
          null,
          null,
          null,
          null,
          null,
          null,
          null,
          null,
          null,
          null,
          null,
          null,
          null,
          null,
          null,
          null,
          null,
          null,
          null,
          null,
          null,
          null,
          null,
          null,
          null,
          null,
          null,
          null,
          null,
          null,
          null,
          null,
          null,
          null,
          null,
          null,
          null,
          null,
          null,
          null,
          null,
          null,
          null,
          null,
          null,
          null,
          null,
          null,
          null,
          null,
          null,
          null,
          null,
          null,
          null,
          null,
          null,
          null,
          null,
          null,
          null,
          null,
          null,
          null,
          null,
          null,
          null,
          null,
          null,
          null,
          null,
          null,
          null,
          null,
          null,
          null,
          null,
          null,
          null,
          null,
          null,
          null,
          null,
          null,
          null,
          null,
          null,
          null,
          null,
          null,
          null,
          null,
          null,
          null,
          null,
          null,
          null,
          null,
          null,
          null,
          null,
          null,
          null,
          null,
          null,
          null,
          null,
          null,
          null,
          null,
          null,
          null,
          null,
          null,
          null,
          null,
          null,
          null,
          null,
          null,
          null,
          null,
          null,
          null,
          null,
          null,
          null,
          null,
          null,
          null,
          null,
          null,
          null,
          null,
          null,
          null,
          null,
          null,
          null,
          null,
          null,
          null,
          null,
          null,
          null,
          null,
          null,
          null,
          null,
          null,
          null,
          null,
          null,
          null,
          null,
          null,
          null,
          null,
          null,
          null,
          null,
          null,
          null,
          null,
          null,
          null,
          null,
          null,
          null,
          null,
          null,
          null,
          null,
          null,
          null,
          null,
          null,
          null,
          null,
          null,
          null,
          null,
          null,
          null,
          null,
          null,
          null,
          null,
          null,
          null,
          null,
          null,
          null,
          null,
          null,
          null,
          null,
          null,
          null,
          null,
          null,
          null,
          null,
          null,
          null,
          null,
          null,
          null,
          null,
          null,
          null,
          null,
          null,
          null,
          null,
          null,
          null,
          9,
          9,
          9,
          9,
          9,
          9,
          9,
          9,
          9,
          9,
          9,
          9,
          9,
          9,
          9,
          9,
          9,
          9,
          9,
          9,
          9,
          9,
          9,
          9,
          9,
          9,
          9,
          9,
          9,
          9,
          9,
          9,
          9,
          9,
          9,
          9,
          9,
          9,
          9,
          9,
          9,
          9,
          9,
          9,
          9,
          9,
          9,
          9,
          9,
          9,
          9,
          9,
          9,
          9,
          9,
          9,
          9,
          9,
          9,
          7,
          7
         ],
         "zmax": 9,
         "zmin": 7
        },
        {
         "hoverinfo": "skip",
         "line": {
          "color": "#9e9e9e",
          "width": 1
         },
         "mode": "lines",
         "type": "scatter",
         "x": [
          0.5,
          0.5
         ],
         "xaxis": "x",
         "y": [
          -0.5,
          6.5
         ],
         "yaxis": "y"
        },
        {
         "hoverinfo": "skip",
         "line": {
          "color": "#9e9e9e",
          "width": 1
         },
         "mode": "lines",
         "type": "scatter",
         "x": [
          4.5,
          4.5
         ],
         "xaxis": "x",
         "y": [
          2.5,
          6.5
         ],
         "yaxis": "y"
        },
        {
         "hoverinfo": "skip",
         "line": {
          "color": "#9e9e9e",
          "width": 1
         },
         "mode": "lines",
         "type": "scatter",
         "x": [
          4.5,
          5.5
         ],
         "xaxis": "x",
         "y": [
          2.5,
          2.5
         ],
         "yaxis": "y"
        },
        {
         "hoverinfo": "skip",
         "line": {
          "color": "#9e9e9e",
          "width": 1
         },
         "mode": "lines",
         "type": "scatter",
         "x": [
          5.5,
          5.5
         ],
         "xaxis": "x",
         "y": [
          2.5,
          -0.5
         ],
         "yaxis": "y"
        },
        {
         "hoverinfo": "skip",
         "line": {
          "color": "#9e9e9e",
          "width": 1
         },
         "mode": "lines",
         "type": "scatter",
         "x": [
          8.5,
          8.5
         ],
         "xaxis": "x",
         "y": [
          3.5,
          6.5
         ],
         "yaxis": "y"
        },
        {
         "hoverinfo": "skip",
         "line": {
          "color": "#9e9e9e",
          "width": 1
         },
         "mode": "lines",
         "type": "scatter",
         "x": [
          8.5,
          9.5
         ],
         "xaxis": "x",
         "y": [
          3.5,
          3.5
         ],
         "yaxis": "y"
        },
        {
         "hoverinfo": "skip",
         "line": {
          "color": "#9e9e9e",
          "width": 1
         },
         "mode": "lines",
         "type": "scatter",
         "x": [
          9.5,
          9.5
         ],
         "xaxis": "x",
         "y": [
          3.5,
          -0.5
         ],
         "yaxis": "y"
        },
        {
         "hoverinfo": "skip",
         "line": {
          "color": "#9e9e9e",
          "width": 1
         },
         "mode": "lines",
         "type": "scatter",
         "x": [
          13.5,
          13.5
         ],
         "xaxis": "x",
         "y": [
          -0.5,
          6.5
         ],
         "yaxis": "y"
        },
        {
         "hoverinfo": "skip",
         "line": {
          "color": "#9e9e9e",
          "width": 1
         },
         "mode": "lines",
         "type": "scatter",
         "x": [
          17.5,
          17.5
         ],
         "xaxis": "x",
         "y": [
          1.5,
          6.5
         ],
         "yaxis": "y"
        },
        {
         "hoverinfo": "skip",
         "line": {
          "color": "#9e9e9e",
          "width": 1
         },
         "mode": "lines",
         "type": "scatter",
         "x": [
          17.5,
          18.5
         ],
         "xaxis": "x",
         "y": [
          1.5,
          1.5
         ],
         "yaxis": "y"
        },
        {
         "hoverinfo": "skip",
         "line": {
          "color": "#9e9e9e",
          "width": 1
         },
         "mode": "lines",
         "type": "scatter",
         "x": [
          18.5,
          18.5
         ],
         "xaxis": "x",
         "y": [
          1.5,
          -0.5
         ],
         "yaxis": "y"
        },
        {
         "hoverinfo": "skip",
         "line": {
          "color": "#9e9e9e",
          "width": 1
         },
         "mode": "lines",
         "type": "scatter",
         "x": [
          21.5,
          21.5
         ],
         "xaxis": "x",
         "y": [
          4.5,
          6.5
         ],
         "yaxis": "y"
        },
        {
         "hoverinfo": "skip",
         "line": {
          "color": "#9e9e9e",
          "width": 1
         },
         "mode": "lines",
         "type": "scatter",
         "x": [
          21.5,
          22.5
         ],
         "xaxis": "x",
         "y": [
          4.5,
          4.5
         ],
         "yaxis": "y"
        },
        {
         "hoverinfo": "skip",
         "line": {
          "color": "#9e9e9e",
          "width": 1
         },
         "mode": "lines",
         "type": "scatter",
         "x": [
          22.5,
          22.5
         ],
         "xaxis": "x",
         "y": [
          4.5,
          -0.5
         ],
         "yaxis": "y"
        },
        {
         "hoverinfo": "skip",
         "line": {
          "color": "#9e9e9e",
          "width": 1
         },
         "mode": "lines",
         "type": "scatter",
         "x": [
          26.5,
          26.5
         ],
         "xaxis": "x",
         "y": [
          -0.5,
          6.5
         ],
         "yaxis": "y"
        },
        {
         "hoverinfo": "skip",
         "line": {
          "color": "#9e9e9e",
          "width": 1
         },
         "mode": "lines",
         "type": "scatter",
         "x": [
          30.5,
          30.5
         ],
         "xaxis": "x",
         "y": [
          2.5,
          6.5
         ],
         "yaxis": "y"
        },
        {
         "hoverinfo": "skip",
         "line": {
          "color": "#9e9e9e",
          "width": 1
         },
         "mode": "lines",
         "type": "scatter",
         "x": [
          30.5,
          31.5
         ],
         "xaxis": "x",
         "y": [
          2.5,
          2.5
         ],
         "yaxis": "y"
        },
        {
         "hoverinfo": "skip",
         "line": {
          "color": "#9e9e9e",
          "width": 1
         },
         "mode": "lines",
         "type": "scatter",
         "x": [
          31.5,
          31.5
         ],
         "xaxis": "x",
         "y": [
          2.5,
          -0.5
         ],
         "yaxis": "y"
        },
        {
         "hoverinfo": "skip",
         "line": {
          "color": "#9e9e9e",
          "width": 1
         },
         "mode": "lines",
         "type": "scatter",
         "x": [
          34.5,
          34.5
         ],
         "xaxis": "x",
         "y": [
          5.5,
          6.5
         ],
         "yaxis": "y"
        },
        {
         "hoverinfo": "skip",
         "line": {
          "color": "#9e9e9e",
          "width": 1
         },
         "mode": "lines",
         "type": "scatter",
         "x": [
          34.5,
          35.5
         ],
         "xaxis": "x",
         "y": [
          5.5,
          5.5
         ],
         "yaxis": "y"
        },
        {
         "hoverinfo": "skip",
         "line": {
          "color": "#9e9e9e",
          "width": 1
         },
         "mode": "lines",
         "type": "scatter",
         "x": [
          35.5,
          35.5
         ],
         "xaxis": "x",
         "y": [
          5.5,
          -0.5
         ],
         "yaxis": "y"
        },
        {
         "hoverinfo": "skip",
         "line": {
          "color": "#9e9e9e",
          "width": 1
         },
         "mode": "lines",
         "type": "scatter",
         "x": [
          39.5,
          39.5
         ],
         "xaxis": "x",
         "y": [
          0.5,
          6.5
         ],
         "yaxis": "y"
        },
        {
         "hoverinfo": "skip",
         "line": {
          "color": "#9e9e9e",
          "width": 1
         },
         "mode": "lines",
         "type": "scatter",
         "x": [
          39.5,
          40.5
         ],
         "xaxis": "x",
         "y": [
          0.5,
          0.5
         ],
         "yaxis": "y"
        },
        {
         "hoverinfo": "skip",
         "line": {
          "color": "#9e9e9e",
          "width": 1
         },
         "mode": "lines",
         "type": "scatter",
         "x": [
          40.5,
          40.5
         ],
         "xaxis": "x",
         "y": [
          0.5,
          -0.5
         ],
         "yaxis": "y"
        },
        {
         "hoverinfo": "skip",
         "line": {
          "color": "#9e9e9e",
          "width": 1
         },
         "mode": "lines",
         "type": "scatter",
         "x": [
          43.5,
          43.5
         ],
         "xaxis": "x",
         "y": [
          3.5,
          6.5
         ],
         "yaxis": "y"
        },
        {
         "hoverinfo": "skip",
         "line": {
          "color": "#9e9e9e",
          "width": 1
         },
         "mode": "lines",
         "type": "scatter",
         "x": [
          43.5,
          44.5
         ],
         "xaxis": "x",
         "y": [
          3.5,
          3.5
         ],
         "yaxis": "y"
        },
        {
         "hoverinfo": "skip",
         "line": {
          "color": "#9e9e9e",
          "width": 1
         },
         "mode": "lines",
         "type": "scatter",
         "x": [
          44.5,
          44.5
         ],
         "xaxis": "x",
         "y": [
          3.5,
          -0.5
         ],
         "yaxis": "y"
        },
        {
         "hoverinfo": "skip",
         "line": {
          "color": "#9e9e9e",
          "width": 1
         },
         "mode": "lines",
         "type": "scatter",
         "x": [
          47.5,
          47.5
         ],
         "xaxis": "x",
         "y": [
          5.5,
          6.5
         ],
         "yaxis": "y"
        },
        {
         "hoverinfo": "skip",
         "line": {
          "color": "#9e9e9e",
          "width": 1
         },
         "mode": "lines",
         "type": "scatter",
         "x": [
          47.5,
          48.5
         ],
         "xaxis": "x",
         "y": [
          5.5,
          5.5
         ],
         "yaxis": "y"
        },
        {
         "hoverinfo": "skip",
         "line": {
          "color": "#9e9e9e",
          "width": 1
         },
         "mode": "lines",
         "type": "scatter",
         "x": [
          48.5,
          48.5
         ],
         "xaxis": "x",
         "y": [
          5.5,
          -0.5
         ],
         "yaxis": "y"
        },
        {
         "colorscale": [
          [
           0,
           "rgb(247,251,255)"
          ],
          [
           0.125,
           "rgb(222,235,247)"
          ],
          [
           0.25,
           "rgb(198,219,239)"
          ],
          [
           0.375,
           "rgb(158,202,225)"
          ],
          [
           0.5,
           "rgb(107,174,214)"
          ],
          [
           0.625,
           "rgb(66,146,198)"
          ],
          [
           0.75,
           "rgb(33,113,181)"
          ],
          [
           0.875,
           "rgb(8,81,156)"
          ],
          [
           1,
           "rgb(8,48,107)"
          ]
         ],
         "customdata": [
          [
           "2025-01-01",
           "y"
          ],
          [
           "2025-01-02",
           "y"
          ],
          [
           "2025-01-03",
           "y"
          ],
          [
           "2025-01-04",
           "y"
          ],
          [
           "2025-01-05",
           "y"
          ],
          [
           "2025-01-06",
           "y"
          ],
          [
           "2025-01-07",
           "y"
          ],
          [
           "2025-01-08",
           "y"
          ],
          [
           "2025-01-09",
           "y"
          ],
          [
           "2025-01-10",
           "y"
          ],
          [
           "2025-01-11",
           "y"
          ],
          [
           "2025-01-12",
           "y"
          ],
          [
           "2025-01-13",
           "y"
          ],
          [
           "2025-01-14",
           "y"
          ],
          [
           "2025-01-15",
           "y"
          ],
          [
           "2025-01-16",
           "y"
          ],
          [
           "2025-01-17",
           "y"
          ],
          [
           "2025-01-18",
           "y"
          ],
          [
           "2025-01-19",
           "y"
          ],
          [
           "2025-01-20",
           "y"
          ],
          [
           "2025-01-21",
           "y"
          ],
          [
           "2025-01-22",
           "y"
          ],
          [
           "2025-01-23",
           "y"
          ],
          [
           "2025-01-24",
           "y"
          ],
          [
           "2025-01-25",
           "y"
          ],
          [
           "2025-01-26",
           "y"
          ],
          [
           "2025-01-27",
           "y"
          ],
          [
           "2025-01-28",
           "y"
          ],
          [
           "2025-01-29",
           "y"
          ],
          [
           "2025-01-30",
           "y"
          ],
          [
           "2025-01-31",
           "y"
          ],
          [
           "2025-02-01",
           "y"
          ],
          [
           "2025-02-02",
           "y"
          ],
          [
           "2025-02-03",
           "y"
          ],
          [
           "2025-02-04",
           "y"
          ],
          [
           "2025-02-05",
           "y"
          ],
          [
           "2025-02-06",
           "y"
          ],
          [
           "2025-02-07",
           "y"
          ],
          [
           "2025-02-08",
           "y"
          ],
          [
           "2025-02-09",
           "y"
          ],
          [
           "2025-02-10",
           "y"
          ],
          [
           "2025-02-11",
           "y"
          ],
          [
           "2025-02-12",
           "y"
          ],
          [
           "2025-02-13",
           "y"
          ],
          [
           "2025-02-14",
           "y"
          ],
          [
           "2025-02-15",
           "y"
          ],
          [
           "2025-02-16",
           "y"
          ],
          [
           "2025-02-17",
           "y"
          ],
          [
           "2025-02-18",
           "y"
          ],
          [
           "2025-02-19",
           "y"
          ],
          [
           "2025-02-20",
           "y"
          ],
          [
           "2025-02-21",
           "y"
          ],
          [
           "2025-02-22",
           "y"
          ],
          [
           "2025-02-23",
           "y"
          ],
          [
           "2025-02-24",
           "y"
          ],
          [
           "2025-02-25",
           "y"
          ],
          [
           "2025-02-26",
           "y"
          ],
          [
           "2025-02-27",
           "y"
          ],
          [
           "2025-02-28",
           "y"
          ],
          [
           "2025-03-01",
           "y"
          ],
          [
           "2025-03-02",
           "y"
          ],
          [
           "2025-03-03",
           "y"
          ],
          [
           "2025-03-04",
           "y"
          ],
          [
           "2025-03-05",
           "y"
          ],
          [
           "2025-03-06",
           "y"
          ],
          [
           "2025-03-07",
           "y"
          ],
          [
           "2025-03-08",
           "y"
          ],
          [
           "2025-03-09",
           "y"
          ],
          [
           "2025-03-10",
           "y"
          ],
          [
           "2025-03-11",
           "y"
          ],
          [
           "2025-03-12",
           "y"
          ],
          [
           "2025-03-13",
           "y"
          ],
          [
           "2025-03-14",
           "y"
          ],
          [
           "2025-03-15",
           "y"
          ],
          [
           "2025-03-16",
           "y"
          ],
          [
           "2025-03-17",
           "y"
          ],
          [
           "2025-03-18",
           "y"
          ],
          [
           "2025-03-19",
           "y"
          ],
          [
           "2025-03-20",
           "y"
          ],
          [
           "2025-03-21",
           "y"
          ],
          [
           "2025-03-22",
           "y"
          ],
          [
           "2025-03-23",
           "y"
          ],
          [
           "2025-03-24",
           "y"
          ],
          [
           "2025-03-25",
           "y"
          ],
          [
           "2025-03-26",
           "y"
          ],
          [
           "2025-03-27",
           "y"
          ],
          [
           "2025-03-28",
           "y"
          ],
          [
           "2025-03-29",
           "y"
          ],
          [
           "2025-03-30",
           "y"
          ],
          [
           "2025-03-31",
           "y"
          ],
          [
           "2025-04-01",
           "y"
          ],
          [
           "2025-04-02",
           "y"
          ],
          [
           "2025-04-03",
           "y"
          ],
          [
           "2025-04-04",
           "y"
          ],
          [
           "2025-04-05",
           "y"
          ],
          [
           "2025-04-06",
           "y"
          ],
          [
           "2025-04-07",
           "y"
          ],
          [
           "2025-04-08",
           "y"
          ],
          [
           "2025-04-09",
           "y"
          ],
          [
           "2025-04-10",
           "y"
          ],
          [
           "2025-04-11",
           "y"
          ],
          [
           "2025-04-12",
           "y"
          ],
          [
           "2025-04-13",
           "y"
          ],
          [
           "2025-04-14",
           "y"
          ],
          [
           "2025-04-15",
           "y"
          ],
          [
           "2025-04-16",
           "y"
          ],
          [
           "2025-04-17",
           "y"
          ],
          [
           "2025-04-18",
           "y"
          ],
          [
           "2025-04-19",
           "y"
          ],
          [
           "2025-04-20",
           "y"
          ],
          [
           "2025-04-21",
           "y"
          ],
          [
           "2025-04-22",
           "y"
          ],
          [
           "2025-04-23",
           "y"
          ],
          [
           "2025-04-24",
           "y"
          ],
          [
           "2025-04-25",
           "y"
          ],
          [
           "2025-04-26",
           "y"
          ],
          [
           "2025-04-27",
           "y"
          ],
          [
           "2025-04-28",
           "y"
          ],
          [
           "2025-04-29",
           "y"
          ],
          [
           "2025-04-30",
           "y"
          ],
          [
           "2025-05-01",
           "y"
          ],
          [
           "2025-05-02",
           "y"
          ],
          [
           "2025-05-03",
           "y"
          ],
          [
           "2025-05-04",
           "y"
          ],
          [
           "2025-05-05",
           "y"
          ],
          [
           "2025-05-06",
           "y"
          ],
          [
           "2025-05-07",
           "y"
          ],
          [
           "2025-05-08",
           "y"
          ],
          [
           "2025-05-09",
           "y"
          ],
          [
           "2025-05-10",
           "y"
          ],
          [
           "2025-05-11",
           "y"
          ],
          [
           "2025-05-12",
           "y"
          ],
          [
           "2025-05-13",
           "y"
          ],
          [
           "2025-05-14",
           "y"
          ],
          [
           "2025-05-15",
           "y"
          ],
          [
           "2025-05-16",
           "y"
          ],
          [
           "2025-05-17",
           "y"
          ],
          [
           "2025-05-18",
           "y"
          ],
          [
           "2025-05-19",
           "y"
          ],
          [
           "2025-05-20",
           "y"
          ],
          [
           "2025-05-21",
           "y"
          ],
          [
           "2025-05-22",
           "y"
          ],
          [
           "2025-05-23",
           "y"
          ],
          [
           "2025-05-24",
           "y"
          ],
          [
           "2025-05-25",
           "y"
          ],
          [
           "2025-05-26",
           "y"
          ],
          [
           "2025-05-27",
           "y"
          ],
          [
           "2025-05-28",
           "y"
          ],
          [
           "2025-05-29",
           "y"
          ],
          [
           "2025-05-30",
           "y"
          ],
          [
           "2025-05-31",
           "y"
          ],
          [
           "2025-06-01",
           "y"
          ],
          [
           "2025-06-02",
           "y"
          ],
          [
           "2025-06-03",
           "y"
          ],
          [
           "2025-06-04",
           "y"
          ],
          [
           "2025-06-05",
           "y"
          ],
          [
           "2025-06-06",
           "y"
          ],
          [
           "2025-06-07",
           "y"
          ],
          [
           "2025-06-08",
           "y"
          ],
          [
           "2025-06-09",
           "y"
          ],
          [
           "2025-06-10",
           "y"
          ],
          [
           "2025-06-11",
           "y"
          ],
          [
           "2025-06-12",
           "y"
          ],
          [
           "2025-06-13",
           "y"
          ],
          [
           "2025-06-14",
           "y"
          ],
          [
           "2025-06-15",
           "y"
          ],
          [
           "2025-06-16",
           "y"
          ],
          [
           "2025-06-17",
           "y"
          ],
          [
           "2025-06-18",
           "y"
          ],
          [
           "2025-06-19",
           "y"
          ],
          [
           "2025-06-20",
           "y"
          ],
          [
           "2025-06-21",
           "y"
          ],
          [
           "2025-06-22",
           "y"
          ],
          [
           "2025-06-23",
           "y"
          ],
          [
           "2025-06-24",
           "y"
          ],
          [
           "2025-06-25",
           "y"
          ],
          [
           "2025-06-26",
           "y"
          ],
          [
           "2025-06-27",
           "y"
          ],
          [
           "2025-06-28",
           "y"
          ],
          [
           "2025-06-29",
           "y"
          ],
          [
           "2025-06-30",
           "y"
          ],
          [
           "2025-07-01",
           "y"
          ],
          [
           "2025-07-02",
           "y"
          ],
          [
           "2025-07-03",
           "y"
          ],
          [
           "2025-07-04",
           "y"
          ],
          [
           "2025-07-05",
           "y"
          ],
          [
           "2025-07-06",
           "y"
          ],
          [
           "2025-07-07",
           "y"
          ],
          [
           "2025-07-08",
           "y"
          ],
          [
           "2025-07-09",
           "y"
          ],
          [
           "2025-07-10",
           "y"
          ],
          [
           "2025-07-11",
           "y"
          ],
          [
           "2025-07-12",
           "y"
          ],
          [
           "2025-07-13",
           "y"
          ],
          [
           "2025-07-14",
           "y"
          ],
          [
           "2025-07-15",
           "y"
          ],
          [
           "2025-07-16",
           "y"
          ],
          [
           "2025-07-17",
           "y"
          ],
          [
           "2025-07-18",
           "y"
          ],
          [
           "2025-07-19",
           "y"
          ],
          [
           "2025-07-20",
           "y"
          ],
          [
           "2025-07-21",
           "y"
          ],
          [
           "2025-07-22",
           "y"
          ],
          [
           "2025-07-23",
           "y"
          ],
          [
           "2025-07-24",
           "y"
          ],
          [
           "2025-07-25",
           "y"
          ],
          [
           "2025-07-26",
           "y"
          ],
          [
           "2025-07-27",
           "y"
          ],
          [
           "2025-07-28",
           "y"
          ],
          [
           "2025-07-29",
           "y"
          ],
          [
           "2025-07-30",
           "y"
          ],
          [
           "2025-07-31",
           "y"
          ],
          [
           "2025-08-01",
           "y"
          ],
          [
           "2025-08-02",
           "y"
          ],
          [
           "2025-08-03",
           "y"
          ],
          [
           "2025-08-04",
           "y"
          ],
          [
           "2025-08-05",
           "y"
          ],
          [
           "2025-08-06",
           "y"
          ],
          [
           "2025-08-07",
           "y"
          ],
          [
           "2025-08-08",
           "y"
          ],
          [
           "2025-08-09",
           "y"
          ],
          [
           "2025-08-10",
           "y"
          ],
          [
           "2025-08-11",
           "y"
          ],
          [
           "2025-08-12",
           "y"
          ],
          [
           "2025-08-13",
           "y"
          ],
          [
           "2025-08-14",
           "y"
          ],
          [
           "2025-08-15",
           "y"
          ],
          [
           "2025-08-16",
           "y"
          ],
          [
           "2025-08-17",
           "y"
          ],
          [
           "2025-08-18",
           "y"
          ],
          [
           "2025-08-19",
           "y"
          ],
          [
           "2025-08-20",
           "y"
          ],
          [
           "2025-08-21",
           "y"
          ],
          [
           "2025-08-22",
           "y"
          ],
          [
           "2025-08-23",
           "y"
          ],
          [
           "2025-08-24",
           "y"
          ],
          [
           "2025-08-25",
           "y"
          ],
          [
           "2025-08-26",
           "y"
          ],
          [
           "2025-08-27",
           "y"
          ],
          [
           "2025-08-28",
           "y"
          ],
          [
           "2025-08-29",
           "y"
          ],
          [
           "2025-08-30",
           "y"
          ],
          [
           "2025-08-31",
           "y"
          ],
          [
           "2025-09-01",
           "y"
          ],
          [
           "2025-09-02",
           "y"
          ],
          [
           "2025-09-03",
           "y"
          ],
          [
           "2025-09-04",
           "y"
          ],
          [
           "2025-09-05",
           "y"
          ],
          [
           "2025-09-06",
           "y"
          ],
          [
           "2025-09-07",
           "y"
          ],
          [
           "2025-09-08",
           "y"
          ],
          [
           "2025-09-09",
           "y"
          ],
          [
           "2025-09-10",
           "y"
          ],
          [
           "2025-09-11",
           "y"
          ],
          [
           "2025-09-12",
           "y"
          ],
          [
           "2025-09-13",
           "y"
          ],
          [
           "2025-09-14",
           "y"
          ],
          [
           "2025-09-15",
           "y"
          ],
          [
           "2025-09-16",
           "y"
          ],
          [
           "2025-09-17",
           "y"
          ],
          [
           "2025-09-18",
           "y"
          ],
          [
           "2025-09-19",
           "y"
          ],
          [
           "2025-09-20",
           "y"
          ],
          [
           "2025-09-21",
           "y"
          ],
          [
           "2025-09-22",
           "y"
          ],
          [
           "2025-09-23",
           "y"
          ],
          [
           "2025-09-24",
           "y"
          ],
          [
           "2025-09-25",
           "y"
          ],
          [
           "2025-09-26",
           "y"
          ],
          [
           "2025-09-27",
           "y"
          ],
          [
           "2025-09-28",
           "y"
          ],
          [
           "2025-09-29",
           "y"
          ],
          [
           "2025-09-30",
           "y"
          ],
          [
           "2025-10-01",
           "y"
          ],
          [
           "2025-10-02",
           "y"
          ],
          [
           "2025-10-03",
           "y"
          ],
          [
           "2025-10-04",
           "y"
          ],
          [
           "2025-10-05",
           "y"
          ],
          [
           "2025-10-06",
           "y"
          ],
          [
           "2025-10-07",
           "y"
          ],
          [
           "2025-10-08",
           "y"
          ],
          [
           "2025-10-09",
           "y"
          ],
          [
           "2025-10-10",
           "y"
          ],
          [
           "2025-10-11",
           "y"
          ],
          [
           "2025-10-12",
           "y"
          ],
          [
           "2025-10-13",
           "y"
          ],
          [
           "2025-10-14",
           "y"
          ],
          [
           "2025-10-15",
           "y"
          ],
          [
           "2025-10-16",
           "y"
          ],
          [
           "2025-10-17",
           "y"
          ],
          [
           "2025-10-18",
           "y"
          ],
          [
           "2025-10-19",
           "y"
          ],
          [
           "2025-10-20",
           "y"
          ],
          [
           "2025-10-21",
           "y"
          ],
          [
           "2025-10-22",
           "y"
          ],
          [
           "2025-10-23",
           "y"
          ],
          [
           "2025-10-24",
           "y"
          ],
          [
           "2025-10-25",
           "y"
          ],
          [
           "2025-10-26",
           "y"
          ],
          [
           "2025-10-27",
           "y"
          ],
          [
           "2025-10-28",
           "y"
          ],
          [
           "2025-10-29",
           "y"
          ],
          [
           "2025-10-30",
           "y"
          ],
          [
           "2025-10-31",
           "y"
          ],
          [
           "2025-11-01",
           "y"
          ],
          [
           "2025-11-02",
           "y"
          ],
          [
           "2025-11-03",
           "y"
          ],
          [
           "2025-11-04",
           "y"
          ],
          [
           "2025-11-05",
           "y"
          ],
          [
           "2025-11-06",
           "y"
          ],
          [
           "2025-11-07",
           "y"
          ],
          [
           "2025-11-08",
           "y"
          ],
          [
           "2025-11-09",
           "y"
          ],
          [
           "2025-11-10",
           "y"
          ],
          [
           "2025-11-11",
           "y"
          ],
          [
           "2025-11-12",
           "y"
          ],
          [
           "2025-11-13",
           "y"
          ],
          [
           "2025-11-14",
           "y"
          ],
          [
           "2025-11-15",
           "y"
          ],
          [
           "2025-11-16",
           "y"
          ],
          [
           "2025-11-17",
           "y"
          ],
          [
           "2025-11-18",
           "y"
          ],
          [
           "2025-11-19",
           "y"
          ],
          [
           "2025-11-20",
           "y"
          ],
          [
           "2025-11-21",
           "y"
          ],
          [
           "2025-11-22",
           "y"
          ],
          [
           "2025-11-23",
           "y"
          ],
          [
           "2025-11-24",
           "y"
          ],
          [
           "2025-11-25",
           "y"
          ],
          [
           "2025-11-26",
           "y"
          ],
          [
           "2025-11-27",
           "y"
          ],
          [
           "2025-11-28",
           "y"
          ],
          [
           "2025-11-29",
           "y"
          ],
          [
           "2025-11-30",
           "y"
          ],
          [
           "2025-12-01",
           "y"
          ],
          [
           "2025-12-02",
           "y"
          ],
          [
           "2025-12-03",
           "y"
          ],
          [
           "2025-12-04",
           "y"
          ],
          [
           "2025-12-05",
           "y"
          ],
          [
           "2025-12-06",
           "y"
          ],
          [
           "2025-12-07",
           "y"
          ],
          [
           "2025-12-08",
           "y"
          ],
          [
           "2025-12-09",
           "y"
          ],
          [
           "2025-12-10",
           "y"
          ],
          [
           "2025-12-11",
           "y"
          ],
          [
           "2025-12-12",
           "y"
          ],
          [
           "2025-12-13",
           "y"
          ],
          [
           "2025-12-14",
           "y"
          ],
          [
           "2025-12-15",
           "y"
          ],
          [
           "2025-12-16",
           "y"
          ],
          [
           "2025-12-17",
           "y"
          ],
          [
           "2025-12-18",
           "y"
          ],
          [
           "2025-12-19",
           "y"
          ],
          [
           "2025-12-20",
           "y"
          ],
          [
           "2025-12-21",
           "y"
          ],
          [
           "2025-12-22",
           "y"
          ],
          [
           "2025-12-23",
           "y"
          ],
          [
           "2025-12-24",
           "y"
          ],
          [
           "2025-12-25",
           "y"
          ],
          [
           "2025-12-26",
           "y"
          ],
          [
           "2025-12-27",
           "y"
          ],
          [
           "2025-12-28",
           "y"
          ],
          [
           "2025-12-29",
           "y"
          ],
          [
           "2025-12-30",
           "y"
          ],
          [
           "2025-12-31",
           "y"
          ]
         ],
         "hovertemplate": "%{customdata[0]} <br>Week=%{x} <br>%{customdata[1]}=%{z}",
         "name": "2025",
         "showscale": false,
         "type": "heatmap",
         "x": [
          0,
          0,
          0,
          0,
          0,
          1,
          1,
          1,
          1,
          1,
          1,
          1,
          2,
          2,
          2,
          2,
          2,
          2,
          2,
          3,
          3,
          3,
          3,
          3,
          3,
          3,
          4,
          4,
          4,
          4,
          4,
          4,
          4,
          5,
          5,
          5,
          5,
          5,
          5,
          5,
          6,
          6,
          6,
          6,
          6,
          6,
          6,
          7,
          7,
          7,
          7,
          7,
          7,
          7,
          8,
          8,
          8,
          8,
          8,
          8,
          8,
          9,
          9,
          9,
          9,
          9,
          9,
          9,
          10,
          10,
          10,
          10,
          10,
          10,
          10,
          11,
          11,
          11,
          11,
          11,
          11,
          11,
          12,
          12,
          12,
          12,
          12,
          12,
          12,
          13,
          13,
          13,
          13,
          13,
          13,
          13,
          14,
          14,
          14,
          14,
          14,
          14,
          14,
          15,
          15,
          15,
          15,
          15,
          15,
          15,
          16,
          16,
          16,
          16,
          16,
          16,
          16,
          17,
          17,
          17,
          17,
          17,
          17,
          17,
          18,
          18,
          18,
          18,
          18,
          18,
          18,
          19,
          19,
          19,
          19,
          19,
          19,
          19,
          20,
          20,
          20,
          20,
          20,
          20,
          20,
          21,
          21,
          21,
          21,
          21,
          21,
          21,
          22,
          22,
          22,
          22,
          22,
          22,
          22,
          23,
          23,
          23,
          23,
          23,
          23,
          23,
          24,
          24,
          24,
          24,
          24,
          24,
          24,
          25,
          25,
          25,
          25,
          25,
          25,
          25,
          26,
          26,
          26,
          26,
          26,
          26,
          26,
          27,
          27,
          27,
          27,
          27,
          27,
          27,
          28,
          28,
          28,
          28,
          28,
          28,
          28,
          29,
          29,
          29,
          29,
          29,
          29,
          29,
          30,
          30,
          30,
          30,
          30,
          30,
          30,
          31,
          31,
          31,
          31,
          31,
          31,
          31,
          32,
          32,
          32,
          32,
          32,
          32,
          32,
          33,
          33,
          33,
          33,
          33,
          33,
          33,
          34,
          34,
          34,
          34,
          34,
          34,
          34,
          35,
          35,
          35,
          35,
          35,
          35,
          35,
          36,
          36,
          36,
          36,
          36,
          36,
          36,
          37,
          37,
          37,
          37,
          37,
          37,
          37,
          38,
          38,
          38,
          38,
          38,
          38,
          38,
          39,
          39,
          39,
          39,
          39,
          39,
          39,
          40,
          40,
          40,
          40,
          40,
          40,
          40,
          41,
          41,
          41,
          41,
          41,
          41,
          41,
          42,
          42,
          42,
          42,
          42,
          42,
          42,
          43,
          43,
          43,
          43,
          43,
          43,
          43,
          44,
          44,
          44,
          44,
          44,
          44,
          44,
          45,
          45,
          45,
          45,
          45,
          45,
          45,
          46,
          46,
          46,
          46,
          46,
          46,
          46,
          47,
          47,
          47,
          47,
          47,
          47,
          47,
          48,
          48,
          48,
          48,
          48,
          48,
          48,
          49,
          49,
          49,
          49,
          49,
          49,
          49,
          50,
          50,
          50,
          50,
          50,
          50,
          50,
          51,
          51,
          51,
          51,
          51,
          51,
          51,
          52,
          52,
          52
         ],
         "xaxis": "x2",
         "xgap": 0,
         "y": [
          2,
          3,
          4,
          5,
          6,
          0,
          1,
          2,
          3,
          4,
          5,
          6,
          0,
          1,
          2,
          3,
          4,
          5,
          6,
          0,
          1,
          2,
          3,
          4,
          5,
          6,
          0,
          1,
          2,
          3,
          4,
          5,
          6,
          0,
          1,
          2,
          3,
          4,
          5,
          6,
          0,
          1,
          2,
          3,
          4,
          5,
          6,
          0,
          1,
          2,
          3,
          4,
          5,
          6,
          0,
          1,
          2,
          3,
          4,
          5,
          6,
          0,
          1,
          2,
          3,
          4,
          5,
          6,
          0,
          1,
          2,
          3,
          4,
          5,
          6,
          0,
          1,
          2,
          3,
          4,
          5,
          6,
          0,
          1,
          2,
          3,
          4,
          5,
          6,
          0,
          1,
          2,
          3,
          4,
          5,
          6,
          0,
          1,
          2,
          3,
          4,
          5,
          6,
          0,
          1,
          2,
          3,
          4,
          5,
          6,
          0,
          1,
          2,
          3,
          4,
          5,
          6,
          0,
          1,
          2,
          3,
          4,
          5,
          6,
          0,
          1,
          2,
          3,
          4,
          5,
          6,
          0,
          1,
          2,
          3,
          4,
          5,
          6,
          0,
          1,
          2,
          3,
          4,
          5,
          6,
          0,
          1,
          2,
          3,
          4,
          5,
          6,
          0,
          1,
          2,
          3,
          4,
          5,
          6,
          0,
          1,
          2,
          3,
          4,
          5,
          6,
          0,
          1,
          2,
          3,
          4,
          5,
          6,
          0,
          1,
          2,
          3,
          4,
          5,
          6,
          0,
          1,
          2,
          3,
          4,
          5,
          6,
          0,
          1,
          2,
          3,
          4,
          5,
          6,
          0,
          1,
          2,
          3,
          4,
          5,
          6,
          0,
          1,
          2,
          3,
          4,
          5,
          6,
          0,
          1,
          2,
          3,
          4,
          5,
          6,
          0,
          1,
          2,
          3,
          4,
          5,
          6,
          0,
          1,
          2,
          3,
          4,
          5,
          6,
          0,
          1,
          2,
          3,
          4,
          5,
          6,
          0,
          1,
          2,
          3,
          4,
          5,
          6,
          0,
          1,
          2,
          3,
          4,
          5,
          6,
          0,
          1,
          2,
          3,
          4,
          5,
          6,
          0,
          1,
          2,
          3,
          4,
          5,
          6,
          0,
          1,
          2,
          3,
          4,
          5,
          6,
          0,
          1,
          2,
          3,
          4,
          5,
          6,
          0,
          1,
          2,
          3,
          4,
          5,
          6,
          0,
          1,
          2,
          3,
          4,
          5,
          6,
          0,
          1,
          2,
          3,
          4,
          5,
          6,
          0,
          1,
          2,
          3,
          4,
          5,
          6,
          0,
          1,
          2,
          3,
          4,
          5,
          6,
          0,
          1,
          2,
          3,
          4,
          5,
          6,
          0,
          1,
          2,
          3,
          4,
          5,
          6,
          0,
          1,
          2,
          3,
          4,
          5,
          6,
          0,
          1,
          2,
          3,
          4,
          5,
          6,
          0,
          1,
          2,
          3,
          4,
          5,
          6,
          0,
          1,
          2,
          3,
          4,
          5,
          6,
          0,
          1,
          2,
          3,
          4,
          5,
          6,
          0,
          1,
          2
         ],
         "yaxis": "y2",
         "ygap": 0,
         "z": [
          9,
          9,
          9,
          9,
          9,
          9,
          9,
          9,
          9,
          9,
          9,
          9,
          9,
          9,
          9,
          9,
          9,
          9,
          9,
          9,
          9,
          9,
          9,
          9,
          9,
          9,
          9,
          9,
          9,
          9,
          9,
          9,
          9,
          9,
          9,
          9,
          9,
          9,
          9,
          9,
          9,
          9,
          9,
          9,
          9,
          9,
          9,
          9,
          9,
          9,
          9,
          9,
          9,
          9,
          9,
          9,
          9,
          9,
          9,
          9,
          9,
          9,
          9,
          9,
          9,
          9,
          9,
          9,
          9,
          9,
          9,
          9,
          9,
          9,
          9,
          9,
          9,
          9,
          9,
          9,
          9,
          9,
          9,
          9,
          9,
          9,
          9,
          9,
          9,
          9,
          9,
          9,
          9,
          9,
          9,
          9,
          9,
          9,
          9,
          9,
          9,
          9,
          9,
          9,
          9,
          9,
          9,
          9,
          9,
          9,
          9,
          9,
          9,
          9,
          9,
          9,
          9,
          9,
          9,
          9,
          9,
          9,
          9,
          9,
          9,
          9,
          9,
          9,
          9,
          9,
          9,
          9,
          9,
          9,
          9,
          9,
          9,
          9,
          9,
          9,
          9,
          9,
          9,
          9,
          9,
          9,
          9,
          9,
          9,
          9,
          9,
          9,
          9,
          9,
          9,
          9,
          9,
          9,
          9,
          9,
          9,
          9,
          9,
          9,
          9,
          9,
          9,
          9,
          9,
          9,
          9,
          9,
          9,
          9,
          9,
          9,
          9,
          9,
          9,
          9,
          9,
          9,
          9,
          9,
          9,
          9,
          9,
          9,
          9,
          9,
          9,
          9,
          9,
          9,
          9,
          9,
          9,
          9,
          9,
          9,
          9,
          9,
          9,
          9,
          9,
          9,
          9,
          9,
          9,
          9,
          9,
          9,
          9,
          9,
          9,
          9,
          9,
          9,
          9,
          9,
          9,
          9,
          9,
          9,
          9,
          9,
          9,
          9,
          9,
          9,
          9,
          9,
          9,
          9,
          9,
          9,
          9,
          9,
          9,
          9,
          9,
          9,
          9,
          9,
          9,
          9,
          9,
          9,
          9,
          9,
          9,
          9,
          9,
          9,
          9,
          9,
          9,
          9,
          9,
          9,
          9,
          9,
          9,
          9,
          9,
          9,
          9,
          9,
          9,
          9,
          9,
          9,
          9,
          9,
          9,
          9,
          9,
          9,
          9,
          9,
          9,
          9,
          9,
          9,
          9,
          9,
          9,
          9,
          9,
          9,
          9,
          9,
          9,
          9,
          9,
          9,
          9,
          9,
          9,
          9,
          9,
          9,
          9,
          9,
          9,
          9,
          9,
          9,
          9,
          9,
          9,
          9,
          9,
          9,
          9,
          9,
          9,
          9,
          9,
          9,
          9,
          9,
          9,
          9,
          9,
          9,
          9,
          9,
          9,
          9,
          9,
          9,
          9,
          9,
          9,
          9,
          9,
          9,
          9,
          9,
          9,
          9,
          9,
          9,
          9,
          9,
          9,
          9,
          9,
          9,
          9,
          9,
          9,
          9,
          9,
          9,
          9,
          9,
          9,
          9,
          9,
          9,
          7,
          7,
          7
         ],
         "zmax": 9,
         "zmin": 7
        },
        {
         "hoverinfo": "skip",
         "line": {
          "color": "#9e9e9e",
          "width": 1
         },
         "mode": "lines",
         "type": "scatter",
         "x": [
          -0.5,
          -0.5
         ],
         "xaxis": "x2",
         "y": [
          1.5,
          6.5
         ],
         "yaxis": "y2"
        },
        {
         "hoverinfo": "skip",
         "line": {
          "color": "#9e9e9e",
          "width": 1
         },
         "mode": "lines",
         "type": "scatter",
         "x": [
          -0.5,
          0.5
         ],
         "xaxis": "x2",
         "y": [
          1.5,
          1.5
         ],
         "yaxis": "y2"
        },
        {
         "hoverinfo": "skip",
         "line": {
          "color": "#9e9e9e",
          "width": 1
         },
         "mode": "lines",
         "type": "scatter",
         "x": [
          0.5,
          0.5
         ],
         "xaxis": "x2",
         "y": [
          1.5,
          -0.5
         ],
         "yaxis": "y2"
        },
        {
         "hoverinfo": "skip",
         "line": {
          "color": "#9e9e9e",
          "width": 1
         },
         "mode": "lines",
         "type": "scatter",
         "x": [
          3.5,
          3.5
         ],
         "xaxis": "x2",
         "y": [
          4.5,
          6.5
         ],
         "yaxis": "y2"
        },
        {
         "hoverinfo": "skip",
         "line": {
          "color": "#9e9e9e",
          "width": 1
         },
         "mode": "lines",
         "type": "scatter",
         "x": [
          3.5,
          4.5
         ],
         "xaxis": "x2",
         "y": [
          4.5,
          4.5
         ],
         "yaxis": "y2"
        },
        {
         "hoverinfo": "skip",
         "line": {
          "color": "#9e9e9e",
          "width": 1
         },
         "mode": "lines",
         "type": "scatter",
         "x": [
          4.5,
          4.5
         ],
         "xaxis": "x2",
         "y": [
          4.5,
          -0.5
         ],
         "yaxis": "y2"
        },
        {
         "hoverinfo": "skip",
         "line": {
          "color": "#9e9e9e",
          "width": 1
         },
         "mode": "lines",
         "type": "scatter",
         "x": [
          7.5,
          7.5
         ],
         "xaxis": "x2",
         "y": [
          4.5,
          6.5
         ],
         "yaxis": "y2"
        },
        {
         "hoverinfo": "skip",
         "line": {
          "color": "#9e9e9e",
          "width": 1
         },
         "mode": "lines",
         "type": "scatter",
         "x": [
          7.5,
          8.5
         ],
         "xaxis": "x2",
         "y": [
          4.5,
          4.5
         ],
         "yaxis": "y2"
        },
        {
         "hoverinfo": "skip",
         "line": {
          "color": "#9e9e9e",
          "width": 1
         },
         "mode": "lines",
         "type": "scatter",
         "x": [
          8.5,
          8.5
         ],
         "xaxis": "x2",
         "y": [
          4.5,
          -0.5
         ],
         "yaxis": "y2"
        },
        {
         "hoverinfo": "skip",
         "line": {
          "color": "#9e9e9e",
          "width": 1
         },
         "mode": "lines",
         "type": "scatter",
         "x": [
          12.5,
          12.5
         ],
         "xaxis": "x2",
         "y": [
          0.5,
          6.5
         ],
         "yaxis": "y2"
        },
        {
         "hoverinfo": "skip",
         "line": {
          "color": "#9e9e9e",
          "width": 1
         },
         "mode": "lines",
         "type": "scatter",
         "x": [
          12.5,
          13.5
         ],
         "xaxis": "x2",
         "y": [
          0.5,
          0.5
         ],
         "yaxis": "y2"
        },
        {
         "hoverinfo": "skip",
         "line": {
          "color": "#9e9e9e",
          "width": 1
         },
         "mode": "lines",
         "type": "scatter",
         "x": [
          13.5,
          13.5
         ],
         "xaxis": "x2",
         "y": [
          0.5,
          -0.5
         ],
         "yaxis": "y2"
        },
        {
         "hoverinfo": "skip",
         "line": {
          "color": "#9e9e9e",
          "width": 1
         },
         "mode": "lines",
         "type": "scatter",
         "x": [
          16.5,
          16.5
         ],
         "xaxis": "x2",
         "y": [
          2.5,
          6.5
         ],
         "yaxis": "y2"
        },
        {
         "hoverinfo": "skip",
         "line": {
          "color": "#9e9e9e",
          "width": 1
         },
         "mode": "lines",
         "type": "scatter",
         "x": [
          16.5,
          17.5
         ],
         "xaxis": "x2",
         "y": [
          2.5,
          2.5
         ],
         "yaxis": "y2"
        },
        {
         "hoverinfo": "skip",
         "line": {
          "color": "#9e9e9e",
          "width": 1
         },
         "mode": "lines",
         "type": "scatter",
         "x": [
          17.5,
          17.5
         ],
         "xaxis": "x2",
         "y": [
          2.5,
          -0.5
         ],
         "yaxis": "y2"
        },
        {
         "hoverinfo": "skip",
         "line": {
          "color": "#9e9e9e",
          "width": 1
         },
         "mode": "lines",
         "type": "scatter",
         "x": [
          20.5,
          20.5
         ],
         "xaxis": "x2",
         "y": [
          5.5,
          6.5
         ],
         "yaxis": "y2"
        },
        {
         "hoverinfo": "skip",
         "line": {
          "color": "#9e9e9e",
          "width": 1
         },
         "mode": "lines",
         "type": "scatter",
         "x": [
          20.5,
          21.5
         ],
         "xaxis": "x2",
         "y": [
          5.5,
          5.5
         ],
         "yaxis": "y2"
        },
        {
         "hoverinfo": "skip",
         "line": {
          "color": "#9e9e9e",
          "width": 1
         },
         "mode": "lines",
         "type": "scatter",
         "x": [
          21.5,
          21.5
         ],
         "xaxis": "x2",
         "y": [
          5.5,
          -0.5
         ],
         "yaxis": "y2"
        },
        {
         "hoverinfo": "skip",
         "line": {
          "color": "#9e9e9e",
          "width": 1
         },
         "mode": "lines",
         "type": "scatter",
         "x": [
          25.5,
          25.5
         ],
         "xaxis": "x2",
         "y": [
          0.5,
          6.5
         ],
         "yaxis": "y2"
        },
        {
         "hoverinfo": "skip",
         "line": {
          "color": "#9e9e9e",
          "width": 1
         },
         "mode": "lines",
         "type": "scatter",
         "x": [
          25.5,
          26.5
         ],
         "xaxis": "x2",
         "y": [
          0.5,
          0.5
         ],
         "yaxis": "y2"
        },
        {
         "hoverinfo": "skip",
         "line": {
          "color": "#9e9e9e",
          "width": 1
         },
         "mode": "lines",
         "type": "scatter",
         "x": [
          26.5,
          26.5
         ],
         "xaxis": "x2",
         "y": [
          0.5,
          -0.5
         ],
         "yaxis": "y2"
        },
        {
         "hoverinfo": "skip",
         "line": {
          "color": "#9e9e9e",
          "width": 1
         },
         "mode": "lines",
         "type": "scatter",
         "x": [
          29.5,
          29.5
         ],
         "xaxis": "x2",
         "y": [
          3.5,
          6.5
         ],
         "yaxis": "y2"
        },
        {
         "hoverinfo": "skip",
         "line": {
          "color": "#9e9e9e",
          "width": 1
         },
         "mode": "lines",
         "type": "scatter",
         "x": [
          29.5,
          30.5
         ],
         "xaxis": "x2",
         "y": [
          3.5,
          3.5
         ],
         "yaxis": "y2"
        },
        {
         "hoverinfo": "skip",
         "line": {
          "color": "#9e9e9e",
          "width": 1
         },
         "mode": "lines",
         "type": "scatter",
         "x": [
          30.5,
          30.5
         ],
         "xaxis": "x2",
         "y": [
          3.5,
          -0.5
         ],
         "yaxis": "y2"
        },
        {
         "hoverinfo": "skip",
         "line": {
          "color": "#9e9e9e",
          "width": 1
         },
         "mode": "lines",
         "type": "scatter",
         "x": [
          34.5,
          34.5
         ],
         "xaxis": "x2",
         "y": [
          -0.5,
          6.5
         ],
         "yaxis": "y2"
        },
        {
         "hoverinfo": "skip",
         "line": {
          "color": "#9e9e9e",
          "width": 1
         },
         "mode": "lines",
         "type": "scatter",
         "x": [
          38.5,
          38.5
         ],
         "xaxis": "x2",
         "y": [
          1.5,
          6.5
         ],
         "yaxis": "y2"
        },
        {
         "hoverinfo": "skip",
         "line": {
          "color": "#9e9e9e",
          "width": 1
         },
         "mode": "lines",
         "type": "scatter",
         "x": [
          38.5,
          39.5
         ],
         "xaxis": "x2",
         "y": [
          1.5,
          1.5
         ],
         "yaxis": "y2"
        },
        {
         "hoverinfo": "skip",
         "line": {
          "color": "#9e9e9e",
          "width": 1
         },
         "mode": "lines",
         "type": "scatter",
         "x": [
          39.5,
          39.5
         ],
         "xaxis": "x2",
         "y": [
          1.5,
          -0.5
         ],
         "yaxis": "y2"
        },
        {
         "hoverinfo": "skip",
         "line": {
          "color": "#9e9e9e",
          "width": 1
         },
         "mode": "lines",
         "type": "scatter",
         "x": [
          42.5,
          42.5
         ],
         "xaxis": "x2",
         "y": [
          4.5,
          6.5
         ],
         "yaxis": "y2"
        },
        {
         "hoverinfo": "skip",
         "line": {
          "color": "#9e9e9e",
          "width": 1
         },
         "mode": "lines",
         "type": "scatter",
         "x": [
          42.5,
          43.5
         ],
         "xaxis": "x2",
         "y": [
          4.5,
          4.5
         ],
         "yaxis": "y2"
        },
        {
         "hoverinfo": "skip",
         "line": {
          "color": "#9e9e9e",
          "width": 1
         },
         "mode": "lines",
         "type": "scatter",
         "x": [
          43.5,
          43.5
         ],
         "xaxis": "x2",
         "y": [
          4.5,
          -0.5
         ],
         "yaxis": "y2"
        },
        {
         "hoverinfo": "skip",
         "line": {
          "color": "#9e9e9e",
          "width": 1
         },
         "mode": "lines",
         "type": "scatter",
         "x": [
          47.5,
          47.5
         ],
         "xaxis": "x2",
         "y": [
          -0.5,
          6.5
         ],
         "yaxis": "y2"
        }
       ],
       "layout": {
        "annotations": [
         {
          "font": {
           "size": 16
          },
          "showarrow": false,
          "text": "2024",
          "x": 0.5,
          "xanchor": "center",
          "xref": "paper",
          "y": 1,
          "yanchor": "bottom",
          "yref": "paper"
         },
         {
          "font": {
           "size": 16
          },
          "showarrow": false,
          "text": "2025",
          "x": 0.5,
          "xanchor": "center",
          "xref": "paper",
          "y": 0.46,
          "yanchor": "bottom",
          "yref": "paper"
         }
        ],
        "font": {
         "color": "#9e9e9e",
         "size": 10
        },
        "height": 300,
        "margin": {
         "b": 20,
         "t": 20
        },
        "plot_bgcolor": "#fff",
        "showlegend": false,
        "template": {
         "data": {
          "bar": [
           {
            "error_x": {
             "color": "#2a3f5f"
            },
            "error_y": {
             "color": "#2a3f5f"
            },
            "marker": {
             "line": {
              "color": "#E5ECF6",
              "width": 0.5
             },
             "pattern": {
              "fillmode": "overlay",
              "size": 10,
              "solidity": 0.2
             }
            },
            "type": "bar"
           }
          ],
          "barpolar": [
           {
            "marker": {
             "line": {
              "color": "#E5ECF6",
              "width": 0.5
             },
             "pattern": {
              "fillmode": "overlay",
              "size": 10,
              "solidity": 0.2
             }
            },
            "type": "barpolar"
           }
          ],
          "carpet": [
           {
            "aaxis": {
             "endlinecolor": "#2a3f5f",
             "gridcolor": "white",
             "linecolor": "white",
             "minorgridcolor": "white",
             "startlinecolor": "#2a3f5f"
            },
            "baxis": {
             "endlinecolor": "#2a3f5f",
             "gridcolor": "white",
             "linecolor": "white",
             "minorgridcolor": "white",
             "startlinecolor": "#2a3f5f"
            },
            "type": "carpet"
           }
          ],
          "choropleth": [
           {
            "colorbar": {
             "outlinewidth": 0,
             "ticks": ""
            },
            "type": "choropleth"
           }
          ],
          "contour": [
           {
            "colorbar": {
             "outlinewidth": 0,
             "ticks": ""
            },
            "colorscale": [
             [
              0,
              "#0d0887"
             ],
             [
              0.1111111111111111,
              "#46039f"
             ],
             [
              0.2222222222222222,
              "#7201a8"
             ],
             [
              0.3333333333333333,
              "#9c179e"
             ],
             [
              0.4444444444444444,
              "#bd3786"
             ],
             [
              0.5555555555555556,
              "#d8576b"
             ],
             [
              0.6666666666666666,
              "#ed7953"
             ],
             [
              0.7777777777777778,
              "#fb9f3a"
             ],
             [
              0.8888888888888888,
              "#fdca26"
             ],
             [
              1,
              "#f0f921"
             ]
            ],
            "type": "contour"
           }
          ],
          "contourcarpet": [
           {
            "colorbar": {
             "outlinewidth": 0,
             "ticks": ""
            },
            "type": "contourcarpet"
           }
          ],
          "heatmap": [
           {
            "colorbar": {
             "outlinewidth": 0,
             "ticks": ""
            },
            "colorscale": [
             [
              0,
              "#0d0887"
             ],
             [
              0.1111111111111111,
              "#46039f"
             ],
             [
              0.2222222222222222,
              "#7201a8"
             ],
             [
              0.3333333333333333,
              "#9c179e"
             ],
             [
              0.4444444444444444,
              "#bd3786"
             ],
             [
              0.5555555555555556,
              "#d8576b"
             ],
             [
              0.6666666666666666,
              "#ed7953"
             ],
             [
              0.7777777777777778,
              "#fb9f3a"
             ],
             [
              0.8888888888888888,
              "#fdca26"
             ],
             [
              1,
              "#f0f921"
             ]
            ],
            "type": "heatmap"
           }
          ],
          "heatmapgl": [
           {
            "colorbar": {
             "outlinewidth": 0,
             "ticks": ""
            },
            "colorscale": [
             [
              0,
              "#0d0887"
             ],
             [
              0.1111111111111111,
              "#46039f"
             ],
             [
              0.2222222222222222,
              "#7201a8"
             ],
             [
              0.3333333333333333,
              "#9c179e"
             ],
             [
              0.4444444444444444,
              "#bd3786"
             ],
             [
              0.5555555555555556,
              "#d8576b"
             ],
             [
              0.6666666666666666,
              "#ed7953"
             ],
             [
              0.7777777777777778,
              "#fb9f3a"
             ],
             [
              0.8888888888888888,
              "#fdca26"
             ],
             [
              1,
              "#f0f921"
             ]
            ],
            "type": "heatmapgl"
           }
          ],
          "histogram": [
           {
            "marker": {
             "pattern": {
              "fillmode": "overlay",
              "size": 10,
              "solidity": 0.2
             }
            },
            "type": "histogram"
           }
          ],
          "histogram2d": [
           {
            "colorbar": {
             "outlinewidth": 0,
             "ticks": ""
            },
            "colorscale": [
             [
              0,
              "#0d0887"
             ],
             [
              0.1111111111111111,
              "#46039f"
             ],
             [
              0.2222222222222222,
              "#7201a8"
             ],
             [
              0.3333333333333333,
              "#9c179e"
             ],
             [
              0.4444444444444444,
              "#bd3786"
             ],
             [
              0.5555555555555556,
              "#d8576b"
             ],
             [
              0.6666666666666666,
              "#ed7953"
             ],
             [
              0.7777777777777778,
              "#fb9f3a"
             ],
             [
              0.8888888888888888,
              "#fdca26"
             ],
             [
              1,
              "#f0f921"
             ]
            ],
            "type": "histogram2d"
           }
          ],
          "histogram2dcontour": [
           {
            "colorbar": {
             "outlinewidth": 0,
             "ticks": ""
            },
            "colorscale": [
             [
              0,
              "#0d0887"
             ],
             [
              0.1111111111111111,
              "#46039f"
             ],
             [
              0.2222222222222222,
              "#7201a8"
             ],
             [
              0.3333333333333333,
              "#9c179e"
             ],
             [
              0.4444444444444444,
              "#bd3786"
             ],
             [
              0.5555555555555556,
              "#d8576b"
             ],
             [
              0.6666666666666666,
              "#ed7953"
             ],
             [
              0.7777777777777778,
              "#fb9f3a"
             ],
             [
              0.8888888888888888,
              "#fdca26"
             ],
             [
              1,
              "#f0f921"
             ]
            ],
            "type": "histogram2dcontour"
           }
          ],
          "mesh3d": [
           {
            "colorbar": {
             "outlinewidth": 0,
             "ticks": ""
            },
            "type": "mesh3d"
           }
          ],
          "parcoords": [
           {
            "line": {
             "colorbar": {
              "outlinewidth": 0,
              "ticks": ""
             }
            },
            "type": "parcoords"
           }
          ],
          "pie": [
           {
            "automargin": true,
            "type": "pie"
           }
          ],
          "scatter": [
           {
            "fillpattern": {
             "fillmode": "overlay",
             "size": 10,
             "solidity": 0.2
            },
            "type": "scatter"
           }
          ],
          "scatter3d": [
           {
            "line": {
             "colorbar": {
              "outlinewidth": 0,
              "ticks": ""
             }
            },
            "marker": {
             "colorbar": {
              "outlinewidth": 0,
              "ticks": ""
             }
            },
            "type": "scatter3d"
           }
          ],
          "scattercarpet": [
           {
            "marker": {
             "colorbar": {
              "outlinewidth": 0,
              "ticks": ""
             }
            },
            "type": "scattercarpet"
           }
          ],
          "scattergeo": [
           {
            "marker": {
             "colorbar": {
              "outlinewidth": 0,
              "ticks": ""
             }
            },
            "type": "scattergeo"
           }
          ],
          "scattergl": [
           {
            "marker": {
             "colorbar": {
              "outlinewidth": 0,
              "ticks": ""
             }
            },
            "type": "scattergl"
           }
          ],
          "scattermapbox": [
           {
            "marker": {
             "colorbar": {
              "outlinewidth": 0,
              "ticks": ""
             }
            },
            "type": "scattermapbox"
           }
          ],
          "scatterpolar": [
           {
            "marker": {
             "colorbar": {
              "outlinewidth": 0,
              "ticks": ""
             }
            },
            "type": "scatterpolar"
           }
          ],
          "scatterpolargl": [
           {
            "marker": {
             "colorbar": {
              "outlinewidth": 0,
              "ticks": ""
             }
            },
            "type": "scatterpolargl"
           }
          ],
          "scatterternary": [
           {
            "marker": {
             "colorbar": {
              "outlinewidth": 0,
              "ticks": ""
             }
            },
            "type": "scatterternary"
           }
          ],
          "surface": [
           {
            "colorbar": {
             "outlinewidth": 0,
             "ticks": ""
            },
            "colorscale": [
             [
              0,
              "#0d0887"
             ],
             [
              0.1111111111111111,
              "#46039f"
             ],
             [
              0.2222222222222222,
              "#7201a8"
             ],
             [
              0.3333333333333333,
              "#9c179e"
             ],
             [
              0.4444444444444444,
              "#bd3786"
             ],
             [
              0.5555555555555556,
              "#d8576b"
             ],
             [
              0.6666666666666666,
              "#ed7953"
             ],
             [
              0.7777777777777778,
              "#fb9f3a"
             ],
             [
              0.8888888888888888,
              "#fdca26"
             ],
             [
              1,
              "#f0f921"
             ]
            ],
            "type": "surface"
           }
          ],
          "table": [
           {
            "cells": {
             "fill": {
              "color": "#EBF0F8"
             },
             "line": {
              "color": "white"
             }
            },
            "header": {
             "fill": {
              "color": "#C8D4E3"
             },
             "line": {
              "color": "white"
             }
            },
            "type": "table"
           }
          ]
         },
         "layout": {
          "annotationdefaults": {
           "arrowcolor": "#2a3f5f",
           "arrowhead": 0,
           "arrowwidth": 1
          },
          "autotypenumbers": "strict",
          "coloraxis": {
           "colorbar": {
            "outlinewidth": 0,
            "ticks": ""
           }
          },
          "colorscale": {
           "diverging": [
            [
             0,
             "#8e0152"
            ],
            [
             0.1,
             "#c51b7d"
            ],
            [
             0.2,
             "#de77ae"
            ],
            [
             0.3,
             "#f1b6da"
            ],
            [
             0.4,
             "#fde0ef"
            ],
            [
             0.5,
             "#f7f7f7"
            ],
            [
             0.6,
             "#e6f5d0"
            ],
            [
             0.7,
             "#b8e186"
            ],
            [
             0.8,
             "#7fbc41"
            ],
            [
             0.9,
             "#4d9221"
            ],
            [
             1,
             "#276419"
            ]
           ],
           "sequential": [
            [
             0,
             "#0d0887"
            ],
            [
             0.1111111111111111,
             "#46039f"
            ],
            [
             0.2222222222222222,
             "#7201a8"
            ],
            [
             0.3333333333333333,
             "#9c179e"
            ],
            [
             0.4444444444444444,
             "#bd3786"
            ],
            [
             0.5555555555555556,
             "#d8576b"
            ],
            [
             0.6666666666666666,
             "#ed7953"
            ],
            [
             0.7777777777777778,
             "#fb9f3a"
            ],
            [
             0.8888888888888888,
             "#fdca26"
            ],
            [
             1,
             "#f0f921"
            ]
           ],
           "sequentialminus": [
            [
             0,
             "#0d0887"
            ],
            [
             0.1111111111111111,
             "#46039f"
            ],
            [
             0.2222222222222222,
             "#7201a8"
            ],
            [
             0.3333333333333333,
             "#9c179e"
            ],
            [
             0.4444444444444444,
             "#bd3786"
            ],
            [
             0.5555555555555556,
             "#d8576b"
            ],
            [
             0.6666666666666666,
             "#ed7953"
            ],
            [
             0.7777777777777778,
             "#fb9f3a"
            ],
            [
             0.8888888888888888,
             "#fdca26"
            ],
            [
             1,
             "#f0f921"
            ]
           ]
          },
          "colorway": [
           "#636efa",
           "#EF553B",
           "#00cc96",
           "#ab63fa",
           "#FFA15A",
           "#19d3f3",
           "#FF6692",
           "#B6E880",
           "#FF97FF",
           "#FECB52"
          ],
          "font": {
           "color": "#2a3f5f"
          },
          "geo": {
           "bgcolor": "white",
           "lakecolor": "white",
           "landcolor": "#E5ECF6",
           "showlakes": true,
           "showland": true,
           "subunitcolor": "white"
          },
          "hoverlabel": {
           "align": "left"
          },
          "hovermode": "closest",
          "mapbox": {
           "style": "light"
          },
          "paper_bgcolor": "white",
          "plot_bgcolor": "#E5ECF6",
          "polar": {
           "angularaxis": {
            "gridcolor": "white",
            "linecolor": "white",
            "ticks": ""
           },
           "bgcolor": "#E5ECF6",
           "radialaxis": {
            "gridcolor": "white",
            "linecolor": "white",
            "ticks": ""
           }
          },
          "scene": {
           "xaxis": {
            "backgroundcolor": "#E5ECF6",
            "gridcolor": "white",
            "gridwidth": 2,
            "linecolor": "white",
            "showbackground": true,
            "ticks": "",
            "zerolinecolor": "white"
           },
           "yaxis": {
            "backgroundcolor": "#E5ECF6",
            "gridcolor": "white",
            "gridwidth": 2,
            "linecolor": "white",
            "showbackground": true,
            "ticks": "",
            "zerolinecolor": "white"
           },
           "zaxis": {
            "backgroundcolor": "#E5ECF6",
            "gridcolor": "white",
            "gridwidth": 2,
            "linecolor": "white",
            "showbackground": true,
            "ticks": "",
            "zerolinecolor": "white"
           }
          },
          "shapedefaults": {
           "line": {
            "color": "#2a3f5f"
           }
          },
          "ternary": {
           "aaxis": {
            "gridcolor": "white",
            "linecolor": "white",
            "ticks": ""
           },
           "baxis": {
            "gridcolor": "white",
            "linecolor": "white",
            "ticks": ""
           },
           "bgcolor": "#E5ECF6",
           "caxis": {
            "gridcolor": "white",
            "linecolor": "white",
            "ticks": ""
           }
          },
          "title": {
           "x": 0.05
          },
          "xaxis": {
           "automargin": true,
           "gridcolor": "white",
           "linecolor": "white",
           "ticks": "",
           "title": {
            "standoff": 15
           },
           "zerolinecolor": "white",
           "zerolinewidth": 2
          },
          "yaxis": {
           "automargin": true,
           "gridcolor": "white",
           "linecolor": "white",
           "ticks": "",
           "title": {
            "standoff": 15
           },
           "zerolinecolor": "white",
           "zerolinewidth": 2
          }
         }
        },
        "title": {
         "text": ""
        },
        "xaxis": {
         "anchor": "y",
         "domain": [
          0,
          1
         ],
         "showgrid": false,
         "showline": false,
         "tickmode": "array",
         "ticktext": [
          "January",
          "February",
          "March",
          "April",
          "May",
          "June",
          "July",
          "August",
          "September",
          "October",
          "November",
          "December"
         ],
         "tickvals": [
          1.5,
          5.909090909090909,
          10.318181818181818,
          14.727272727272727,
          19.136363636363637,
          23.545454545454547,
          27.954545454545453,
          32.36363636363636,
          36.77272727272727,
          41.18181818181818,
          45.59090909090909,
          50
         ],
         "zeroline": false
        },
        "xaxis2": {
         "anchor": "y2",
         "domain": [
          0,
          1
         ],
         "showgrid": false,
         "showline": false,
         "tickmode": "array",
         "ticktext": [
          "January",
          "February",
          "March",
          "April",
          "May",
          "June",
          "July",
          "August",
          "September",
          "October",
          "November",
          "December"
         ],
         "tickvals": [
          1.5,
          5.909090909090909,
          10.318181818181818,
          14.727272727272727,
          19.136363636363637,
          23.545454545454547,
          27.954545454545453,
          32.36363636363636,
          36.77272727272727,
          41.18181818181818,
          45.59090909090909,
          50
         ],
         "zeroline": false
        },
        "yaxis": {
         "anchor": "x",
         "autorange": "reversed",
         "domain": [
          0.54,
          1
         ],
         "showgrid": false,
         "showline": false,
         "tickmode": "array",
         "ticktext": [
          "Mon",
          "Tue",
          "Wed",
          "Thu",
          "Fri",
          "Sat",
          "Sun"
         ],
         "tickvals": [
          0,
          1,
          2,
          3,
          4,
          5,
          6
         ],
         "zeroline": false
        },
        "yaxis2": {
         "anchor": "x2",
         "autorange": "reversed",
         "domain": [
          0,
          0.46
         ],
         "showgrid": false,
         "showline": false,
         "tickmode": "array",
         "ticktext": [
          "Mon",
          "Tue",
          "Wed",
          "Thu",
          "Fri",
          "Sat",
          "Sun"
         ],
         "tickvals": [
          0,
          1,
          2,
          3,
          4,
          5,
          6
         ],
         "zeroline": false
        }
       }
      }
     },
     "metadata": {},
     "output_type": "display_data"
    }
   ],
   "source": [
    "\n",
    "fig_future = calplot(\n",
    "    future_df,\n",
    "    x='start_date_local',        \n",
    "    y='predicted_distance',      \n",
    "    years_title=True,\n",
    "    gap=0,\n",
    "    colorscale='blues'\n",
    ")\n",
    "fig_future.show()"
   ]
  },
  {
   "cell_type": "code",
   "execution_count": null,
   "metadata": {},
   "outputs": [],
   "source": []
  }
 ],
 "metadata": {
  "kernelspec": {
   "display_name": "Python 3",
   "language": "python",
   "name": "python3"
  },
  "language_info": {
   "codemirror_mode": {
    "name": "ipython",
    "version": 3
   },
   "file_extension": ".py",
   "mimetype": "text/x-python",
   "name": "python",
   "nbconvert_exporter": "python",
   "pygments_lexer": "ipython3",
   "version": "3.13.0"
  }
 },
 "nbformat": 4,
 "nbformat_minor": 2
}
