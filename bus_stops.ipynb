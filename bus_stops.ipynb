{
 "cells": [
  {
   "cell_type": "code",
   "execution_count": 17,
   "metadata": {},
   "outputs": [],
   "source": [
    "import pandas as pd\n",
    "import requests\n",
    "import xml.etree.ElementTree as ET\n",
    "import xml.dom.minidom\n",
    "import json\n",
    "import csv\n",
    "import datetime as dt\n"
   ]
  },
  {
   "cell_type": "code",
   "execution_count": 96,
   "metadata": {},
   "outputs": [],
   "source": [
    "myToken = 'NLOD'\n",
    "myUrl = 'https://api.entur.io/stop-places/v1/read/stop-places?count=50000&transportModes=BUS'\n",
    "head1 = {'Authorization': 'token {}'.format(myToken)}\n",
    "response = requests.get(myUrl, headers=head1)\n",
    "# Print raw text content of the response to check the format, this is how I found out that it´s xml\n",
    "#print(response.headers['Content-Type'])\n",
    "\n"
   ]
  },
  {
   "cell_type": "code",
   "execution_count": 97,
   "metadata": {},
   "outputs": [],
   "source": [
    "#print(response.content)"
   ]
  },
  {
   "cell_type": "code",
   "execution_count": 98,
   "metadata": {},
   "outputs": [],
   "source": [
    "\n",
    "#print(response.text) "
   ]
  },
  {
   "cell_type": "code",
   "execution_count": 99,
   "metadata": {},
   "outputs": [],
   "source": [
    "data = response.json() #converts JSON to Python dictionary\n",
    "#print(data)"
   ]
  },
  {
   "cell_type": "code",
   "execution_count": 100,
   "metadata": {},
   "outputs": [],
   "source": [
    "#print(data[0].keys())  #show the keys so that you can filter later"
   ]
  },
  {
   "cell_type": "code",
   "execution_count": 101,
   "metadata": {},
   "outputs": [],
   "source": [
    "keys_to_keep = ['id', 'created', 'name', 'longitude', 'latitude']\n",
    "\n",
    "processed_data = []\n",
    "for entry in data:\n",
    "    # Extract the 'value' from 'name'\n",
    "    entry['name'] = entry.get('name', {}).get('value', None) \n",
    "    \n",
    "    # Extract longitude and latitude from centroid['location']\n",
    "    if 'centroid' in entry and 'location' in entry['centroid']:\n",
    "        location = entry['centroid']['location']\n",
    "        entry['longitude'] = location.get('longitude', None)\n",
    "        entry['latitude'] = location.get('latitude', None)\n",
    "        \n",
    "        \n",
    "        del entry['centroid']  # Remove the entire centroid field\n",
    "    \n",
    "    # Keep only the specified keys\n",
    "    filtered_entry = {key: entry.get(key, None) for key in keys_to_keep}\n",
    "    processed_data.append(filtered_entry)\n",
    "\n",
    "# Convert the processed data into a DataFrame\n",
    "df = pd.DataFrame(processed_data)\n",
    "\n"
   ]
  },
  {
   "cell_type": "code",
   "execution_count": 113,
   "metadata": {},
   "outputs": [],
   "source": [
    "#df.head(12)"
   ]
  },
  {
   "cell_type": "code",
   "execution_count": 103,
   "metadata": {},
   "outputs": [
    {
     "data": {
      "text/plain": [
       "(50000, 5)"
      ]
     },
     "execution_count": 103,
     "metadata": {},
     "output_type": "execute_result"
    }
   ],
   "source": [
    "df.shape"
   ]
  },
  {
   "cell_type": "code",
   "execution_count": 112,
   "metadata": {},
   "outputs": [],
   "source": [
    "# Define the bounding box for Oslo\n",
    "oslo_min_lat = 59.85\n",
    "oslo_max_lat = 59.97\n",
    "oslo_min_lon = 10.64\n",
    "oslo_max_lon = 10.89\n",
    "\n",
    "# Filter the DataFrame\n",
    "df_oslo = df[\n",
    "    (df['latitude'] >= oslo_min_lat) & \n",
    "    (df['latitude'] <= oslo_max_lat) & \n",
    "    (df['longitude'] >= oslo_min_lon) & \n",
    "    (df['longitude'] <= oslo_max_lon)\n",
    "]\n",
    "\n",
    "# Display the filtered DataFrame\n",
    "#print(df_oslo)\n"
   ]
  },
  {
   "cell_type": "code",
   "execution_count": 110,
   "metadata": {},
   "outputs": [
    {
     "data": {
      "text/plain": [
       "(437, 5)"
      ]
     },
     "execution_count": 110,
     "metadata": {},
     "output_type": "execute_result"
    }
   ],
   "source": [
    "\n",
    "df_oslo.shape"
   ]
  },
  {
   "cell_type": "code",
   "execution_count": 111,
   "metadata": {},
   "outputs": [],
   "source": [
    "df_oslo.to_csv(\"bus_stop_oslo\", index=False)"
   ]
  },
  {
   "cell_type": "code",
   "execution_count": null,
   "metadata": {},
   "outputs": [],
   "source": []
  }
 ],
 "metadata": {
  "kernelspec": {
   "display_name": "Python 3",
   "language": "python",
   "name": "python3"
  },
  "language_info": {
   "codemirror_mode": {
    "name": "ipython",
    "version": 3
   },
   "file_extension": ".py",
   "mimetype": "text/x-python",
   "name": "python",
   "nbconvert_exporter": "python",
   "pygments_lexer": "ipython3",
   "version": "3.13.0"
  }
 },
 "nbformat": 4,
 "nbformat_minor": 2
}
