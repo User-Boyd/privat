{
 "cells": [
  {
   "cell_type": "code",
   "execution_count": 1,
   "metadata": {},
   "outputs": [],
   "source": [
    "import pandas as pd\n",
    "import numpy as np\n",
    "import datetime as dt\n",
    "import requests"
   ]
  },
  {
   "cell_type": "code",
   "execution_count": 2,
   "metadata": {},
   "outputs": [],
   "source": [
    "BASE_URL = \"http://api.openweathermap.org/data/2.5/weather?\"\n",
    "API_KEY = \"85e4ca9307c6fbdd7866fdb76fe3bebd\"\n",
    "CITY = \"Oslo\"\n",
    "url = BASE_URL + \"appid=\" + API_KEY + \"&q=\" + CITY\n",
    "response = requests.get(url).json()\n",
    "#print(response)"
   ]
  },
  {
   "cell_type": "code",
   "execution_count": 3,
   "metadata": {},
   "outputs": [
    {
     "name": "stdout",
     "output_type": "stream",
     "text": [
      "Temperature in Oslo: 10.30 degrees\n",
      "Feels like: 9.92 degrees\n",
      "Humidity: 97%\n",
      "General weather: overcast clouds\n",
      "Sunrise: 2024-10-18 10:04:01\n",
      "Sunset: 2024-10-18 19:59:52\n"
     ]
    }
   ],
   "source": [
    "def kelvin_to_celsius_fahrenheit(kelvin):\n",
    "    celsius = kelvin - 273.15\n",
    "    fahrenheit = celsius * (9/5) + 32\n",
    "    return celsius, fahrenheit\n",
    "\n",
    "temp_kelvin = response['main']['temp']\n",
    "temp_celsius, temp_fahrenheit = kelvin_to_celsius_fahrenheit(temp_kelvin)\n",
    "\n",
    "feels_like_kelvin = response['main']['feels_like']\n",
    "feels_like_celsius, feels_like_fahrenheit = kelvin_to_celsius_fahrenheit(feels_like_kelvin)\n",
    "\n",
    "wind_speed = response['wind']['speed']\n",
    "humidity = response['main']['humidity']\n",
    "description = response['weather'][0]['description']\n",
    "\n",
    "sunrise_time = dt.datetime.fromtimestamp(response['sys']['sunrise'] + response['timezone'])\n",
    "sunset_time = dt.datetime.fromtimestamp(response['sys']['sunset'] + response['timezone'])\n",
    "\n",
    "print(f\"Temperature in {CITY}: {temp_celsius:.2f} degrees\")\n",
    "print(f\"Feels like: {feels_like_celsius:.2f} degrees\")\n",
    "print(f\"Humidity: {humidity}%\")\n",
    "\n",
    "print(f\"General weather: {description}\")\n",
    "print(f\"Sunrise: {sunrise_time}\")\n",
    "print(f\"Sunset: {sunset_time}\")\n"
   ]
  }
 ],
 "metadata": {
  "kernelspec": {
   "display_name": "Python 3",
   "language": "python",
   "name": "python3"
  },
  "language_info": {
   "codemirror_mode": {
    "name": "ipython",
    "version": 3
   },
   "file_extension": ".py",
   "mimetype": "text/x-python",
   "name": "python",
   "nbconvert_exporter": "python",
   "pygments_lexer": "ipython3",
   "version": "3.13.0"
  }
 },
 "nbformat": 4,
 "nbformat_minor": 2
}
