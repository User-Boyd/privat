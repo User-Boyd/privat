{
 "cells": [
  {
   "cell_type": "code",
   "execution_count": 45,
   "metadata": {},
   "outputs": [],
   "source": [
    "import pandas as pd\n",
    "import requests\n",
    "import xml.etree.ElementTree as ET\n",
    "import xml.dom.minidom\n",
    "import json\n",
    "import csv\n",
    "import datetime as dt\n"
   ]
  },
  {
   "cell_type": "code",
   "execution_count": 46,
   "metadata": {},
   "outputs": [],
   "source": [
    "myToken = 'NLOD'\n",
    "myUrl = 'https://api.entur.io/stop-places/v1/read/stop-places?transportModes=BUS'\n",
    "head1 = {'Authorization': 'token {}'.format(myToken)}\n",
    "response = requests.get(myUrl, headers=head1)\n",
    "# Print raw text content of the response to check the format, this is how I found out that it´s xml\n",
    "#print(response.headers['Content-Type'])"
   ]
  },
  {
   "cell_type": "code",
   "execution_count": 47,
   "metadata": {},
   "outputs": [],
   "source": [
    "#print(response.content)"
   ]
  },
  {
   "cell_type": "code",
   "execution_count": 48,
   "metadata": {},
   "outputs": [],
   "source": [
    "\n",
    "#print(response.text) "
   ]
  },
  {
   "cell_type": "code",
   "execution_count": 52,
   "metadata": {},
   "outputs": [
    {
     "name": "stdout",
     "output_type": "stream",
     "text": [
      "[{'id': 'NSR:StopPlace:1000', 'validBetween': [{'modification': 'NEW', 'status_BasicModificationDetailsGroup': 'ACTIVE', 'publication': 'PUBLIC', 'fromDate': '2017-06-19T21:14:34.1+02:00'}], 'created': '2017-06-19T21:14:34.1+02:00', 'changed': '2024-01-01T02:24:58.536+01:00', 'modification': 'NEW', 'version': '1', 'status_BasicModificationDetailsGroup': 'ACTIVE', 'publication': 'PUBLIC', 'keyList': {'keyValue': [{'key': 'imported-id', 'value': 'OST:StopPlace:01223282,OST:StopPlace:1223282'}, {'key': 'IS_PARENT_STOP_PLACE', 'value': 'false'}]}, 'name': {'value': 'Sentvedt', 'lang': 'nor'}, 'centroid': {'modification': 'NEW', 'status_BasicModificationDetailsGroup': 'ACTIVE', 'publication': 'PUBLIC', 'location': {'longitude': 11.379885, 'latitude': 59.66847}}, 'accessibilityAssessment': {'id': 'NSR:AccessibilityAssessment:1000', 'modification': 'NEW', 'version': '1', 'status_BasicModificationDetailsGroup': 'ACTIVE', 'publication': 'PUBLIC', 'mobilityImpairedAccess': 'UNKNOWN', 'limitations': {'accessibilityLimitation': {'id': '2470', 'modification': 'NEW', 'version': '1', 'status_BasicModificationDetailsGroup': 'ACTIVE', 'publication': 'PUBLIC', 'wheelchairAccess': 'UNKNOWN', 'stepFreeAccess': 'UNKNOWN'}}}, 'topographicPlaceRef': {'ref': 'KVE:TopographicPlace:3118', 'created': '2024-11-13T12:38:23.51+01:00', 'version': '1'}, 'transportMode': 'BUS', 'tariffZones': {'modificationSet': 'ALL', 'tariffZoneRef': [{'ref': 'RUT:FareZone:11', 'version': '7'}, {'ref': 'OST:FareZone:8', 'version': '7'}, {'ref': 'OST:TariffZone:274', 'version': '1'}, {'ref': 'RUT:TariffZone:4SØ', 'version': '9'}]}, 'stopPlaceType': 'ONSTREET_BUS', 'weighting': 'INTERCHANGE_ALLOWED', 'quays': {'modificationSet': 'ALL', 'quayRefOrQuay': [{'id': 'NSR:Quay:1612', 'modification': 'NEW', 'version': '1', 'status_BasicModificationDetailsGroup': 'ACTIVE', 'publication': 'PUBLIC', 'keyList': {'keyValue': [{'key': 'imported-id', 'value': 'OST:Quay:122328201,OST:Quay:0122328201'}]}, 'privateCode': {'value': '01', 'type': 'StopPoint'}, 'centroid': {'modification': 'NEW', 'status_BasicModificationDetailsGroup': 'ACTIVE', 'publication': 'PUBLIC', 'location': {'longitude': 11.379885, 'latitude': 59.66847}}, 'compassBearing': 93.0}]}}, {'id': 'NSR:StopPlace:10000', 'validBetween': [{'modification': 'NEW', 'status_BasicModificationDetailsGroup': 'ACTIVE', 'publication': 'PUBLIC', 'fromDate': '2023-11-20T12:00:03.196+01:00'}], 'created': '2017-06-19T21:24:52.897+02:00', 'changed': '2024-01-01T02:24:59.049+01:00', 'modification': 'NEW', 'version': '9', 'status_BasicModificationDetailsGroup': 'ACTIVE', 'publication': 'PUBLIC', 'keyList': {'keyValue': [{'key': 'lastUpdated', 'value': '2013-10-07'}, {'key': 'imported-id', 'value': 'OPP:StopPlace:4121624,HED:StopPlace:04121624,HED:StopPlace:4121624'}, {'key': 'VERSION_COMMENT', 'value': 'justert'}, {'key': 'IS_PARENT_STOP_PLACE', 'value': 'false'}]}, 'name': {'value': 'Grøtholm', 'lang': 'nor'}, 'privateCode': {}, 'centroid': {'modification': 'NEW', 'status_BasicModificationDetailsGroup': 'ACTIVE', 'publication': 'PUBLIC', 'location': {'longitude': 11.082162, 'latitude': 60.868371}}, 'accessibilityAssessment': {'id': 'NSR:AccessibilityAssessment:10000', 'modification': 'NEW', 'version': '9', 'status_BasicModificationDetailsGroup': 'ACTIVE', 'publication': 'PUBLIC', 'mobilityImpairedAccess': 'UNKNOWN', 'limitations': {'accessibilityLimitation': {'id': '189160', 'modification': 'NEW', 'version': '1', 'status_BasicModificationDetailsGroup': 'ACTIVE', 'publication': 'PUBLIC', 'wheelchairAccess': 'UNKNOWN', 'stepFreeAccess': 'UNKNOWN', 'escalatorFreeAccess': 'UNKNOWN', 'liftFreeAccess': 'UNKNOWN', 'audibleSignalsAvailable': 'UNKNOWN'}}}, 'topographicPlaceRef': {'ref': 'KVE:TopographicPlace:3411', 'created': '2024-11-13T12:38:23.732+01:00', 'version': '4'}, 'transportMode': 'BUS', 'tariffZones': {'modificationSet': 'ALL', 'tariffZoneRef': [{'ref': 'INN:TariffZone:474', 'version': '11'}, {'ref': 'INN:FareZone:159', 'version': '16'}]}, 'stopPlaceType': 'ONSTREET_BUS', 'weighting': 'INTERCHANGE_ALLOWED', 'quays': {'modificationSet': 'ALL', 'quayRefOrQuay': [{'id': 'NSR:Quay:17061', 'changed': '2023-11-20T12:00:03.195+01:00', 'modification': 'NEW', 'version': '9', 'status_BasicModificationDetailsGroup': 'ACTIVE', 'publication': 'PUBLIC', 'keyList': {'keyValue': [{'key': 'hpltype', 'value': '9766'}, {'key': 'imported-id', 'value': 'HED:Quay:0412162401,HED:Quay:412162401,OPP:Quay:0412162401'}, {'key': 'retn_nett', 'value': '9771'}]}, 'privateCode': {'value': '1'}, 'centroid': {'modification': 'NEW', 'status_BasicModificationDetailsGroup': 'ACTIVE', 'publication': 'PUBLIC', 'location': {'longitude': 11.082214, 'latitude': 60.868383}}}, {'id': 'NSR:Quay:17062', 'changed': '2023-11-20T12:00:03.196+01:00', 'modification': 'NEW', 'version': '9', 'status_BasicModificationDetailsGroup': 'ACTIVE', 'publication': 'PUBLIC', 'keyList': {'keyValue': [{'key': 'hpltype', 'value': '9766'}, {'key': 'imported-id', 'value': 'HED:Quay:0412162402,OPP:Quay:412162402,OPP:Quay:0412162402'}, {'key': 'retn_nett', 'value': '9771'}]}, 'privateCode': {'value': '2'}, 'centroid': {'modification': 'NEW', 'status_BasicModificationDetailsGroup': 'ACTIVE', 'publication': 'PUBLIC', 'location': {'longitude': 11.08211, 'latitude': 60.868359}}}]}}, {'id': 'NSR:StopPlace:10001', 'validBetween': [{'modification': 'NEW', 'status_BasicModificationDetailsGroup': 'ACTIVE', 'publication': 'PUBLIC', 'fromDate': '2022-11-24T13:19:10.777+01:00'}], 'created': '2017-06-19T21:24:52.851+02:00', 'changed': '2024-01-01T02:24:59.49+01:00', 'modification': 'NEW', 'version': '3', 'status_BasicModificationDetailsGroup': 'ACTIVE', 'publication': 'PUBLIC', 'keyList': {'keyValue': [{'key': 'lastUpdated', 'value': '2013-10-07'}, {'key': 'imported-id', 'value': 'OPP:StopPlace:4263270,HED:StopPlace:04263270,HED:StopPlace:4263270'}, {'key': 'VERSION_COMMENT', 'value': 'justert'}, {'key': 'IS_PARENT_STOP_PLACE', 'value': 'false'}]}, 'name': {'value': 'Venstad vegkryss', 'lang': 'nor'}, 'privateCode': {}, 'centroid': {'modification': 'NEW', 'status_BasicModificationDetailsGroup': 'ACTIVE', 'publication': 'PUBLIC', 'location': {'longitude': 11.810896, 'latitude': 60.689267}}, 'accessibilityAssessment': {'id': 'NSR:AccessibilityAssessment:10001', 'modification': 'NEW', 'version': '3', 'status_BasicModificationDetailsGroup': 'ACTIVE', 'publication': 'PUBLIC', 'mobilityImpairedAccess': 'UNKNOWN', 'limitations': {'accessibilityLimitation': {'id': '175900', 'modification': 'NEW', 'version': '1', 'status_BasicModificationDetailsGroup': 'ACTIVE', 'publication': 'PUBLIC', 'wheelchairAccess': 'UNKNOWN', 'stepFreeAccess': 'UNKNOWN', 'escalatorFreeAccess': 'UNKNOWN', 'liftFreeAccess': 'UNKNOWN', 'audibleSignalsAvailable': 'UNKNOWN'}}}, 'topographicPlaceRef': {'ref': 'KVE:TopographicPlace:3419', 'created': '2024-11-13T12:38:23.81+01:00', 'version': '4'}, 'transportMode': 'BUS', 'tariffZones': {'modificationSet': 'ALL', 'tariffZoneRef': [{'ref': 'INN:TariffZone:491', 'version': '11'}, {'ref': 'INN:FareZone:96', 'version': '16'}]}, 'stopPlaceType': 'ONSTREET_BUS', 'weighting': 'INTERCHANGE_ALLOWED', 'quays': {'modificationSet': 'ALL', 'quayRefOrQuay': [{'id': 'NSR:Quay:105819', 'changed': '2022-11-24T13:19:10.775+01:00', 'modification': 'NEW', 'version': '2', 'status_BasicModificationDetailsGroup': 'ACTIVE', 'publication': 'PUBLIC', 'keyList': {'keyValue': [{'key': 'imported-id'}]}, 'privateCode': {'value': '2'}, 'centroid': {'modification': 'NEW', 'status_BasicModificationDetailsGroup': 'ACTIVE', 'publication': 'PUBLIC', 'location': {'longitude': 11.810721, 'latitude': 60.689656}}, 'compassBearing': 350.0}, {'id': 'NSR:Quay:17063', 'changed': '2022-11-24T13:19:10.776+01:00', 'modification': 'NEW', 'version': '3', 'status_BasicModificationDetailsGroup': 'ACTIVE', 'publication': 'PUBLIC', 'keyList': {'keyValue': [{'key': 'hpltype', 'value': '9766'}, {'key': 'imported-id', 'value': 'HED:Quay:0426327001,HED:Quay:426327001,OPP:Quay:426327001'}, {'key': 'retn_nett', 'value': '9771'}]}, 'privateCode': {'value': '1'}, 'centroid': {'modification': 'NEW', 'status_BasicModificationDetailsGroup': 'ACTIVE', 'publication': 'PUBLIC', 'location': {'longitude': 11.81107, 'latitude': 60.688879}}, 'compassBearing': 175.0}]}}, {'id': 'NSR:StopPlace:10002', 'validBetween': [{'modification': 'NEW', 'status_BasicModificationDetailsGroup': 'ACTIVE', 'publication': 'PUBLIC', 'fromDate': '2023-11-20T11:59:31.092+01:00'}], 'created': '2017-06-19T21:24:52.942+02:00', 'changed': '2024-01-01T02:24:59.757+01:00', 'modification': 'NEW', 'version': '4', 'status_BasicModificationDetailsGroup': 'ACTIVE', 'publication': 'PUBLIC', 'keyList': {'keyValue': [{'key': 'lastUpdated', 'value': '2017-05-29'}, {'key': 'imported-id', 'value': 'HED:StopPlace:04121626,OPP:StopPlace:04121626'}, {'key': 'VERSION_COMMENT', 'value': 'justert'}, {'key': 'IS_PARENT_STOP_PLACE', 'value': 'false'}]}, 'name': {'value': 'Husum', 'lang': 'nor'}, 'privateCode': {}, 'centroid': {'modification': 'NEW', 'status_BasicModificationDetailsGroup': 'ACTIVE', 'publication': 'PUBLIC', 'location': {'longitude': 11.083912, 'latitude': 60.872022}}, 'accessibilityAssessment': {'id': 'NSR:AccessibilityAssessment:10002', 'modification': 'NEW', 'version': '4', 'status_BasicModificationDetailsGroup': 'ACTIVE', 'publication': 'PUBLIC', 'mobilityImpairedAccess': 'UNKNOWN', 'limitations': {'accessibilityLimitation': {'id': '189164', 'modification': 'NEW', 'version': '1', 'status_BasicModificationDetailsGroup': 'ACTIVE', 'publication': 'PUBLIC', 'wheelchairAccess': 'UNKNOWN', 'stepFreeAccess': 'UNKNOWN', 'escalatorFreeAccess': 'UNKNOWN', 'liftFreeAccess': 'UNKNOWN', 'audibleSignalsAvailable': 'UNKNOWN'}}}, 'topographicPlaceRef': {'ref': 'KVE:TopographicPlace:3411', 'created': '2024-11-13T12:38:23.936+01:00', 'version': '4'}, 'transportMode': 'BUS', 'tariffZones': {'modificationSet': 'ALL', 'tariffZoneRef': [{'ref': 'INN:TariffZone:474', 'version': '11'}, {'ref': 'INN:FareZone:159', 'version': '16'}]}, 'stopPlaceType': 'ONSTREET_BUS', 'weighting': 'INTERCHANGE_ALLOWED', 'quays': {'modificationSet': 'ALL', 'quayRefOrQuay': [{'id': 'NSR:Quay:103369', 'changed': '2023-11-20T11:59:31.091+01:00', 'modification': 'NEW', 'version': '3', 'status_BasicModificationDetailsGroup': 'ACTIVE', 'publication': 'PUBLIC', 'keyList': {'keyValue': [{'key': 'imported-id', 'value': 'HED:Quay:0412162602,OPP:Quay:0412162602'}]}, 'privateCode': {'value': '2'}, 'centroid': {'modification': 'NEW', 'status_BasicModificationDetailsGroup': 'ACTIVE', 'publication': 'PUBLIC', 'location': {'longitude': 11.083751, 'latitude': 60.871992}}}, {'id': 'NSR:Quay:17064', 'changed': '2023-11-20T11:59:31.091+01:00', 'modification': 'NEW', 'version': '4', 'status_BasicModificationDetailsGroup': 'ACTIVE', 'publication': 'PUBLIC', 'keyList': {'keyValue': [{'key': 'hpltype', 'value': '9766'}, {'key': 'imported-id', 'value': 'HED:Quay:0412162601,OPP:Quay:0412162601'}, {'key': 'retn_nett', 'value': '9771'}]}, 'privateCode': {'value': '1'}, 'centroid': {'modification': 'NEW', 'status_BasicModificationDetailsGroup': 'ACTIVE', 'publication': 'PUBLIC', 'location': {'longitude': 11.084073, 'latitude': 60.872051}}}]}}, {'id': 'NSR:StopPlace:10003', 'validBetween': [{'modification': 'NEW', 'status_BasicModificationDetailsGroup': 'ACTIVE', 'publication': 'PUBLIC', 'fromDate': '2024-10-17T17:20:05.698+02:00'}], 'created': '2017-06-19T21:24:52.985+02:00', 'changed': '2024-10-17T17:20:05.701+02:00', 'modification': 'NEW', 'version': '4', 'status_BasicModificationDetailsGroup': 'ACTIVE', 'publication': 'PUBLIC', 'keyList': {'keyValue': [{'key': 'lastUpdated', 'value': '2013-10-07'}, {'key': 'imported-id', 'value': 'HED:StopPlace:04023982,OPP:StopPlace:04023982'}, {'key': 'VERSION_COMMENT', 'value': 'justert'}, {'key': 'IS_PARENT_STOP_PLACE', 'value': 'false'}]}, 'name': {'value': 'Langåsen', 'lang': 'nor'}, 'privateCode': {}, 'centroid': {'modification': 'NEW', 'status_BasicModificationDetailsGroup': 'ACTIVE', 'publication': 'PUBLIC', 'location': {'longitude': 12.319952, 'latitude': 60.295777}}, 'accessibilityAssessment': {'id': 'NSR:AccessibilityAssessment:10003', 'modification': 'NEW', 'version': '4', 'status_BasicModificationDetailsGroup': 'ACTIVE', 'publication': 'PUBLIC', 'mobilityImpairedAccess': 'UNKNOWN', 'limitations': {'accessibilityLimitation': {'id': '196912', 'modification': 'NEW', 'version': '1', 'status_BasicModificationDetailsGroup': 'ACTIVE', 'publication': 'PUBLIC', 'wheelchairAccess': 'UNKNOWN', 'stepFreeAccess': 'UNKNOWN', 'escalatorFreeAccess': 'UNKNOWN', 'liftFreeAccess': 'UNKNOWN', 'audibleSignalsAvailable': 'UNKNOWN'}}}, 'topographicPlaceRef': {'ref': 'KVE:TopographicPlace:3401', 'created': '2024-11-13T12:38:24.101+01:00', 'version': '4'}, 'transportMode': 'BUS', 'tariffZones': {'modificationSet': 'ALL', 'tariffZoneRef': [{'ref': 'INN:TariffZone:486', 'version': '11'}, {'ref': 'INN:FareZone:142', 'version': '16'}]}, 'stopPlaceType': 'ONSTREET_BUS', 'weighting': 'INTERCHANGE_ALLOWED', 'quays': {'modificationSet': 'ALL', 'quayRefOrQuay': [{'id': 'NSR:Quay:101805', 'changed': '2024-10-17T17:20:05.697+02:00', 'modification': 'NEW', 'version': '3', 'status_BasicModificationDetailsGroup': 'ACTIVE', 'publication': 'PUBLIC', 'keyList': {'keyValue': [{'key': 'imported-id', 'value': 'OPP:Quay:0402398201,HED:Quay:0402398201'}]}, 'privateCode': {'value': '1'}, 'centroid': {'modification': 'NEW', 'status_BasicModificationDetailsGroup': 'ACTIVE', 'publication': 'PUBLIC', 'location': {'longitude': 12.319995, 'latitude': 60.295758}}}, {'id': 'NSR:Quay:17065', 'changed': '2024-10-17T17:20:05.697+02:00', 'modification': 'NEW', 'version': '4', 'status_BasicModificationDetailsGroup': 'ACTIVE', 'publication': 'PUBLIC', 'keyList': {'keyValue': [{'key': 'hpltype', 'value': '9766'}, {'key': 'imported-id', 'value': 'OPP:Quay:0402398202,HED:Quay:0402398202'}, {'key': 'retn_nett', 'value': '9771'}]}, 'privateCode': {'value': '2'}, 'centroid': {'modification': 'NEW', 'status_BasicModificationDetailsGroup': 'ACTIVE', 'publication': 'PUBLIC', 'location': {'longitude': 12.319909, 'latitude': 60.295795}}}]}}, {'id': 'NSR:StopPlace:10004', 'validBetween': [{'modification': 'NEW', 'status_BasicModificationDetailsGroup': 'ACTIVE', 'publication': 'PUBLIC', 'fromDate': '2023-11-20T11:58:49.054+01:00'}], 'created': '2017-06-19T21:24:53.014+02:00', 'changed': '2024-01-01T02:25:00.264+01:00', 'modification': 'NEW', 'version': '3', 'status_BasicModificationDetailsGroup': 'ACTIVE', 'publication': 'PUBLIC', 'keyList': {'keyValue': [{'key': 'lastUpdated', 'value': '2017-06-06'}, {'key': 'imported-id', 'value': 'OPP:StopPlace:04121628,HED:StopPlace:04121628'}, {'key': 'VERSION_COMMENT', 'value': 'justert'}, {'key': 'IS_PARENT_STOP_PLACE', 'value': 'false'}]}, 'name': {'value': 'Skårsveen', 'lang': 'nor'}, 'privateCode': {}, 'centroid': {'modification': 'NEW', 'status_BasicModificationDetailsGroup': 'ACTIVE', 'publication': 'PUBLIC', 'location': {'longitude': 11.082631, 'latitude': 60.877488}}, 'accessibilityAssessment': {'id': 'NSR:AccessibilityAssessment:10004', 'modification': 'NEW', 'version': '3', 'status_BasicModificationDetailsGroup': 'ACTIVE', 'publication': 'PUBLIC', 'mobilityImpairedAccess': 'UNKNOWN', 'limitations': {'accessibilityLimitation': {'id': '189159', 'modification': 'NEW', 'version': '1', 'status_BasicModificationDetailsGroup': 'ACTIVE', 'publication': 'PUBLIC', 'wheelchairAccess': 'UNKNOWN', 'stepFreeAccess': 'UNKNOWN', 'escalatorFreeAccess': 'UNKNOWN', 'liftFreeAccess': 'UNKNOWN', 'audibleSignalsAvailable': 'UNKNOWN'}}}, 'topographicPlaceRef': {'ref': 'KVE:TopographicPlace:3411', 'created': '2024-11-13T12:38:24.16+01:00', 'version': '4'}, 'transportMode': 'BUS', 'tariffZones': {'modificationSet': 'ALL', 'tariffZoneRef': [{'ref': 'INN:TariffZone:474', 'version': '11'}, {'ref': 'INN:FareZone:159', 'version': '16'}]}, 'stopPlaceType': 'ONSTREET_BUS', 'weighting': 'INTERCHANGE_ALLOWED', 'quays': {'modificationSet': 'ALL', 'quayRefOrQuay': [{'id': 'NSR:Quay:103374', 'changed': '2023-11-20T11:58:49.052+01:00', 'modification': 'NEW', 'version': '2', 'status_BasicModificationDetailsGroup': 'ACTIVE', 'publication': 'PUBLIC', 'keyList': {'keyValue': [{'key': 'imported-id', 'value': 'HED:Quay:0412162802,OPP:Quay:0412162802'}]}, 'privateCode': {'value': '2'}, 'centroid': {'modification': 'NEW', 'status_BasicModificationDetailsGroup': 'ACTIVE', 'publication': 'PUBLIC', 'location': {'longitude': 11.082619, 'latitude': 60.877452}}}, {'id': 'NSR:Quay:17066', 'changed': '2023-11-20T11:58:49.053+01:00', 'modification': 'NEW', 'version': '3', 'status_BasicModificationDetailsGroup': 'ACTIVE', 'publication': 'PUBLIC', 'keyList': {'keyValue': [{'key': 'hpltype', 'value': '9766'}, {'key': 'imported-id', 'value': 'HED:Quay:0412162801,OPP:Quay:0412162801'}, {'key': 'retn_nett', 'value': '9771'}]}, 'privateCode': {'value': '1'}, 'centroid': {'modification': 'NEW', 'status_BasicModificationDetailsGroup': 'ACTIVE', 'publication': 'PUBLIC', 'location': {'longitude': 11.082644, 'latitude': 60.877525}}}]}}, {'id': 'NSR:StopPlace:10005', 'validBetween': [{'modification': 'NEW', 'status_BasicModificationDetailsGroup': 'ACTIVE', 'publication': 'PUBLIC', 'fromDate': '2024-10-17T17:23:47.78+02:00'}], 'created': '2017-06-19T21:24:53.032+02:00', 'changed': '2024-10-17T17:23:47.784+02:00', 'modification': 'NEW', 'version': '4', 'status_BasicModificationDetailsGroup': 'ACTIVE', 'publication': 'PUBLIC', 'keyList': {'keyValue': [{'key': 'lastUpdated', 'value': '2017-05-15'}, {'key': 'imported-id', 'value': 'HED:StopPlace:4023984,OPP:StopPlace:4023984,HED:StopPlace:04023984'}, {'key': 'VERSION_COMMENT', 'value': 'tatt bort 512'}, {'key': 'IS_PARENT_STOP_PLACE', 'value': 'false'}]}, 'name': {'value': 'Bergsland', 'lang': 'nor'}, 'privateCode': {}, 'centroid': {'modification': 'NEW', 'status_BasicModificationDetailsGroup': 'ACTIVE', 'publication': 'PUBLIC', 'location': {'longitude': 12.357268, 'latitude': 60.285184}}, 'accessibilityAssessment': {'id': 'NSR:AccessibilityAssessment:10005', 'modification': 'NEW', 'version': '4', 'status_BasicModificationDetailsGroup': 'ACTIVE', 'publication': 'PUBLIC', 'mobilityImpairedAccess': 'UNKNOWN', 'limitations': {'accessibilityLimitation': {'id': '196907', 'modification': 'NEW', 'version': '1', 'status_BasicModificationDetailsGroup': 'ACTIVE', 'publication': 'PUBLIC', 'wheelchairAccess': 'UNKNOWN', 'stepFreeAccess': 'UNKNOWN', 'escalatorFreeAccess': 'UNKNOWN', 'liftFreeAccess': 'UNKNOWN', 'audibleSignalsAvailable': 'UNKNOWN'}}}, 'topographicPlaceRef': {'ref': 'KVE:TopographicPlace:3401', 'created': '2024-11-13T12:38:24.234+01:00', 'version': '4'}, 'transportMode': 'BUS', 'tariffZones': {'modificationSet': 'ALL', 'tariffZoneRef': [{'ref': 'INN:TariffZone:486', 'version': '11'}, {'ref': 'INN:FareZone:142', 'version': '16'}]}, 'stopPlaceType': 'ONSTREET_BUS', 'weighting': 'INTERCHANGE_ALLOWED', 'quays': {'modificationSet': 'ALL', 'quayRefOrQuay': [{'id': 'NSR:Quay:101808', 'changed': '2024-10-17T17:23:47.779+02:00', 'modification': 'NEW', 'version': '3', 'status_BasicModificationDetailsGroup': 'ACTIVE', 'publication': 'PUBLIC', 'keyList': {'keyValue': [{'key': 'imported-id', 'value': 'HED:Quay:0402398402,OPP:Quay:0402398402'}]}, 'privateCode': {'value': '2'}, 'centroid': {'modification': 'NEW', 'status_BasicModificationDetailsGroup': 'ACTIVE', 'publication': 'PUBLIC', 'location': {'longitude': 12.356905, 'latitude': 60.285235}}}, {'id': 'NSR:Quay:17067', 'changed': '2024-10-17T17:23:47.779+02:00', 'modification': 'NEW', 'version': '4', 'status_BasicModificationDetailsGroup': 'ACTIVE', 'publication': 'PUBLIC', 'keyList': {'keyValue': [{'key': 'hpltype', 'value': '9766'}, {'key': 'imported-id', 'value': 'HED:Quay:0402398401,OPP:Quay:0402398401'}, {'key': 'retn_nett', 'value': '9771'}]}, 'privateCode': {'value': '1'}, 'centroid': {'modification': 'NEW', 'status_BasicModificationDetailsGroup': 'ACTIVE', 'publication': 'PUBLIC', 'location': {'longitude': 12.357632, 'latitude': 60.285133}}}]}}, {'id': 'NSR:StopPlace:10006', 'validBetween': [{'modification': 'NEW', 'status_BasicModificationDetailsGroup': 'ACTIVE', 'publication': 'PUBLIC', 'fromDate': '2023-11-20T11:58:04.007+01:00'}], 'created': '2017-06-19T21:24:53.092+02:00', 'changed': '2024-01-01T02:25:00.683+01:00', 'modification': 'NEW', 'version': '4', 'status_BasicModificationDetailsGroup': 'ACTIVE', 'publication': 'PUBLIC', 'keyList': {'keyValue': [{'key': 'lastUpdated', 'value': '2017-06-06'}, {'key': 'imported-id', 'value': 'OPP:StopPlace:04121630,HED:StopPlace:04121630'}, {'key': 'VERSION_COMMENT', 'value': 'justert'}, {'key': 'IS_PARENT_STOP_PLACE', 'value': 'false'}]}, 'name': {'value': 'Sleperud', 'lang': 'nor'}, 'privateCode': {}, 'centroid': {'modification': 'NEW', 'status_BasicModificationDetailsGroup': 'ACTIVE', 'publication': 'PUBLIC', 'location': {'longitude': 11.078382, 'latitude': 60.88412}}, 'accessibilityAssessment': {'id': 'NSR:AccessibilityAssessment:10006', 'modification': 'NEW', 'version': '4', 'status_BasicModificationDetailsGroup': 'ACTIVE', 'publication': 'PUBLIC', 'mobilityImpairedAccess': 'UNKNOWN', 'limitations': {'accessibilityLimitation': {'id': '189163', 'modification': 'NEW', 'version': '1', 'status_BasicModificationDetailsGroup': 'ACTIVE', 'publication': 'PUBLIC', 'wheelchairAccess': 'UNKNOWN', 'stepFreeAccess': 'UNKNOWN', 'escalatorFreeAccess': 'UNKNOWN', 'liftFreeAccess': 'UNKNOWN', 'audibleSignalsAvailable': 'UNKNOWN'}}}, 'topographicPlaceRef': {'ref': 'KVE:TopographicPlace:3411', 'created': '2024-11-13T12:38:24.291+01:00', 'version': '4'}, 'transportMode': 'BUS', 'tariffZones': {'modificationSet': 'ALL', 'tariffZoneRef': [{'ref': 'INN:TariffZone:474', 'version': '11'}, {'ref': 'INN:FareZone:159', 'version': '16'}]}, 'stopPlaceType': 'ONSTREET_BUS', 'weighting': 'INTERCHANGE_ALLOWED', 'quays': {'modificationSet': 'ALL', 'quayRefOrQuay': [{'id': 'NSR:Quay:103368', 'changed': '2023-11-20T11:58:04.007+01:00', 'modification': 'NEW', 'version': '3', 'status_BasicModificationDetailsGroup': 'ACTIVE', 'publication': 'PUBLIC', 'keyList': {'keyValue': [{'key': 'imported-id', 'value': 'OPP:Quay:0412163002,HED:Quay:0412163002'}]}, 'privateCode': {'value': '2'}, 'centroid': {'modification': 'NEW', 'status_BasicModificationDetailsGroup': 'ACTIVE', 'publication': 'PUBLIC', 'location': {'longitude': 11.078272, 'latitude': 60.884103}}}, {'id': 'NSR:Quay:17068', 'changed': '2023-11-20T11:58:04.006+01:00', 'modification': 'NEW', 'version': '4', 'status_BasicModificationDetailsGroup': 'ACTIVE', 'publication': 'PUBLIC', 'keyList': {'keyValue': [{'key': 'hpltype', 'value': '9766'}, {'key': 'imported-id', 'value': 'OPP:Quay:0412163001,HED:Quay:0412163001'}, {'key': 'retn_nett', 'value': '9771'}]}, 'privateCode': {'value': '1'}, 'centroid': {'modification': 'NEW', 'status_BasicModificationDetailsGroup': 'ACTIVE', 'publication': 'PUBLIC', 'location': {'longitude': 11.078492, 'latitude': 60.884137}}}]}}, {'id': 'NSR:StopPlace:10007', 'validBetween': [{'modification': 'NEW', 'status_BasicModificationDetailsGroup': 'ACTIVE', 'publication': 'PUBLIC', 'fromDate': '2024-10-17T17:25:18.958+02:00'}], 'created': '2017-06-19T21:24:53.119+02:00', 'changed': '2024-10-17T17:25:18.962+02:00', 'modification': 'NEW', 'version': '4', 'status_BasicModificationDetailsGroup': 'ACTIVE', 'publication': 'PUBLIC', 'keyList': {'keyValue': [{'key': 'lastUpdated', 'value': '2017-05-23'}, {'key': 'imported-id', 'value': 'OPP:StopPlace:04023986,HED:StopPlace:04023986'}, {'key': 'VERSION_COMMENT', 'value': 'justert'}, {'key': 'IS_PARENT_STOP_PLACE', 'value': 'false'}]}, 'name': {'value': 'Fensjøvegen', 'lang': 'nor'}, 'privateCode': {}, 'centroid': {'modification': 'NEW', 'status_BasicModificationDetailsGroup': 'ACTIVE', 'publication': 'PUBLIC', 'location': {'longitude': 12.366735, 'latitude': 60.276075}}, 'accessibilityAssessment': {'id': 'NSR:AccessibilityAssessment:10007', 'modification': 'NEW', 'version': '4', 'status_BasicModificationDetailsGroup': 'ACTIVE', 'publication': 'PUBLIC', 'mobilityImpairedAccess': 'UNKNOWN', 'limitations': {'accessibilityLimitation': {'id': '196914', 'modification': 'NEW', 'version': '1', 'status_BasicModificationDetailsGroup': 'ACTIVE', 'publication': 'PUBLIC', 'wheelchairAccess': 'UNKNOWN', 'stepFreeAccess': 'UNKNOWN', 'escalatorFreeAccess': 'UNKNOWN', 'liftFreeAccess': 'UNKNOWN', 'audibleSignalsAvailable': 'UNKNOWN'}}}, 'topographicPlaceRef': {'ref': 'KVE:TopographicPlace:3401', 'created': '2024-11-13T12:38:24.359+01:00', 'version': '4'}, 'transportMode': 'BUS', 'tariffZones': {'modificationSet': 'ALL', 'tariffZoneRef': [{'ref': 'INN:TariffZone:486', 'version': '11'}, {'ref': 'INN:FareZone:142', 'version': '16'}]}, 'stopPlaceType': 'ONSTREET_BUS', 'weighting': 'INTERCHANGE_ALLOWED', 'quays': {'modificationSet': 'ALL', 'quayRefOrQuay': [{'id': 'NSR:Quay:17069', 'changed': '2024-10-17T17:25:18.957+02:00', 'modification': 'NEW', 'version': '4', 'status_BasicModificationDetailsGroup': 'ACTIVE', 'publication': 'PUBLIC', 'keyList': {'keyValue': [{'key': 'hpltype', 'value': '9766'}, {'key': 'imported-id', 'value': 'HED:Quay:0402398601,OPP:Quay:0402398601'}, {'key': 'retn_nett', 'value': '9771'}]}, 'privateCode': {'value': '1'}, 'centroid': {'modification': 'NEW', 'status_BasicModificationDetailsGroup': 'ACTIVE', 'publication': 'PUBLIC', 'location': {'longitude': 12.366732, 'latitude': 60.275894}}}, {'id': 'NSR:Quay:101809', 'changed': '2024-10-17T17:25:18.958+02:00', 'modification': 'NEW', 'version': '3', 'status_BasicModificationDetailsGroup': 'ACTIVE', 'publication': 'PUBLIC', 'keyList': {'keyValue': [{'key': 'imported-id', 'value': 'HED:Quay:0402398602,OPP:Quay:0402398602'}]}, 'privateCode': {'value': '2'}, 'centroid': {'modification': 'NEW', 'status_BasicModificationDetailsGroup': 'ACTIVE', 'publication': 'PUBLIC', 'location': {'longitude': 12.366759, 'latitude': 60.276257}}}]}}, {'id': 'NSR:StopPlace:10008', 'validBetween': [{'modification': 'NEW', 'status_BasicModificationDetailsGroup': 'ACTIVE', 'publication': 'PUBLIC', 'fromDate': '2023-11-20T11:56:24.852+01:00'}], 'created': '2017-06-19T21:24:53.131+02:00', 'changed': '2024-01-01T02:25:01.164+01:00', 'modification': 'NEW', 'version': '4', 'status_BasicModificationDetailsGroup': 'ACTIVE', 'publication': 'PUBLIC', 'keyList': {'keyValue': [{'key': 'lastUpdated', 'value': '2013-10-07'}, {'key': 'imported-id', 'value': 'HED:StopPlace:04121632,OPP:StopPlace:04121632'}, {'key': 'VERSION_COMMENT', 'value': 'justert'}, {'key': 'IS_PARENT_STOP_PLACE', 'value': 'false'}]}, 'name': {'value': 'Tåsåsen', 'lang': 'nor'}, 'privateCode': {}, 'centroid': {'modification': 'NEW', 'status_BasicModificationDetailsGroup': 'ACTIVE', 'publication': 'PUBLIC', 'location': {'longitude': 11.070095, 'latitude': 60.885751}}, 'accessibilityAssessment': {'id': 'NSR:AccessibilityAssessment:10008', 'modification': 'NEW', 'version': '4', 'status_BasicModificationDetailsGroup': 'ACTIVE', 'publication': 'PUBLIC', 'mobilityImpairedAccess': 'UNKNOWN', 'limitations': {'accessibilityLimitation': {'id': '189162', 'modification': 'NEW', 'version': '1', 'status_BasicModificationDetailsGroup': 'ACTIVE', 'publication': 'PUBLIC', 'wheelchairAccess': 'UNKNOWN', 'stepFreeAccess': 'UNKNOWN', 'escalatorFreeAccess': 'UNKNOWN', 'liftFreeAccess': 'UNKNOWN', 'audibleSignalsAvailable': 'UNKNOWN'}}}, 'topographicPlaceRef': {'ref': 'KVE:TopographicPlace:3411', 'created': '2024-11-13T12:38:24.426+01:00', 'version': '4'}, 'transportMode': 'BUS', 'tariffZones': {'modificationSet': 'ALL', 'tariffZoneRef': [{'ref': 'INN:TariffZone:474', 'version': '11'}, {'ref': 'INN:FareZone:159', 'version': '16'}]}, 'stopPlaceType': 'ONSTREET_BUS', 'weighting': 'INTERCHANGE_ALLOWED', 'quays': {'modificationSet': 'ALL', 'quayRefOrQuay': [{'id': 'NSR:Quay:103367', 'changed': '2023-11-20T11:56:24.851+01:00', 'modification': 'NEW', 'version': '3', 'status_BasicModificationDetailsGroup': 'ACTIVE', 'publication': 'PUBLIC', 'keyList': {'keyValue': [{'key': 'imported-id', 'value': 'OPP:Quay:0412163202,HED:Quay:0412163202'}]}, 'privateCode': {'value': '2'}, 'centroid': {'modification': 'NEW', 'status_BasicModificationDetailsGroup': 'ACTIVE', 'publication': 'PUBLIC', 'location': {'longitude': 11.07011, 'latitude': 60.885727}}}, {'id': 'NSR:Quay:17070', 'changed': '2023-11-20T11:56:24.852+01:00', 'modification': 'NEW', 'version': '4', 'status_BasicModificationDetailsGroup': 'ACTIVE', 'publication': 'PUBLIC', 'keyList': {'keyValue': [{'key': 'hpltype', 'value': '9766'}, {'key': 'imported-id', 'value': 'OPP:Quay:0412163201,HED:Quay:0412163201'}, {'key': 'retn_nett', 'value': '9771'}]}, 'privateCode': {'value': '1'}, 'centroid': {'modification': 'NEW', 'status_BasicModificationDetailsGroup': 'ACTIVE', 'publication': 'PUBLIC', 'location': {'longitude': 11.07008, 'latitude': 60.885775}}}]}}]\n"
     ]
    }
   ],
   "source": [
    "data = response.json() #converts JSON to Python dictionary\n",
    "print(data)\n",
    "\n"
   ]
  },
  {
   "cell_type": "code",
   "execution_count": 53,
   "metadata": {},
   "outputs": [],
   "source": [
    "#print(data[0].keys())  #show the keys so that you can filter later"
   ]
  },
  {
   "cell_type": "code",
   "execution_count": 54,
   "metadata": {},
   "outputs": [
    {
     "data": {
      "text/html": [
       "<div>\n",
       "<style scoped>\n",
       "    .dataframe tbody tr th:only-of-type {\n",
       "        vertical-align: middle;\n",
       "    }\n",
       "\n",
       "    .dataframe tbody tr th {\n",
       "        vertical-align: top;\n",
       "    }\n",
       "\n",
       "    .dataframe thead th {\n",
       "        text-align: right;\n",
       "    }\n",
       "</style>\n",
       "<table border=\"1\" class=\"dataframe\">\n",
       "  <thead>\n",
       "    <tr style=\"text-align: right;\">\n",
       "      <th></th>\n",
       "      <th>id</th>\n",
       "      <th>created</th>\n",
       "      <th>name</th>\n",
       "      <th>centroid</th>\n",
       "      <th>weighting</th>\n",
       "    </tr>\n",
       "  </thead>\n",
       "  <tbody>\n",
       "    <tr>\n",
       "      <th>0</th>\n",
       "      <td>NSR:StopPlace:1000</td>\n",
       "      <td>2017-06-19T21:14:34.1+02:00</td>\n",
       "      <td>Sentvedt</td>\n",
       "      <td>None</td>\n",
       "      <td>INTERCHANGE_ALLOWED</td>\n",
       "    </tr>\n",
       "    <tr>\n",
       "      <th>1</th>\n",
       "      <td>NSR:StopPlace:10000</td>\n",
       "      <td>2017-06-19T21:24:52.897+02:00</td>\n",
       "      <td>Grøtholm</td>\n",
       "      <td>None</td>\n",
       "      <td>INTERCHANGE_ALLOWED</td>\n",
       "    </tr>\n",
       "    <tr>\n",
       "      <th>2</th>\n",
       "      <td>NSR:StopPlace:10001</td>\n",
       "      <td>2017-06-19T21:24:52.851+02:00</td>\n",
       "      <td>Venstad vegkryss</td>\n",
       "      <td>None</td>\n",
       "      <td>INTERCHANGE_ALLOWED</td>\n",
       "    </tr>\n",
       "    <tr>\n",
       "      <th>3</th>\n",
       "      <td>NSR:StopPlace:10002</td>\n",
       "      <td>2017-06-19T21:24:52.942+02:00</td>\n",
       "      <td>Husum</td>\n",
       "      <td>None</td>\n",
       "      <td>INTERCHANGE_ALLOWED</td>\n",
       "    </tr>\n",
       "    <tr>\n",
       "      <th>4</th>\n",
       "      <td>NSR:StopPlace:10003</td>\n",
       "      <td>2017-06-19T21:24:52.985+02:00</td>\n",
       "      <td>Langåsen</td>\n",
       "      <td>None</td>\n",
       "      <td>INTERCHANGE_ALLOWED</td>\n",
       "    </tr>\n",
       "  </tbody>\n",
       "</table>\n",
       "</div>"
      ],
      "text/plain": [
       "                    id                        created              name  \\\n",
       "0   NSR:StopPlace:1000    2017-06-19T21:14:34.1+02:00          Sentvedt   \n",
       "1  NSR:StopPlace:10000  2017-06-19T21:24:52.897+02:00          Grøtholm   \n",
       "2  NSR:StopPlace:10001  2017-06-19T21:24:52.851+02:00  Venstad vegkryss   \n",
       "3  NSR:StopPlace:10002  2017-06-19T21:24:52.942+02:00             Husum   \n",
       "4  NSR:StopPlace:10003  2017-06-19T21:24:52.985+02:00          Langåsen   \n",
       "\n",
       "  centroid            weighting  \n",
       "0     None  INTERCHANGE_ALLOWED  \n",
       "1     None  INTERCHANGE_ALLOWED  \n",
       "2     None  INTERCHANGE_ALLOWED  \n",
       "3     None  INTERCHANGE_ALLOWED  \n",
       "4     None  INTERCHANGE_ALLOWED  "
      ]
     },
     "execution_count": 54,
     "metadata": {},
     "output_type": "execute_result"
    }
   ],
   "source": [
    "keys_to_keep = ['id', 'created', 'name', 'centroid', 'weighting']\n",
    "\n",
    "processed_data = []\n",
    "for entry in data:\n",
    "    # Extract the 'value' from 'name'\n",
    "    entry['name'] = entry.get('name', {}).get('value', None) \n",
    "    \n",
    "    # Extract longitude and latitude from centroid['location']\n",
    "    if 'centroid' in entry and 'location' in entry['centroid']:\n",
    "        location = entry['centroid']['location']\n",
    "        entry['longitude'] = location.get('longitude', None)\n",
    "        entry['latitude'] = location.get('latitude', None)\n",
    "        \n",
    "        \n",
    "        del entry['centroid']  # Remove the entire centroid field\n",
    "    \n",
    "    # Keep only the specified keys\n",
    "    filtered_entry = {key: entry.get(key, None) for key in keys_to_keep}\n",
    "    processed_data.append(filtered_entry)\n",
    "\n",
    "# Convert the processed data into a DataFrame\n",
    "df = pd.DataFrame(processed_data)\n",
    "\n",
    "df.head()"
   ]
  },
  {
   "cell_type": "code",
   "execution_count": null,
   "metadata": {},
   "outputs": [],
   "source": []
  }
 ],
 "metadata": {
  "kernelspec": {
   "display_name": "Python 3",
   "language": "python",
   "name": "python3"
  },
  "language_info": {
   "codemirror_mode": {
    "name": "ipython",
    "version": 3
   },
   "file_extension": ".py",
   "mimetype": "text/x-python",
   "name": "python",
   "nbconvert_exporter": "python",
   "pygments_lexer": "ipython3",
   "version": "3.13.0"
  }
 },
 "nbformat": 4,
 "nbformat_minor": 2
}
